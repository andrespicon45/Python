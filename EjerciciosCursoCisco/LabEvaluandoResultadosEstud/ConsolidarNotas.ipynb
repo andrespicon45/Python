{
 "cells": [
  {
   "cell_type": "code",
   "execution_count": 39,
   "metadata": {},
   "outputs": [
    {
     "name": "stdout",
     "output_type": "stream",
     "text": [
      "Archivo vacio.\n"
     ]
    }
   ],
   "source": [
    "from os import strerror\n",
    "\n",
    "class StudentsDataException(Exception):\n",
    "    def __init__(self, msg):\n",
    "        Exception.__init__(self, msg)\n",
    "\n",
    "class BadLine(StudentsDataException):\n",
    "    def __init__(self, msg, line):\n",
    "        StudentsDataException.__init__(self, msg)\n",
    "        self.line = line\n",
    "\n",
    "class FileEmpty(StudentsDataException):\n",
    "    def __init__(self, msg):\n",
    "        StudentsDataException.__init__(self, msg)\n",
    "\n",
    "file_name = 'C:/Users/andre/Desktop/GitHub/Python/EjerciciosCursoCisco/LabEvaluandoResultadosEstud/NotasAlumnos.txt'\n",
    "\n",
    "try:\n",
    "    stm = open(file_name, 'rt', encoding= 'utf-8') \n",
    "    lines = stm.readlines() #copiamos el contenido del stream en una variable\n",
    "    stm.close()\n",
    "    if len(lines) == 0: #comprobamos que el archivo no esté vacio\n",
    "        raise FileEmpty('Archivo vacio.')\n",
    "    dic_notas = {}\n",
    "    count_lines = 0\n",
    "    for line in lines: #iteramos a travez de la lista que contiene las lineas del archivo\n",
    "        count_lines += 1 #contamos la cantidad de lineas leidas\n",
    "        spl_line = line.split() #separamos el contenido de la linea en una lista\n",
    "        if not spl_line[0].isalpha() or not spl_line[1].isalpha(): #comprobamos que los dos primeros parametros de la lista sean solo letras\n",
    "            raise BadLine('Un nombre no puede contener caracteres que no sean letras. Error en la linea:', count_lines)\n",
    "        try: #ahora comprobamos que el tercer valor de la linea sea un flotante\n",
    "            float(spl_line[2])\n",
    "        except:\n",
    "            print('Hay un error en la nota de la linea:', count_lines)\n",
    "        else:\n",
    "            #Creamos un diccionario que va a contener las notas sumadas\n",
    "            student = spl_line[0] + ' ' + spl_line[1] #variable que contiene nombre y apellido de estudiante\n",
    "            note = float(spl_line[2]) #varible que contiene la nota en tipo flotante\n",
    "            if student in dic_notas.keys(): #si el estudiante ya esta en el diccionario, suma la nota, si no esta, lo agrega\n",
    "                dic_notas[student] += note\n",
    "            else:\n",
    "                dic_notas[student] = note\n",
    "\n",
    "except FileEmpty as fe:\n",
    "    print(fe)\n",
    "except BadLine as bl:\n",
    "    print(bl, bl.line)\n",
    "except IOError as e:\n",
    "    print(f'Tenemos otro error: {strerror(e.errno)}')\n",
    "\n",
    "#Debemos ordenar el contenido del diccionario al momento de crear el nueov archivo\n",
    "new_file_name = file_name.replace('.txt', 'Ord.txt')\n",
    "stm_n = open(new_file_name, 'wt', encoding= 'utf-8')\n",
    "list_notas_ord = sorted([x + ' ' + str(y) for x, y in zip(dic_notas.keys(), dic_notas.values())])\n",
    "for i in list_notas_ord:\n",
    "    stm_n.write(i + '\\n')\n",
    "stm_n.close()\n",
    "\n",
    "\n"
   ]
  }
 ],
 "metadata": {
  "kernelspec": {
   "display_name": "Python 3",
   "language": "python",
   "name": "python3"
  },
  "language_info": {
   "codemirror_mode": {
    "name": "ipython",
    "version": 3
   },
   "file_extension": ".py",
   "mimetype": "text/x-python",
   "name": "python",
   "nbconvert_exporter": "python",
   "pygments_lexer": "ipython3",
   "version": "3.11.5"
  }
 },
 "nbformat": 4,
 "nbformat_minor": 2
}
