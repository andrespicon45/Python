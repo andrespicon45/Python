{
 "cells": [
  {
   "cell_type": "code",
   "execution_count": 3,
   "metadata": {},
   "outputs": [
    {
     "name": "stdout",
     "output_type": "stream",
     "text": [
      "t -> 6\n",
      "e -> 12\n",
      "n -> 2\n",
      "m -> 1\n",
      "o -> 4\n",
      "s -> 4\n",
      "  -> 8\n",
      "q -> 1\n",
      "u -> 1\n",
      "c -> 3\n",
      "a -> 3\n",
      "r -> 3\n",
      "l -> 1\n",
      "d -> 1\n",
      "x -> 1\n",
      "j -> 3\n"
     ]
    }
   ],
   "source": [
    "from os import strerror\n",
    "\n",
    "file_name = input('Ingresa el nombre del archivo:')\n",
    "\n",
    "try:\n",
    "    stream = open(file_name, 'rt', encoding= 'utf-8')\n",
    "    contador = {}\n",
    "    caracter = stream.read(1).lower()\n",
    "    while caracter != '':\n",
    "        if caracter not in contador.keys():\n",
    "            contador[caracter] = 1\n",
    "            caracter = stream.read(1)\n",
    "        else:\n",
    "            var_aux = contador[caracter]\n",
    "            var_aux += 1\n",
    "            contador[caracter] = var_aux\n",
    "            caracter = stream.read(1)\n",
    "    for key, value in contador.items():\n",
    "        print(key, '->', value)\n",
    "    stream.close()\n",
    "except IOError as e:\n",
    "    print('Tenemos un error:', strerror(e.errno))"
   ]
  }
 ],
 "metadata": {
  "kernelspec": {
   "display_name": "Python 3",
   "language": "python",
   "name": "python3"
  },
  "language_info": {
   "codemirror_mode": {
    "name": "ipython",
    "version": 3
   },
   "file_extension": ".py",
   "mimetype": "text/x-python",
   "name": "python",
   "nbconvert_exporter": "python",
   "pygments_lexer": "ipython3",
   "version": "3.10.4"
  }
 },
 "nbformat": 4,
 "nbformat_minor": 2
}
