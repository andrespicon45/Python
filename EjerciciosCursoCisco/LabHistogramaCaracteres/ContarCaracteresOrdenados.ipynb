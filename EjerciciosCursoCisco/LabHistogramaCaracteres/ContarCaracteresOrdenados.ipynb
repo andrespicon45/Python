{
 "cells": [
  {
   "cell_type": "code",
   "execution_count": null,
   "metadata": {},
   "outputs": [],
   "source": [
    "from os import strerror\n",
    "\n",
    "file_name = input('Ingresa el nombre del archivo:')\n",
    "\n",
    "try:\n",
    "    stream = open(file_name, 'rt', encoding= 'utf-8')\n",
    "    contador = {}\n",
    "    caracter = stream.read(1).lower()\n",
    "    while caracter != '':\n",
    "        if caracter not in contador.keys():\n",
    "            contador[caracter] = 1\n",
    "            caracter = stream.read(1)\n",
    "        else:\n",
    "            var_aux = contador[caracter]\n",
    "            var_aux += 1\n",
    "            contador[caracter] = var_aux\n",
    "            caracter = stream.read(1)\n",
    "    contador2 = contador.copy()\n",
    "    claves = list(contador2.keys())\n",
    "    valores = list(contador2.values())\n",
    "    lambda claves, valores: \n",
    "except IOError as e:\n",
    "    print('Tenemos un error:', strerror(e.errno))\n"
   ]
  },
  {
   "cell_type": "code",
   "execution_count": 8,
   "metadata": {},
   "outputs": [
    {
     "name": "stdout",
     "output_type": "stream",
     "text": [
      "[1, 2]\n"
     ]
    }
   ],
   "source": [
    "dicc = {'a':1, 'b':2}\n",
    "print(list(dicc.values()))"
   ]
  }
 ],
 "metadata": {
  "kernelspec": {
   "display_name": "Python 3",
   "language": "python",
   "name": "python3"
  },
  "language_info": {
   "codemirror_mode": {
    "name": "ipython",
    "version": 3
   },
   "file_extension": ".py",
   "mimetype": "text/x-python",
   "name": "python",
   "nbconvert_exporter": "python",
   "pygments_lexer": "ipython3",
   "version": "3.10.4"
  }
 },
 "nbformat": 4,
 "nbformat_minor": 2
}
