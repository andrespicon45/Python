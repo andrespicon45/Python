{
 "cells": [
  {
   "cell_type": "code",
   "execution_count": 24,
   "metadata": {},
   "outputs": [
    {
     "name": "stdout",
     "output_type": "stream",
     "text": [
      "e -> 12\n",
      "  -> 8\n",
      "t -> 6\n",
      "o -> 4\n",
      "s -> 4\n",
      "c -> 3\n",
      "a -> 3\n",
      "r -> 3\n",
      "j -> 3\n",
      "n -> 2\n",
      "m -> 1\n",
      "q -> 1\n",
      "u -> 1\n",
      "l -> 1\n",
      "d -> 1\n",
      "x -> 1\n"
     ]
    }
   ],
   "source": [
    "from os import strerror\n",
    "\n",
    "file_name = 'TextoEjemplo.txt'\n",
    "\n",
    "try:\n",
    "    stream = open(file_name, 'rt', encoding= 'utf-8')\n",
    "    contador = {}\n",
    "    caracter = stream.read(1).lower()\n",
    "    while caracter != '':\n",
    "        if caracter not in contador.keys():\n",
    "            contador[caracter] = 1\n",
    "            caracter = stream.read(1)\n",
    "        else:\n",
    "            var_aux = contador[caracter]\n",
    "            var_aux += 1\n",
    "            contador[caracter] = var_aux\n",
    "            caracter = stream.read(1)\n",
    "    val_ord = sorted(list(contador.keys()), key = lambda x: contador[x] ,reverse = True)\n",
    "    doc_gen = open('TextoEjemplo.txt.hist', 'w+t', encoding = 'utf-8')\n",
    "    for i in val_ord:\n",
    "        print(i, '->', contador[i])\n",
    "        doc_gen.write(f'{i} -> {contador[i]}\\n')\n",
    "    doc_gen.close()\n",
    "except IOError as e:\n",
    "    print('Tenemos un error:', strerror(e.errno))\n"
   ]
  },
  {
   "cell_type": "code",
   "execution_count": 8,
   "metadata": {},
   "outputs": [
    {
     "name": "stdout",
     "output_type": "stream",
     "text": [
      "[1, 2]\n"
     ]
    }
   ],
   "source": [
    "dicc = {'a':1, 'b':2}\n",
    "print(list(dicc.values()))"
   ]
  }
 ],
 "metadata": {
  "kernelspec": {
   "display_name": "Python 3",
   "language": "python",
   "name": "python3"
  },
  "language_info": {
   "codemirror_mode": {
    "name": "ipython",
    "version": 3
   },
   "file_extension": ".py",
   "mimetype": "text/x-python",
   "name": "python",
   "nbconvert_exporter": "python",
   "pygments_lexer": "ipython3",
   "version": "3.11.5"
  }
 },
 "nbformat": 4,
 "nbformat_minor": 2
}
