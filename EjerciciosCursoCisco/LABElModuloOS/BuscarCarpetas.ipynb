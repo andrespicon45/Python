{
 "cells": [
  {
   "cell_type": "code",
   "execution_count": 7,
   "metadata": {},
   "outputs": [
    {
     "name": "stdout",
     "output_type": "stream",
     "text": [
      "tree/c/other_courses/python\n",
      "tree/cpp/other_courses/python\n",
      "tree/python\n"
     ]
    }
   ],
   "source": [
    "import os\n",
    "\n",
    "path = 'tree'\n",
    "direc = 'python'\n",
    "\n",
    "def find_dirs(path, direc):\n",
    "    for i in os.listdir(path):\n",
    "        if i == direc:\n",
    "            yield path + '/' + i\n",
    "        yield from find_dirs(path + '/' + i, direc)\n",
    "\n",
    "for i in list(find_dirs(path, direc)): print(i)\n"
   ]
  }
 ],
 "metadata": {
  "kernelspec": {
   "display_name": "Python 3",
   "language": "python",
   "name": "python3"
  },
  "language_info": {
   "codemirror_mode": {
    "name": "ipython",
    "version": 3
   },
   "file_extension": ".py",
   "mimetype": "text/x-python",
   "name": "python",
   "nbconvert_exporter": "python",
   "pygments_lexer": "ipython3",
   "version": "3.11.5"
  }
 },
 "nbformat": 4,
 "nbformat_minor": 2
}
