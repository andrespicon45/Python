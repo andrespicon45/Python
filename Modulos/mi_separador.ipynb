{
 "cells": [
  {
   "cell_type": "code",
   "execution_count": 30,
   "metadata": {},
   "outputs": [
    {
     "name": "stdout",
     "output_type": "stream",
     "text": [
      "['A', 'ser', 'o', 'no', 'a', 'ser', 'eso', 'es', 'el', 'pregunta']\n",
      "None\n",
      "[]\n",
      "None\n",
      "['Abc']\n",
      "None\n",
      "[]\n",
      "None\n"
     ]
    }
   ],
   "source": [
    "def mysplit(strng):\n",
    "    #Cambiamos dos palabras \"esa\" y \"la\"\n",
    "    strng=strng.replace(\"esa\",\"eso\").replace('la','el').replace('cuestión','pregunta')\n",
    "    strng=strng.lower()\n",
    "    #Separamos la cadena en una lista\n",
    "    lista_cadena=strng.split()\n",
    "    #Iteramos por cada una de las cadenas contenidas en la lista\n",
    "    iter=0\n",
    "    palabra=0\n",
    "    for i in lista_cadena:\n",
    "        if iter<palabra:\n",
    "            iter+=1\n",
    "            pass\n",
    "        else:\n",
    "            #Comprobamos si comienza con la palabra \"ser\"\n",
    "            if i==\"ser\":\n",
    "                lista_cadena.insert(iter,\"A\")\n",
    "                palabra+=2\n",
    "                iter+=1\n",
    "            else:\n",
    "                iter+=1\n",
    "                palabra+=1\n",
    "        \n",
    "    strng=\" \".join(lista_cadena).capitalize()\n",
    "    lista_cadena1=strng.split()\n",
    "    return print(lista_cadena1)\n",
    "\n",
    "print(mysplit(\"Ser o no ser esa es la cuestión\"))\n",
    "print(mysplit(\"   \"))\n",
    "print(mysplit(\" abc \"))\n",
    "print(mysplit(\"\"))"
   ]
  },
  {
   "cell_type": "markdown",
   "metadata": {},
   "source": [
    "Esta es la solucion teorica del problema"
   ]
  },
  {
   "cell_type": "code",
   "execution_count": 35,
   "metadata": {},
   "outputs": [
    {
     "name": "stdout",
     "output_type": "stream",
     "text": [
      "['Ser', 'o', 'no', 'ser,', 'esa', 'es', 'la', 'cuestión']\n",
      "['Ser', 'o', 'no', 'ser,', 'esa', 'es', 'la', 'cuestión']\n",
      "[]\n",
      "['abc']\n",
      "[]\n"
     ]
    }
   ],
   "source": [
    "def mysplit(strng):\n",
    "    # devolver [] si la cadena está vacía o solo contiene espacios en blanco\n",
    "    if strng == '' or strng.isspace():\n",
    "        return [ ]\n",
    "    # preparar una lista a devolver\n",
    "    lst = []\n",
    "    # preparar una palabra para construir palabras subsecuentes\n",
    "    word = ''\n",
    "    # verificar si actualmente estamos dentro de una palabra (es decir, si la cadena comienza con una palabra)\n",
    "    inword = not strng[0].isspace()\n",
    "    # iterar a través de todos los caracteres en cadena\n",
    "    for x in strng:\n",
    "        # si actualmente estamos dentro de una cadena...\n",
    "        if inword:\n",
    "            # ... y el carácter actual no es un espacio...\n",
    "            if not x.isspace():\n",
    "                # ... actualizar palabra actual\n",
    "                word = word + x\n",
    "            else:\n",
    "                # ... de lo contrario, llegamos al final de la palabra, por lo que debemos agregarla a la lista...\n",
    "                lst.append(word)\n",
    "                # ... y señalar que estamos ahora fuera de la palabra\n",
    "                inword = False\n",
    "        else:\n",
    "            # si estamos fuera de la palabra y llegamos a un carácter no que no es un espacio en blanco...\n",
    "            if not x.isspace():\n",
    "                # ... significa que ha comenzado una nueva palabra, por lo que debemos recordarla y...\n",
    "                inword = True\n",
    "                # ... almacenar la primera letra de la nueva palabra\n",
    "                word = x\n",
    "            else:\n",
    "                pass\n",
    "    # si hemos dejado la cadena y hay una cadena no vacía en la variable word, necesitamos actualizar la lista\n",
    "    if inword:\n",
    "        lst.append(word)\n",
    "    # devolver la lista al invocador\n",
    "    return lst\n",
    "\n",
    "\n",
    "print(mysplit(\" Ser o no ser, esa es la cuestión\"))\n",
    "print(mysplit(\"Ser o no ser, esa es la cuestión\"))\n",
    "print(mysplit(\"   \"))\n",
    "print(mysplit(\" abc \"))\n",
    "print(mysplit(\"\"))\n",
    "\n"
   ]
  }
 ],
 "metadata": {
  "kernelspec": {
   "display_name": "Python 3",
   "language": "python",
   "name": "python3"
  },
  "language_info": {
   "codemirror_mode": {
    "name": "ipython",
    "version": 3
   },
   "file_extension": ".py",
   "mimetype": "text/x-python",
   "name": "python",
   "nbconvert_exporter": "python",
   "pygments_lexer": "ipython3",
   "version": "3.11.5"
  }
 },
 "nbformat": 4,
 "nbformat_minor": 2
}
