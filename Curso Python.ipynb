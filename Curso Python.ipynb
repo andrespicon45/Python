{
 "cells": [
  {
   "cell_type": "markdown",
   "metadata": {},
   "source": [
    "# Curso Python MinTIC\n"
   ]
  },
  {
   "cell_type": "markdown",
   "metadata": {},
   "source": [
    "# MODULO 1: Variables en Python y operadores en Python:\n",
    "\n",
    "Una variable es un nombre que se usa para almacenar un valor, en Python no es necesario declarar variables dado que el propio lenguaje determina el tipo de variable y la caracteriza, para declarar o dar valor a una variable solo es necesario usar el signo \"=\". \n",
    "\n",
    "Python es sensible a las mayusculas y minusculas, por lo cual \"Edad\" y \"edad\" son variables distintas. Las variables no pueden comenzar con un numero ni tener espacios en blanco."
   ]
  },
  {
   "cell_type": "code",
   "execution_count": 12,
   "metadata": {},
   "outputs": [],
   "source": [
    "numero = 2\n",
    "edad = 23\n",
    "Edad = 22"
   ]
  },
  {
   "cell_type": "markdown",
   "metadata": {},
   "source": [
    "### Operadores Aritmeticos:\n",
    "\n",
    "Nos permiten realizar operaciones matematicas basicas. Los operadores de Python son:\n",
    "\n",
    "\"+\" para la suma\n",
    "\"-\" para la resta\n",
    "\"*\" para multiplicar\n",
    "\"/\" para division\n",
    "\"//\" para division entera, la cual devuelve solo la parte entera del resultado\n",
    "\"%\" para la operacion modulo, esta operacion devuelve el resto de la division entre dos numeros\n",
    "\"**\" para la exponenciaciòn"
   ]
  },
  {
   "cell_type": "code",
   "execution_count": 1,
   "metadata": {},
   "outputs": [
    {
     "name": "stdout",
     "output_type": "stream",
     "text": [
      "suma= 12 resta= 8 mult= 20 div= 5.0 div_int= 3 modulo= 1 exponenciacion= 9\n"
     ]
    }
   ],
   "source": [
    "a=10\n",
    "b=2\n",
    "c=3\n",
    "\n",
    "suma=a+b\n",
    "resta=a-b\n",
    "mult=a*b\n",
    "div=a/b\n",
    "div_int=a//c\n",
    "mod=a%c\n",
    "exp=3**2\n",
    "\n",
    "print(\"suma=\",suma,\n",
    "      \"resta=\",resta,\"mult=\",mult,\"div=\",div,\"div_int=\",div_int,\"modulo=\",mod, \"exponenciacion=\",exp)"
   ]
  },
  {
   "cell_type": "markdown",
   "metadata": {},
   "source": [
    "### Operadores de asignacion:\n",
    "\n",
    "Se usan para asignar valores a las variables, el operador de asignacion basico es \"=\", sin embargo, existen otros como lo son:\n",
    "\n",
    "\"+=\", \"-=\". \"*=\", \"/=\" asignacion con suma, resta, multiplicacion y division permiten operar un valor a la variable existente y asignarlo a esta misma variable"
   ]
  },
  {
   "cell_type": "code",
   "execution_count": 14,
   "metadata": {},
   "outputs": [
    {
     "name": "stdout",
     "output_type": "stream",
     "text": [
      "valor original= 1\n",
      "valor luego de usar asignacion con suma= 2\n"
     ]
    }
   ],
   "source": [
    "var=1\n",
    "\n",
    "print(\"valor original=\",var)\n",
    "\n",
    "var+=1\n",
    "\n",
    "print(\"valor luego de usar asignacion con suma=\",var)"
   ]
  },
  {
   "cell_type": "code",
   "execution_count": 15,
   "metadata": {},
   "outputs": [
    {
     "name": "stdout",
     "output_type": "stream",
     "text": [
      "valor original= 5\n",
      "valor luego de usar asignacion con resta= 4\n"
     ]
    }
   ],
   "source": [
    "var=5\n",
    "\n",
    "print(\"valor original=\",var)\n",
    "\n",
    "var-=1\n",
    "\n",
    "print(\"valor luego de usar asignacion con resta=\",var)"
   ]
  },
  {
   "cell_type": "code",
   "execution_count": 16,
   "metadata": {},
   "outputs": [
    {
     "name": "stdout",
     "output_type": "stream",
     "text": [
      "valor original= 5\n",
      "valor luego de usar asignacion con multiplicacion= 10\n"
     ]
    }
   ],
   "source": [
    "var=5\n",
    "\n",
    "print(\"valor original=\",var)\n",
    "\n",
    "var*=2\n",
    "\n",
    "print(\"valor luego de usar asignacion con multiplicacion=\",var)"
   ]
  },
  {
   "cell_type": "code",
   "execution_count": 17,
   "metadata": {},
   "outputs": [
    {
     "name": "stdout",
     "output_type": "stream",
     "text": [
      "valor original= 5\n",
      "valor luego de usar asignacion con division= 2.5\n"
     ]
    }
   ],
   "source": [
    "var=5\n",
    "\n",
    "print(\"valor original=\",var)\n",
    "\n",
    "var/=2\n",
    "\n",
    "print(\"valor luego de usar asignacion con division=\",var)"
   ]
  },
  {
   "cell_type": "markdown",
   "metadata": {},
   "source": [
    "### Operadores de comparacion:\n",
    "\n",
    "Estos operadores comparan el valor de dos variables y devuelven un resultado booleano (True o False), estos operadores son igualdad \"==\", desigualdad \"=!\", mayor que \">\", menor que \"<\", mayor o igual que \">=\" y menor o igual que \"=<\""
   ]
  },
  {
   "cell_type": "code",
   "execution_count": 18,
   "metadata": {},
   "outputs": [
    {
     "name": "stdout",
     "output_type": "stream",
     "text": [
      "True\n",
      "False\n",
      "True\n",
      "False\n",
      "True\n",
      "True\n"
     ]
    }
   ],
   "source": [
    "a=5\n",
    "b=7\n",
    "c=5\n",
    "\n",
    "var1=a<b\n",
    "var2=a>b\n",
    "var3=a==c\n",
    "var4=a!=c\n",
    "var5=b>=c\n",
    "var6=c<=b\n",
    "\n",
    "print(var1)\n",
    "print(var2)\n",
    "print(var3)\n",
    "print(var4)\n",
    "print(var5)\n",
    "print(var6)"
   ]
  },
  {
   "cell_type": "markdown",
   "metadata": {},
   "source": [
    "## Listas, Tuplas y diccionarios:\n",
    "\n",
    "### Listas:\n",
    "\n",
    "Una lista es una secuencia ordenada de objetos de distintos tipos, los distintos elemtos van entre corchetes y separados por comas."
   ]
  },
  {
   "cell_type": "code",
   "execution_count": 1,
   "metadata": {},
   "outputs": [
    {
     "name": "stdout",
     "output_type": "stream",
     "text": [
      "[1, 'casa', True]\n"
     ]
    }
   ],
   "source": [
    "lista=[1, \"casa\", True]\n",
    "\n",
    "print(lista)"
   ]
  },
  {
   "cell_type": "markdown",
   "metadata": {},
   "source": [
    "La funcion \"list\" crea una lista con los objetos dispuestos dentro del parentesis."
   ]
  },
  {
   "cell_type": "code",
   "execution_count": 7,
   "metadata": {},
   "outputs": [
    {
     "name": "stdout",
     "output_type": "stream",
     "text": [
      "['P', 'y', 't', 'h', 'o', 'n']\n"
     ]
    }
   ],
   "source": [
    "lista=list(\"Python\")\n",
    "\n",
    "print(lista)\n"
   ]
  },
  {
   "cell_type": "markdown",
   "metadata": {},
   "source": [
    "Para acceder a una lista se pone el nombre de la lista y entre corcetes el indice que queremos devolver."
   ]
  },
  {
   "cell_type": "code",
   "execution_count": 4,
   "metadata": {},
   "outputs": [
    {
     "name": "stdout",
     "output_type": "stream",
     "text": [
      "True\n"
     ]
    }
   ],
   "source": [
    "lista=[1, \"casa\", True]\n",
    "\n",
    "print(lista[2])"
   ]
  },
  {
   "cell_type": "markdown",
   "metadata": {},
   "source": [
    "Las sublistas pueden generarse a partir de una lista mediante la siguiente sintaxis:"
   ]
  },
  {
   "cell_type": "code",
   "execution_count": 5,
   "metadata": {},
   "outputs": [
    {
     "name": "stdout",
     "output_type": "stream",
     "text": [
      "['casa', 3, 'habitacion']\n"
     ]
    }
   ],
   "source": [
    "lista=[1, \"casa\", True, 3, 4, \"habitacion\", False]\n",
    "\n",
    "print(lista[1:6:2]) #Devuelve los valores en una lista desde el indice 1 al 6, en pasos de 2."
   ]
  },
  {
   "cell_type": "markdown",
   "metadata": {},
   "source": [
    "#### Operaciones que no modifican una lista:\n",
    "\n",
    "len(l) : Devuelve el número de elementos de la lista l.\n",
    "\n",
    "min(l) : Devuelve el mínimo elemento de la lista l siempre que los datos sean comparables.\n",
    "\n",
    "max(l) : Devuelve el máximo elemento de la lista l siempre que los datos sean comparables.\n",
    "\n",
    "sum(l) : Devuelve la suma de los elementos de la lista l, siempre que los datos se puedan sumar.\n",
    "\n",
    "dato in l : Devuelve True si el dato dato pertenece a la lista l y False en caso contrario.\n",
    "\n",
    "l.index(dato) : Devuelve la posición que ocupa en la lista l el primer elemento con valor dato.\n",
    "\n",
    "l.count(dato) : Devuelve el número de veces que el valor dato está contenido en la lista l.\n",
    "\n",
    "all(l) : Devuelve True si todos los elementos de la lista l son True y False en caso contrario.\n",
    "\n",
    "any(l) : Devuelve True si algún elemento de la lista l es True y False en caso contrario."
   ]
  },
  {
   "cell_type": "markdown",
   "metadata": {},
   "source": [
    "#### Operaciones que modifican una lista:\n",
    "\n",
    "l1 + l2 : Crea una nueva lista concatenan los elementos de la listas l1 y l2.\n",
    "\n",
    "l.append(dato) : Añade dato al final de la lista l.\n",
    "\n",
    "l.extend(sequencia) : Añade los datos de sequencia al final de la lista l.\n",
    "\n",
    "l.insert(índice, dato) : Inserta dato en la posición índice de la lista l y desplaza los elementos una posición a partir de la posición índice.\n",
    "\n",
    "l.remove(dato) : Elimina el primer elemento con valor dato en la lista l y desplaza los que están por detrás de él una posición hacia delante.\n",
    "\n",
    "l.pop([índice]) : Devuelve el dato en la posición índice y lo elimina de la lista l, desplazando los elementos por detrás de él una posición hacia delante.\n",
    "\n",
    "l.sort() : Ordena los elementos de la lista l de acuerdo al orden predefinido, siempre que los elementos sean comparables.\n",
    "\n",
    "l.reverse() : invierte el orden de los elementos de la lista l."
   ]
  },
  {
   "cell_type": "markdown",
   "metadata": {},
   "source": [
    "Para copiar una lista existen dos maneras, la copia por referencia y la copia por valor. La copia por referencia se realiza igualando las listas \"a=b\" pero si modificamos la lista \"b\" se modifica la lista \"a\". La copia por valor se realiza con la sintaxis \"lista2=list(lista1)\" en este caso, si se modifica \"lista2\" no se modifica \"lista1\"."
   ]
  },
  {
   "cell_type": "markdown",
   "metadata": {},
   "source": [
    "### Tuplas:\n",
    "\n",
    "Las tuplas contienen elementos que tienen un orden y no pueden ser alterados, se asignan dentro de parentesis separados por comas.\n",
    "\n",
    "La funcion \"tuple\" crea una tupla con los elementos definidos dentro del parentesis. Las operaciones que no modifican las listas son iguales a las de las tuplas, pero la que si modifican la lista no son aplicables a las tuplas dado que son inalterables."
   ]
  },
  {
   "cell_type": "code",
   "execution_count": 9,
   "metadata": {},
   "outputs": [
    {
     "name": "stdout",
     "output_type": "stream",
     "text": [
      "(1, 2, 'casa', True)\n",
      "('c', 'a', 's', 'a')\n"
     ]
    }
   ],
   "source": [
    "tupla=(1,2, \"casa\", True)\n",
    "\n",
    "tupla2=tuple(\"casa\")\n",
    "\n",
    "print(tupla)\n",
    "print(tupla2)\n"
   ]
  },
  {
   "cell_type": "markdown",
   "metadata": {},
   "source": [
    "### Diccionarios:\n",
    "\n",
    "Es un conjunto de pares formado por una clave y un valor asociado a la clave. Se contruyen usando llaves, separando los pares por comas y la clave del valor por medio de :. Estos no poseen orden, contener elementos de distintos tipos y poseen clavez unicas. Pueden ser anidados."
   ]
  },
  {
   "cell_type": "code",
   "execution_count": 11,
   "metadata": {},
   "outputs": [
    {
     "name": "stdout",
     "output_type": "stream",
     "text": [
      "{'pedro': 18, 'juan': 32, 'luisa': {'maria': 20, 'ramon': 15}}\n",
      "18\n",
      "5\n"
     ]
    }
   ],
   "source": [
    "dic1={\"pedro\":18, \"juan\":32, \"luisa\":{\"maria\":20, \"ramon\":15}}\n",
    "print(dic1)\n",
    "\n",
    "print(dic1[\"pedro\"]) #Devulve el valor asociado a la clave\n",
    "\n",
    "print(dic1.get(\"maria\",5)) #Devuelve el valor de la clave, si no existe, devuelve el valor dado"
   ]
  },
  {
   "cell_type": "markdown",
   "metadata": {},
   "source": [
    "#### Operaciones que no modifican un diccionario:\n",
    "\n",
    "len(d) : Devuelve el número de elementos del diccionario d.\n",
    "\n",
    "min(d) : Devuelve la mínima clave del diccionario d siempre que las claves sean comparables.\n",
    "\n",
    "max(d) : Devuelve la máxima clave del diccionario d siempre que las claves sean comparables.\n",
    "\n",
    "sum(d) : Devuelve la suma de las claves del diccionario d, siempre que las claves se puedan sumar.\n",
    "\n",
    "clave in d : Devuelve True si la clave clave pertenece al diccionario d y False en caso contrario.\n",
    "\n",
    "d.keys() : Devuelve un iterador sobre las claves de un diccionario.\n",
    "\n",
    "d.values() : Devuelve un iterador sobre los valores de un diccionario.\n",
    "\n",
    "d.items() : Devuelve un iterador sobre los pares clave-valor de un diccionario.\n",
    "\n",
    "#### Operaciones que modifican un diccionario:\n",
    "\n",
    "d[clave] = valor : Añade al diccionario d el par formado por la clave clave y el valor valor.\n",
    "d.update(d2). Añade los pares del diccionario d2 al diccionario d.\n",
    "\n",
    "d.pop(clave, alternativo) : Devuelve del valor asociado a la clave clave del diccionario d y lo elimina del diccionario. Si la clave no está devuelve el valor alternativo.\n",
    "\n",
    "d.popitem() : Devuelve la tupla formada por la clave y el valor del último par añadido al diccionario d y lo elimina del diccionario.\n",
    "\n",
    "del d[clave] : Elimina del diccionario d el par con la clave clave.\n",
    "\n",
    "d.clear() : Elimina todos los pares del diccionario d de manera que se queda vacío.\n",
    "\n",
    "La copia de diccionarios es igual a la copia de listas, tanto por referencia como por valor."
   ]
  },
  {
   "cell_type": "markdown",
   "metadata": {},
   "source": [
    "## Sintaxis de estructuras de control en Python:\n",
    "\n",
    "Nos permiten constrolar el flujo de ejecucion de un codigo, ademas, nos permiten tomar decisiones, repetir acciones y crear una logica.\n",
    "\n",
    "### Estructura de control IF:\n",
    "\n",
    "Nos permite tomar decisiones en funcion de una considicion, la sintaxis de IF es la siguiente:\n",
    "\n",
    "if (condicion):"
   ]
  },
  {
   "cell_type": "code",
   "execution_count": 19,
   "metadata": {},
   "outputs": [
    {
     "name": "stdout",
     "output_type": "stream",
     "text": [
      "El numero es menor a 10\n"
     ]
    }
   ],
   "source": [
    "num=9\n",
    "\n",
    "if num < 10:\n",
    "    print(\"El numero es menor a 10\")"
   ]
  },
  {
   "cell_type": "markdown",
   "metadata": {},
   "source": [
    "Tambien podemos usar la estructura de control \"else\" que nos permite ejecutar otra fraccion de codigo en caso de que la primer condicion sea falsa:"
   ]
  },
  {
   "cell_type": "code",
   "execution_count": 20,
   "metadata": {},
   "outputs": [
    {
     "name": "stdout",
     "output_type": "stream",
     "text": [
      "El numero es mayor a 10\n"
     ]
    }
   ],
   "source": [
    "num=11\n",
    "\n",
    "if num < 10:\n",
    "    print(\"El numero es menor a 10\")\n",
    "else:\n",
    "    print(\"El numero es mayor a 10\")"
   ]
  },
  {
   "cell_type": "markdown",
   "metadata": {},
   "source": [
    "### Estructura de control IF-ELIF-ELSE:\n",
    "\n",
    "Nos permite comprobar varias condiciones relacionadas con una variable, a continuacion, se muestra un ejemplo. Es importante saber que en el momento en el cual el codigo ejecuta una condicion y es verdadera, se cancela la ejecucion del resto de la estructura de control."
   ]
  },
  {
   "cell_type": "code",
   "execution_count": 21,
   "metadata": {},
   "outputs": [
    {
     "name": "stdout",
     "output_type": "stream",
     "text": [
      "El numero es menor que 40\n"
     ]
    }
   ],
   "source": [
    "a=20\n",
    "\n",
    "if a>40:\n",
    "    print(\"El mumero es mayor a 40\")\n",
    "elif a<40:\n",
    "    print(\"El numero es menor que 40\")\n",
    "else:\n",
    "    print(\"el numero es igual a 40\")"
   ]
  },
  {
   "cell_type": "markdown",
   "metadata": {},
   "source": [
    "### Estructura de control WHILE:\n",
    "\n",
    "Nos permite repetir un bloque de codigo mientras una condicion sea verdadera, su sintaxis es la siguiente:"
   ]
  },
  {
   "cell_type": "code",
   "execution_count": 22,
   "metadata": {},
   "outputs": [
    {
     "name": "stdout",
     "output_type": "stream",
     "text": [
      "el nuevo valor de 'a' es 6\n",
      "el nuevo valor de 'a' es 7\n",
      "el nuevo valor de 'a' es 8\n",
      "el nuevo valor de 'a' es 9\n"
     ]
    }
   ],
   "source": [
    "a=5\n",
    "b=9\n",
    "\n",
    "while a<b:\n",
    "    a+=1\n",
    "    print(\"el nuevo valor de 'a' es\",a)"
   ]
  },
  {
   "cell_type": "markdown",
   "metadata": {},
   "source": [
    "### Estructura de control FOR:\n",
    "\n",
    "Se usa para iterar sobre una lista o una cadena de caracteres:"
   ]
  },
  {
   "cell_type": "code",
   "execution_count": 23,
   "metadata": {},
   "outputs": [
    {
     "name": "stdout",
     "output_type": "stream",
     "text": [
      "manzana\n",
      "pera\n",
      "uva\n"
     ]
    }
   ],
   "source": [
    "frutas=[\"manzana\",\"pera\",\"uva\"] #asi se nombra una lista dentro de Python\n",
    "\n",
    "for fruta in frutas:\n",
    "    print(fruta)"
   ]
  },
  {
   "cell_type": "markdown",
   "metadata": {},
   "source": [
    "FOR tambien nos permite usar la funcion \"range\" para generar una secuencia dentro de un rango de numeros:"
   ]
  },
  {
   "cell_type": "code",
   "execution_count": 24,
   "metadata": {},
   "outputs": [
    {
     "name": "stdout",
     "output_type": "stream",
     "text": [
      "1\n",
      "2\n",
      "3\n",
      "4\n",
      "5\n",
      "6\n",
      "7\n",
      "8\n",
      "9\n"
     ]
    }
   ],
   "source": [
    "for i in range(1,10):\n",
    "    print(i)"
   ]
  },
  {
   "cell_type": "markdown",
   "metadata": {},
   "source": [
    "Los diccionarios en Python son una estructura de datos que permite almacenar pares de valores de manera no ordenada. Para crearlos se usa el simbolo \"{}\". A continuacion, generamos un codigo el cual ejemplifica una taqueria en la cual el ciliente ingresa los productos que desea, termina con el comando CONTROL-D y el codigo devuelve el valor total del pedido."
   ]
  },
  {
   "cell_type": "code",
   "execution_count": null,
   "metadata": {},
   "outputs": [],
   "source": [
    "menu = {\n",
    "        \"baja taco\":4.00,\n",
    "        \"burritos\":7.50,\n",
    "        \"bowl\":8.50,\n",
    "        \"nachos\":11.00,\n",
    "        \"quesadilla\":8.50,\n",
    "        \"super burrito\":8.50,\n",
    "        \"super quesadilla\":9.50,\n",
    "        \"taco\":3.00,\n",
    "        \"tortilla salad\":8.00 \n",
    "    }\n",
    "\n",
    "order_total=0.0\n",
    "while True:\n",
    "    try:\n",
    "        item=input(\"Ingrese su pedido:\" )\n",
    "    except EOFError:\n",
    "        break\n",
    "    item = item.lower()\n",
    "    if item in menu:\n",
    "        order_total += menu[item]\n",
    "        print(f\"${order_total:.2f}\")\n",
    "    elif item == \"terminado\":\n",
    "        print(f\"El total de su pedido es ${order_total:.2f}\")\n",
    "        break\n",
    "    else:\n",
    "        print(\"Articulo invalido\")"
   ]
  },
  {
   "cell_type": "markdown",
   "metadata": {},
   "source": [
    "## Desarrollo de algoritmos en Python\n",
    "\n",
    "Nos permite crear una secuencia de pasos logicos para resolver problemas. Existen una serie de pasos que nos permiten generar algoritmos de manera optima, son los siguientes:\n",
    "\n",
    "1. Entender el problema: Debe entenderse completamente el problema a abordar, conocer las entradas, salidas y criterios de exito.\n",
    "2. Dividir el problema en subproblemas: Permite abordar un problema mayor en pequeños problemas mas sencillos y luego combinar los resultados para obtener la solucion general.\n",
    "3. Diseñar una solucion algoritmica: Establece pasos para solucionar cada subproblema, necesitamos un lenguaje claro y estructurado, usando pseudo codigo o diagramas de flujo para describir la logica del algoritmo.\n",
    "4. Implementar el algoritmo en Python.\n",
    "5. Probar y depurar el codigo: Permite encontrar errores y corregirlos.\n",
    "\n",
    "A continuacion, un ejemplo: Supongamos que queremos diseñarun algoritmo para calcular el área de un triángulo. A continuación, semuestra un posible enfoque algorítmico para resolver este problema:\n",
    "1. Leer la base del triángulo desde el usuario.\n",
    "2. Leer la altura del triángulo desde el usuario.\n",
    "3. Calcular el área del triángulo utilizando la fórmula: área = (base *altura) / 2.\n",
    "4. Mostrar el resultado del cálculo del área en la pantalla.\n",
    "\n",
    "Implementemos el codigo:"
   ]
  },
  {
   "cell_type": "code",
   "execution_count": 1,
   "metadata": {},
   "outputs": [
    {
     "name": "stdout",
     "output_type": "stream",
     "text": [
      "El area del triangulo es:7.5\n"
     ]
    }
   ],
   "source": [
    "base=float(input(\"ingrese la base del triangulo:\"))\n",
    "altura=float(input(\"ingrese la altura del triangulo:\"))\n",
    "\n",
    "area=base*altura/2\n",
    "\n",
    "print(f\"El area del triangulo es:{area}\")"
   ]
  },
  {
   "cell_type": "markdown",
   "metadata": {},
   "source": [
    "Problema:\n",
    "Dado un número entero positivo, determinar si es primo o no.\n",
    "\n",
    "Algoritmo:\n",
    "Leer el número desde el usuario.\n",
    "Inicializar una variable booleana es_primo como verdadera.\n",
    "Verificar si el número es menor o igual a 1. En ese caso, asignar es_primo como falso.\n",
    "Iterar desde 2 hasta la mitad del número (redondeando hacia arriba).\n",
    "Si el número es divisible entre cualquier valor en ese rango, asignar es_primo como falso y salir del bucle.\n",
    "Si es_primo es verdadera, imprimir \"El número es primo\".\n",
    "De lo contrario, imprimir \"El número no es primo\"."
   ]
  },
  {
   "cell_type": "code",
   "execution_count": 37,
   "metadata": {},
   "outputs": [
    {
     "name": "stdout",
     "output_type": "stream",
     "text": [
      "El numero es primo\n"
     ]
    }
   ],
   "source": [
    "num=int(input(\"ingrese un numero:\"))\n",
    "\n",
    "if num<1:\n",
    "    print(\"1.No es primo\")\n",
    "else:\n",
    "    for i in range(2, (num//2)+2):\n",
    "        \n",
    "        basura=num%i\n",
    "        \n",
    "        if basura==0:\n",
    "            print(\"No es primo\")\n",
    "            break\n",
    "        else:     \n",
    "            print(\"El numero es primo\")\n",
    "            break\n"
   ]
  },
  {
   "cell_type": "markdown",
   "metadata": {},
   "source": [
    "Ejemplo de algoritmos con string"
   ]
  },
  {
   "cell_type": "code",
   "execution_count": 45,
   "metadata": {},
   "outputs": [
    {
     "name": "stdout",
     "output_type": "stream",
     "text": [
      "La palabra abreviada es: hmblg\n"
     ]
    }
   ],
   "source": [
    "def eliminar_vocales():\n",
    "    #\"def\" permite crear funciones que pueden ser llamadas mas adelante en el codigo\n",
    "    \n",
    "    palabra=(input(\"ingrese una palabra:\"))\n",
    "    resultado=twttrr(palabra)\n",
    "    print(\"La palabra abreviada es: \"+''.join(resultado))\n",
    "    #\"join\" es un metodo que permite unir cadenas de texto contenidas en una lista, el inverso a este metodo es el metodo \"split\"\n",
    "\n",
    "def twttrr(pal): \n",
    "    #lo contenido dentro del parentesis es el o los argumentos que recibe la funcion\n",
    "    \n",
    "    pal=pal.lower()#el metodo lower pone en minuscula una cadena de texto\n",
    "    sal=[]\n",
    "    for z in range(len(pal)):#la funcion len determina la longitud de una cadena de texto\n",
    "        if pal[z] not in [\"a\", \"e\", \"i\", \"o\", \"u\"]:\n",
    "            sal.append(pal[z])#El metodo append agrega un valor o caracter al final de una lista\n",
    "    return sal\n",
    "\n",
    "eliminar_vocales() #aqui estoy llamando la funcion\n"
   ]
  },
  {
   "cell_type": "markdown",
   "metadata": {},
   "source": [
    "Un ejemplo màs de algoritmos con string"
   ]
  },
  {
   "cell_type": "code",
   "execution_count": 51,
   "metadata": {},
   "outputs": [
    {
     "name": "stdout",
     "output_type": "stream",
     "text": [
      "El nomnbre de usuario en snake_case es: andres_picon\n"
     ]
    }
   ],
   "source": [
    "camel_case=input(\"ingrese un nombre de usuario en camelCase:\")\n",
    "snake_case=\"\"\n",
    "\n",
    "for i in range(len(camel_case)):\n",
    "    if camel_case[i].isupper():\n",
    "        snake_case+=\"_\"+camel_case[i].lower()\n",
    "    else:\n",
    "        snake_case+=camel_case[i]\n",
    "\n",
    "print(\"El nomnbre de usuario en snake_case es:\", snake_case)"
   ]
  },
  {
   "cell_type": "markdown",
   "metadata": {},
   "source": [
    "## Actividades practicas\n",
    "\n",
    "Escriba un algoritmo para calcular la factorial de un número. Recuerda que la factorial de un número n es el producto de todos los números enteros positivos desde 1 hasta n."
   ]
  },
  {
   "cell_type": "code",
   "execution_count": 93,
   "metadata": {},
   "outputs": [
    {
     "name": "stdout",
     "output_type": "stream",
     "text": [
      "El factorial del numero es: 120\n"
     ]
    }
   ],
   "source": [
    "num=float(input())\n",
    "resultado=1\n",
    "\n",
    "if ((num%int(num)!=0.0) or (num<0)):\n",
    "   print(\"Este no es un entero positivo\")\n",
    "else:\n",
    "   for i in range(1,int(num)+1):\n",
    "       resultado*=i\n",
    "   print(\"El factorial del numero es:\", resultado)"
   ]
  },
  {
   "cell_type": "markdown",
   "metadata": {},
   "source": [
    "Escriba un algoritmo para determinar si una palabra es un palíndromo. Un palíndromo es una palabra que se lee igual al revés que al derecho."
   ]
  },
  {
   "cell_type": "code",
   "execution_count": 96,
   "metadata": {},
   "outputs": [
    {
     "name": "stdout",
     "output_type": "stream",
     "text": [
      "reconocer es un palindromo\n"
     ]
    }
   ],
   "source": [
    "palabra=input(\"Ingrese una palabra para comprobar si es palindromo:\")\n",
    "cadena_inv=\"\"\n",
    "\n",
    "for letra in palabra:\n",
    "    cadena_inv=letra+cadena_inv\n",
    "\n",
    "if palabra==cadena_inv:\n",
    "    print(palabra, \"es un palindromo\")\n",
    "else:\n",
    "    print(palabra, \"no es un palindromo\")    "
   ]
  },
  {
   "cell_type": "markdown",
   "metadata": {},
   "source": [
    " Implementa un algoritmo que ordene una lista de números de menor a mayor. Puedes usar cualquier algoritmo de ordenación que prefieras.\n"
   ]
  },
  {
   "cell_type": "code",
   "execution_count": 184,
   "metadata": {},
   "outputs": [
    {
     "name": "stdout",
     "output_type": "stream",
     "text": [
      "El valor de i es: 0\n",
      "El valor de j es: 1\n",
      "[547, 516, 4847, 616, 711, 146, 1614, 164, 564, 945]\n",
      "El valor de i es: 0\n",
      "El valor de j es: 0\n",
      "El valor de i es: 0\n",
      "El valor de j es: 1\n",
      "[516, 4847, 616, 711, 146, 1614, 164, 564, 945, 547]\n",
      "El valor de i es: 0\n",
      "El valor de j es: 0\n",
      "El valor de i es: 0\n",
      "El valor de j es: 1\n",
      "El valor de i es: 0\n",
      "El valor de j es: 2\n",
      "El valor de i es: 0\n",
      "El valor de j es: 3\n",
      "El valor de i es: 0\n",
      "El valor de j es: 4\n",
      "[4847, 616, 711, 146, 1614, 164, 564, 945, 547, 516]\n",
      "El valor de i es: 0\n",
      "El valor de j es: 0\n",
      "El valor de i es: 0\n",
      "El valor de j es: 1\n",
      "[616, 711, 146, 1614, 164, 564, 945, 547, 516, 4847]\n",
      "El valor de i es: 0\n",
      "El valor de j es: 0\n",
      "El valor de i es: 0\n",
      "El valor de j es: 1\n",
      "El valor de i es: 0\n",
      "El valor de j es: 2\n",
      "[711, 146, 1614, 164, 564, 945, 547, 516, 4847, 616]\n",
      "El valor de i es: 0\n",
      "El valor de j es: 0\n",
      "El valor de i es: 0\n",
      "El valor de j es: 1\n",
      "[146, 1614, 164, 564, 945, 547, 516, 4847, 616, 711]\n",
      "El valor de i es: 0\n",
      "El valor de j es: 0\n",
      "El valor de i es: 0\n",
      "El valor de j es: 1\n",
      "El valor de i es: 0\n",
      "El valor de j es: 2\n",
      "El valor de i es: 0\n",
      "El valor de j es: 3\n",
      "El valor de i es: 0\n",
      "El valor de j es: 4\n",
      "El valor de i es: 0\n",
      "El valor de j es: 5\n",
      "El valor de i es: 0\n",
      "El valor de j es: 6\n",
      "El valor de i es: 0\n",
      "El valor de j es: 7\n",
      "El valor de i es: 0\n",
      "El valor de j es: 8\n",
      "El valor de i es: 0\n",
      "El valor de j es: 9\n",
      "El valor de i es: 1\n",
      "El valor de j es: 1\n",
      "El valor de i es: 1\n",
      "El valor de j es: 2\n",
      "[146, 164, 564, 945, 547, 516, 4847, 616, 711, 1614]\n",
      "El valor de i es: 1\n",
      "El valor de j es: 1\n",
      "El valor de i es: 1\n",
      "El valor de j es: 2\n",
      "El valor de i es: 1\n",
      "El valor de j es: 3\n",
      "El valor de i es: 1\n",
      "El valor de j es: 4\n",
      "El valor de i es: 1\n",
      "El valor de j es: 5\n",
      "El valor de i es: 1\n",
      "El valor de j es: 6\n",
      "El valor de i es: 1\n",
      "El valor de j es: 7\n",
      "El valor de i es: 1\n",
      "El valor de j es: 8\n",
      "El valor de i es: 1\n",
      "El valor de j es: 9\n",
      "El valor de i es: 2\n",
      "El valor de j es: 2\n",
      "El valor de i es: 2\n",
      "El valor de j es: 3\n",
      "El valor de i es: 2\n",
      "El valor de j es: 4\n",
      "[146, 164, 945, 547, 516, 4847, 616, 711, 1614, 564]\n",
      "El valor de i es: 2\n",
      "El valor de j es: 2\n",
      "El valor de i es: 2\n",
      "El valor de j es: 3\n",
      "[146, 164, 547, 516, 4847, 616, 711, 1614, 564, 945]\n",
      "El valor de i es: 2\n",
      "El valor de j es: 2\n",
      "El valor de i es: 2\n",
      "El valor de j es: 3\n",
      "[146, 164, 516, 4847, 616, 711, 1614, 564, 945, 547]\n",
      "El valor de i es: 2\n",
      "El valor de j es: 2\n",
      "El valor de i es: 2\n",
      "El valor de j es: 3\n",
      "El valor de i es: 2\n",
      "El valor de j es: 4\n",
      "El valor de i es: 2\n",
      "El valor de j es: 5\n",
      "El valor de i es: 2\n",
      "El valor de j es: 6\n",
      "El valor de i es: 2\n",
      "El valor de j es: 7\n",
      "El valor de i es: 2\n",
      "El valor de j es: 8\n",
      "El valor de i es: 2\n",
      "El valor de j es: 9\n",
      "El valor de i es: 3\n",
      "El valor de j es: 3\n",
      "El valor de i es: 3\n",
      "El valor de j es: 4\n",
      "[146, 164, 516, 616, 711, 1614, 564, 945, 547, 4847]\n",
      "El valor de i es: 3\n",
      "El valor de j es: 3\n",
      "El valor de i es: 3\n",
      "El valor de j es: 4\n",
      "El valor de i es: 3\n",
      "El valor de j es: 5\n",
      "El valor de i es: 3\n",
      "El valor de j es: 6\n",
      "[146, 164, 516, 711, 1614, 564, 945, 547, 4847, 616]\n",
      "El valor de i es: 3\n",
      "El valor de j es: 3\n",
      "El valor de i es: 3\n",
      "El valor de j es: 4\n",
      "El valor de i es: 3\n",
      "El valor de j es: 5\n",
      "[146, 164, 516, 1614, 564, 945, 547, 4847, 616, 711]\n",
      "El valor de i es: 3\n",
      "El valor de j es: 3\n",
      "El valor de i es: 3\n",
      "El valor de j es: 4\n",
      "[146, 164, 516, 564, 945, 547, 4847, 616, 711, 1614]\n",
      "El valor de i es: 3\n",
      "El valor de j es: 3\n",
      "El valor de i es: 3\n",
      "El valor de j es: 4\n",
      "El valor de i es: 3\n",
      "El valor de j es: 5\n",
      "[146, 164, 516, 945, 547, 4847, 616, 711, 1614, 564]\n",
      "El valor de i es: 3\n",
      "El valor de j es: 3\n",
      "El valor de i es: 3\n",
      "El valor de j es: 4\n",
      "[146, 164, 516, 547, 4847, 616, 711, 1614, 564, 945]\n",
      "El valor de i es: 3\n",
      "El valor de j es: 3\n",
      "El valor de i es: 3\n",
      "El valor de j es: 4\n",
      "El valor de i es: 3\n",
      "El valor de j es: 5\n",
      "El valor de i es: 3\n",
      "El valor de j es: 6\n",
      "El valor de i es: 3\n",
      "El valor de j es: 7\n",
      "El valor de i es: 3\n",
      "El valor de j es: 8\n",
      "El valor de i es: 3\n",
      "El valor de j es: 9\n",
      "El valor de i es: 4\n",
      "El valor de j es: 4\n",
      "El valor de i es: 4\n",
      "El valor de j es: 5\n",
      "[146, 164, 516, 547, 616, 711, 1614, 564, 945, 4847]\n",
      "El valor de i es: 4\n",
      "El valor de j es: 4\n",
      "El valor de i es: 4\n",
      "El valor de j es: 5\n",
      "El valor de i es: 4\n",
      "El valor de j es: 6\n",
      "El valor de i es: 4\n",
      "El valor de j es: 7\n",
      "[146, 164, 516, 547, 711, 1614, 564, 945, 4847, 616]\n",
      "El valor de i es: 4\n",
      "El valor de j es: 4\n",
      "El valor de i es: 4\n",
      "El valor de j es: 5\n",
      "El valor de i es: 4\n",
      "El valor de j es: 6\n",
      "[146, 164, 516, 547, 1614, 564, 945, 4847, 616, 711]\n",
      "El valor de i es: 4\n",
      "El valor de j es: 4\n",
      "El valor de i es: 4\n",
      "El valor de j es: 5\n",
      "[146, 164, 516, 547, 564, 945, 4847, 616, 711, 1614]\n",
      "El valor de i es: 4\n",
      "El valor de j es: 4\n",
      "El valor de i es: 4\n",
      "El valor de j es: 5\n",
      "El valor de i es: 4\n",
      "El valor de j es: 6\n",
      "El valor de i es: 4\n",
      "El valor de j es: 7\n",
      "El valor de i es: 4\n",
      "El valor de j es: 8\n",
      "El valor de i es: 4\n",
      "El valor de j es: 9\n",
      "El valor de i es: 5\n",
      "El valor de j es: 5\n",
      "El valor de i es: 5\n",
      "El valor de j es: 6\n",
      "El valor de i es: 5\n",
      "El valor de j es: 7\n",
      "[146, 164, 516, 547, 564, 4847, 616, 711, 1614, 945]\n",
      "El valor de i es: 5\n",
      "El valor de j es: 5\n",
      "El valor de i es: 5\n",
      "El valor de j es: 6\n",
      "[146, 164, 516, 547, 564, 616, 711, 1614, 945, 4847]\n",
      "El valor de i es: 5\n",
      "El valor de j es: 5\n",
      "El valor de i es: 5\n",
      "El valor de j es: 6\n",
      "El valor de i es: 5\n",
      "El valor de j es: 7\n",
      "El valor de i es: 5\n",
      "El valor de j es: 8\n",
      "El valor de i es: 5\n",
      "El valor de j es: 9\n",
      "El valor de i es: 6\n",
      "El valor de j es: 6\n",
      "El valor de i es: 6\n",
      "El valor de j es: 7\n",
      "El valor de i es: 6\n",
      "El valor de j es: 8\n",
      "El valor de i es: 6\n",
      "El valor de j es: 9\n",
      "El valor de i es: 7\n",
      "El valor de j es: 7\n",
      "El valor de i es: 7\n",
      "El valor de j es: 8\n",
      "[146, 164, 516, 547, 564, 616, 711, 945, 4847, 1614]\n",
      "El valor de i es: 7\n",
      "El valor de j es: 7\n",
      "El valor de i es: 7\n",
      "El valor de j es: 8\n",
      "El valor de i es: 7\n",
      "El valor de j es: 9\n",
      "El valor de i es: 8\n",
      "El valor de j es: 8\n",
      "El valor de i es: 8\n",
      "El valor de j es: 9\n",
      "[146, 164, 516, 547, 564, 616, 711, 945, 1614, 4847]\n",
      "El valor de i es: 8\n",
      "El valor de j es: 8\n",
      "El valor de i es: 8\n",
      "El valor de j es: 9\n",
      "El valor de i es: 9\n",
      "El valor de j es: 9\n",
      "[146, 164, 516, 547, 564, 616, 711, 945, 1614, 4847]\n"
     ]
    }
   ],
   "source": [
    "lista_num=[945,547,516,4847,616,711,146,1614,164,564]\n",
    "i=0\n",
    "j=1\n",
    "while True:\n",
    "    print(\"El valor de i es:\",i)\n",
    "    print(\"El valor de j es:\",j)\n",
    "    if lista_num[i]>lista_num[j]:\n",
    "        lista_num.append(lista_num[i])\n",
    "        lista_num.pop(i)\n",
    "        print(lista_num)\n",
    "        j=i\n",
    "    else:\n",
    "        if i==len(lista_num)-1:\n",
    "            break\n",
    "        elif j==len(lista_num)-1:\n",
    "            i+=1\n",
    "            j=i\n",
    "        else:\n",
    "            j+=1\n",
    "print(lista_num)"
   ]
  },
  {
   "cell_type": "markdown",
   "metadata": {},
   "source": [
    "# MODULO 2: Funciones y procedimientos\n",
    "\n",
    "Una funcion es una secuencia de instrucciones que se encarga de realizar una tarea especifica y devuelve un resultado. Un procedimiento tambien es una secuencia de instrucciones que realizan una tarea especifica pero que no devuelve un resultado, sino que se encarga de realizar un proceso necesario.\n",
    "\n",
    "Para definir una funcion debemos tener la siguiente sintaxis:"
   ]
  },
  {
   "cell_type": "code",
   "execution_count": null,
   "metadata": {},
   "outputs": [],
   "source": [
    "def nombre_de_funcion(parametros):·#Define el nombre la funcion y los parametros a ingresar\n",
    "\n",
    "#bloque de codigo de la funcion o instrucciones a ejecutar\n",
    "\n",
    "return valor_de_retorno #devuelve el resultado de la funcion"
   ]
  },
  {
   "cell_type": "markdown",
   "metadata": {},
   "source": [
    "Para pasar un numero indeterminado de argumentos a una funcion, se puede usar la siguiente sintaxis:"
   ]
  },
  {
   "cell_type": "code",
   "execution_count": 12,
   "metadata": {},
   "outputs": [
    {
     "name": "stdout",
     "output_type": "stream",
     "text": [
      "Hoy tenemos: pasta, pizza, ensalada, "
     ]
    }
   ],
   "source": [
    "def menu(*platos):\n",
    "    print('Hoy tenemos: ', end='')\n",
    "    for plato in platos:\n",
    "        print(plato, end=', ')\n",
    "    return\n",
    "\n",
    "menu('pasta', 'pizza', 'ensalada')\n"
   ]
  },
  {
   "cell_type": "markdown",
   "metadata": {},
   "source": [
    "A continuacion, un ejemplo de una funcion que calcula el area de un rectangulo:"
   ]
  },
  {
   "cell_type": "code",
   "execution_count": 5,
   "metadata": {},
   "outputs": [
    {
     "name": "stdout",
     "output_type": "stream",
     "text": [
      "15.0\n"
     ]
    }
   ],
   "source": [
    "def area_rec(base, altura):\n",
    "    area=base*altura\n",
    "    return area\n",
    "\n",
    "# base=input(\"ingrese la base\")\n",
    "# altura=input(\"Ingrese la altura\")\n",
    "resultado = area_rec(float(input(\"ingrese la base\")),float(input(\"Ingrese la altura\")))\n",
    "print(resultado)"
   ]
  },
  {
   "cell_type": "markdown",
   "metadata": {},
   "source": [
    "Como se dijo anteriormente, los procedimientos no devuelven un resultado, sino que realizan una serie de tareas especificas. Mantiene la siguiente sintaxis:"
   ]
  },
  {
   "cell_type": "code",
   "execution_count": 7,
   "metadata": {},
   "outputs": [
    {
     "name": "stdout",
     "output_type": "stream",
     "text": [
      "hola andres\n",
      "None\n"
     ]
    }
   ],
   "source": [
    "def saludar(nombre):\n",
    "    print(\"hola\", nombre)\n",
    "\n",
    "print(saludar(input(\"ingrese su nombre\")))"
   ]
  },
  {
   "cell_type": "markdown",
   "metadata": {},
   "source": [
    "## Ventajas de utilizar funciones y procedimientos:\n",
    "\n",
    "1. Reutilizacion de codigo: Podemos escribir un codigo una vez y usarlo en distintos lugares del programa. asi evita la duplicacion de codigo.\n",
    "2. Modularidad: Permite segmentar el codigo general en pequeñas partes mas sencillas de comprender.\n",
    "3. Abstraccion: permite enfocar en el \"que\" y no en el \"como\" de los procesos.\n",
    "4. Facilidad de mantenimineto: al ser procedimientos mas pequeños y especificos, hace mas facil la realizacion de los cambios."
   ]
  },
  {
   "cell_type": "markdown",
   "metadata": {},
   "source": [
    "### Parametros de funciones y procedimeintos:\n",
    "\n",
    "Existen dos tipos de parametros, parametros posicionales y parametros con nombre.\n",
    "\n",
    "Los parametros posicionales se definen en el orden que se esperan dentro de la funcion, por ejemplo:"
   ]
  },
  {
   "cell_type": "code",
   "execution_count": 9,
   "metadata": {},
   "outputs": [
    {
     "name": "stdout",
     "output_type": "stream",
     "text": [
      "9\n"
     ]
    }
   ],
   "source": [
    "def sumar (a,b):\n",
    "    resultado=a+b\n",
    "    return resultado\n",
    "\n",
    "print(sumar(4,5))"
   ]
  },
  {
   "cell_type": "markdown",
   "metadata": {},
   "source": [
    "Los parámetros con nombre se especifican junto con su valorcorrespondiente al llamar a la función o procedimiento. Esto nospermite asignar valores específicos a los parámetros, incluso si estánfuera de orden. Por ejemplo:"
   ]
  },
  {
   "cell_type": "code",
   "execution_count": 11,
   "metadata": {},
   "outputs": [
    {
     "name": "stdout",
     "output_type": "stream",
     "text": [
      "hola,andres\n"
     ]
    }
   ],
   "source": [
    "def saludar(nombre, saludo):\n",
    "    mensaje=saludo+\",\"+nombre\n",
    "    print(mensaje)\n",
    "\n",
    "saludar(saludo=\"hola\", nombre=\"andres\")"
   ]
  },
  {
   "cell_type": "markdown",
   "metadata": {},
   "source": [
    "Además, tambiénpodemos tener parámetros predeterminados en una función. Estos parámetros tienen un valor asignado por defecto y pueden ser omitidos al invocar la función si no se proporciona un valor explícito. Por ejemplo:"
   ]
  },
  {
   "cell_type": "code",
   "execution_count": 14,
   "metadata": {},
   "outputs": [
    {
     "name": "stdout",
     "output_type": "stream",
     "text": [
      "hola,andres\n"
     ]
    }
   ],
   "source": [
    "def saludar(saludo, nombre=\"andres\"):\n",
    "    mensaje=saludo+\",\"+nombre\n",
    "    print(mensaje)\n",
    "\n",
    "saludar(\"hola\")"
   ]
  },
  {
   "cell_type": "markdown",
   "metadata": {},
   "source": [
    "Es importante mencionar que una función puede tener múltiples declaraciones de return, pero solo se ejecutará la primera vez que se encuentre. Después de que se ejecute una declaración de return, la función finalizará y no ejecutará ninguna instrucción adicional."
   ]
  },
  {
   "cell_type": "markdown",
   "metadata": {},
   "source": [
    "## Reutilizacion de codigo en Python:\n",
    "\n",
    "Se refiere a la práctica de utilizar bloques de código existentes en diferentes partes de un programa o en programas diferentes. En lugar de escribir el mismo código repetidamente, podemos utilizar funciones, procedimientos y módulos existentes para evitar la duplicación y mejorar la eficiencia.\n",
    "\n",
    "En Python, podemos reutilizar código de varias formas:\n",
    "\n",
    "1. Funciones y procedimientos:\n",
    "Definir funciones y procedimientos para encapsular bloques de código que realizan tareas específicas.\n",
    "2. Bibliotecas y módulos:\n",
    "Python ofrece una amplia variedad de bibliotecas y módulos que contienen funciones y procedimientos predefinidos pararealizar tareas comunes. Podemos importar estos módulos en nuestros programas y utilizar sus funciones para aprovecharlos.\n",
    "3. Herencia y polimorfismo:\n",
    "En la programación orientada a objetos, podemos utilizar herencia y polimorfismo para reutilizar y extender elcódigo existente. La herencia nos permite crear nuevas clases basadas en clases existentes, heredando sus atributos y métodos. El polimorfismo nosp ermite utilizar objetos de diferentes clases de manera intercambiable, siempre y cuando cumplan con una interfaz común."
   ]
  },
  {
   "cell_type": "code",
   "execution_count": null,
   "metadata": {},
   "outputs": [],
   "source": [
    "geometria.py #creamos un nuevo modulo\n",
    "\n",
    "def area_rectangulo(base,altura):\n",
    "    area=base*altura\n",
    "    return area\n",
    "def area_circulo(radio):\n",
    "    area=3,1416*radio**2\n",
    "    return area\n",
    "\n",
    "# En el programa principal\n",
    "\n",
    "from geometria import area_rectangulo, area_circulo\n",
    "\n",
    "base_rectangulo=5\n",
    "altura_rectangulo=3\n",
    "radio_circulo=2\n",
    "\n",
    "area_rectangulo(base_rectangulo,altura_rectangulo)\n",
    "print(f\"el area del rectangulo es:{area_rectangulo}\")\n",
    "\n",
    "area_circulo(radio_circulo)\n",
    "print(f\"el area del rectangulo es:{area_circulo}\")"
   ]
  },
  {
   "cell_type": "markdown",
   "metadata": {},
   "source": [
    "Ejemplo: Supongamos que una máquina expendedora vende botellas de Coca Cola por 50 centavos y solo acepta monedas en estas denominaciones, 25 centavos, 10 centavos y 5 centavos en un archivo llamado Coke.py. Implementa un programa que solicita el usuario que inserte una moneda, una por vez, informe al usuario el monto adeudado cada vez. Una vez que el usuario haya ingresado al menos 50 centavos muestre la cantidad de centavos de cambio que se le adeuda, suponga que el usuario solo ingresará enteros e ignore cualquier entero que no sea una denominación aceptada."
   ]
  },
  {
   "cell_type": "code",
   "execution_count": 5,
   "metadata": {},
   "outputs": [
    {
     "name": "stdout",
     "output_type": "stream",
     "text": [
      "Faltan 45 para completar su compra de una Coca-Cola\n",
      "Esta denominacion no es aceptable.\n",
      "Faltan 35 para completar su compra de una Coca-Cola\n",
      "Faltan 25 para completar su compra de una Coca-Cola\n",
      "Faltan 20 para completar su compra de una Coca-Cola\n",
      "Faltan 15 para completar su compra de una Coca-Cola\n",
      "Esta denominacion no es aceptable.\n",
      "Faltan 10 para completar su compra de una Coca-Cola\n",
      "Toma tu Coca-Cola, tu dinero restante es 15\n"
     ]
    }
   ],
   "source": [
    "precio=50\n",
    "total_ingresado=0\n",
    "\n",
    "while True:\n",
    "    dinero_ingresado=int(input(\"Ingrese una moneda de 25, 10 o 5 centavos:\"))\n",
    "    moneda_aceptable=[25,10,5]\n",
    "    \n",
    "    if dinero_ingresado in moneda_aceptable:\n",
    "        total_ingresado+=dinero_ingresado\n",
    "        if total_ingresado<50:\n",
    "            print(f\"Faltan {50-total_ingresado} para completar su compra de una Coca-Cola\")\n",
    "        elif total_ingresado==50:\n",
    "            print(\"Toma tu deliciosa Coca-Cola\")\n",
    "            break\n",
    "        else:\n",
    "            print(f\"Toma tu Coca-Cola, tu dinero restante es {total_ingresado-50}\")\n",
    "            break\n",
    "    \n",
    "    else:\n",
    "        print(\"Esta denominacion no es aceptable.\")\n"
   ]
  },
  {
   "cell_type": "markdown",
   "metadata": {},
   "source": [
    "A continuacion, un ejemplo de como importar funciones y modulos en Python:"
   ]
  },
  {
   "cell_type": "code",
   "execution_count": 6,
   "metadata": {},
   "outputs": [
    {
     "name": "stdout",
     "output_type": "stream",
     "text": [
      "65.0\n"
     ]
    }
   ],
   "source": [
    "import fun_sumar\n",
    "\n",
    "resultado=fun_sumar.sumar()\n",
    "\n",
    "print(resultado)"
   ]
  },
  {
   "cell_type": "markdown",
   "metadata": {},
   "source": [
    "## Clases y objetos en Python:\n",
    "\n",
    "### Clases en Python:\n",
    "\n",
    "Una clase en Python es una plantilla o un plano para crear objetos. Define las propiedades y los comportamientos comunes que los objetosde esa clase tendrán. Una clase se compone de atributos (variables) y métodos (funciones).\n",
    "Para definir una clase en Python, utilizamos la palabra clave \"class\" seguida del nombre de la clase. A continuación, se muestra la sintaxis básica de una clase:"
   ]
  },
  {
   "cell_type": "code",
   "execution_count": null,
   "metadata": {},
   "outputs": [],
   "source": [
    "class NombreDeClase:\n",
    "\n",
    "    #Definicion de atributos: Son variables que almacenan objetos relacionados a la clase\n",
    "    #Definicion de metodos: son funciones que definen el comportamiento de la clase"
   ]
  },
  {
   "cell_type": "markdown",
   "metadata": {},
   "source": [
    " A continuacion, se muestra un elemplo de una clase \"Persona\" que tieneatributos como nombre y edad, y métodos como saludar y obtener_edad:"
   ]
  },
  {
   "cell_type": "code",
   "execution_count": 38,
   "metadata": {},
   "outputs": [
    {
     "name": "stdout",
     "output_type": "stream",
     "text": [
      "Hola, mi nombre es Andres\n",
      "None\n"
     ]
    }
   ],
   "source": [
    "class Persona:\n",
    "    def __init__(self, nombre, edad): #El método __init__ es un método especial llamado \n",
    "        # constructor, que se ejecuta automáticamente al crear un objeto de la clase\n",
    "        self.nombre=nombre\n",
    "        self.edad=edad\n",
    "\n",
    "    def saludar(self):\n",
    "        print(f\"Hola, mi nombre es {self.nombre}\")\n",
    "    \n",
    "    def obtener_edad(self):\n",
    "        return self.edad\n",
    "    \n",
    "andres=Persona(\"Andres\",23)\n",
    "print(andres.saludar())"
   ]
  },
  {
   "cell_type": "markdown",
   "metadata": {},
   "source": [
    "### Objetos en Python:\n",
    "\n",
    "Un objeto es una instancia de una clase. Representa una entidad real basada en la definición de la clase. Al crear un objeto,obtenemos una copia de la estructura y los comportamientos definidosen la clase.\n",
    "\n",
    "Para crear un objeto en Python, utilizamos la sintaxis de llamada a la clase, seguida de paréntesis. A continuación, se muestra un ejemplo de creación de un objeto \"persona\" basado en la clase \"Persona\":"
   ]
  },
  {
   "cell_type": "code",
   "execution_count": 37,
   "metadata": {},
   "outputs": [
    {
     "name": "stdout",
     "output_type": "stream",
     "text": [
      "Ana\n",
      "Hola, mi nombre es Ana\n",
      "None\n",
      "25\n"
     ]
    }
   ],
   "source": [
    "persona=Persona(\"Ana\", 25)\n",
    "\n",
    "print(persona.nombre)\n",
    "print(persona.saludar())\n",
    "print(persona.edad)"
   ]
  },
  {
   "cell_type": "markdown",
   "metadata": {},
   "source": [
    "Supongamos que estamos desarrollando un programa para una tienda en línea que vende productos. Podemos utilizar clases y objetos para modelar los productos y sus características. A continuación, se muestra un ejemplo:"
   ]
  },
  {
   "cell_type": "code",
   "execution_count": 11,
   "metadata": {},
   "outputs": [
    {
     "name": "stdout",
     "output_type": "stream",
     "text": [
      "Producto: camiseta\n",
      "Precio: 25.99\n",
      "Producto: Pantalon\n",
      "Precio: 39.99\n"
     ]
    }
   ],
   "source": [
    "class Producto:\n",
    "\n",
    "    def __init__(self, nombre, precio):\n",
    "        self.nombre=nombre\n",
    "        self.precio=precio\n",
    "\n",
    "    def mostrar_informacion(self):\n",
    "        print(f\"Producto: {self.nombre}\")\n",
    "        print(f\"Precio: {self.precio}\")\n",
    "\n",
    "producto1 = Producto(\"camiseta\", 25.99)\n",
    "producto2 = Producto(\"Pantalon\", 39.99)\n",
    "\n",
    "producto1.mostrar_informacion()\n",
    "producto2.mostrar_informacion()"
   ]
  },
  {
   "cell_type": "markdown",
   "metadata": {},
   "source": [
    "## Herencia y polimorfismo:\n",
    "\n",
    "La herencia permite que una clase nueva adquiera las propiedades de una clase existente. La clase original se denomina \"superclase o clase padre\".\n",
    "\n",
    "El polimorfismo se refiere a la capacidad de un objeto de adaptar muchas formas.\n",
    "\n",
    "### Herencia en Python:\n",
    "\n",
    "La herencia es un mecanismo que permite crear nuevas clases basadas en clases existentes. En Python, una clase puede heredar atributos y métodos de una clase padre o superclase, lo que facilita la reutilización de código y la extensión de funcionalidades.\n",
    "\n",
    "Para establecer una relación de herencia en Python, se utiliza la sintaxis de la definición de clase, con el nombre de la clase padre entre paréntesis después del nombre de la clase hija. A continuación, se muestra la sintaxis básica:"
   ]
  },
  {
   "cell_type": "code",
   "execution_count": null,
   "metadata": {},
   "outputs": [],
   "source": [
    "class ClaseHija(ClasePadre): #Definicion de atributos y metodos adicionales."
   ]
  },
  {
   "cell_type": "markdown",
   "metadata": {},
   "source": [
    "A continuacion, un ejemplo de herencia de clases:"
   ]
  },
  {
   "cell_type": "code",
   "execution_count": 13,
   "metadata": {},
   "outputs": [
    {
     "name": "stdout",
     "output_type": "stream",
     "text": [
      "Fido\n",
      "Holal, Soy un animal, soy Fido\n",
      "Guau\n"
     ]
    }
   ],
   "source": [
    "class Animal:\n",
    "    def __init__(self, nombre):\n",
    "        self.nombre=nombre\n",
    "\n",
    "    def saludar(self):\n",
    "        print(f\"Holal, Soy un animal, soy {self.nombre}\")\n",
    "\n",
    "class Perro(Animal):\n",
    "    def ladrar(self):\n",
    "        print(\"Guau\")\n",
    "\n",
    "perro=Perro(\"Fido\")\n",
    "print(perro.nombre)\n",
    "perro.saludar()\n",
    "perro.ladrar()"
   ]
  },
  {
   "cell_type": "markdown",
   "metadata": {},
   "source": [
    "### Polimorfismo en Python:\n",
    "\n",
    "Es la capacidad de un objeto de tomar diferentes formas o comportarse de diferentes maneras según el contexto. En Python, el polimorfismo se logra a través de la sobreescritura de métodos.\n",
    "\n",
    "Cuando una clase hija define un método con el mismo nombre que un método de la clase padre, se dice que se está sobrescribiendo el método. Esto permite que la clase hija proporcione una implementación diferente del método, específica para sus necesidades.\n",
    "\n",
    "A continuación, se muestra un ejemplo de polimorfismo en Python:"
   ]
  },
  {
   "cell_type": "code",
   "execution_count": 20,
   "metadata": {},
   "outputs": [
    {
     "name": "stdout",
     "output_type": "stream",
     "text": [
      "Holal, Soy un animal, soy firulais\n",
      "Hola, soy un perro y me llamo Teo\n"
     ]
    }
   ],
   "source": [
    "class Animal:\n",
    "    def __init__(self, nombre):\n",
    "        self.nombre=nombre\n",
    "\n",
    "    def saludar(self):\n",
    "        print(f\"Holal, Soy un animal, soy {self.nombre}\")\n",
    "\n",
    "class Perro(Animal):\n",
    "    def saludar(self):\n",
    "        print(f\"Hola, soy un perro y me llamo {self.nombre}\")\n",
    "\n",
    "nombre1=Animal(\"firulais\")\n",
    "nombre1.saludar()\n",
    "\n",
    "nombre2=Perro(\"Teo\")\n",
    "nombre2.saludar()\n"
   ]
  },
  {
   "cell_type": "markdown",
   "metadata": {},
   "source": [
    "## Ejercicios:\n",
    "\n",
    "Escribe una función saludo que acepte un argumento de nombre y retorne un saludo personalizado. Por ejemplo, saludo('Alice') debería retornar '¡Hola, Alice!'."
   ]
  },
  {
   "cell_type": "code",
   "execution_count": 1,
   "metadata": {},
   "outputs": [
    {
     "name": "stdout",
     "output_type": "stream",
     "text": [
      "Hola Andres! Es un placer conocerte!\n"
     ]
    }
   ],
   "source": [
    "def saludo(nombre):\n",
    "    print(f\"Hola {nombre}! Es un placer conocerte!\")\n",
    "\n",
    "\n",
    "saludo(\"Andres\")"
   ]
  },
  {
   "cell_type": "markdown",
   "metadata": {},
   "source": [
    "Escribe una función area_circulo que acepte un argumento de radio y calcule el área del círculo correspondiente. Recuerda que el área de un círculo se calcula como pi * radio**2."
   ]
  },
  {
   "cell_type": "code",
   "execution_count": 8,
   "metadata": {},
   "outputs": [
    {
     "name": "stdout",
     "output_type": "stream",
     "text": [
      "12.5664\n"
     ]
    }
   ],
   "source": [
    "def area_cir(radio):\n",
    "    area=3.1416*(radio**2)\n",
    "    return area\n",
    "\n",
    "area=area_cir(2)\n",
    "print(area)"
   ]
  },
  {
   "cell_type": "markdown",
   "metadata": {},
   "source": [
    "Escribe dos funciones, celsius_a_fahrenheit y fahrenheit_a_celsius, que conviertan temperaturas de una escala a otra."
   ]
  },
  {
   "cell_type": "code",
   "execution_count": 10,
   "metadata": {},
   "outputs": [
    {
     "name": "stdout",
     "output_type": "stream",
     "text": [
      "10 grados celsius son 50.0 grados faherenheit\n",
      "None\n",
      "295 grados faherenheit son 146.11111111111111 grados celsius\n",
      "None\n"
     ]
    }
   ],
   "source": [
    "def celcius_a_faherenheit(grados_celsius):\n",
    "    grados_faherenheit=grados_celsius*(9/5)+32\n",
    "    print(f\"{grados_celsius} grados celsius son {grados_faherenheit} grados faherenheit\")\n",
    "\n",
    "def faherenheit_a_celcius(grados_faherenheit):\n",
    "    grados_celsius=(grados_faherenheit-32)*5/9\n",
    "    print(f\"{grados_faherenheit} grados faherenheit son {grados_celsius} grados celsius\")\n",
    "\n",
    "print(celcius_a_faherenheit(10))\n",
    "\n",
    "print(faherenheit_a_celcius(295))"
   ]
  },
  {
   "cell_type": "markdown",
   "metadata": {},
   "source": [
    "El factorial de un número n, denotado como n!, es el producto de todos los números enteros desde 1 hasta n. Escribe una función recursiva factorial que calcule el factorial de un número."
   ]
  },
  {
   "cell_type": "code",
   "execution_count": 7,
   "metadata": {},
   "outputs": [
    {
     "name": "stdout",
     "output_type": "stream",
     "text": [
      "1\n"
     ]
    }
   ],
   "source": [
    "def factorial(numero=1):\n",
    "    fac=1\n",
    "    if numero==0:\n",
    "        return fac\n",
    "    else:\n",
    "        fac*=numero*factorial(numero-1)\n",
    "        return fac\n",
    "\n",
    "print(factorial(0))"
   ]
  },
  {
   "cell_type": "markdown",
   "metadata": {},
   "source": [
    "Crea un módulo `calculadora.py` con funciones para las operaciones básicas: suma, resta, multiplicación y división. Crea un módulo `principal.py` que importe tu módulo `calculadora.py` y utilice sus funciones para realizar algunas operaciones."
   ]
  },
  {
   "cell_type": "code",
   "execution_count": 23,
   "metadata": {},
   "outputs": [
    {
     "name": "stdout",
     "output_type": "stream",
     "text": [
      "15\n",
      "-15\n",
      "120\n"
     ]
    }
   ],
   "source": [
    "import calculadora\n",
    "\n",
    "print(calculadora.suma(5,4,3,2,1))\n",
    "print(calculadora.resta(5,4,3,2,1))\n",
    "print(calculadora.multiplicacion(5,4,3,2,1))"
   ]
  },
  {
   "cell_type": "markdown",
   "metadata": {},
   "source": [
    "1. Crea una clase `Animal` con los atributos `nombre` y `edad`, y un método `hacer_sonido`.\n",
    "\n",
    "2. Crea una subclase `Perro` que hereda de `Animal`, añade el atributo `raza`, y sobreescribe el método `hacer_sonido`.\n",
    "\n",
    "3. Crea una subclase `Gato` que hereda de `Animal`, añade el atributo `color`, y sobreescribe el método `hacer_sonido`.\n",
    "\n",
    "4. Crea instancias de `Perro` y `Gato` y haz que emitan sus sonidos.\n",
    "\n",
    "5. Crea una función `presentar_animal` que reciba un `Animal` y muestre su nombre, edad, y haga que el animal emita su sonido. Utilízala con instancias de `Perro` y `Gato`. Observa cómo se aplica el polimorfismo."
   ]
  },
  {
   "cell_type": "code",
   "execution_count": 18,
   "metadata": {},
   "outputs": [
    {
     "name": "stdout",
     "output_type": "stream",
     "text": [
      "Hola, soy un gato llamado firulais, con la edad de 8 años, de color bullterrier y hago Miau\n",
      "None\n"
     ]
    }
   ],
   "source": [
    "class animal:\n",
    "    def __init__(self,nombre,edad):\n",
    "        self.nombre=nombre\n",
    "        self.edad=edad\n",
    "\n",
    "    def hacer_sonido(self):\n",
    "        print(f\"Hago un sonido\")\n",
    "\n",
    "# animal1=animal(edad=10, nombre=\"Burro\")\n",
    "# animal1.hacer_sonido()\n",
    "\n",
    "class perro(animal):\n",
    "    def __init__(self,nombre,edad, raza):\n",
    "        self.nombre=nombre\n",
    "        self.edad=edad\n",
    "        self.raza=raza\n",
    "\n",
    "    def hacer_sonido(self):\n",
    "        return \"Guau\"\n",
    "\n",
    "class gato(animal):\n",
    "    def __init__(self,nombre,edad, color):\n",
    "        self.nombre=nombre\n",
    "        self.edad=edad\n",
    "        self.color=color\n",
    "    def hacer_sonido(self):\n",
    "        return \"Miau\"\n",
    "\n",
    "# animal2=perro(\"firulais\", 5, \"bullterrier\")\n",
    "# animal3=gato(\"michi\", 6, \"negro\")\n",
    "\n",
    "# print(animal2.hacer_sonido())\n",
    "# print(animal3.hacer_sonido())\n",
    "\n",
    "def presentar_animal(nombre,edad,raza_o_color):\n",
    "    perro_gato=input(\"Ingrese si es un perro o un gato:\")\n",
    "    perro_gato=perro_gato.lower\n",
    "    if perro_gato==\"perro\":\n",
    "        animal4=perro(nombre, edad, raza_o_color)\n",
    "        return print(f\"Hola, soy un perro llamado {animal4.nombre}, con la edad de {animal4.edad} años, de raza {animal4.raza} y hago {animal4.hacer_sonido()}\")\n",
    "    else:\n",
    "        animal5=gato(nombre, edad, raza_o_color)\n",
    "        return print(f\"Hola, soy un gato llamado {animal5.nombre}, con la edad de {animal5.edad} años, de color {animal5.color} y hago {animal5.hacer_sonido()}\")\n",
    "\n",
    "print(presentar_animal(\"firulais\", 8, \"bullterrier\"))"
   ]
  },
  {
   "cell_type": "markdown",
   "metadata": {},
   "source": [
    "# MODULO 3: Algoritmos de busqueda y ordenacion\n",
    "\n",
    "### Algoritmos de busqueda:\n",
    "\n",
    "La búsqueda en programación se refiere al proceso de encontrar un valor específico dentro de un conjunto de datos. Python ofrece varios algoritmos de búsqueda, cada uno con su enfoque y complejidad. Dos de los algoritmos de búsqueda más comunes son:\n",
    "\n",
    "1. Busqueda Secuencial: Es un algoritmo simple en el que se reccorre uno a uno cada elementos de una lista hasta encontrar el valor deseado. Puede ser ineficiente para conjuntos de datos muy grandes.\n",
    "\n",
    "2. Busqueda binaria: Es un algoritmo mas eficiente que se aplica a listas previamente ordenadas, consiste en dividir el conjunto de datos a la mitad en cada iteracion, reduciendo rapidamente el espacio de busqueda. Es util en conjunto de datos grandes, ya que si complejidad es logaritmica en lugar de lineal.\n",
    "\n",
    "### Algoritmos de ordenacion:\n",
    "\n",
    "La ordenación en programación se refiere a la disposición de elementos en un conjunto de datos de manera ascendente o descendente, según un criterio específico. Python ofrece varios algoritmos de ordenación, cada uno con diferentes características y rendimiento. Algunos de los algoritmos de ordenación más utilizados son:\n",
    "\n",
    "1. Ordenacion por burbuja: De los menos eficientes pero muy sencillo, contrasta pares adyacentes y los intercambia si estan en el orden incorrecto.\n",
    "\n",
    "2. Ordenacion por insercion: Un poco mas eficiente, recorre la lista y en cada paso inseta el elemento en el lugar correctode la lista ordenada anteriormente.\n",
    "\n",
    "3. Ordenacion por seleccion: Busca el elemento mas pequeño y lo ubica en el principio de la lista.\n",
    "\n",
    "4. Ordenacion por fusion: Es mas eficiente, divide el conjunto en mitades y los ordena por separado para posteriormente juntarlas.\n",
    "\n",
    "5. Ordenacion rapida: Selecciona un elemento pivote y reorganiza la lista de manera que todos los elementos mas pequeños esten a la izquierda y los mas grandes a la derecha, luego, repite el proceso con las sublistas de la izquiera y la derecha sucesivamente."
   ]
  },
  {
   "cell_type": "markdown",
   "metadata": {},
   "source": [
    "A continuacion, un ejemplo de busqueda lineal:"
   ]
  },
  {
   "cell_type": "code",
   "execution_count": 12,
   "metadata": {},
   "outputs": [
    {
     "name": "stdout",
     "output_type": "stream",
     "text": [
      "True\n"
     ]
    }
   ],
   "source": [
    "def busqueda_linear(conjunto, valor_bus):\n",
    "    for valor in conjunto:\n",
    "        if valor==valor_bus:\n",
    "            return True\n",
    "    return False\n",
    "        \n",
    "conjunto1=[51,6584,651,321,61,\"casa\", \"carro\", \"nombre\", \"perro\"]\n",
    "\n",
    "print(busqueda_linear(conjunto1, 61))"
   ]
  },
  {
   "cell_type": "markdown",
   "metadata": {},
   "source": [
    "Un ejemplo de busqueda binaria:"
   ]
  },
  {
   "cell_type": "code",
   "execution_count": 15,
   "metadata": {},
   "outputs": [
    {
     "data": {
      "text/plain": [
       "False"
      ]
     },
     "execution_count": 15,
     "metadata": {},
     "output_type": "execute_result"
    }
   ],
   "source": [
    "# La lista debe estar previamente ordenada\n",
    "\n",
    "def busqueda_binaria(conjunto, valor_bus):\n",
    "    inicio=0\n",
    "    fin=len(conjunto)-1\n",
    "    \n",
    "    while inicio<=fin:\n",
    "        medio=(inicio+fin)//2\n",
    "        if conjunto[medio]==valor_bus:\n",
    "            return True\n",
    "        elif valor_bus>conjunto[medio]:\n",
    "            inicio=medio+1\n",
    "        else:\n",
    "            fin=medio-1\n",
    "    return False\n",
    "\n",
    "lista=[1,2,3,4,5,6,7,8,9]\n",
    "\n",
    "busqueda_binaria(lista, 10)"
   ]
  },
  {
   "cell_type": "markdown",
   "metadata": {},
   "source": [
    "A continuacion, un ejemplo de ordenacion burbuja:"
   ]
  },
  {
   "cell_type": "code",
   "execution_count": 22,
   "metadata": {},
   "outputs": [
    {
     "name": "stdout",
     "output_type": "stream",
     "text": [
      "[15, 32, 51, 65, 85, 465, 5458]\n"
     ]
    }
   ],
   "source": [
    "def ordenacion_burbuja(lista):\n",
    "    n=len(lista)\n",
    "    for i in range(n-1):\n",
    "\n",
    "        for j in range(n-1-i):\n",
    "\n",
    "            if lista[j]>lista[j+1]:\n",
    "\n",
    "                lista[j], lista[j+1]=lista[j+1],lista[j]\n",
    "    \n",
    "    print(lista)\n",
    "\n",
    "lista=[51,65,32,85,465,15,5458]\n",
    "\n",
    "ordenacion_burbuja(lista)"
   ]
  },
  {
   "cell_type": "markdown",
   "metadata": {},
   "source": [
    "A continuacion, un ejemplo de ordenacion por insercion:"
   ]
  },
  {
   "cell_type": "code",
   "execution_count": 39,
   "metadata": {},
   "outputs": [
    {
     "name": "stdout",
     "output_type": "stream",
     "text": [
      "[4, 2, 6, 1, 8, 3]\n",
      "[2, 4, 6, 1, 8, 3]\n",
      "[2, 4, 6, 1, 8, 3]\n",
      "[1, 2, 4, 6, 8, 3]\n",
      "[1, 2, 4, 6, 8, 3]\n",
      "[1, 2, 3, 4, 6, 8]\n"
     ]
    }
   ],
   "source": [
    "lista=[4,2,6,1,8,3]\n",
    "\n",
    "def ordenacion_insercion(lista):\n",
    "    n=len(lista)\n",
    "    for i in range(1, n):\n",
    "        valor_actual=lista[i]\n",
    "        j=i-1\n",
    "        print(lista)\n",
    "        while j>=0 and lista[j]>valor_actual:\n",
    "            lista[j+1]=lista[j]\n",
    "            j-=1\n",
    "            lista[j+1]=valor_actual\n",
    "    print(lista)\n",
    "\n",
    "ordenacion_insercion(lista)"
   ]
  },
  {
   "cell_type": "markdown",
   "metadata": {},
   "source": [
    "A continuacion, un ejemplo de ordenacion por mezcla:"
   ]
  },
  {
   "cell_type": "code",
   "execution_count": 9,
   "metadata": {},
   "outputs": [
    {
     "name": "stdout",
     "output_type": "stream",
     "text": [
      "[12, 54, 57, 59, 63, 63, 85]\n"
     ]
    }
   ],
   "source": [
    "def merge_sort(lista):\n",
    "    if len(lista)<=1:\n",
    "        return lista\n",
    "    \n",
    "    medio=len(lista)//2\n",
    "    izquiera=merge_sort(lista[:medio])\n",
    "    derecha=merge_sort(lista[medio:])\n",
    "    return merge(izquiera,derecha)\n",
    "\n",
    "def merge(izquierda,derecha):\n",
    "    resultado=[]\n",
    "    i=j=0\n",
    "\n",
    "    while i<len(izquierda) and j<len(derecha):\n",
    "        if izquierda[i]<derecha[j]:\n",
    "            resultado.append(izquierda[i])\n",
    "            i+=1\n",
    "        else:\n",
    "            resultado.append(derecha[j])\n",
    "            j+=1\n",
    "\n",
    "    resultado.extend(izquierda[i:])\n",
    "\n",
    "    resultado.extend(derecha[j:])\n",
    "\n",
    "    return resultado\n",
    "\n",
    "numeros=[54,85,12,63,57,59,63]\n",
    "ordenados=merge_sort(numeros)\n",
    "print(ordenados)"
   ]
  },
  {
   "cell_type": "markdown",
   "metadata": {},
   "source": [
    "A continuacion, un ejemplo de ordenamiento rapido:"
   ]
  },
  {
   "cell_type": "code",
   "execution_count": null,
   "metadata": {},
   "outputs": [],
   "source": [
    "def quick_sort(lista):\n",
    "    if len(lista)<=1:\n",
    "        return lista\n",
    "    \n",
    "    pivote=lista[len(lista//2)]\n",
    "    izquierda=[x for x in lista if x<pivote]\n",
    "    medio=[x for x in lista if x==pivote]\n",
    "    derecha=[x for x in lista if x<pivote]\n",
    "\n",
    "    return quick_sort(izquierda) + medio + quick_sort(derecha)"
   ]
  },
  {
   "cell_type": "markdown",
   "metadata": {},
   "source": [
    "# MODULO 4: Bibliotecas y modulos\n",
    "\n",
    "Una biblioteca en Python es un conjunto de funciones, clases y métodos predefinidos que están disponibles para ser utilizados en nuestros programas.\n",
    "\n",
    "Un módulo, por otro lado, es un archivo de Python que contiene código reutilizable y puede ser importado en otros programas para utilizar sus funcionalidades.\n",
    "\n",
    "Los módulos pueden ser creados tanto por los desarrolladores como por terceros. Python tiene una amplia variedad de bibliotecas y módulos disponibles que cubren diferentes áreas, como matemáticas,\n",
    "procesamiento de datos, gráficos, redes, entre otros.\n",
    "\n",
    "## Importando bilbiotecas y modulos\n",
    "\n",
    "A continuacuion, un ejemplo de como llamar una biblioteca completa:"
   ]
  },
  {
   "cell_type": "code",
   "execution_count": null,
   "metadata": {},
   "outputs": [],
   "source": [
    "import math"
   ]
  },
  {
   "cell_type": "markdown",
   "metadata": {},
   "source": [
    "Al usar esta manera de llamar un modulo, es necesario usar el nombre del modulo para llamar las entidades que incluye."
   ]
  },
  {
   "cell_type": "code",
   "execution_count": 2,
   "metadata": {},
   "outputs": [
    {
     "name": "stdout",
     "output_type": "stream",
     "text": [
      "['__doc__', '__loader__', '__name__', '__package__', '__spec__', 'acos', 'acosh', 'asin', 'asinh', 'atan', 'atan2', 'atanh', 'cbrt', 'ceil', 'comb', 'copysign', 'cos', 'cosh', 'degrees', 'dist', 'e', 'erf', 'erfc', 'exp', 'exp2', 'expm1', 'fabs', 'factorial', 'floor', 'fmod', 'frexp', 'fsum', 'gamma', 'gcd', 'hypot', 'inf', 'isclose', 'isfinite', 'isinf', 'isnan', 'isqrt', 'lcm', 'ldexp', 'lgamma', 'log', 'log10', 'log1p', 'log2', 'modf', 'nan', 'nextafter', 'perm', 'pi', 'pow', 'prod', 'radians', 'remainder', 'sin', 'sinh', 'sqrt', 'tan', 'tanh', 'tau', 'trunc', 'ulp']\n",
      "4.0\n"
     ]
    }
   ],
   "source": [
    "import math\n",
    "print(dir(math))\n",
    "print(math.sqrt(16))"
   ]
  },
  {
   "cell_type": "markdown",
   "metadata": {},
   "source": [
    "Un segundo metodo de importar entidades de un modulo, y que estas sean incluidas dentro del Namespace del codigo es la siguiente:"
   ]
  },
  {
   "cell_type": "code",
   "execution_count": null,
   "metadata": {},
   "outputs": [],
   "source": [
    "from math import pi"
   ]
  },
  {
   "cell_type": "markdown",
   "metadata": {},
   "source": [
    "Al usar este ultimo metodo las entidades listadas son las únicas que son importadas del módulo indicado.\n",
    "Los nombres de las entidades importadas pueden ser accedidas dentro del código sin especificar el nombre del módulo de origen.\n",
    "\n",
    "Una ultima forma de importar todas las entidades de un modulo directamente al codigo que estamos generando es la siguiente:"
   ]
  },
  {
   "cell_type": "code",
   "execution_count": null,
   "metadata": {},
   "outputs": [],
   "source": [
    "from math import *"
   ]
  },
  {
   "cell_type": "markdown",
   "metadata": {},
   "source": [
    "## Trabajando con modulos estandar\n",
    "\n",
    "### math:\n",
    "\n",
    "Posee una variedad de funciones y constantes matematicas que facilitan el trabajo del desarrollador, encontramos las siguientes:"
   ]
  },
  {
   "cell_type": "code",
   "execution_count": 1,
   "metadata": {},
   "outputs": [
    {
     "name": "stdout",
     "output_type": "stream",
     "text": [
      "['__doc__', '__loader__', '__name__', '__package__', '__spec__', 'acos', 'acosh', 'asin', 'asinh', 'atan', 'atan2', 'atanh', 'cbrt', 'ceil', 'comb', 'copysign', 'cos', 'cosh', 'degrees', 'dist', 'e', 'erf', 'erfc', 'exp', 'exp2', 'expm1', 'fabs', 'factorial', 'floor', 'fmod', 'frexp', 'fsum', 'gamma', 'gcd', 'hypot', 'inf', 'isclose', 'isfinite', 'isinf', 'isnan', 'isqrt', 'lcm', 'ldexp', 'lgamma', 'log', 'log10', 'log1p', 'log2', 'modf', 'nan', 'nextafter', 'perm', 'pi', 'pow', 'prod', 'radians', 'remainder', 'sin', 'sinh', 'sqrt', 'tan', 'tanh', 'tau', 'trunc', 'ulp']\n"
     ]
    }
   ],
   "source": [
    "import math\n",
    "print(dir(math))"
   ]
  },
  {
   "cell_type": "markdown",
   "metadata": {},
   "source": [
    "La funcion \"pow(X,Y))\" esta incluida en python directamente, no es necesario importarla y tiene la actividad de elevar el numero X al exponente Y."
   ]
  },
  {
   "cell_type": "markdown",
   "metadata": {},
   "source": [
    "### ramdom:"
   ]
  },
  {
   "cell_type": "markdown",
   "metadata": {},
   "source": [
    "- *random()* genera un valor pseudoaleatorio entre 0.0 y 1.0.\n",
    "- *seed()* establece por defecto la semilla con la que se generaran los valores aleatorios segun la hora actual, pero si le damos un argumento entero los valores se generaran en base a este.\n",
    "- *randrange(inicio,fin,incremento)* genera valores aleatorios en el rango *inicio,fin-1*.\n",
    "- *randint(inicio,fin)* genera valores sin excluir el valor final.\n",
    "- *choice(secuencia)* selecciona valores aleatorios de la secuencia dada.\n",
    "- *sample(secuencia, elementos_a_elegir=1)* crea una lista (una muestra) que consta del elemento *elementos_a_elegir* (que por defecto es 1) «sorteado» de la secuencia de entrada sin repetirse."
   ]
  },
  {
   "cell_type": "markdown",
   "metadata": {},
   "source": [
    "### platform:\n",
    "\n",
    "El módulo platform permite acceder a los datos de la plataforma subyacente, es decir, hardware, sistema operativo e información sobre la versión del intérprete.\n",
    "\n",
    "Existe también una función que puede mostrar todas las capas subyacentes en un solo vistazo, llamada *platform*. Simplemente devuelve una cadena que describe el entorno; por lo tanto, su salida está más dirigida a los humanos que al procesamiento automatizado (lo verás pronto).\n",
    "\n",
    "Así es como se puede invocar:"
   ]
  },
  {
   "cell_type": "code",
   "execution_count": null,
   "metadata": {},
   "outputs": [],
   "source": [
    "platform(aliased = False, terse = False)"
   ]
  },
  {
   "cell_type": "markdown",
   "metadata": {},
   "source": [
    "Y ahora:\n",
    "\n",
    "- *aliased* → cuando se establece a True (o cualquier valor distinto a cero) puede hacer que la función presente los nombres de capa subyacentes alternativos en lugar de los comunes.\n",
    "- *terse* → cuando se establece a True (o cualquier valor distinto a cero) puede convencer a la función de presentar una forma más breve del resultado (si lo fuera posible)."
   ]
  },
  {
   "cell_type": "code",
   "execution_count": 2,
   "metadata": {},
   "outputs": [
    {
     "name": "stdout",
     "output_type": "stream",
     "text": [
      "Windows-10-10.0.22621-SP0\n",
      "Windows-10-10.0.22621-SP0\n",
      "Windows-10\n"
     ]
    }
   ],
   "source": [
    "from platform import platform\n",
    "\n",
    "print(platform())\n",
    "print(platform(1))\n",
    "print(platform(0, 1))"
   ]
  },
  {
   "cell_type": "markdown",
   "metadata": {},
   "source": [
    "- *machine()* es una funcion que nos devuelve el nombre generico del procesador en el cual se ejecuta el el sistema operativo, python y el codigo.\n",
    "- *processor()* es una funcion que nos devuelve el nombre real del procesador.\n",
    "- *system()* devuelve el nombre generico del sistema operativo.\n",
    "- *version()* devuelve la version del sistema operativo.\n",
    "- *python_implementation()* devuelve una cadena que denota la implementación de Python (espera CPython aquí, a menos que decidas utilizar cualquier rama de Python no canónica).\n",
    "- *python_version_tuple()* devuelve una tupla de tres elementos la cual contiene:\n",
    "    - La parte mayor de la versión de Python.\n",
    "    - La parte menor.\n",
    "    - El número del nivel de parche"
   ]
  },
  {
   "cell_type": "code",
   "execution_count": 6,
   "metadata": {},
   "outputs": [
    {
     "name": "stdout",
     "output_type": "stream",
     "text": [
      "AMD64\n",
      "AMD64 Family 25 Model 80 Stepping 0, AuthenticAMD\n",
      "Windows\n",
      "10.0.22621\n",
      "CPython\n",
      "3\n",
      "11\n",
      "5\n"
     ]
    }
   ],
   "source": [
    "import platform\n",
    "\n",
    "print(platform.machine())\n",
    "print(platform.processor())\n",
    "print(platform.system())\n",
    "print(platform.version())\n",
    "print(platform.python_implementation())\n",
    "for i in platform.python_version_tuple():\n",
    "    print(i)\n"
   ]
  },
  {
   "cell_type": "markdown",
   "metadata": {},
   "source": [
    "### sys:\n",
    "\n",
    "Hay una variable especial (en realidad una lista) que almacena todas las ubicaciones (carpetas o directorios) que se buscan para encontrar un módulo que ha sido solicitado por la instrucción import.\n",
    "\n",
    "Python examina estas carpetas en el orden en que aparecen en la lista: si el módulo no se puede encontrar en ninguno de estos directorios, la importación falla.\n",
    "\n",
    "De lo contrario, se tomará en cuenta la primera carpeta que contenga un módulo con el nombre deseado (si alguna de las carpetas restantes contiene un módulo con ese nombre, se ignorará).\n",
    "\n",
    "La variable se llama *path* (ruta), y es accesible a través del módulo llamado sys. Así es como puedes verificar su valor:"
   ]
  },
  {
   "cell_type": "code",
   "execution_count": 8,
   "metadata": {},
   "outputs": [
    {
     "name": "stdout",
     "output_type": "stream",
     "text": [
      "c:\\Users\\andre\\Desktop\\GitHub\\Python\n",
      "c:\\Users\\andre\\AppData\\Local\\Programs\\Python\\Python311\\python311.zip\n",
      "c:\\Users\\andre\\AppData\\Local\\Programs\\Python\\Python311\\DLLs\n",
      "c:\\Users\\andre\\AppData\\Local\\Programs\\Python\\Python311\\Lib\n",
      "c:\\Users\\andre\\AppData\\Local\\Programs\\Python\\Python311\n",
      "\n",
      "C:\\Users\\andre\\AppData\\Roaming\\Python\\Python311\\site-packages\n",
      "C:\\Users\\andre\\AppData\\Roaming\\Python\\Python311\\site-packages\\win32\n",
      "C:\\Users\\andre\\AppData\\Roaming\\Python\\Python311\\site-packages\\win32\\lib\n",
      "C:\\Users\\andre\\AppData\\Roaming\\Python\\Python311\\site-packages\\Pythonwin\n",
      "c:\\Users\\andre\\AppData\\Local\\Programs\\Python\\Python311\\Lib\\site-packages\n"
     ]
    }
   ],
   "source": [
    "import sys\n",
    "\n",
    "for p in sys.path:\n",
    "    print(p)"
   ]
  },
  {
   "cell_type": "markdown",
   "metadata": {},
   "source": [
    "## Cadenas:\n",
    "\n",
    "### Operaciones con cadenas:\n",
    "\n",
    "Los caracteres en Python tambien pueden verse modificados mediante algunos operadores: '+' que puede unir cadenas y '*' que es capaz de replicar la cadena n veces.\n",
    "\n",
    "#### Funcion ord():\n",
    "\n",
    "Esta funcion devuelve el valor punto codigo de un determinado caracter ASCII/UNICODE:"
   ]
  },
  {
   "cell_type": "code",
   "execution_count": 1,
   "metadata": {},
   "outputs": [
    {
     "name": "stdout",
     "output_type": "stream",
     "text": [
      "97\n",
      "32\n"
     ]
    }
   ],
   "source": [
    "caracter1='a'\n",
    "caracter2=' '\n",
    "\n",
    "print(ord(caracter1))\n",
    "print(ord(caracter2))"
   ]
  },
  {
   "cell_type": "markdown",
   "metadata": {},
   "source": [
    "#### Funcion chr():\n",
    "\n",
    "Esta funcion devuelve el caracter correspondiente a un determinado valor punto codigo en ASCII/UNICODE:"
   ]
  },
  {
   "cell_type": "code",
   "execution_count": 3,
   "metadata": {},
   "outputs": [
    {
     "name": "stdout",
     "output_type": "stream",
     "text": [
      "a\n",
      " \n"
     ]
    }
   ],
   "source": [
    "print(chr(97))\n",
    "print(chr(32))"
   ]
  },
  {
   "cell_type": "markdown",
   "metadata": {},
   "source": [
    "#### Funcion min():\n",
    "\n",
    "Esta función encuentra el elemento mínimo de la secuencia pasada como argumento. Existe una condición, la secuencia (cadena o lista) no puede estar vacía, de lo contrario obtendrás una excepción ValueError."
   ]
  },
  {
   "cell_type": "code",
   "execution_count": 6,
   "metadata": {},
   "outputs": [
    {
     "name": "stdout",
     "output_type": "stream",
     "text": [
      "A\n",
      "[ ]\n",
      "0\n"
     ]
    }
   ],
   "source": [
    "# Demonstración de min() - Ejemplo 1:\n",
    "print(min(\"aAbByYzZ\"))\n",
    "\n",
    "\n",
    "# Demonstración de min() - Ejemplos 2 y 3:\n",
    "t = 'Los Caballeros Que Dicen \"Ni!\"'\n",
    "print('[' + min(t) + ']')\n",
    "\n",
    "t = [0, 1, 2]\n",
    "print(min(t))\n"
   ]
  },
  {
   "cell_type": "markdown",
   "metadata": {},
   "source": [
    "#### Funcion max():\n",
    "\n",
    "La función llamada max() encuentra el elemento máximo de la secuencia."
   ]
  },
  {
   "cell_type": "code",
   "execution_count": 7,
   "metadata": {},
   "outputs": [
    {
     "name": "stdout",
     "output_type": "stream",
     "text": [
      "z\n",
      "[u]\n",
      "2\n"
     ]
    }
   ],
   "source": [
    "# Demostración de max() - Ejemplo 1:\n",
    "print(max(\"aAbByYzZ\"))\n",
    "\n",
    "\n",
    "# Demostración de max() - Ejemplo 2 y 3:\n",
    "t = 'Los Caballeros Que Dicen \"Ni!\"'\n",
    "print('[' + max(t) + ']')\n",
    "\n",
    "t = [0, 1, 2]\n",
    "print(max(t))\n"
   ]
  },
  {
   "cell_type": "markdown",
   "metadata": {},
   "source": [
    "#### Funcion list():\n",
    "\n",
    "La función list() toma su argumento (una cadena) y crea una nueva lista que contiene todos los caracteres de la cadena, uno por elemento de la lista. No es estrictamente una función de cadenas, list() es capaz de crear una nueva lista de muchas otras entidades (por ejemplo, de tuplas y diccionarios)."
   ]
  },
  {
   "cell_type": "code",
   "execution_count": 9,
   "metadata": {},
   "outputs": [
    {
     "name": "stdout",
     "output_type": "stream",
     "text": [
      "['a', 'b', 'c', 'a', 'b', 'c']\n"
     ]
    }
   ],
   "source": [
    "# Demostración de la función list():\n",
    "print(list(\"abcabc\"))"
   ]
  },
  {
   "cell_type": "markdown",
   "metadata": {},
   "source": [
    "### Metodos en cadenas\n",
    "\n",
    "#### El metodo *capitalize()*\n",
    "\n",
    "Crea una nueva cadena con los caracteres tomados de la cadena fuente, pero intenta modificarlos de la siguiente manera:\n",
    "\n",
    "- Si el primer carácter dentro de la cadena es una letra (nota: el primer carácter es el elemento con un índice igual a 0, no es el primer carácter visible), se convertirá a mayúsculas.\n",
    "- Todas las letras restantes de la cadena se convertirán a minúsculas.\n",
    "\n",
    "No olvides que:\n",
    "\n",
    "La cadena original desde la cual se invoca el método no se cambia de ninguna manera, la inmutabilidad de una cadena debe obedecerse sin reservas. La cadena modificada (en mayúscula en este caso) se devuelve como resultado; si no se usa de alguna manera (asígnala a una variable o pásala a una función/método) desaparecerá sin dejar rastro.\n",
    "\n",
    "Nota: los métodos no tienen que invocarse solo dentro de las variables. Se pueden invocar directamente desde dentro de literales de cadena."
   ]
  },
  {
   "cell_type": "code",
   "execution_count": 2,
   "metadata": {},
   "outputs": [
    {
     "name": "stdout",
     "output_type": "stream",
     "text": [
      "Alpha\n",
      "Alpha\n",
      " alpha\n",
      "123\n",
      "Αβγδ\n"
     ]
    }
   ],
   "source": [
    "print(\"Alpha\".capitalize())\n",
    "print('ALPHA'.capitalize())\n",
    "print(' Alpha'.capitalize())\n",
    "print('123'.capitalize())\n",
    "print(\"αβγδ\".capitalize())"
   ]
  },
  {
   "cell_type": "markdown",
   "metadata": {},
   "source": [
    "#### El metodo *center()*\n",
    "\n",
    "La variante de un parámetro del método center() genera una copia de la cadena original, tratando de centrarla dentro de un campo de un ancho especificado. El centrado se realiza realmente al agregar algunos espacios antes y después de la cadena. Si la longitud del campo es más pequeña que la cadena, se devuelve la cadena original."
   ]
  },
  {
   "cell_type": "code",
   "execution_count": 3,
   "metadata": {},
   "outputs": [
    {
     "name": "stdout",
     "output_type": "stream",
     "text": [
      "[Beta]\n",
      "[Beta]\n",
      "[ Beta ]\n"
     ]
    }
   ],
   "source": [
    "print('[' + 'Beta'.center(2) + ']')\n",
    "print('[' + 'Beta'.center(4) + ']')\n",
    "print('[' + 'Beta'.center(6) + ']')"
   ]
  },
  {
   "cell_type": "markdown",
   "metadata": {},
   "source": [
    "La variante de dos parámetros de center() hace uso del carácter del segundo argumento, en lugar de un espacio."
   ]
  },
  {
   "cell_type": "code",
   "execution_count": 4,
   "metadata": {},
   "outputs": [
    {
     "name": "stdout",
     "output_type": "stream",
     "text": [
      "[*******gamma********]\n"
     ]
    }
   ],
   "source": [
    "print('[' + 'gamma'.center(20, '*') + ']')"
   ]
  },
  {
   "cell_type": "markdown",
   "metadata": {},
   "source": [
    "#### El metodo count()\n",
    "\n",
    "El método count() cuenta todas las apariciones del elemento dentro de la secuencia. La ausencia de tal elemento no causa ningún problema."
   ]
  },
  {
   "cell_type": "code",
   "execution_count": 1,
   "metadata": {},
   "outputs": [
    {
     "name": "stdout",
     "output_type": "stream",
     "text": [
      "2\n",
      "0\n"
     ]
    }
   ],
   "source": [
    "# Demostración del método count():\n",
    "print(\"abcabc\".count(\"b\"))\n",
    "print('abcabc'.count(\"d\"))"
   ]
  },
  {
   "cell_type": "markdown",
   "metadata": {},
   "source": [
    "#### El metodo endswith()\n",
    "\n",
    "Este metodo comprueba si una cadena termina con una determinada combinacion de caracteres y devuelve True o False."
   ]
  },
  {
   "cell_type": "code",
   "execution_count": 1,
   "metadata": {},
   "outputs": [
    {
     "name": "stdout",
     "output_type": "stream",
     "text": [
      "True\n",
      "False\n",
      "False\n",
      "True\n"
     ]
    }
   ],
   "source": [
    "t = \"zeta\"\n",
    "print(t.endswith(\"a\"))\n",
    "print(t.endswith(\"A\"))\n",
    "print(t.endswith(\"et\"))\n",
    "print(t.endswith(\"eta\"))"
   ]
  },
  {
   "cell_type": "markdown",
   "metadata": {},
   "source": [
    "#### El metodo find()\n",
    "\n",
    "Es similar al método index(), busca una subcadena y devuelve el índice de la primera aparición de esta subcadena, pero es más seguro, no genera un error para un argumento que contiene una subcadena inexistente (devuelve -1 en dicho caso) y funciona solo con cadenas, no intentes aplicarlo a ninguna otra secuencia."
   ]
  },
  {
   "cell_type": "code",
   "execution_count": 2,
   "metadata": {},
   "outputs": [
    {
     "name": "stdout",
     "output_type": "stream",
     "text": [
      "2\n",
      "2\n",
      "0\n",
      "-1\n"
     ]
    }
   ],
   "source": [
    "t = 'theta'\n",
    "print(t.find('eta'))\n",
    "print(t.find('et'))\n",
    "print(t.find('the'))\n",
    "print(t.find('ha'))"
   ]
  },
  {
   "cell_type": "markdown",
   "metadata": {},
   "source": [
    "Para inicial la busqueda desde cualquier otro punto de la cadena se puede usar un segundo argumento:"
   ]
  },
  {
   "cell_type": "code",
   "execution_count": 3,
   "metadata": {},
   "outputs": [
    {
     "name": "stdout",
     "output_type": "stream",
     "text": [
      "4\n"
     ]
    }
   ],
   "source": [
    "print('kappa'.find('a', 2))"
   ]
  },
  {
   "cell_type": "code",
   "execution_count": 4,
   "metadata": {},
   "outputs": [
    {
     "name": "stdout",
     "output_type": "stream",
     "text": [
      "15\n",
      "80\n",
      "198\n",
      "221\n",
      "238\n"
     ]
    }
   ],
   "source": [
    "the_text = \"\"\"A variation of the ordinary lorem ipsum\n",
    "text has been used in typesetting since the 1960s \n",
    "or earlier, when it was popularized by advertisements \n",
    "for Letraset transfer sheets. It was introduced to \n",
    "the Information Age in the mid-1980s by the Aldus Corporation, \n",
    "which employed it in graphics and word-processing templates\n",
    "for its desktop publishing program PageMaker (from Wikipedia)\"\"\"\n",
    "\n",
    "fnd = the_text.find('the')\n",
    "while fnd != -1:\n",
    "    print(fnd)\n",
    "    fnd = the_text.find('the', fnd + 1)"
   ]
  },
  {
   "cell_type": "markdown",
   "metadata": {},
   "source": [
    "Existe también una mutación de tres parámetros del método find(), el tercer argumento apunta al primer índice que no se tendrá en cuenta durante la búsqueda (en realidad es el límite superior de la búsqueda)."
   ]
  },
  {
   "cell_type": "code",
   "execution_count": 5,
   "metadata": {},
   "outputs": [
    {
     "name": "stdout",
     "output_type": "stream",
     "text": [
      "1\n",
      "-1\n"
     ]
    }
   ],
   "source": [
    "print('kappa'.find('a', 1, 4))\n",
    "print('kappa'.find('a', 2, 4))"
   ]
  },
  {
   "cell_type": "markdown",
   "metadata": {},
   "source": [
    "#### El método index()\n",
    "\n",
    "El método index() busca la secuencia desde el principio, para encontrar el primer elemento del valor especificado en su argumento.\n",
    "\n",
    "El método devuelve el índice de la primera aparición del argumento (lo que significa que el resultado más bajo posible es 0, mientras que el más alto es la longitud del argumento decrementado en 1)."
   ]
  },
  {
   "cell_type": "code",
   "execution_count": 8,
   "metadata": {},
   "outputs": [
    {
     "name": "stdout",
     "output_type": "stream",
     "text": [
      "2\n",
      "7\n",
      "1\n"
     ]
    }
   ],
   "source": [
    "# Demonstración del método index() method:\n",
    "print(\"aAbByYzZaA\".index(\"b\"))\n",
    "print(\"aAbByYzZaA\".index(\"Z\"))\n",
    "print(\"aAbByYzZaA\".index(\"A\"))"
   ]
  },
  {
   "cell_type": "markdown",
   "metadata": {},
   "source": [
    "#### El metodo isalnum()\n",
    "\n",
    "El método sin parámetros llamado isalnum() comprueba si la cadena contiene solo dígitos o caracteres alfabéticos (letras) y devuelve True (verdadero) o False (falso) de acuerdo al resultado."
   ]
  },
  {
   "cell_type": "code",
   "execution_count": 6,
   "metadata": {},
   "outputs": [
    {
     "name": "stdout",
     "output_type": "stream",
     "text": [
      "True\n",
      "True\n",
      "True\n",
      "False\n",
      "False\n",
      "False\n"
     ]
    }
   ],
   "source": [
    "# Demostración del método isalnum():\n",
    "print('lambda30'.isalnum())\n",
    "print('lambda'.isalnum())\n",
    "print('30'.isalnum())\n",
    "print('@'.isalnum())\n",
    "print('lambda_30'.isalnum())\n",
    "print(''.isalnum())"
   ]
  },
  {
   "cell_type": "markdown",
   "metadata": {},
   "source": [
    "#### El metodo isalpha():\n",
    "\n",
    "El método isalpha() es más especializado, se interesa en letras solamente."
   ]
  },
  {
   "cell_type": "code",
   "execution_count": 33,
   "metadata": {},
   "outputs": [
    {
     "name": "stdout",
     "output_type": "stream",
     "text": [
      "True\n",
      "False\n"
     ]
    }
   ],
   "source": [
    "# Ejemplo: Demostración del método isalpha():\n",
    "print(\"Moooo\".isalpha())\n",
    "print('Mu40 4e'.isalpha())"
   ]
  },
  {
   "cell_type": "markdown",
   "metadata": {},
   "source": [
    "#### El metodo isdigit()\n",
    "\n",
    "Al contrario, el método isdigit() busca solo dígitos, cualquier otra cosa produce False (falso) como resultado."
   ]
  },
  {
   "cell_type": "code",
   "execution_count": 8,
   "metadata": {},
   "outputs": [
    {
     "name": "stdout",
     "output_type": "stream",
     "text": [
      "True\n",
      "False\n"
     ]
    }
   ],
   "source": [
    "# Ejemplo: Demostración del método isdigit():\n",
    "print('2018'.isdigit())\n",
    "print(\"Year2019\".isdigit())"
   ]
  },
  {
   "cell_type": "markdown",
   "metadata": {},
   "source": [
    "#### El metodo islower()\n",
    "\n",
    "El método islower() es una variante de isalpha(), solo acepta letras minúsculas."
   ]
  },
  {
   "cell_type": "code",
   "execution_count": 9,
   "metadata": {},
   "outputs": [
    {
     "name": "stdout",
     "output_type": "stream",
     "text": [
      "False\n",
      "True\n"
     ]
    }
   ],
   "source": [
    "# Ejemplo: Demostración del método islower():\n",
    "print(\"Moooo\".islower())\n",
    "print('moooo'.islower())"
   ]
  },
  {
   "cell_type": "markdown",
   "metadata": {},
   "source": [
    "#### El metodo isspace()\n",
    "\n",
    "El método isspace() identifica espacios en blanco solamente, no tiene en cuenta ningún otro carácter (el resultado es entonces False)."
   ]
  },
  {
   "cell_type": "code",
   "execution_count": 10,
   "metadata": {},
   "outputs": [
    {
     "name": "stdout",
     "output_type": "stream",
     "text": [
      "True\n",
      "True\n",
      "False\n"
     ]
    }
   ],
   "source": [
    "# Ejemplo: Demostración del método isspace():\n",
    "print(' \\n '.isspace())\n",
    "print(\" \".isspace())\n",
    "print(\"mooo mooo mooo\".isspace())"
   ]
  },
  {
   "cell_type": "markdown",
   "metadata": {},
   "source": [
    "#### El metodo isupper()\n",
    "\n",
    "El método isupper() es la versión en mayúscula de islower(), se concentra solo en letras mayúsculas."
   ]
  },
  {
   "cell_type": "code",
   "execution_count": 11,
   "metadata": {},
   "outputs": [
    {
     "name": "stdout",
     "output_type": "stream",
     "text": [
      "False\n",
      "False\n",
      "True\n"
     ]
    }
   ],
   "source": [
    "# Ejemplo: Demostración del método isupper():\n",
    "print(\"Moooo\".isupper())\n",
    "print('moooo'.isupper())\n",
    "print('MOOOO'.isupper())"
   ]
  },
  {
   "cell_type": "markdown",
   "metadata": {},
   "source": [
    "#### El metodo join()\n",
    "\n",
    "Como su nombre lo indica, el método realiza una unión y espera un argumento del tipo lista; se debe asegurar que todos los elementos de la lista sean cadenas, de lo contrario, el método generará una excepción TypeError.\n",
    "\n",
    "Todos los elementos de la lista serán unidos en una sola cadena pero la cadena desde la que se ha invocado el método será utilizada como separador, puesta entre las cadenas.\n",
    "La cadena recién creada se devuelve como resultado."
   ]
  },
  {
   "cell_type": "code",
   "execution_count": 12,
   "metadata": {},
   "outputs": [
    {
     "name": "stdout",
     "output_type": "stream",
     "text": [
      "omicron,pi,rho\n"
     ]
    }
   ],
   "source": [
    "# Demostración del método join():\n",
    "print(\",\".join([\"omicron\", \"pi\", \"rho\"]))"
   ]
  },
  {
   "cell_type": "markdown",
   "metadata": {},
   "source": [
    "#### El metodo lower()\n",
    "\n",
    "El método lower() genera una copia de una cadena, reemplaza todas las letras mayúsculas con sus equivalentes en minúsculas, y devuelve la cadena como resultado. Nuevamente, la cadena original permanece intacta."
   ]
  },
  {
   "cell_type": "code",
   "execution_count": 13,
   "metadata": {},
   "outputs": [
    {
     "name": "stdout",
     "output_type": "stream",
     "text": [
      "sigma=60\n"
     ]
    }
   ],
   "source": [
    "# Demostración del método lower():\n",
    "print(\"SiGmA=60\".lower())"
   ]
  },
  {
   "cell_type": "markdown",
   "metadata": {},
   "source": [
    "#### El metodo lstrip()\n",
    "\n",
    "El método sin parámetros lstrip() devuelve una cadena recién creada formada a partir de la original eliminando todos los espacios en blanco iniciales."
   ]
  },
  {
   "cell_type": "code",
   "execution_count": 14,
   "metadata": {},
   "outputs": [
    {
     "name": "stdout",
     "output_type": "stream",
     "text": [
      "[tau ]\n"
     ]
    }
   ],
   "source": [
    "# Demostración del método lstrip():\n",
    "print(\"[\" + \" tau \".lstrip() + \"]\")"
   ]
  },
  {
   "cell_type": "markdown",
   "metadata": {},
   "source": [
    "El meoto lstrip() con un argumento elimina todos los argumentos dentro de la cadena que esten al comienzo del argumento."
   ]
  },
  {
   "cell_type": "code",
   "execution_count": 16,
   "metadata": {},
   "outputs": [
    {
     "name": "stdout",
     "output_type": "stream",
     "text": [
      "cisco.com\n",
      "o.com\n"
     ]
    }
   ],
   "source": [
    "print(\"www.cisco.com\".lstrip(\"w.\"))\n",
    "print(\"www.cisco.com\".lstrip(\"w.cis\"))"
   ]
  },
  {
   "cell_type": "markdown",
   "metadata": {},
   "source": [
    "#### El metodo replace()\n",
    "\n",
    "El método replace() con dos parámetros devuelve una copia de la cadena original en la que todas las apariciones del primer argumento han sido reemplazadas por el segundo argumento."
   ]
  },
  {
   "cell_type": "code",
   "execution_count": 17,
   "metadata": {},
   "outputs": [
    {
     "name": "stdout",
     "output_type": "stream",
     "text": [
      "www.pythoninstitute.org\n",
      "Thare are it!\n",
      "Apple \n"
     ]
    }
   ],
   "source": [
    "# Demostración del método replace():\n",
    "print(\"www.netacad.com\".replace(\"netacad.com\", \"pythoninstitute.org\"))\n",
    "print(\"This is it!\".replace(\"is\", \"are\"))\n",
    "print(\"Apple juice\".replace(\"juice\", \"\"))"
   ]
  },
  {
   "cell_type": "markdown",
   "metadata": {},
   "source": [
    "La variante del método replace() con tres parámetros emplea un tercer argumento (un número) para limitar el número de reemplazos."
   ]
  },
  {
   "cell_type": "code",
   "execution_count": 18,
   "metadata": {},
   "outputs": [
    {
     "name": "stdout",
     "output_type": "stream",
     "text": [
      "Thare is it!\n",
      "Thare are it!\n"
     ]
    }
   ],
   "source": [
    "print(\"This is it!\".replace(\"is\", \"are\", 1))\n",
    "print(\"This is it!\".replace(\"is\", \"are\", 2))"
   ]
  },
  {
   "cell_type": "markdown",
   "metadata": {},
   "source": [
    "#### El metodo rfind()\n",
    "\n",
    "Los métodos de uno, dos y tres parámetros denominados rfind() hacen casi lo mismo que sus contrapartes (las que carecen del prefijo r), pero comienzan sus búsquedas desde el final de la cadena, no el principio."
   ]
  },
  {
   "cell_type": "code",
   "execution_count": 19,
   "metadata": {},
   "outputs": [
    {
     "name": "stdout",
     "output_type": "stream",
     "text": [
      "8\n",
      "-1\n",
      "4\n"
     ]
    }
   ],
   "source": [
    "# Demostración del método rfind():\n",
    "print(\"tau tau tau\".rfind(\"ta\"))\n",
    "print(\"tau tau tau\".rfind(\"ta\", 9))\n",
    "print(\"tau tau tau\".rfind(\"ta\", 3, 9))"
   ]
  },
  {
   "cell_type": "markdown",
   "metadata": {},
   "source": [
    "#### El metodo rstrip()\n",
    "\n",
    "Dos variantes del método rstrip() hacen casi lo mismo que el método lstrip, pero afecta el lado opuesto de la cadena."
   ]
  },
  {
   "cell_type": "code",
   "execution_count": 22,
   "metadata": {},
   "outputs": [
    {
     "name": "stdout",
     "output_type": "stream",
     "text": [
      "[ upsilon]\n",
      "cisco.c\n"
     ]
    }
   ],
   "source": [
    "# Demostración del método rstrip():\n",
    "print(\"[\" + \" upsilon \".rstrip() + \"]\")\n",
    "print(\"cisco.com\".rstrip(\"om\"))"
   ]
  },
  {
   "cell_type": "markdown",
   "metadata": {},
   "source": [
    "#### El metodo split()\n",
    "\n",
    "El método split() divide la cadena y crea una lista de todas las subcadenas detectadas.\n",
    "\n",
    "El método asume que las subcadenas están delimitadas por espacios en blanco, los espacios no participan en la operación y no se copian en la lista resultante.\n",
    "\n",
    "Si la cadena está vacía, la lista resultante también está vacía."
   ]
  },
  {
   "cell_type": "code",
   "execution_count": 34,
   "metadata": {},
   "outputs": [
    {
     "name": "stdout",
     "output_type": "stream",
     "text": [
      "['phi', 'chi', 'psi']\n",
      "['mi', 'casa', 'es', 'preciosa']\n"
     ]
    }
   ],
   "source": [
    "# Demostración del método split():\n",
    "casa='mi casa es preciosa'\n",
    "print(\"phi       chi\\npsi\".split())\n",
    "print(casa.split())\n"
   ]
  },
  {
   "cell_type": "markdown",
   "metadata": {},
   "source": [
    "#### El metodo startswith()\n",
    "\n",
    "El método startswith() es un espejo del método endswith(), comprueba si una cadena dada comienza con la subcadena especificada."
   ]
  },
  {
   "cell_type": "code",
   "execution_count": 24,
   "metadata": {},
   "outputs": [
    {
     "name": "stdout",
     "output_type": "stream",
     "text": [
      "False\n",
      "True\n",
      "\n"
     ]
    }
   ],
   "source": [
    "# Demostración del método startswith():\n",
    "print(\"omega\".startswith(\"meg\"))\n",
    "print(\"omega\".startswith(\"om\"))\n",
    "\n",
    "print()"
   ]
  },
  {
   "cell_type": "markdown",
   "metadata": {},
   "source": [
    "#### El metodo strip()\n",
    "\n",
    "El método strip() combina los efectos causados por rstrip() y lstrip(), crea una nueva cadena que carece de todos los espacios en blanco iniciales y finales."
   ]
  },
  {
   "cell_type": "code",
   "execution_count": 25,
   "metadata": {},
   "outputs": [
    {
     "name": "stdout",
     "output_type": "stream",
     "text": [
      "[aleph]\n"
     ]
    }
   ],
   "source": [
    "# Demostración del método strip():\n",
    "print(\"[\" + \"   aleph   \".strip() + \"]\")"
   ]
  },
  {
   "cell_type": "markdown",
   "metadata": {},
   "source": [
    "#### El metodo swapcase()\n",
    "\n",
    "Crea una nueva cadena intercambiando todas las letras por mayúsculas o minúsculas dentro de la cadena original: los caracteres en mayúscula se convierten en minúsculas y viceversa."
   ]
  },
  {
   "cell_type": "code",
   "execution_count": 27,
   "metadata": {},
   "outputs": [
    {
     "name": "stdout",
     "output_type": "stream",
     "text": [
      "yO SOLO SÉ QUE NO SÉ NADA\n"
     ]
    }
   ],
   "source": [
    "# Demostración del método swapcase():\n",
    "print(\"Yo solo sé que no sé nada\".swapcase())"
   ]
  },
  {
   "cell_type": "markdown",
   "metadata": {},
   "source": [
    "#### El metodo title()\n",
    "\n",
    "Realiza una función algo similar cambia la primera letra de cada palabra a mayúsculas, convirtiendo todas las demás a minúsculas."
   ]
  },
  {
   "cell_type": "code",
   "execution_count": 28,
   "metadata": {},
   "outputs": [
    {
     "name": "stdout",
     "output_type": "stream",
     "text": [
      "Yo Solo Sé Que No Sé Nada. Parte 1.\n"
     ]
    }
   ],
   "source": [
    "# Demostración del método title():\n",
    "print(\"Yo solo sé que no sé nada. Parte 1.\".title())"
   ]
  },
  {
   "cell_type": "markdown",
   "metadata": {},
   "source": [
    "#### El metodo upper()\n",
    "\n",
    "Hace una copia de la cadena de origen, reemplaza todas las letras minúsculas con sus equivalentes en mayúsculas, y devuelve la cadena como resultado."
   ]
  },
  {
   "cell_type": "code",
   "execution_count": 29,
   "metadata": {},
   "outputs": [
    {
     "name": "stdout",
     "output_type": "stream",
     "text": [
      "YO SOLO SÉ QUE NO SÉ NADA. PARTE 2.\n"
     ]
    }
   ],
   "source": [
    "# Demostración del método upper():\n",
    "print(\"Yo solo sé que no sé nada. Parte 2.\".upper())"
   ]
  },
  {
   "cell_type": "markdown",
   "metadata": {},
   "source": [
    "La lista completa de las funcions y metodos para las cadenas esta aqui: https://docs.python.org/3.4/library/stdtypes.html#string-methods."
   ]
  },
  {
   "cell_type": "markdown",
   "metadata": {},
   "source": [
    "### Los operadores *int* y *not in*\n",
    "\n",
    "El operador *in* no debería sorprenderte cuando se aplica a cadenas, simplemente comprueba si el argumento izquierdo (una cadena) se puede encontrar en cualquier lugar dentro del argumento derecho (otra cadena)."
   ]
  },
  {
   "cell_type": "code",
   "execution_count": 4,
   "metadata": {},
   "outputs": [
    {
     "name": "stdout",
     "output_type": "stream",
     "text": [
      "True\n"
     ]
    }
   ],
   "source": [
    "print(\"i\" in \"Laberinto\")"
   ]
  },
  {
   "cell_type": "markdown",
   "metadata": {},
   "source": [
    "Como probablemente puedas deducir, el operador *not in* también es aplicable aquí."
   ]
  },
  {
   "cell_type": "code",
   "execution_count": 1,
   "metadata": {},
   "outputs": [
    {
     "name": "stdout",
     "output_type": "stream",
     "text": [
      "True\n"
     ]
    }
   ],
   "source": [
    "print(\"g\" not in \"Laberinto\")"
   ]
  },
  {
   "cell_type": "markdown",
   "metadata": {},
   "source": [
    "### Las cadenas son inmutables:\n",
    "\n",
    "Esto significa principalmente que la similitud de cadenas y listas es limitada. No todo lo que puede hacerse con una lista puede hacerse con una cadena.\n",
    "\n",
    "La primera diferencia importante no te permite usar la instrucción *del* para eliminar cualquier cosa de una cadena. Lo único que puedes hacer con *del* y una cadena es eliminar la cadena como un todo. \n",
    "\n",
    "Las cadenas de Python no tienen el método *append()* o *insert()* - no se pueden expander de ninguna manera."
   ]
  },
  {
   "cell_type": "markdown",
   "metadata": {},
   "source": [
    "### Ordenamiento en cadenas\n",
    "\n",
    "Existen dos metodos, uno que emplea una funcion y el otro emplea un metodo. La funcion *sorted()* que toma una lista inicial y devuelve una lista ordenada nueva, no alterando la inicial. El metodo *sort()* realiza la misma operacion pero modifica la lista original, no genera una nueva lista."
   ]
  },
  {
   "cell_type": "code",
   "execution_count": 1,
   "metadata": {},
   "outputs": [
    {
     "name": "stdout",
     "output_type": "stream",
     "text": [
      "['omega', 'alpha', 'pi', 'gamma']\n",
      "['alpha', 'gamma', 'omega', 'pi']\n",
      "['omega', 'alpha', 'pi', 'gamma']\n",
      "['alpha', 'gamma', 'omega', 'pi']\n"
     ]
    }
   ],
   "source": [
    "# Demostración de la función sorted():\n",
    "first_greek = ['omega', 'alpha', 'pi', 'gamma']\n",
    "first_greek_2 = sorted(first_greek)\n",
    "\n",
    "print(first_greek)\n",
    "print(first_greek_2)\n",
    "\n",
    "# Demostración del método sort():\n",
    "second_greek = ['omega', 'alpha', 'pi', 'gamma']\n",
    "print(second_greek)\n",
    "\n",
    "second_greek.sort()\n",
    "print(second_greek)"
   ]
  },
  {
   "cell_type": "markdown",
   "metadata": {},
   "source": []
  },
  {
   "cell_type": "markdown",
   "metadata": {},
   "source": [
    "La biblioteca pandas es muy usada para manejar estructuras de datos y herramientas para el analisis y manipulacion de datos tabulares:"
   ]
  },
  {
   "cell_type": "code",
   "execution_count": 12,
   "metadata": {},
   "outputs": [
    {
     "name": "stdout",
     "output_type": "stream",
     "text": [
      "    Name  Age\n",
      "0   Juan   20\n",
      "1  Pedro   21\n",
      "2  Lucas   29\n"
     ]
    }
   ],
   "source": [
    "import pandas as pd\n",
    "\n",
    "data = {\"Name\":[\"Juan\", \"Pedro\", \"Lucas\"], \"Age\":[20,21,29]}\n",
    "\n",
    "df=pd.DataFrame(data)\n",
    "\n",
    "print(df)"
   ]
  },
  {
   "cell_type": "markdown",
   "metadata": {},
   "source": [
    "Otra biblioteca muy usada es matplotlib que permite generar graficas en python:"
   ]
  },
  {
   "cell_type": "code",
   "execution_count": 15,
   "metadata": {},
   "outputs": [
    {
     "data": {
      "image/png": "[encoded data removed]",
      "text/plain": [
       "<Figure size 640x480 with 1 Axes>"
      ]
     },
     "metadata": {},
     "output_type": "display_data"
    }
   ],
   "source": [
    "import matplotlib.pyplot as plt\n",
    "\n",
    "plt.plot([1,2,3,4,5])\n",
    "plt.ylabel(\"Algunos numeros\")\n",
    "plt.show()"
   ]
  },
  {
   "cell_type": "markdown",
   "metadata": {},
   "source": [
    "## Migracion de base de datos\n",
    "\n",
    "Es el proceso de trasladar bases de datos de un sistema a otro, por lo general estan escritas en SQL.\n",
    "\n",
    "## Frameworks para el desarrollo de interfaces en Web\n",
    "\n",
    "Los frameworks para interfaces son herramientas que permiten a los programadores crear aplicaciones y sitios web de una manera rapida, edificiente y profesional. Estos frameworks proporcionan una estructura y un conjunto de herramienta spredefinidas que simplican los procesos de diseño y desarrollo de interfaces Web.\n",
    "\n",
    "Algunos de los frameworks mas usados son: Bootstrap, Materialize, Semantic UI, Foundation, Vue.js.\n",
    "\n",
    "Debemos tener algunas consideraciones al momento de elegir un framework:\n",
    "\n",
    "1. Tamaño y rendimiento, segun el rendimiento deseado en la aplicacion.\n",
    "2. Flexibilidad y personalizacion, segun las necesidades especificas de diseño.\n",
    "3. Documentacion y cominudad: para tener en cuenta la actualizacion y soporte de problemas que tenga el framework.\n",
    "4. Compatibilidad con proyectos existentes.\n",
    "\n",
    "## Conexiones a bases de datos\n",
    "\n",
    "EnPython, podemos conectar y manipular bases de datos utilizando bibliotecas específicas que proporcionan interfaces sencillas y eficientes. Para conectarnos a una base de datos en Python, necesitamos utilizar una biblioteca específica que admita el motor de base de datos que estamos utilizando. Algunas bibliotecas populares para la conexión a bases de datos en Python son sqlite3, MySQL Connector, psycopg2 (para PostgreSQL), entre otras. A continuación, presentaremos un ejemplo utilizando sqlite3:"
   ]
  },
  {
   "cell_type": "code",
   "execution_count": null,
   "metadata": {},
   "outputs": [],
   "source": [
    "import sqlite3\n",
    "\n",
    "#Establece una conexion a la base de datos\n",
    "conexion = sqlite3.connect(\"basedatos.db\")\n",
    "\n",
    "#Realiza operaciones en la base de datos\n",
    "\n",
    "#Cerrar la conecion a la base de datos\n",
    "conexion.close()"
   ]
  },
  {
   "cell_type": "markdown",
   "metadata": {},
   "source": [
    "Una vez establecida la conexión a la base de datos, podemos realizar consultas y manipulaciones de datos utilizando sentencias SQL. A continuación, presentaremos un ejemplo básico de consulta utilizando sqlite3:"
   ]
  },
  {
   "cell_type": "code",
   "execution_count": null,
   "metadata": {},
   "outputs": [],
   "source": [
    "import sqlite3\n",
    "\n",
    "#Establece una conexion a la base de datos\n",
    "conexion = sqlite3.connect('basedatos.db')\n",
    "\n",
    "#Crear un cursor para ejecutar las consultas\n",
    "\n",
    "cursor= conexion.cursor()\n",
    "\n",
    "#Ejecuta una consulta SELECT\n",
    "cursor.execute('SELECT * FROM usuarios')\n",
    "\n",
    "#Obtener los resultados de la consulta\n",
    "resultados = cursor.fetchall()\n",
    "\n",
    "#Mostrar los resultados\n",
    "for resultado in resultados:\n",
    "    print(resultado)\n",
    "\n",
    "#Cerrar el cursor y la base de datos\n",
    "cursor.close()\n",
    "conexion.close()"
   ]
  },
  {
   "cell_type": "markdown",
   "metadata": {},
   "source": [
    "## Bibliotecas ORM\n",
    "\n",
    "Además de trabajar directamente con sentencias SQL, también existen bibliotecas ORM (Object-Relational Mapping) en Python que simplifican el acceso y manipulación de datos en bases de datos.\n",
    "\n",
    "Estas bibliotecas mapean las tablas de la base de datos a objetos en Python, lo que facilita la manipulación de los datos. Ejemplos de bibliotecas ORM populares son SQLAlchemy y Django ORM.\n",
    "La conexión a bases de datos en Python nos permite acceder y manipular datos de manera eficiente. Utilizando las bibliotecas adecuadas, podemos establecer conexiones a bases de datos, realizar consultas y modificar los datos almacenados en ellas.\n",
    "\n",
    "Ya sea trabajando con sentencias SQL directamente o utilizando bibliotecas ORM, Python nos brinda herramientas poderosas para interactuar con bases de datos. ¡Anímate a explorar y experimentar con la conexión a bases de datos en Python y amplía tus habilidades de programación!"
   ]
  },
  {
   "cell_type": "code",
   "execution_count": null,
   "metadata": {},
   "outputs": [],
   "source": [
    "my_list = [1, 2, 4, 4, 1, 4, 2, 6, 2, 9]\n",
    "i=0\n",
    "while i<=len(my_list):\n",
    "    if my_list[i] in my_list[i+1:]:\n",
    "        del my_list[i]\n",
    "        i+=1\n",
    "\n",
    "print(\"La lista con elementos únicos:\")\n",
    "print(my_list)"
   ]
  },
  {
   "cell_type": "markdown",
   "metadata": {},
   "source": [
    "## Excepciones\n",
    "\n",
    "Existen dos tipos de errores principalmente, uno que es cuando le codigo se alimenta con datos incorrectos y otro cuando ocurre un comportamiento no deseado en el programa debido a errores que se cometieron cuando se estaba escribiendo el codigo."
   ]
  },
  {
   "cell_type": "code",
   "execution_count": 7,
   "metadata": {},
   "outputs": [
    {
     "name": "stdout",
     "output_type": "stream",
     "text": [
      "No se que hacer con. 10\n"
     ]
    }
   ],
   "source": [
    "try:\n",
    "    value = int(input('Ingresa un número natural: '))\n",
    "    print('El recíproco de', value, 'es', 1/value)        \n",
    "except ValueError:\n",
    "    print('No se que hacer con.')    \n",
    "except ZeroDivisionError:\n",
    "    print('La división entre cero no está permitida en nuestro Universo.')    \n",
    "except:\n",
    "    print('Ha sucedido algo extraño, ¡lo siento!')"
   ]
  },
  {
   "cell_type": "markdown",
   "metadata": {},
   "source": [
    "Puedes usar un solo try y varias except para cada error, el except por defecto debe ir al final siempre.\n",
    "\n",
    "Algunas excepciones utiles son:\n",
    "\n",
    "- ZeroDivisionError\n",
    "Esta aparece cuando intentas forzar a Python a realizar cualquier operación que provoque una división en la que el divisor es cero o no se puede distinguir de cero. Toma en cuenta que hay más de un operador de Python que puede hacer que se genere esta excepción. ¿Puedes adivinarlos todos?\n",
    "\n",
    "Si, estos son: /, //, y %.\n",
    "\n",
    "- ValueError\n",
    "Espera esta excepción cuando estás manejando valores que pueden usarse de manera inapropiada en algún contexto. En general, esta excepción se genera cuando una función (como int() o float()) recibe un argumento de un tipo adecuado, pero su valor es inaceptable.\n",
    "\n",
    "- TypeError\n",
    "Esta excepción aparece cuando intentas aplicar un dato cuyo tipo no se puede aceptar en el contexto actual. Mira el ejemplo:"
   ]
  },
  {
   "cell_type": "code",
   "execution_count": null,
   "metadata": {},
   "outputs": [],
   "source": [
    "short_list = [1]\n",
    "one_value = short_list[0.5]"
   ]
  },
  {
   "cell_type": "markdown",
   "metadata": {},
   "source": [
    "- AttributeError\n",
    "Esta excepción llega - entre otras ocasiones - cuando intentas activar un método que no existe en un elemento con el que se está tratando. Por ejemplo:"
   ]
  },
  {
   "cell_type": "code",
   "execution_count": null,
   "metadata": {},
   "outputs": [],
   "source": [
    "short_list = [1]\n",
    "short_list.append(2)\n",
    "short_list.depend(3)"
   ]
  },
  {
   "cell_type": "markdown",
   "metadata": {},
   "source": [
    "La tercera línea de nuestro ejemplo intenta hacer uso de un método que no está incluido en las listas. Este es el lugar donde se genera la excepción AttributeError.\n",
    "\n",
    "- SyntaxError: Esta excepción se genera cuando el control llega a una línea de código que viola la gramática de Python. Puede sonar extraño, pero algunos errores de este tipo no se pueden identificar sin ejecutar primero el código. Este tipo de comportamiento es típico de los lenguajes interpretados - el intérprete siempre trabaja con prisa y no tiene tiempo para escanear todo el código fuente. Se conforma con comprobar el código que se está ejecutando en el momento. Muy pronto se te presentará un ejemplo de esta categoría.\n",
    "\n",
    "    Es una mala idea manejar este tipo de excepciones en tus programas. Deberías producir código sin errores de sintaxis, en lugar de enmascarar las fallas que has causado.\n",
    "\n",
    "Las excepciones en Python se definen de forma jerarquica, existiendo asi excepciones que incluyen varias otras dentro de si, como es el caso de la excepcion `LookupError` la cual contiene dentro de si `IndexError`.\n",
    "\n",
    "La sentencia de Python llamada `raise NombreDeException` genera la excepcion bajo demanda. Si se usa solo `raise` sin especificar una excepcion, debe usarse solo dentro del bloque `except` y generará la misma excepcion que se esta manejando actualmente (la que se produjo en el `try`)."
   ]
  },
  {
   "cell_type": "code",
   "execution_count": 1,
   "metadata": {},
   "outputs": [
    {
     "name": "stdout",
     "output_type": "stream",
     "text": [
      "¿Qué pasó? ¿Un error?\n",
      "FIN.\n"
     ]
    }
   ],
   "source": [
    "def bad_fun(n):\n",
    "    raise ZeroDivisionError\n",
    "\n",
    "\n",
    "try:\n",
    "    bad_fun(0)\n",
    "except ArithmeticError:\n",
    "    print(\"¿Qué pasó? ¿Un error?\")\n",
    "\n",
    "print(\"FIN.\")\n",
    "    "
   ]
  },
  {
   "cell_type": "code",
   "execution_count": 2,
   "metadata": {},
   "outputs": [
    {
     "name": "stdout",
     "output_type": "stream",
     "text": [
      "¡Lo hice otra vez!\n",
      "¡Ya veo!\n",
      "FIN.\n"
     ]
    }
   ],
   "source": [
    "def bad_fun(n):\n",
    "    try:\n",
    "        return n / 0\n",
    "    except:\n",
    "        print(\"¡Lo hice otra vez!\")\n",
    "        raise\n",
    "\n",
    "\n",
    "try:\n",
    "    bad_fun(0)\n",
    "except ArithmeticError:\n",
    "    print(\"¡Ya veo!\")\n",
    "\n",
    "print(\"FIN.\")\n",
    "    "
   ]
  },
  {
   "cell_type": "markdown",
   "metadata": {},
   "source": [
    "La sentencia de Python `assert expression` evalúa la expresión y genera la excepción `AssertError` cuando la expresión es igual a cero, una cadena vacía o `None`. Puedes usarla para proteger algunas partes críticas de tu código de datos devastadores."
   ]
  },
  {
   "cell_type": "code",
   "execution_count": 4,
   "metadata": {},
   "outputs": [
    {
     "ename": "AssertionError",
     "evalue": "",
     "output_type": "error",
     "traceback": [
      "\u001b[1;31m---------------------------------------------------------------------------\u001b[0m",
      "\u001b[1;31mAssertionError\u001b[0m                            Traceback (most recent call last)",
      "Cell \u001b[1;32mIn[4], line 4\u001b[0m\n\u001b[0;32m      1\u001b[0m \u001b[38;5;28;01mimport\u001b[39;00m \u001b[38;5;21;01mmath\u001b[39;00m\n\u001b[0;32m      3\u001b[0m x \u001b[38;5;241m=\u001b[39m \u001b[38;5;28mfloat\u001b[39m(\u001b[38;5;28minput\u001b[39m(\u001b[38;5;124m\"\u001b[39m\u001b[38;5;124mIngresa un número: \u001b[39m\u001b[38;5;124m\"\u001b[39m))\n\u001b[1;32m----> 4\u001b[0m \u001b[38;5;28;01massert\u001b[39;00m x \u001b[38;5;241m>\u001b[39m\u001b[38;5;241m=\u001b[39m \u001b[38;5;241m0.0\u001b[39m\n\u001b[0;32m      6\u001b[0m x \u001b[38;5;241m=\u001b[39m math\u001b[38;5;241m.\u001b[39msqrt(x)\n\u001b[0;32m      8\u001b[0m \u001b[38;5;28mprint\u001b[39m(x)\n",
      "\u001b[1;31mAssertionError\u001b[0m: "
     ]
    }
   ],
   "source": [
    "import math\n",
    "\n",
    "x = float(input(\"Ingresa un número: \"))\n",
    "assert x >= 0.0\n",
    "\n",
    "x = math.sqrt(x)\n",
    "\n",
    "print(x)"
   ]
  },
  {
   "cell_type": "markdown",
   "metadata": {},
   "source": [
    "# MODULO 5: Programacion orientada a objetos (POO)\n",
    "\n",
    "Este tipo de programación en un proyecto facilita muchas tareas importantes, por ejemplo, dividir el proyecto en partes pequeñas e independientes y el desarrollo independiente de diferentes elementos del proyecto.\n",
    "\n",
    "Dentro de este modulo se usaran cuatro conceptos claves: Clases, Objetos, Metodos y Atributos. Poniendo un ejemplo con animales del oceano seria el siguiente:\n",
    "- Clase: Mariscos\n",
    "- Objetos: Nombre\n",
    "- Metodos: Nadar, Bucear\n",
    "- Atributos: Peso, Dieta, Sabor\n",
    "\n",
    "El enfoque orientado a objetos sugiere una forma de pensar completamente diferente. Los datos y el código están encapsulados juntos en el mismo mundo, divididos en clases.\n",
    "\n",
    "Cada clase es como una receta que se puede usar cuando quieres crear un objeto útil. Puedes producir tantos objetos como necesites para resolver tu problema.\n",
    "\n",
    "Cada objeto tiene un conjunto de rasgos (se denominan propiedades o atributos; usaremos ambas palabras como sinónimos) y es capaz de realizar un conjunto de actividades (que se denominan métodos).\n",
    "\n",
    "Las recetas pueden modificarse si son inadecuadas para fines específicos y, en efecto, pueden crearse nuevas clases. Estas nuevas clases heredan propiedades y métodos de los originales, y generalmente agregan algunos nuevos, creando nuevas herramientas más específicas.\n",
    "\n",
    "Nota: la jerarquía crece de arriba hacia abajo, como raíces de árboles, no ramas. La clase más general y más amplia siempre está en la parte superior (la superclase) mientras que sus descendientes se encuentran abajo (las subclases).\n",
    "\n",
    "## Que es un objeto\n",
    "\n",
    "Una clase (entre otras definiciones) es un conjunto de objetos. Un objeto es un ser perteneciente a una clase.\n",
    "\n",
    "Un objeto tiene un nombre que lo identifica de forma exclusiva (aunque pueden existir objetos sin nombre), el objeto tambine posee una serie de propiedades que lo hacen original, finalmente, un objeto tambien tiene un conjunto de habilidades que le permiten realizar acciones especificas.\n",
    "\n",
    "### Herencia\n",
    "\n",
    "Cualquier objeto vinculado a un nivel específico de una jerarquía de clases hereda todos los rasgos (así como los requisitos y cualidades) definidos dentro de cualquiera de las superclases.\n",
    "\n",
    "A continuacion, tenemos un ejemplo de la creacion de una clase:"
   ]
  },
  {
   "cell_type": "code",
   "execution_count": null,
   "metadata": {},
   "outputs": [],
   "source": [
    "class the_simplest_Class:\n",
    "    pass"
   ]
  },
  {
   "cell_type": "markdown",
   "metadata": {},
   "source": [
    "Ahora crearemos un objeto nuevo en base a la clase:"
   ]
  },
  {
   "cell_type": "code",
   "execution_count": null,
   "metadata": {},
   "outputs": [],
   "source": [
    "mi_primer_objeto=the_simplest_Class()"
   ]
  },
  {
   "cell_type": "markdown",
   "metadata": {},
   "source": [
    "## Que es una pila?\n",
    "\n",
    "Como apilar monedas, se hace una pila simplmente, y no puedes colocar las monedas en otro lugar. En una pila, los objetos se iran accediendo en el orden en el cual se agregan, de esta manera, el primer objeto en acceder sera el ultimo agregado. Esto quiere decir que si quieres acceder al primer objeto de la pila, debes eliminar todos los objetos que se encuentran antes que este.\n",
    "\n",
    "Implementemos una pila en Python. Esta será una pila muy simple, y te mostraremos como hacerlo en dos enfoques independientes: de manera procedimental y de orientado a objetos.\n",
    "\n",
    "### La pila: el enfoque procedimental\n",
    "\n",
    "Para poder almacenar los elementos debemos usar el metodo mas simple posible: una lista."
   ]
  },
  {
   "cell_type": "code",
   "execution_count": 1,
   "metadata": {},
   "outputs": [
    {
     "name": "stdout",
     "output_type": "stream",
     "text": [
      "1\n",
      "2\n",
      "3\n"
     ]
    }
   ],
   "source": [
    "stack=[]\n",
    "\n",
    "def push(val):\n",
    "    stack.append(val)\n",
    "\n",
    "def pop():\n",
    "    val=stack[-1]\n",
    "    del stack[-1]\n",
    "    return val\n",
    "\n",
    "push(3)\n",
    "push(2)\n",
    "push(1)\n",
    "\n",
    "print(pop())\n",
    "print(pop())\n",
    "print(pop())"
   ]
  },
  {
   "cell_type": "markdown",
   "metadata": {},
   "source": [
    "### La pila: enfoque procedimental VS enfoque orientado a objetos\n",
    "\n",
    "Éstas son algunas de las desventajas del enfoque procedimental:\n",
    "\n",
    "- La variable esencial (la lista de la pila) es altamente vulnerable; cualquiera puede modificarla de forma incontrolable, destruyendo la pila; esto no significa que se haya hecho de manera maliciosa; por el contrario, puede ocurrir como resultado de un descuido.\n",
    "\n",
    "El enfoque orientado a objetos ofrece soluciones para cada uno de los problemas anteriores. Vamos a nombrarlos primero:\n",
    "\n",
    "- La capacidad de ocultar (proteger) los valores seleccionados contra el acceso no autorizado se llama encapsulamiento; no se puede acceder a los valores encapsulados ni modificarlos si deseas utilizarlos exclusivamente.\n",
    "\n",
    "- Cuando tienes una clase que implementa todos los comportamientos de pila necesarios, puedes producir tantas pilas como desees; no necesitas copiar ni replicar ninguna parte del código.\n",
    "\n",
    "- La capacidad de enriquecer la pila con nuevas funciones proviene de la herencia; puedes crear una nueva clase (una subclase) que herede todos los rasgos existentes de la superclase y agregar algunos nuevos."
   ]
  },
  {
   "cell_type": "markdown",
   "metadata": {},
   "source": [
    "### La pila: le enfoque orientado a objetos\n",
    "\n",
    "Comenzaremos de la misma manera que en el enfoque procedimental, creando una lista, solo que debemos saber donde poner la lista:"
   ]
  },
  {
   "cell_type": "code",
   "execution_count": null,
   "metadata": {},
   "outputs": [],
   "source": [
    "class Stack:"
   ]
  },
  {
   "cell_type": "markdown",
   "metadata": {},
   "source": [
    "Ahora, esperamos dos cosas de la clase:\n",
    "\n",
    "Queremos que la clase tenga una propiedad como el almacenamiento de la pila, tenemos que \"instalar\" una lista dentro de cada objeto de la clase (nota: cada objeto debe tener su propia lista; la lista no debe compartirse entre diferentes pilas).\n",
    "\n",
    "Despues, queremos que la lista esté oculta de la vista de los usuarios de la clase. de la vista de los usuarios' de la clase.\n",
    "\n",
    "Tienes que equipar a la clase con una función específica:\n",
    "\n",
    "- Tiene que ser nombrada de forma estricta.\n",
    "- Se invoca implícitamente cuando se crea el nuevo objeto.\n",
    "- Dicha función es llamada el constructor, ya que su propósito general es construir un nuevo objeto. El constructor debe saber todo acerca de la estructura del objeto y debe realizar todas las inicializaciones necesarias."
   ]
  },
  {
   "cell_type": "code",
   "execution_count": 2,
   "metadata": {},
   "outputs": [
    {
     "name": "stdout",
     "output_type": "stream",
     "text": [
      "Hola\n"
     ]
    }
   ],
   "source": [
    "class Stack: \n",
    "    def __init__(self):\n",
    "        print('Hola')\n",
    "\n",
    "stack_object=Stack()"
   ]
  },
  {
   "cell_type": "markdown",
   "metadata": {},
   "source": [
    "Ahora, agreguemos una propiedad al nuevo objeto:"
   ]
  },
  {
   "cell_type": "code",
   "execution_count": 3,
   "metadata": {},
   "outputs": [
    {
     "name": "stdout",
     "output_type": "stream",
     "text": [
      "0\n"
     ]
    }
   ],
   "source": [
    "class Stack: \n",
    "    def __init__(self):\n",
    "        self.stack_list=[]\n",
    "        \n",
    "stack_object=Stack()\n",
    "print(len(stack_object.stack_list))"
   ]
  },
  {
   "cell_type": "markdown",
   "metadata": {},
   "source": [
    "Ahora, si queremos que la propiedad este oculta al acceso del mundo exterior debemos emplear el siguiente proceso:"
   ]
  },
  {
   "cell_type": "code",
   "execution_count": 7,
   "metadata": {},
   "outputs": [
    {
     "ename": "AttributeError",
     "evalue": "'Stack' object has no attribute '__stack_list'",
     "output_type": "error",
     "traceback": [
      "\u001b[1;31m---------------------------------------------------------------------------\u001b[0m",
      "\u001b[1;31mAttributeError\u001b[0m                            Traceback (most recent call last)",
      "Cell \u001b[1;32mIn[7], line 6\u001b[0m\n\u001b[0;32m      3\u001b[0m         \u001b[38;5;28mself\u001b[39m\u001b[38;5;241m.\u001b[39m__stack_list\u001b[38;5;241m=\u001b[39m[]\n\u001b[0;32m      5\u001b[0m stack_object\u001b[38;5;241m=\u001b[39mStack()\n\u001b[1;32m----> 6\u001b[0m \u001b[38;5;28mprint\u001b[39m(\u001b[38;5;28mlen\u001b[39m(\u001b[43mstack_object\u001b[49m\u001b[38;5;241;43m.\u001b[39;49m\u001b[43m__stack_list\u001b[49m))\n",
      "\u001b[1;31mAttributeError\u001b[0m: 'Stack' object has no attribute '__stack_list'"
     ]
    }
   ],
   "source": [
    "class Stack: \n",
    "    def __init__(self):\n",
    "        self.__stack_list=[]\n",
    "        \n",
    "stack_object=Stack()\n",
    "print(len(stack_object.__stack_list))"
   ]
  },
  {
   "cell_type": "markdown",
   "metadata": {},
   "source": [
    "Cuando cualquier componente de la clase tiene un nombre que comienza con dos guiones bajos (__), se vuelve privado, esto significa que solo se puede acceder desde dentro de la clase.\n",
    "\n",
    "No puedes verlo desde el mundo exterior. Así es como Python implementa el concepto de encapsulación.\n",
    "\n",
    "Ejecuta el programa para probar nuestras suposiciones: una excepción AttributeError debe ser generada."
   ]
  },
  {
   "cell_type": "markdown",
   "metadata": {},
   "source": [
    "#### Una pila desde cero\n",
    "\n",
    "Queremos invocar estas funciones para agregar(push) y quitar(pop) valores de la pila. Esto significa que ambos deben ser accesibles para el usuario de la clase (en contraste con la lista previamente construida, que está oculta para los usuarios de la clase ordinaria).\n",
    "\n",
    "Tal componente es llamado público, por ello no puede comenzar su nombre con dos (o más) guiones bajos. Hay un requisito más el nombre no debe tener más de un guión bajo. Dado que ningún guion bajo final cumple completamente con el requisito, puedes suponer que el nombre es aceptable."
   ]
  },
  {
   "cell_type": "code",
   "execution_count": 8,
   "metadata": {},
   "outputs": [
    {
     "name": "stdout",
     "output_type": "stream",
     "text": [
      "1\n",
      "2\n",
      "3\n"
     ]
    }
   ],
   "source": [
    "class Stack:\n",
    "    def __init__(self):\n",
    "        self.__stack_list=[]\n",
    "\n",
    "    def push(self, val):\n",
    "        self.__stack_list.append(val)\n",
    "\n",
    "    def pop(self):\n",
    "        val=self.__stack_list[-1]\n",
    "        del self.__stack_list[-1]\n",
    "        return val\n",
    "    \n",
    "stack_object=Stack()\n",
    "\n",
    "stack_object.push(3)\n",
    "stack_object.push(2)\n",
    "stack_object.push(1)\n",
    "\n",
    "print(stack_object.pop())\n",
    "print(stack_object.pop())\n",
    "print(stack_object.pop())"
   ]
  },
  {
   "cell_type": "markdown",
   "metadata": {},
   "source": [
    "Una de las ventajas de este metodo, es que ahora puedes tener mas de una lista que maneja datos separados pero posee los mismos metodos, compruebalo tu mismo:"
   ]
  },
  {
   "cell_type": "code",
   "execution_count": 9,
   "metadata": {},
   "outputs": [
    {
     "name": "stdout",
     "output_type": "stream",
     "text": [
      "3\n"
     ]
    }
   ],
   "source": [
    "class Stack:\n",
    "    def __init__(self):\n",
    "        self.__stack_list = []\n",
    "\n",
    "    def push(self, val):\n",
    "        self.__stack_list.append(val)\n",
    "\n",
    "    def pop(self):\n",
    "        val = self.__stack_list[-1]\n",
    "        del self.__stack_list[-1]\n",
    "        return val\n",
    "\n",
    "\n",
    "stack_object_1 = Stack()\n",
    "stack_object_2 = Stack()\n",
    "\n",
    "stack_object_1.push(3)\n",
    "stack_object_2.push(stack_object_1.pop())\n",
    "\n",
    "print(stack_object_2.pop())\n"
   ]
  },
  {
   "cell_type": "markdown",
   "metadata": {},
   "source": [
    "Ahora veamos un ejemplo de como crear una subclase a partir de la superclase. Para esto, usaremos el ejemplo anterior, queremos crear una subclase que sea capaz de sumar y restar todos los valores existentes en la pila, en una variable propia e invisible llamada *sum*:"
   ]
  },
  {
   "cell_type": "code",
   "execution_count": null,
   "metadata": {},
   "outputs": [],
   "source": [
    "class Stack:\n",
    "    def __init__(self):\n",
    "        self.__stack_list = []\n",
    "\n",
    "    def push(self, val):\n",
    "        self.__stack_list.append(val)\n",
    "\n",
    "    def pop(self):\n",
    "        val = self.__stack_list[-1]\n",
    "        del self.__stack_list[-1]\n",
    "        return val\n",
    "\n",
    "\n",
    "class AddingStack(Stack):\n",
    "    def __init__(self):\n",
    "        Stack.__init__(self)\n",
    "        self.__sum = 0\n",
    "    "
   ]
  },
  {
   "cell_type": "markdown",
   "metadata": {},
   "source": [
    "Observa ña tercer linea luego de crear la subclase, se puede observar algo extraño, esto es porque Python te obliga a invocar explícitamente el constructor de una superclase. Omitir este punto tendrá efectos nocivos: el objeto se verá privado de la lista __stack_list. Tal pila no funcionará correctamente.\n",
    "\n",
    "Ten en cuenta la sintaxis:\n",
    "\n",
    "- Se especifica el nombre de la superclase (esta es la clase cuyo constructor se desea ejecutar).\n",
    "- Se coloca un punto (.) después del nombre.\n",
    "- Se especifica el nombre del constructor.\n",
    "- Se debe señalar al objeto (la instancia de la clase) que debe ser inicializado por el constructor; es por eso que se debe especificar el argumento y utilizar la variable self aquí; recuerda: invocar cualquier método (incluidos los constructores) desde fuera de la clase nunca requiere colocar el argumento self en la lista de argumentos, invocar un método desde dentro de la clase exige el uso explícito del argumento self, y tiene que ser el primero en la lista.\n",
    "\n",
    "Ahora, debemos modificar los metodos existentes en la superclase, para esto debemos cambiar la funcionalidad de los metodos, no sus nombres. Solo debemos agregar el valor a la variable *sum* y agregar el valor a la pila, tal como se ve a continuacion:"
   ]
  },
  {
   "cell_type": "code",
   "execution_count": null,
   "metadata": {},
   "outputs": [],
   "source": [
    "class Stack:\n",
    "    def __init__(self):\n",
    "        self.__stack_list = []\n",
    "\n",
    "    def push(self, val):\n",
    "        self.__stack_list.append(val)\n",
    "\n",
    "    def pop(self):\n",
    "        val = self.__stack_list[-1]\n",
    "        del self.__stack_list[-1]\n",
    "        return val\n",
    "\n",
    "\n",
    "class AddingStack(Stack):\n",
    "    def __init__(self):\n",
    "        Stack.__init__(self)\n",
    "        self.__sum = 0\n",
    "    def push(self,val):\n",
    "        self.__sum+=val\n",
    "        Stack.push(self,val)\n",
    "    def pop(self):\n",
    "        val=Stack.pop(self)\n",
    "        self.__sum-=val\n",
    "        return val\n",
    "    def get_sum(self):\n",
    "        return self.__sum"
   ]
  },
  {
   "cell_type": "markdown",
   "metadata": {},
   "source": [
    "EJERCICIO:\n",
    "\n",
    "Tu tarea es extender el comportamiento de la clase Stack de tal manera que la clase pueda contar todos los elementos que son agregados (push) y quitados (pop). Emplea la clase Stack que proporcionamos en el editor."
   ]
  },
  {
   "cell_type": "code",
   "execution_count": 5,
   "metadata": {},
   "outputs": [
    {
     "name": "stdout",
     "output_type": "stream",
     "text": [
      "100\n"
     ]
    }
   ],
   "source": [
    "class Stack:\n",
    "    def __init__(self):\n",
    "        self.__stk = []\n",
    "\n",
    "    def push(self, val):\n",
    "        self.__stk.append(val)\n",
    "\n",
    "    def pop(self):\n",
    "        val = self.__stk[-1]\n",
    "        del self.__stk[-1]\n",
    "        return val\n",
    "\n",
    "\n",
    "class CountingStack(Stack):\n",
    "    def __init__(self):\n",
    "    #\n",
    "    # Llena el constructor con acciones apropiadas.\n",
    "    #\n",
    "        Stack.__init__(self)\n",
    "        self.__counter=0\n",
    "\n",
    "    def get_counter(self):\n",
    "    #\n",
    "    # Presenta el valor actual del contador al mundo.\n",
    "    #\n",
    "        return self.__counter\n",
    "\n",
    "    def pop(self):\n",
    "    #\n",
    "    # Haz un pop y actualiza el contador.\n",
    "    #\n",
    "        self.__counter+=1\n",
    "        return Stack.pop(self)\n",
    "\t\n",
    "\n",
    "stk = CountingStack()\n",
    "for i in range(100):\n",
    "    stk.push(i)\n",
    "    stk.pop()\n",
    "print(stk.get_counter())\n"
   ]
  },
  {
   "cell_type": "markdown",
   "metadata": {},
   "source": [
    "## POO: Propiedades de las clases\n",
    "\n",
    "### Variables de instancia\n",
    "\n",
    "La palabra instancia sugiere que están estrechamente conectadas a los objetos (que son instancias de clase), no a las clases mismas. Echemos un vistazo más de cerca. A continuacion, un ejemplo:"
   ]
  },
  {
   "cell_type": "code",
   "execution_count": 1,
   "metadata": {},
   "outputs": [
    {
     "name": "stdout",
     "output_type": "stream",
     "text": [
      "{'first': 1}\n",
      "{'first': 2, 'second': 3}\n",
      "{'first': 4, 'third': 5}\n"
     ]
    }
   ],
   "source": [
    "class ExampleClass:\n",
    "    def __init__(self, val = 1):\n",
    "        self.first = val\n",
    "\n",
    "    def set_second(self, val):\n",
    "        self.second = val\n",
    "\n",
    "\n",
    "example_object_1 = ExampleClass()\n",
    "example_object_2 = ExampleClass(2)\n",
    "\n",
    "example_object_2.set_second(3)\n",
    "\n",
    "example_object_3 = ExampleClass(4)\n",
    "example_object_3.third = 5\n",
    "\n",
    "print(example_object_1.__dict__)\n",
    "print(example_object_2.__dict__)\n",
    "print(example_object_3.__dict__)"
   ]
  },
  {
   "cell_type": "markdown",
   "metadata": {},
   "source": [
    "En las ultimas tres lineas de codigo observamos algo nuevo, este es un metodo aplicable a los objetos de clases el cual devuelve un diccionario con el nombre de todas las variables del objeto y su valor. En la linea ``example_object_3.third = 5`` agregamos una propiedad al objeto desde fuera de la clase, algo permitido.\n",
    "\n",
    "Ahora, modificquemos un poco el codigo:"
   ]
  },
  {
   "cell_type": "code",
   "execution_count": 2,
   "metadata": {},
   "outputs": [
    {
     "name": "stdout",
     "output_type": "stream",
     "text": [
      "{'_ExampleClass__first': 1}\n",
      "{'_ExampleClass__first': 2, '_ExampleClass__second': 3}\n",
      "{'_ExampleClass__first': 4, '__third': 5}\n"
     ]
    }
   ],
   "source": [
    "class ExampleClass:\n",
    "    def __init__(self, val = 1):\n",
    "        self.__first = val\n",
    "\n",
    "    def set_second(self, val = 2):\n",
    "        self.__second = val\n",
    "\n",
    "\n",
    "example_object_1 = ExampleClass()\n",
    "example_object_2 = ExampleClass(2)\n",
    "\n",
    "example_object_2.set_second(3)\n",
    "\n",
    "example_object_3 = ExampleClass(4)\n",
    "example_object_3.__third = 5\n",
    "\n",
    "\n",
    "print(example_object_1.__dict__)\n",
    "print(example_object_2.__dict__)\n",
    "print(example_object_3.__dict__)\n",
    "    "
   ]
  },
  {
   "cell_type": "markdown",
   "metadata": {},
   "source": [
    "Cuando Python ve que deseas agregar una variable de instancia a un objeto y lo vas a hacer dentro de cualquiera de los métodos del objeto, maneja la operación de la siguiente manera:\n",
    "\n",
    "- Coloca un nombre de clase antes de tu nombre.\n",
    "- Coloca un guión bajo adicional al principio.\n",
    "- Es por ello que ``__first`` se convierte en ``_ExampleClass__first``.\n",
    "\n",
    "El nombre ahora es completamente accesible desde fuera de la clase. Puedes ejecutar un código como este:"
   ]
  },
  {
   "cell_type": "code",
   "execution_count": 3,
   "metadata": {},
   "outputs": [
    {
     "name": "stdout",
     "output_type": "stream",
     "text": [
      "1\n"
     ]
    }
   ],
   "source": [
    "print(example_object_1._ExampleClass__first)"
   ]
  },
  {
   "cell_type": "markdown",
   "metadata": {},
   "source": [
    "### Variables de clase\n",
    "\n",
    "Las variables de clase se almacenan una sola vez dentro de la misma clase, más no dentro de un objeto. \n",
    "\n",
    "A continuacion un ejemplo de su creacion:"
   ]
  },
  {
   "cell_type": "code",
   "execution_count": 4,
   "metadata": {},
   "outputs": [
    {
     "name": "stdout",
     "output_type": "stream",
     "text": [
      "{'_ExampleClass__first': 1} 3\n",
      "{'_ExampleClass__first': 2} 3\n",
      "{'_ExampleClass__first': 4} 3\n"
     ]
    }
   ],
   "source": [
    "class ExampleClass:\n",
    "    counter = 0\n",
    "    def __init__(self, val = 1):\n",
    "        self.__first = val\n",
    "        ExampleClass.counter += 1\n",
    "\n",
    "\n",
    "example_object_1 = ExampleClass()\n",
    "example_object_2 = ExampleClass(2)\n",
    "example_object_3 = ExampleClass(4)\n",
    "\n",
    "print(example_object_1.__dict__, example_object_1.counter)\n",
    "print(example_object_2.__dict__, example_object_2.counter)\n",
    "print(example_object_3.__dict__, example_object_3.counter)\n",
    "\n"
   ]
  },
  {
   "cell_type": "markdown",
   "metadata": {},
   "source": [
    "Una variable de clase siempre presenta el mismo valor en todas las instancias de clase (objetos). Como podemos observar, cada vez que invocamos la clase el valor de ``counter`` se aumenta en 1, es por esto que al final tenemos ``counter=3``."
   ]
  },
  {
   "cell_type": "markdown",
   "metadata": {},
   "source": [
    "#### Funcion ``hasattr``\n",
    "\n",
    "Esta funcion permite conocer si una clase posee un determinado atributo definido, es por esto que recibe dos parametros, el nombre de la clase y el nombre del atributo que deseamos corroborar."
   ]
  },
  {
   "cell_type": "code",
   "execution_count": 5,
   "metadata": {},
   "outputs": [
    {
     "name": "stdout",
     "output_type": "stream",
     "text": [
      "1\n"
     ]
    }
   ],
   "source": [
    "class ExampleClass:\n",
    "    def __init__(self, val):\n",
    "        if val % 2 != 0:\n",
    "            self.a = 1\n",
    "        else:\n",
    "            self.b = 1\n",
    "\n",
    "\n",
    "example_object = ExampleClass(1)\n",
    "print(example_object.a)\n",
    "\n",
    "if hasattr(example_object, 'b'):\n",
    "    print(example_object.b)"
   ]
  },
  {
   "cell_type": "markdown",
   "metadata": {},
   "source": [
    "Mira el siguiente ejemplo:"
   ]
  },
  {
   "cell_type": "code",
   "execution_count": null,
   "metadata": {},
   "outputs": [],
   "source": [
    "class ExampleClass:\n",
    "    a = 1\n",
    "    def __init__(self):\n",
    "        self.b = 2\n",
    "\n",
    "\n",
    "example_object = ExampleClass()\n",
    "\n",
    "print(hasattr(example_object, 'b'))\n",
    "print(hasattr(example_object, 'a'))\n",
    "print(hasattr(ExampleClass, 'b'))\n",
    "print(hasattr(ExampleClass, 'a'))"
   ]
  },
  {
   "cell_type": "markdown",
   "metadata": {},
   "source": [
    "### Metodos al detalle\n",
    "\n",
    "Como ya sabemos, un metodo es una funcion ue se encuentra dentro de una clase. Estos metodos tienen una caondicion fundamental y es que deben contener obligatoriamente un parametro, un metodo puede no recibir argumentos, pero para ser invocado debe tener obligatoriamente un parametro. El primer o unico parametro se denomina ``self``, el metodo self tiene la finalidad de identificar el objeto para el cual se invoca el metodo.\n",
    "\n",
    "Si deseas que el método acepte parámetros distintos a ``self``, debes:\n",
    "\n",
    "- Colocarlos después de ``self`` en la definición del método.\n",
    "- Pasarlos como argumentos durante la invocación sin especificar ``self``.\n",
    "\n",
    "El parámetro ``self`` es usado para obtener acceso a la instancia del objeto y las variables de clase."
   ]
  },
  {
   "cell_type": "code",
   "execution_count": 2,
   "metadata": {},
   "outputs": [
    {
     "name": "stdout",
     "output_type": "stream",
     "text": [
      "2 3\n"
     ]
    }
   ],
   "source": [
    "class Classy:\n",
    "    varia = 2\n",
    "    def method(self):\n",
    "        print(self.varia, self.var)\n",
    "\n",
    "\n",
    "obj = Classy()\n",
    "obj.var = 3\n",
    "obj.method()"
   ]
  },
  {
   "cell_type": "markdown",
   "metadata": {},
   "source": [
    "El parámetro self también se usa para invocar otros métodos desde dentro de la clase. Justo como aquí:"
   ]
  },
  {
   "cell_type": "code",
   "execution_count": 1,
   "metadata": {},
   "outputs": [
    {
     "name": "stdout",
     "output_type": "stream",
     "text": [
      "método\n",
      "otro\n"
     ]
    }
   ],
   "source": [
    "class Classy:\n",
    "    def other(self):\n",
    "        print(\"otro\")\n",
    "\n",
    "    def method(self):\n",
    "        print(\"método\")\n",
    "        self.other()\n",
    "\n",
    "\n",
    "obj = Classy()\n",
    "obj.method()"
   ]
  },
  {
   "cell_type": "markdown",
   "metadata": {},
   "source": [
    "Si se nombra un método de esta manera: ``__init__``, no será un método regular, será un constructor. Si una clase tiene un constructor, este se invoca automática e implícitamente cuando se instancia el objeto de la clase.\n",
    "\n",
    "El constructor:\n",
    "\n",
    "- Esta obligado a tener el parámetro self (se configura automáticamente).\n",
    "- Pudiera (pero no necesariamente) tener mas parámetros que solo self; si esto sucede, la forma en que se usa el nombre de la clase para crear el objeto debe tener la definición __init__.\n",
    "- Se puede utilizar para configurar el objeto, es decir, inicializa adecuadamente su estado interno, crea variables de instancia, crea instancias de cualquier otro objeto si es necesario, etc.\n",
    "- Observa el código en el editor. El ejemplo muestra un constructor muy simple pero funcional."
   ]
  },
  {
   "cell_type": "code",
   "execution_count": 3,
   "metadata": {},
   "outputs": [
    {
     "name": "stdout",
     "output_type": "stream",
     "text": [
      "objeto\n"
     ]
    }
   ],
   "source": [
    "class Classy:\n",
    "    def __init__(self, value):\n",
    "        self.var = value\n",
    "\n",
    "\n",
    "obj_1 = Classy(\"objeto\")\n",
    "\n",
    "print(obj_1.var)"
   ]
  },
  {
   "cell_type": "markdown",
   "metadata": {},
   "source": [
    "Toma en cuenta que el constructor:\n",
    "\n",
    "- No puede retornar un valor, ya que está diseñado para devolver un objeto recién creado y nada más.\n",
    "- No se puede invocar directamente desde el objeto o desde dentro de la clase (puedes invocar un constructor desde cualquiera de las superclases del objeto, pero discutiremos esto más adelante).\n",
    "\n",
    "Como ``__init__`` es un método, y un método es una función, puedes hacer los mismos trucos con constructores y métodos que con las funciones ordinarias.\n",
    "\n",
    "El ejemplo en el editor muestra cómo definir un constructor con un valor de argumento predeterminado. Pruébalo."
   ]
  },
  {
   "cell_type": "code",
   "execution_count": 4,
   "metadata": {},
   "outputs": [
    {
     "name": "stdout",
     "output_type": "stream",
     "text": [
      "objeto\n",
      "None\n"
     ]
    }
   ],
   "source": [
    "class Classy:\n",
    "    def __init__(self, value = None):\n",
    "        self.var = value\n",
    "\n",
    "\n",
    "obj_1 = Classy(\"objeto\")\n",
    "obj_2 = Classy()\n",
    "\n",
    "print(obj_1.var)\n",
    "print(obj_2.var)"
   ]
  },
  {
   "cell_type": "markdown",
   "metadata": {},
   "source": [
    "### Propiedades y metodos de las clases y objetos\n",
    "\n",
    "#### ``__dict__``\n",
    "\n",
    "Es un diccionario que contiene todos los metodos y atributos definidos dentro de una clase:"
   ]
  },
  {
   "cell_type": "code",
   "execution_count": 1,
   "metadata": {},
   "outputs": [
    {
     "name": "stdout",
     "output_type": "stream",
     "text": [
      "{'var': 2}\n",
      "{'__module__': '__main__', 'varia': 1, '__init__': <function Classy.__init__ at 0x00000168E9F27EC0>, 'method': <function Classy.method at 0x00000168E9F98220>, '_Classy__hidden': <function Classy.__hidden at 0x00000168E9F984A0>, '__dict__': <attribute '__dict__' of 'Classy' objects>, '__weakref__': <attribute '__weakref__' of 'Classy' objects>, '__doc__': None}\n"
     ]
    }
   ],
   "source": [
    "class Classy:\n",
    "    varia = 1\n",
    "    def __init__(self):\n",
    "        self.var = 2\n",
    "\n",
    "    def method(self):\n",
    "        pass\n",
    "\n",
    "    def __hidden(self):\n",
    "        pass\n",
    "\n",
    "\n",
    "obj = Classy()\n",
    "\n",
    "print(obj.__dict__)\n",
    "print(Classy.__dict__)\n",
    "    "
   ]
  },
  {
   "cell_type": "markdown",
   "metadata": {},
   "source": [
    "#### ``__name__``\n",
    "\n",
    "Esta propiedad contiene el nombre de la clase, solo es una cadena. Este atributo solo existe dentro de la clase, no dentro de los objetos. Si deseas encontrar la clase a la cual pertenece un objeto podemos usar la funcion ``type()`` la cual es capaz, entre otras cosas, de encontrar la clase con la cual se ha creado el objeto."
   ]
  },
  {
   "cell_type": "code",
   "execution_count": 2,
   "metadata": {},
   "outputs": [
    {
     "name": "stdout",
     "output_type": "stream",
     "text": [
      "Classy\n",
      "Classy\n"
     ]
    }
   ],
   "source": [
    "class Classy:\n",
    "    pass\n",
    "\n",
    "\n",
    "print(Classy.__name__)\n",
    "obj = Classy()\n",
    "print(type(obj).__name__)\n",
    "    "
   ]
  },
  {
   "cell_type": "markdown",
   "metadata": {},
   "source": [
    "#### ``__module__``\n",
    "\n",
    "Almacena el nombre dle modulo que contiene la definicion de la clase. Es una cadena."
   ]
  },
  {
   "cell_type": "code",
   "execution_count": 3,
   "metadata": {},
   "outputs": [
    {
     "name": "stdout",
     "output_type": "stream",
     "text": [
      "__main__\n",
      "__main__\n"
     ]
    }
   ],
   "source": [
    "class Classy:\n",
    "    pass\n",
    "\n",
    "\n",
    "print(Classy.__module__)\n",
    "obj = Classy()\n",
    "print(obj.__module__)\n",
    "    "
   ]
  },
  {
   "cell_type": "markdown",
   "metadata": {},
   "source": [
    "Como sabes, cualquier archivo llamado ``__main__`` no es un modulo sino el archivo actualmente en ejecucion.\n",
    "\n",
    "#### ``__bases__``\n",
    "\n",
    "Es una tupla, la cual contiene las superclases directas de la clase en cuestion. El orden es el mismo que el usado en la definicion de la clase. Solo las clases tienen estos atributos, los objetos no."
   ]
  },
  {
   "cell_type": "code",
   "execution_count": 4,
   "metadata": {},
   "outputs": [
    {
     "name": "stdout",
     "output_type": "stream",
     "text": [
      "( object )\n",
      "( object )\n",
      "( SuperOne SuperTwo )\n"
     ]
    }
   ],
   "source": [
    "class SuperOne:\n",
    "    pass\n",
    "\n",
    "\n",
    "class SuperTwo:\n",
    "    pass\n",
    "\n",
    "\n",
    "class Sub(SuperOne, SuperTwo):\n",
    "    pass\n",
    "\n",
    "\n",
    "def printBases(cls):\n",
    "    print('( ', end='')\n",
    "\n",
    "    for x in cls.__bases__:\n",
    "        print(x.__name__, end=' ')\n",
    "    print(')')\n",
    "\n",
    "\n",
    "printBases(SuperOne)\n",
    "printBases(SuperTwo)\n",
    "printBases(Sub)\n",
    "    "
   ]
  },
  {
   "cell_type": "markdown",
   "metadata": {},
   "source": [
    "A continuacion, un ejemplo de como podemos manejar los objetos y las clases y conocer todo sobre ellos:"
   ]
  },
  {
   "cell_type": "code",
   "execution_count": 5,
   "metadata": {},
   "outputs": [
    {
     "name": "stdout",
     "output_type": "stream",
     "text": [
      "{'a': 1, 'b': 2, 'i': 3, 'ireal': 3.5, 'integer': 4, 'z': 5}\n",
      "{'a': 1, 'b': 2, 'i': 4, 'ireal': 3.5, 'integer': 5, 'z': 5}\n"
     ]
    }
   ],
   "source": [
    "class MyClass:\n",
    "    pass\n",
    "\n",
    "\n",
    "obj = MyClass()\n",
    "obj.a = 1\n",
    "obj.b = 2\n",
    "obj.i = 3\n",
    "obj.ireal = 3.5\n",
    "obj.integer = 4\n",
    "obj.z = 5\n",
    "\n",
    "\n",
    "def incIntsI(obj):\n",
    "    for name in obj.__dict__.keys():\n",
    "        if name.startswith('i'):\n",
    "            val = getattr(obj, name)\n",
    "            if isinstance(val, int):\n",
    "                setattr(obj, name, val + 1)\n",
    "\n",
    "\n",
    "print(obj.__dict__)\n",
    "incIntsI(obj)\n",
    "print(obj.__dict__)\n",
    "    "
   ]
  },
  {
   "cell_type": "markdown",
   "metadata": {},
   "source": [
    "La función llamada ``incIntsI()`` toma un objeto de cualquier clase, escanea su contenido para encontrar todos los atributos enteros con nombres que comienzan con i, y los incrementa en uno.\n",
    "\n",
    "¿Imposible? ¡De ninguna manera!\n",
    "\n",
    "Así es como funciona:\n",
    "\n",
    "1. La línea 1: define una clase muy simple...\n",
    "2. Las líneas 5 a la 11: ... la llenan con algunos atributos.\n",
    "3. La línea 14: ¡esta es nuestra función!\n",
    "4. La línea 15: escanea el atributo __dict__, buscando todos los nombres de atributos.\n",
    "5. La línea 16: si un nombre comienza con i...\n",
    "6. La línea 17: ... utiliza la función getattr() para obtener su valor actual; nota: getattr() toma dos argumentos: un objeto y su nombre de propiedad (como una cadena) y devuelve el valor del atributo actual.\n",
    "7. La línea 18: comprueba si el valor es de tipo entero, emplea la función isinstance() para este propósito (discutiremos esto más adelante).\n",
    "8. La línea 19: si la comprobación sale bien, incrementa el valor de la propiedad haciendo uso de la función setattr(); la función toma tres argumentos: un objeto, el nombre de la propiedad (como una cadena) y el nuevo valor de la propiedad."
   ]
  }
 ],
 "metadata": {
  "kernelspec": {
   "display_name": "Python 3",
   "language": "python",
   "name": "python3"
  },
  "language_info": {
   "codemirror_mode": {
    "name": "ipython",
    "version": 3
   },
   "file_extension": ".py",
   "mimetype": "text/x-python",
   "name": "python",
   "nbconvert_exporter": "python",
   "pygments_lexer": "ipython3",
   "version": "3.11.5"
  },
  "orig_nbformat": 4
 },
 "nbformat": 4,
 "nbformat_minor": 2
}
