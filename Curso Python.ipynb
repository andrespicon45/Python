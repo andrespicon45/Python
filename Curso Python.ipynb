{
 "cells": [
  {
   "cell_type": "markdown",
   "metadata": {},
   "source": [
    "# Curso Python MinTIC\n"
   ]
  },
  {
   "cell_type": "markdown",
   "metadata": {},
   "source": [
    "# MODULO 1: Variables en Python y operadores en Python:\n",
    "\n",
    "Una variable es un nombre que se usa para almacenar un valor, en Python no es necesario declarar variables dado que el propio lenguaje determina el tipo de variable y la caracteriza, para declarar o dar valor a una variable solo es necesario usar el signo \"=\". \n",
    "\n",
    "Python es sensible a las mayusculas y minusculas, por lo cual \"Edad\" y \"edad\" son variables distintas. Las variables no pueden comenzar con un numero ni tener espacios en blanco."
   ]
  },
  {
   "cell_type": "code",
   "execution_count": 12,
   "metadata": {},
   "outputs": [],
   "source": [
    "numero = 2\n",
    "edad = 23\n",
    "Edad = 22"
   ]
  },
  {
   "cell_type": "markdown",
   "metadata": {},
   "source": [
    "### Operadores Aritmeticos:\n",
    "\n",
    "Nos permiten realizar operaciones matematicas basicas. Los operadores de Python son:\n",
    "\n",
    "\"+\" para la suma\n",
    "\"-\" para la resta\n",
    "\"*\" para multiplicar\n",
    "\"/\" para division\n",
    "\"//\" para division entera, la cual devuelve solo la parte entera del resultado\n",
    "\"%\" para la operacion modulo, esta operacion devuelve el resto de la division entre dos numeros\n",
    "\"**\" para la exponenciaciòn"
   ]
  },
  {
   "cell_type": "code",
   "execution_count": 1,
   "metadata": {},
   "outputs": [
    {
     "name": "stdout",
     "output_type": "stream",
     "text": [
      "suma= 12 resta= 8 mult= 20 div= 5.0 div_int= 3 modulo= 1 exponenciacion= 9\n"
     ]
    }
   ],
   "source": [
    "a=10\n",
    "b=2\n",
    "c=3\n",
    "\n",
    "suma=a+b\n",
    "resta=a-b\n",
    "mult=a*b\n",
    "div=a/b\n",
    "div_int=a//c\n",
    "mod=a%c\n",
    "exp=3**2\n",
    "\n",
    "print(\"suma=\",suma,\n",
    "      \"resta=\",resta,\"mult=\",mult,\"div=\",div,\"div_int=\",div_int,\"modulo=\",mod, \"exponenciacion=\",exp)"
   ]
  },
  {
   "cell_type": "markdown",
   "metadata": {},
   "source": [
    "### Operadores de asignacion:\n",
    "\n",
    "Se usan para asignar valores a las variables, el operador de asignacion basico es \"=\", sin embargo, existen otros como lo son:\n",
    "\n",
    "\"+=\", \"-=\". \"*=\", \"/=\" asignacion con suma, resta, multiplicacion y division permiten operar un valor a la variable existente y asignarlo a esta misma variable"
   ]
  },
  {
   "cell_type": "code",
   "execution_count": 14,
   "metadata": {},
   "outputs": [
    {
     "name": "stdout",
     "output_type": "stream",
     "text": [
      "valor original= 1\n",
      "valor luego de usar asignacion con suma= 2\n"
     ]
    }
   ],
   "source": [
    "var=1\n",
    "\n",
    "print(\"valor original=\",var)\n",
    "\n",
    "var+=1\n",
    "\n",
    "print(\"valor luego de usar asignacion con suma=\",var)"
   ]
  },
  {
   "cell_type": "code",
   "execution_count": 15,
   "metadata": {},
   "outputs": [
    {
     "name": "stdout",
     "output_type": "stream",
     "text": [
      "valor original= 5\n",
      "valor luego de usar asignacion con resta= 4\n"
     ]
    }
   ],
   "source": [
    "var=5\n",
    "\n",
    "print(\"valor original=\",var)\n",
    "\n",
    "var-=1\n",
    "\n",
    "print(\"valor luego de usar asignacion con resta=\",var)"
   ]
  },
  {
   "cell_type": "code",
   "execution_count": 16,
   "metadata": {},
   "outputs": [
    {
     "name": "stdout",
     "output_type": "stream",
     "text": [
      "valor original= 5\n",
      "valor luego de usar asignacion con multiplicacion= 10\n"
     ]
    }
   ],
   "source": [
    "var=5\n",
    "\n",
    "print(\"valor original=\",var)\n",
    "\n",
    "var*=2\n",
    "\n",
    "print(\"valor luego de usar asignacion con multiplicacion=\",var)"
   ]
  },
  {
   "cell_type": "code",
   "execution_count": 17,
   "metadata": {},
   "outputs": [
    {
     "name": "stdout",
     "output_type": "stream",
     "text": [
      "valor original= 5\n",
      "valor luego de usar asignacion con division= 2.5\n"
     ]
    }
   ],
   "source": [
    "var=5\n",
    "\n",
    "print(\"valor original=\",var)\n",
    "\n",
    "var/=2\n",
    "\n",
    "print(\"valor luego de usar asignacion con division=\",var)"
   ]
  },
  {
   "cell_type": "markdown",
   "metadata": {},
   "source": [
    "### Operadores de comparacion:\n",
    "\n",
    "Estos operadores comparan el valor de dos variables y devuelven un resultado booleano (True o False), estos operadores son igualdad \"==\", desigualdad \"=!\", mayor que \">\", menor que \"<\", mayor o igual que \">=\" y menor o igual que \"=<\""
   ]
  },
  {
   "cell_type": "code",
   "execution_count": 18,
   "metadata": {},
   "outputs": [
    {
     "name": "stdout",
     "output_type": "stream",
     "text": [
      "True\n",
      "False\n",
      "True\n",
      "False\n",
      "True\n",
      "True\n"
     ]
    }
   ],
   "source": [
    "a=5\n",
    "b=7\n",
    "c=5\n",
    "\n",
    "var1=a<b\n",
    "var2=a>b\n",
    "var3=a==c\n",
    "var4=a!=c\n",
    "var5=b>=c\n",
    "var6=c<=b\n",
    "\n",
    "print(var1)\n",
    "print(var2)\n",
    "print(var3)\n",
    "print(var4)\n",
    "print(var5)\n",
    "print(var6)"
   ]
  },
  {
   "cell_type": "markdown",
   "metadata": {},
   "source": [
    "## Listas, Tuplas y diccionarios:\n",
    "\n",
    "### Listas:\n",
    "\n",
    "Una lista es una secuencia ordenada de objetos de distintos tipos, los distintos elemtos van entre corchetes y separados por comas."
   ]
  },
  {
   "cell_type": "code",
   "execution_count": 1,
   "metadata": {},
   "outputs": [
    {
     "name": "stdout",
     "output_type": "stream",
     "text": [
      "[1, 'casa', True]\n"
     ]
    }
   ],
   "source": [
    "lista=[1, \"casa\", True]\n",
    "\n",
    "print(lista)"
   ]
  },
  {
   "cell_type": "markdown",
   "metadata": {},
   "source": [
    "La funcion \"list\" crea una lista con los objetos dispuestos dentro del parentesis."
   ]
  },
  {
   "cell_type": "code",
   "execution_count": 7,
   "metadata": {},
   "outputs": [
    {
     "name": "stdout",
     "output_type": "stream",
     "text": [
      "['P', 'y', 't', 'h', 'o', 'n']\n"
     ]
    }
   ],
   "source": [
    "lista=list(\"Python\")\n",
    "\n",
    "print(lista)\n"
   ]
  },
  {
   "cell_type": "markdown",
   "metadata": {},
   "source": [
    "Para acceder a una lista se pone el nombre de la lista y entre corcetes el indice que queremos devolver."
   ]
  },
  {
   "cell_type": "code",
   "execution_count": 4,
   "metadata": {},
   "outputs": [
    {
     "name": "stdout",
     "output_type": "stream",
     "text": [
      "True\n"
     ]
    }
   ],
   "source": [
    "lista=[1, \"casa\", True]\n",
    "\n",
    "print(lista[2])"
   ]
  },
  {
   "cell_type": "markdown",
   "metadata": {},
   "source": [
    "Las sublistas pueden generarse a partir de una lista mediante la siguiente sintaxis:"
   ]
  },
  {
   "cell_type": "code",
   "execution_count": 5,
   "metadata": {},
   "outputs": [
    {
     "name": "stdout",
     "output_type": "stream",
     "text": [
      "['casa', 3, 'habitacion']\n"
     ]
    }
   ],
   "source": [
    "lista=[1, \"casa\", True, 3, 4, \"habitacion\", False]\n",
    "\n",
    "print(lista[1:6:2]) #Devuelve los valores en una lista desde el indice 1 al 6, en pasos de 2."
   ]
  },
  {
   "cell_type": "markdown",
   "metadata": {},
   "source": [
    "#### Operaciones que no modifican una lista:\n",
    "\n",
    "len(l) : Devuelve el número de elementos de la lista l.\n",
    "\n",
    "min(l) : Devuelve el mínimo elemento de la lista l siempre que los datos sean comparables.\n",
    "\n",
    "max(l) : Devuelve el máximo elemento de la lista l siempre que los datos sean comparables.\n",
    "\n",
    "sum(l) : Devuelve la suma de los elementos de la lista l, siempre que los datos se puedan sumar.\n",
    "\n",
    "dato in l : Devuelve True si el dato dato pertenece a la lista l y False en caso contrario.\n",
    "\n",
    "l.index(dato) : Devuelve la posición que ocupa en la lista l el primer elemento con valor dato.\n",
    "\n",
    "l.count(dato) : Devuelve el número de veces que el valor dato está contenido en la lista l.\n",
    "\n",
    "all(l) : Devuelve True si todos los elementos de la lista l son True y False en caso contrario.\n",
    "\n",
    "any(l) : Devuelve True si algún elemento de la lista l es True y False en caso contrario."
   ]
  },
  {
   "cell_type": "markdown",
   "metadata": {},
   "source": [
    "#### Operaciones que modifican una lista:\n",
    "\n",
    "l1 + l2 : Crea una nueva lista concatenan los elementos de la listas l1 y l2.\n",
    "\n",
    "l.append(dato) : Añade dato al final de la lista l.\n",
    "\n",
    "l.extend(sequencia) : Añade los datos de sequencia al final de la lista l.\n",
    "\n",
    "l.insert(índice, dato) : Inserta dato en la posición índice de la lista l y desplaza los elementos una posición a partir de la posición índice.\n",
    "\n",
    "l.remove(dato) : Elimina el primer elemento con valor dato en la lista l y desplaza los que están por detrás de él una posición hacia delante.\n",
    "\n",
    "l.pop([índice]) : Devuelve el dato en la posición índice y lo elimina de la lista l, desplazando los elementos por detrás de él una posición hacia delante.\n",
    "\n",
    "l.sort() : Ordena los elementos de la lista l de acuerdo al orden predefinido, siempre que los elementos sean comparables.\n",
    "\n",
    "l.reverse() : invierte el orden de los elementos de la lista l."
   ]
  },
  {
   "cell_type": "markdown",
   "metadata": {},
   "source": [
    "Para copiar una lista existen dos maneras, la copia por referencia y la copia por valor. La copia por referencia se realiza igualando las listas \"a=b\" pero si modificamos la lista \"b\" se modifica la lista \"a\". La copia por valor se realiza con la sintaxis \"lista2=list(lista1)\" en este caso, si se modifica \"lista2\" no se modifica \"lista1\"."
   ]
  },
  {
   "cell_type": "markdown",
   "metadata": {},
   "source": [
    "### Tuplas:\n",
    "\n",
    "Las tuplas contienen elementos que tienen un orden y no pueden ser alterados, se asignan dentro de parentesis separados por comas.\n",
    "\n",
    "La funcion \"tuple\" crea una tupla con los elementos definidos dentro del parentesis. Las operaciones que no modifican las listas son iguales a las de las tuplas, pero la que si modifican la lista no son aplicables a las tuplas dado que son inalterables."
   ]
  },
  {
   "cell_type": "code",
   "execution_count": 9,
   "metadata": {},
   "outputs": [
    {
     "name": "stdout",
     "output_type": "stream",
     "text": [
      "(1, 2, 'casa', True)\n",
      "('c', 'a', 's', 'a')\n"
     ]
    }
   ],
   "source": [
    "tupla=(1,2, \"casa\", True)\n",
    "\n",
    "tupla2=tuple(\"casa\")\n",
    "\n",
    "print(tupla)\n",
    "print(tupla2)\n"
   ]
  },
  {
   "cell_type": "markdown",
   "metadata": {},
   "source": [
    "### Diccionarios:\n",
    "\n",
    "Es un conjunto de pares formado por una clave y un valor asociado a la clave. Se contruyen usando llaves, separando los pares por comas y la clave del valor por medio de :. Estos no poseen orden, contener elementos de distintos tipos y poseen clavez unicas. Pueden ser anidados."
   ]
  },
  {
   "cell_type": "code",
   "execution_count": 11,
   "metadata": {},
   "outputs": [
    {
     "name": "stdout",
     "output_type": "stream",
     "text": [
      "{'pedro': 18, 'juan': 32, 'luisa': {'maria': 20, 'ramon': 15}}\n",
      "18\n",
      "5\n"
     ]
    }
   ],
   "source": [
    "dic1={\"pedro\":18, \"juan\":32, \"luisa\":{\"maria\":20, \"ramon\":15}}\n",
    "print(dic1)\n",
    "\n",
    "print(dic1[\"pedro\"]) #Devulve el valor asociado a la clave\n",
    "\n",
    "print(dic1.get(\"maria\",5)) #Devuelve el valor de la clave, si no existe, devuelve el valor dado"
   ]
  },
  {
   "cell_type": "markdown",
   "metadata": {},
   "source": [
    "#### Operaciones que no modifican un diccionario:\n",
    "\n",
    "- len(d) : Devuelve el número de elementos del diccionario d.\n",
    "\n",
    "- min(d) : Devuelve la mínima clave del diccionario d siempre que las claves sean comparables.\n",
    "\n",
    "- max(d) : Devuelve la máxima clave del diccionario d siempre que las claves sean comparables.\n",
    "\n",
    "- sum(d) : Devuelve la suma de las claves del diccionario d, siempre que las claves se puedan sumar.\n",
    "\n",
    "- clave in d : Devuelve True si la clave clave pertenece al diccionario d y False en caso contrario.\n",
    "\n",
    "- d.keys() : Devuelve un iterador sobre las claves de un diccionario.\n",
    "\n",
    "- d.values() : Devuelve un iterador sobre los valores de un diccionario.\n",
    "\n",
    "- d.items() : Devuelve un iterador sobre los pares clave-valor de un diccionario.\n",
    "\n",
    "#### Operaciones que modifican un diccionario:\n",
    "\n",
    "- d[clave] = valor : Añade al diccionario d el par formado por la clave clave y el valor valor.\n",
    "\n",
    "- d.update(d2). Añade los pares del diccionario d2 al diccionario d.\n",
    "\n",
    "- d.pop(clave, alternativo) : Devuelve del valor asociado a la clave clave del diccionario d y lo elimina del diccionario. Si la clave no está devuelve el valor alternativo.\n",
    "\n",
    "- d.popitem() : Devuelve la tupla formada por la clave y el valor del último par añadido al diccionario d y lo elimina del diccionario.\n",
    "\n",
    "- del d[clave] : Elimina del diccionario d el par con la clave clave.\n",
    "\n",
    "- d.clear() : Elimina todos los pares del diccionario d de manera que se queda vacío.\n",
    "\n",
    "La copia de diccionarios es igual a la copia de listas, tanto por referencia como por valor."
   ]
  },
  {
   "cell_type": "markdown",
   "metadata": {},
   "source": [
    "## Sintaxis de estructuras de control en Python:\n",
    "\n",
    "Nos permiten constrolar el flujo de ejecucion de un codigo, ademas, nos permiten tomar decisiones, repetir acciones y crear una logica.\n",
    "\n",
    "### Estructura de control IF:\n",
    "\n",
    "Nos permite tomar decisiones en funcion de una considicion, la sintaxis de IF es la siguiente:\n",
    "\n",
    "if (condicion):"
   ]
  },
  {
   "cell_type": "code",
   "execution_count": 19,
   "metadata": {},
   "outputs": [
    {
     "name": "stdout",
     "output_type": "stream",
     "text": [
      "El numero es menor a 10\n"
     ]
    }
   ],
   "source": [
    "num=9\n",
    "\n",
    "if num < 10:\n",
    "    print(\"El numero es menor a 10\")"
   ]
  },
  {
   "cell_type": "markdown",
   "metadata": {},
   "source": [
    "Tambien podemos usar la estructura de control \"else\" que nos permite ejecutar otra fraccion de codigo en caso de que la primer condicion sea falsa:"
   ]
  },
  {
   "cell_type": "code",
   "execution_count": 20,
   "metadata": {},
   "outputs": [
    {
     "name": "stdout",
     "output_type": "stream",
     "text": [
      "El numero es mayor a 10\n"
     ]
    }
   ],
   "source": [
    "num=11\n",
    "\n",
    "if num < 10:\n",
    "    print(\"El numero es menor a 10\")\n",
    "else:\n",
    "    print(\"El numero es mayor a 10\")"
   ]
  },
  {
   "cell_type": "markdown",
   "metadata": {},
   "source": [
    "### Estructura de control IF-ELIF-ELSE:\n",
    "\n",
    "Nos permite comprobar varias condiciones relacionadas con una variable, a continuacion, se muestra un ejemplo. Es importante saber que en el momento en el cual el codigo ejecuta una condicion y es verdadera, se cancela la ejecucion del resto de la estructura de control."
   ]
  },
  {
   "cell_type": "code",
   "execution_count": 21,
   "metadata": {},
   "outputs": [
    {
     "name": "stdout",
     "output_type": "stream",
     "text": [
      "El numero es menor que 40\n"
     ]
    }
   ],
   "source": [
    "a=20\n",
    "\n",
    "if a>40:\n",
    "    print(\"El mumero es mayor a 40\")\n",
    "elif a<40:\n",
    "    print(\"El numero es menor que 40\")\n",
    "else:\n",
    "    print(\"el numero es igual a 40\")"
   ]
  },
  {
   "cell_type": "markdown",
   "metadata": {},
   "source": [
    "### Estructura de control WHILE:\n",
    "\n",
    "Nos permite repetir un bloque de codigo mientras una condicion sea verdadera, su sintaxis es la siguiente:"
   ]
  },
  {
   "cell_type": "code",
   "execution_count": 22,
   "metadata": {},
   "outputs": [
    {
     "name": "stdout",
     "output_type": "stream",
     "text": [
      "el nuevo valor de 'a' es 6\n",
      "el nuevo valor de 'a' es 7\n",
      "el nuevo valor de 'a' es 8\n",
      "el nuevo valor de 'a' es 9\n"
     ]
    }
   ],
   "source": [
    "a=5\n",
    "b=9\n",
    "\n",
    "while a<b:\n",
    "    a+=1\n",
    "    print(\"el nuevo valor de 'a' es\",a)"
   ]
  },
  {
   "cell_type": "markdown",
   "metadata": {},
   "source": [
    "### Estructura de control FOR:\n",
    "\n",
    "Se usa para iterar sobre una lista o una cadena de caracteres:"
   ]
  },
  {
   "cell_type": "code",
   "execution_count": 23,
   "metadata": {},
   "outputs": [
    {
     "name": "stdout",
     "output_type": "stream",
     "text": [
      "manzana\n",
      "pera\n",
      "uva\n"
     ]
    }
   ],
   "source": [
    "frutas=[\"manzana\",\"pera\",\"uva\"] #asi se nombra una lista dentro de Python\n",
    "\n",
    "for fruta in frutas:\n",
    "    print(fruta)"
   ]
  },
  {
   "cell_type": "markdown",
   "metadata": {},
   "source": [
    "FOR tambien nos permite usar la funcion \"range\" para generar una secuencia dentro de un rango de numeros:"
   ]
  },
  {
   "cell_type": "code",
   "execution_count": 24,
   "metadata": {},
   "outputs": [
    {
     "name": "stdout",
     "output_type": "stream",
     "text": [
      "1\n",
      "2\n",
      "3\n",
      "4\n",
      "5\n",
      "6\n",
      "7\n",
      "8\n",
      "9\n"
     ]
    }
   ],
   "source": [
    "for i in range(1,10):\n",
    "    print(i)"
   ]
  },
  {
   "cell_type": "markdown",
   "metadata": {},
   "source": [
    "Los diccionarios en Python son una estructura de datos que permite almacenar pares de valores de manera no ordenada. Para crearlos se usa el simbolo \"{}\". A continuacion, generamos un codigo el cual ejemplifica una taqueria en la cual el ciliente ingresa los productos que desea, termina con el comando CONTROL-D y el codigo devuelve el valor total del pedido."
   ]
  },
  {
   "cell_type": "code",
   "execution_count": null,
   "metadata": {},
   "outputs": [],
   "source": [
    "menu = {\n",
    "        \"baja taco\":4.00,\n",
    "        \"burritos\":7.50,\n",
    "        \"bowl\":8.50,\n",
    "        \"nachos\":11.00,\n",
    "        \"quesadilla\":8.50,\n",
    "        \"super burrito\":8.50,\n",
    "        \"super quesadilla\":9.50,\n",
    "        \"taco\":3.00,\n",
    "        \"tortilla salad\":8.00 \n",
    "    }\n",
    "\n",
    "order_total=0.0\n",
    "while True:\n",
    "    try:\n",
    "        item=input(\"Ingrese su pedido:\" )\n",
    "    except EOFError:\n",
    "        break\n",
    "    item = item.lower()\n",
    "    if item in menu:\n",
    "        order_total += menu[item]\n",
    "        print(f\"${order_total:.2f}\")\n",
    "    elif item == \"terminado\":\n",
    "        print(f\"El total de su pedido es ${order_total:.2f}\")\n",
    "        break\n",
    "    else:\n",
    "        print(\"Articulo invalido\")"
   ]
  },
  {
   "cell_type": "markdown",
   "metadata": {},
   "source": [
    "## Desarrollo de algoritmos en Python\n",
    "\n",
    "Nos permite crear una secuencia de pasos logicos para resolver problemas. Existen una serie de pasos que nos permiten generar algoritmos de manera optima, son los siguientes:\n",
    "\n",
    "1. Entender el problema: Debe entenderse completamente el problema a abordar, conocer las entradas, salidas y criterios de exito.\n",
    "2. Dividir el problema en subproblemas: Permite abordar un problema mayor en pequeños problemas mas sencillos y luego combinar los resultados para obtener la solucion general.\n",
    "3. Diseñar una solucion algoritmica: Establece pasos para solucionar cada subproblema, necesitamos un lenguaje claro y estructurado, usando pseudo codigo o diagramas de flujo para describir la logica del algoritmo.\n",
    "4. Implementar el algoritmo en Python.\n",
    "5. Probar y depurar el codigo: Permite encontrar errores y corregirlos.\n",
    "\n",
    "A continuacion, un ejemplo: Supongamos que queremos diseñarun algoritmo para calcular el área de un triángulo. A continuación, semuestra un posible enfoque algorítmico para resolver este problema:\n",
    "1. Leer la base del triángulo desde el usuario.\n",
    "2. Leer la altura del triángulo desde el usuario.\n",
    "3. Calcular el área del triángulo utilizando la fórmula: área = (base *altura) / 2.\n",
    "4. Mostrar el resultado del cálculo del área en la pantalla.\n",
    "\n",
    "Implementemos el codigo:"
   ]
  },
  {
   "cell_type": "code",
   "execution_count": 1,
   "metadata": {},
   "outputs": [
    {
     "name": "stdout",
     "output_type": "stream",
     "text": [
      "El area del triangulo es:7.5\n"
     ]
    }
   ],
   "source": [
    "base=float(input(\"ingrese la base del triangulo:\"))\n",
    "altura=float(input(\"ingrese la altura del triangulo:\"))\n",
    "\n",
    "area=base*altura/2\n",
    "\n",
    "print(f\"El area del triangulo es:{area}\")"
   ]
  },
  {
   "cell_type": "markdown",
   "metadata": {},
   "source": [
    "Problema:\n",
    "Dado un número entero positivo, determinar si es primo o no.\n",
    "\n",
    "Algoritmo:\n",
    "Leer el número desde el usuario.\n",
    "Inicializar una variable booleana es_primo como verdadera.\n",
    "Verificar si el número es menor o igual a 1. En ese caso, asignar es_primo como falso.\n",
    "Iterar desde 2 hasta la mitad del número (redondeando hacia arriba).\n",
    "Si el número es divisible entre cualquier valor en ese rango, asignar es_primo como falso y salir del bucle.\n",
    "Si es_primo es verdadera, imprimir \"El número es primo\".\n",
    "De lo contrario, imprimir \"El número no es primo\"."
   ]
  },
  {
   "cell_type": "code",
   "execution_count": 37,
   "metadata": {},
   "outputs": [
    {
     "name": "stdout",
     "output_type": "stream",
     "text": [
      "El numero es primo\n"
     ]
    }
   ],
   "source": [
    "num=int(input(\"ingrese un numero:\"))\n",
    "\n",
    "if num<1:\n",
    "    print(\"1.No es primo\")\n",
    "else:\n",
    "    for i in range(2, (num//2)+2):\n",
    "        \n",
    "        basura=num%i\n",
    "        \n",
    "        if basura==0:\n",
    "            print(\"No es primo\")\n",
    "            break\n",
    "        else:     \n",
    "            print(\"El numero es primo\")\n",
    "            break\n"
   ]
  },
  {
   "cell_type": "markdown",
   "metadata": {},
   "source": [
    "Ejemplo de algoritmos con string"
   ]
  },
  {
   "cell_type": "code",
   "execution_count": 45,
   "metadata": {},
   "outputs": [
    {
     "name": "stdout",
     "output_type": "stream",
     "text": [
      "La palabra abreviada es: hmblg\n"
     ]
    }
   ],
   "source": [
    "def eliminar_vocales():\n",
    "    #\"def\" permite crear funciones que pueden ser llamadas mas adelante en el codigo\n",
    "    \n",
    "    palabra=(input(\"ingrese una palabra:\"))\n",
    "    resultado=twttrr(palabra)\n",
    "    print(\"La palabra abreviada es: \"+''.join(resultado))\n",
    "    #\"join\" es un metodo que permite unir cadenas de texto contenidas en una lista, el inverso a este metodo es el metodo \"split\"\n",
    "\n",
    "def twttrr(pal): \n",
    "    #lo contenido dentro del parentesis es el o los argumentos que recibe la funcion\n",
    "    \n",
    "    pal=pal.lower()#el metodo lower pone en minuscula una cadena de texto\n",
    "    sal=[]\n",
    "    for z in range(len(pal)):#la funcion len determina la longitud de una cadena de texto\n",
    "        if pal[z] not in [\"a\", \"e\", \"i\", \"o\", \"u\"]:\n",
    "            sal.append(pal[z])#El metodo append agrega un valor o caracter al final de una lista\n",
    "    return sal\n",
    "\n",
    "eliminar_vocales() #aqui estoy llamando la funcion\n"
   ]
  },
  {
   "cell_type": "markdown",
   "metadata": {},
   "source": [
    "Un ejemplo màs de algoritmos con string"
   ]
  },
  {
   "cell_type": "code",
   "execution_count": 51,
   "metadata": {},
   "outputs": [
    {
     "name": "stdout",
     "output_type": "stream",
     "text": [
      "El nomnbre de usuario en snake_case es: andres_picon\n"
     ]
    }
   ],
   "source": [
    "camel_case=input(\"ingrese un nombre de usuario en camelCase:\")\n",
    "snake_case=\"\"\n",
    "\n",
    "for i in range(len(camel_case)):\n",
    "    if camel_case[i].isupper():\n",
    "        snake_case+=\"_\"+camel_case[i].lower()\n",
    "    else:\n",
    "        snake_case+=camel_case[i]\n",
    "\n",
    "print(\"El nomnbre de usuario en snake_case es:\", snake_case)"
   ]
  },
  {
   "cell_type": "markdown",
   "metadata": {},
   "source": [
    "## Actividades practicas\n",
    "\n",
    "Escriba un algoritmo para calcular la factorial de un número. Recuerda que la factorial de un número n es el producto de todos los números enteros positivos desde 1 hasta n."
   ]
  },
  {
   "cell_type": "code",
   "execution_count": 93,
   "metadata": {},
   "outputs": [
    {
     "name": "stdout",
     "output_type": "stream",
     "text": [
      "El factorial del numero es: 120\n"
     ]
    }
   ],
   "source": [
    "num=float(input())\n",
    "resultado=1\n",
    "\n",
    "if ((num%int(num)!=0.0) or (num<0)):\n",
    "   print(\"Este no es un entero positivo\")\n",
    "else:\n",
    "   for i in range(1,int(num)+1):\n",
    "       resultado*=i\n",
    "   print(\"El factorial del numero es:\", resultado)"
   ]
  },
  {
   "cell_type": "markdown",
   "metadata": {},
   "source": [
    "Escriba un algoritmo para determinar si una palabra es un palíndromo. Un palíndromo es una palabra que se lee igual al revés que al derecho."
   ]
  },
  {
   "cell_type": "code",
   "execution_count": 96,
   "metadata": {},
   "outputs": [
    {
     "name": "stdout",
     "output_type": "stream",
     "text": [
      "reconocer es un palindromo\n"
     ]
    }
   ],
   "source": [
    "palabra=input(\"Ingrese una palabra para comprobar si es palindromo:\")\n",
    "cadena_inv=\"\"\n",
    "\n",
    "for letra in palabra:\n",
    "    cadena_inv=letra+cadena_inv\n",
    "\n",
    "if palabra==cadena_inv:\n",
    "    print(palabra, \"es un palindromo\")\n",
    "else:\n",
    "    print(palabra, \"no es un palindromo\")    "
   ]
  },
  {
   "cell_type": "markdown",
   "metadata": {},
   "source": [
    " Implementa un algoritmo que ordene una lista de números de menor a mayor. Puedes usar cualquier algoritmo de ordenación que prefieras.\n"
   ]
  },
  {
   "cell_type": "code",
   "execution_count": 184,
   "metadata": {},
   "outputs": [
    {
     "name": "stdout",
     "output_type": "stream",
     "text": [
      "El valor de i es: 0\n",
      "El valor de j es: 1\n",
      "[547, 516, 4847, 616, 711, 146, 1614, 164, 564, 945]\n",
      "El valor de i es: 0\n",
      "El valor de j es: 0\n",
      "El valor de i es: 0\n",
      "El valor de j es: 1\n",
      "[516, 4847, 616, 711, 146, 1614, 164, 564, 945, 547]\n",
      "El valor de i es: 0\n",
      "El valor de j es: 0\n",
      "El valor de i es: 0\n",
      "El valor de j es: 1\n",
      "El valor de i es: 0\n",
      "El valor de j es: 2\n",
      "El valor de i es: 0\n",
      "El valor de j es: 3\n",
      "El valor de i es: 0\n",
      "El valor de j es: 4\n",
      "[4847, 616, 711, 146, 1614, 164, 564, 945, 547, 516]\n",
      "El valor de i es: 0\n",
      "El valor de j es: 0\n",
      "El valor de i es: 0\n",
      "El valor de j es: 1\n",
      "[616, 711, 146, 1614, 164, 564, 945, 547, 516, 4847]\n",
      "El valor de i es: 0\n",
      "El valor de j es: 0\n",
      "El valor de i es: 0\n",
      "El valor de j es: 1\n",
      "El valor de i es: 0\n",
      "El valor de j es: 2\n",
      "[711, 146, 1614, 164, 564, 945, 547, 516, 4847, 616]\n",
      "El valor de i es: 0\n",
      "El valor de j es: 0\n",
      "El valor de i es: 0\n",
      "El valor de j es: 1\n",
      "[146, 1614, 164, 564, 945, 547, 516, 4847, 616, 711]\n",
      "El valor de i es: 0\n",
      "El valor de j es: 0\n",
      "El valor de i es: 0\n",
      "El valor de j es: 1\n",
      "El valor de i es: 0\n",
      "El valor de j es: 2\n",
      "El valor de i es: 0\n",
      "El valor de j es: 3\n",
      "El valor de i es: 0\n",
      "El valor de j es: 4\n",
      "El valor de i es: 0\n",
      "El valor de j es: 5\n",
      "El valor de i es: 0\n",
      "El valor de j es: 6\n",
      "El valor de i es: 0\n",
      "El valor de j es: 7\n",
      "El valor de i es: 0\n",
      "El valor de j es: 8\n",
      "El valor de i es: 0\n",
      "El valor de j es: 9\n",
      "El valor de i es: 1\n",
      "El valor de j es: 1\n",
      "El valor de i es: 1\n",
      "El valor de j es: 2\n",
      "[146, 164, 564, 945, 547, 516, 4847, 616, 711, 1614]\n",
      "El valor de i es: 1\n",
      "El valor de j es: 1\n",
      "El valor de i es: 1\n",
      "El valor de j es: 2\n",
      "El valor de i es: 1\n",
      "El valor de j es: 3\n",
      "El valor de i es: 1\n",
      "El valor de j es: 4\n",
      "El valor de i es: 1\n",
      "El valor de j es: 5\n",
      "El valor de i es: 1\n",
      "El valor de j es: 6\n",
      "El valor de i es: 1\n",
      "El valor de j es: 7\n",
      "El valor de i es: 1\n",
      "El valor de j es: 8\n",
      "El valor de i es: 1\n",
      "El valor de j es: 9\n",
      "El valor de i es: 2\n",
      "El valor de j es: 2\n",
      "El valor de i es: 2\n",
      "El valor de j es: 3\n",
      "El valor de i es: 2\n",
      "El valor de j es: 4\n",
      "[146, 164, 945, 547, 516, 4847, 616, 711, 1614, 564]\n",
      "El valor de i es: 2\n",
      "El valor de j es: 2\n",
      "El valor de i es: 2\n",
      "El valor de j es: 3\n",
      "[146, 164, 547, 516, 4847, 616, 711, 1614, 564, 945]\n",
      "El valor de i es: 2\n",
      "El valor de j es: 2\n",
      "El valor de i es: 2\n",
      "El valor de j es: 3\n",
      "[146, 164, 516, 4847, 616, 711, 1614, 564, 945, 547]\n",
      "El valor de i es: 2\n",
      "El valor de j es: 2\n",
      "El valor de i es: 2\n",
      "El valor de j es: 3\n",
      "El valor de i es: 2\n",
      "El valor de j es: 4\n",
      "El valor de i es: 2\n",
      "El valor de j es: 5\n",
      "El valor de i es: 2\n",
      "El valor de j es: 6\n",
      "El valor de i es: 2\n",
      "El valor de j es: 7\n",
      "El valor de i es: 2\n",
      "El valor de j es: 8\n",
      "El valor de i es: 2\n",
      "El valor de j es: 9\n",
      "El valor de i es: 3\n",
      "El valor de j es: 3\n",
      "El valor de i es: 3\n",
      "El valor de j es: 4\n",
      "[146, 164, 516, 616, 711, 1614, 564, 945, 547, 4847]\n",
      "El valor de i es: 3\n",
      "El valor de j es: 3\n",
      "El valor de i es: 3\n",
      "El valor de j es: 4\n",
      "El valor de i es: 3\n",
      "El valor de j es: 5\n",
      "El valor de i es: 3\n",
      "El valor de j es: 6\n",
      "[146, 164, 516, 711, 1614, 564, 945, 547, 4847, 616]\n",
      "El valor de i es: 3\n",
      "El valor de j es: 3\n",
      "El valor de i es: 3\n",
      "El valor de j es: 4\n",
      "El valor de i es: 3\n",
      "El valor de j es: 5\n",
      "[146, 164, 516, 1614, 564, 945, 547, 4847, 616, 711]\n",
      "El valor de i es: 3\n",
      "El valor de j es: 3\n",
      "El valor de i es: 3\n",
      "El valor de j es: 4\n",
      "[146, 164, 516, 564, 945, 547, 4847, 616, 711, 1614]\n",
      "El valor de i es: 3\n",
      "El valor de j es: 3\n",
      "El valor de i es: 3\n",
      "El valor de j es: 4\n",
      "El valor de i es: 3\n",
      "El valor de j es: 5\n",
      "[146, 164, 516, 945, 547, 4847, 616, 711, 1614, 564]\n",
      "El valor de i es: 3\n",
      "El valor de j es: 3\n",
      "El valor de i es: 3\n",
      "El valor de j es: 4\n",
      "[146, 164, 516, 547, 4847, 616, 711, 1614, 564, 945]\n",
      "El valor de i es: 3\n",
      "El valor de j es: 3\n",
      "El valor de i es: 3\n",
      "El valor de j es: 4\n",
      "El valor de i es: 3\n",
      "El valor de j es: 5\n",
      "El valor de i es: 3\n",
      "El valor de j es: 6\n",
      "El valor de i es: 3\n",
      "El valor de j es: 7\n",
      "El valor de i es: 3\n",
      "El valor de j es: 8\n",
      "El valor de i es: 3\n",
      "El valor de j es: 9\n",
      "El valor de i es: 4\n",
      "El valor de j es: 4\n",
      "El valor de i es: 4\n",
      "El valor de j es: 5\n",
      "[146, 164, 516, 547, 616, 711, 1614, 564, 945, 4847]\n",
      "El valor de i es: 4\n",
      "El valor de j es: 4\n",
      "El valor de i es: 4\n",
      "El valor de j es: 5\n",
      "El valor de i es: 4\n",
      "El valor de j es: 6\n",
      "El valor de i es: 4\n",
      "El valor de j es: 7\n",
      "[146, 164, 516, 547, 711, 1614, 564, 945, 4847, 616]\n",
      "El valor de i es: 4\n",
      "El valor de j es: 4\n",
      "El valor de i es: 4\n",
      "El valor de j es: 5\n",
      "El valor de i es: 4\n",
      "El valor de j es: 6\n",
      "[146, 164, 516, 547, 1614, 564, 945, 4847, 616, 711]\n",
      "El valor de i es: 4\n",
      "El valor de j es: 4\n",
      "El valor de i es: 4\n",
      "El valor de j es: 5\n",
      "[146, 164, 516, 547, 564, 945, 4847, 616, 711, 1614]\n",
      "El valor de i es: 4\n",
      "El valor de j es: 4\n",
      "El valor de i es: 4\n",
      "El valor de j es: 5\n",
      "El valor de i es: 4\n",
      "El valor de j es: 6\n",
      "El valor de i es: 4\n",
      "El valor de j es: 7\n",
      "El valor de i es: 4\n",
      "El valor de j es: 8\n",
      "El valor de i es: 4\n",
      "El valor de j es: 9\n",
      "El valor de i es: 5\n",
      "El valor de j es: 5\n",
      "El valor de i es: 5\n",
      "El valor de j es: 6\n",
      "El valor de i es: 5\n",
      "El valor de j es: 7\n",
      "[146, 164, 516, 547, 564, 4847, 616, 711, 1614, 945]\n",
      "El valor de i es: 5\n",
      "El valor de j es: 5\n",
      "El valor de i es: 5\n",
      "El valor de j es: 6\n",
      "[146, 164, 516, 547, 564, 616, 711, 1614, 945, 4847]\n",
      "El valor de i es: 5\n",
      "El valor de j es: 5\n",
      "El valor de i es: 5\n",
      "El valor de j es: 6\n",
      "El valor de i es: 5\n",
      "El valor de j es: 7\n",
      "El valor de i es: 5\n",
      "El valor de j es: 8\n",
      "El valor de i es: 5\n",
      "El valor de j es: 9\n",
      "El valor de i es: 6\n",
      "El valor de j es: 6\n",
      "El valor de i es: 6\n",
      "El valor de j es: 7\n",
      "El valor de i es: 6\n",
      "El valor de j es: 8\n",
      "El valor de i es: 6\n",
      "El valor de j es: 9\n",
      "El valor de i es: 7\n",
      "El valor de j es: 7\n",
      "El valor de i es: 7\n",
      "El valor de j es: 8\n",
      "[146, 164, 516, 547, 564, 616, 711, 945, 4847, 1614]\n",
      "El valor de i es: 7\n",
      "El valor de j es: 7\n",
      "El valor de i es: 7\n",
      "El valor de j es: 8\n",
      "El valor de i es: 7\n",
      "El valor de j es: 9\n",
      "El valor de i es: 8\n",
      "El valor de j es: 8\n",
      "El valor de i es: 8\n",
      "El valor de j es: 9\n",
      "[146, 164, 516, 547, 564, 616, 711, 945, 1614, 4847]\n",
      "El valor de i es: 8\n",
      "El valor de j es: 8\n",
      "El valor de i es: 8\n",
      "El valor de j es: 9\n",
      "El valor de i es: 9\n",
      "El valor de j es: 9\n",
      "[146, 164, 516, 547, 564, 616, 711, 945, 1614, 4847]\n"
     ]
    }
   ],
   "source": [
    "lista_num=[945,547,516,4847,616,711,146,1614,164,564]\n",
    "i=0\n",
    "j=1\n",
    "while True:\n",
    "    print(\"El valor de i es:\",i)\n",
    "    print(\"El valor de j es:\",j)\n",
    "    if lista_num[i]>lista_num[j]:\n",
    "        lista_num.append(lista_num[i])\n",
    "        lista_num.pop(i)\n",
    "        print(lista_num)\n",
    "        j=i\n",
    "    else:\n",
    "        if i==len(lista_num)-1:\n",
    "            break\n",
    "        elif j==len(lista_num)-1:\n",
    "            i+=1\n",
    "            j=i\n",
    "        else:\n",
    "            j+=1\n",
    "print(lista_num)"
   ]
  },
  {
   "cell_type": "markdown",
   "metadata": {},
   "source": [
    "# MODULO 2: Funciones y procedimientos\n",
    "\n",
    "Una funcion es una secuencia de instrucciones que se encarga de realizar una tarea especifica y devuelve un resultado. Un procedimiento tambien es una secuencia de instrucciones que realizan una tarea especifica pero que no devuelve un resultado, sino que se encarga de realizar un proceso necesario.\n",
    "\n",
    "Para definir una funcion debemos tener la siguiente sintaxis:"
   ]
  },
  {
   "cell_type": "code",
   "execution_count": null,
   "metadata": {},
   "outputs": [],
   "source": [
    "def nombre_de_funcion(parametros):·#Define el nombre la funcion y los parametros a ingresar\n",
    "\n",
    "#bloque de codigo de la funcion o instrucciones a ejecutar\n",
    "\n",
    "return valor_de_retorno #devuelve el resultado de la funcion"
   ]
  },
  {
   "cell_type": "markdown",
   "metadata": {},
   "source": [
    "Para pasar un numero indeterminado de argumentos a una funcion, se puede usar la siguiente sintaxis:"
   ]
  },
  {
   "cell_type": "code",
   "execution_count": 12,
   "metadata": {},
   "outputs": [
    {
     "name": "stdout",
     "output_type": "stream",
     "text": [
      "Hoy tenemos: pasta, pizza, ensalada, "
     ]
    }
   ],
   "source": [
    "def menu(*platos):\n",
    "    print('Hoy tenemos: ', end='')\n",
    "    for plato in platos:\n",
    "        print(plato, end=', ')\n",
    "    return\n",
    "\n",
    "menu('pasta', 'pizza', 'ensalada')\n"
   ]
  },
  {
   "cell_type": "markdown",
   "metadata": {},
   "source": [
    "A continuacion, un ejemplo de una funcion que calcula el area de un rectangulo:"
   ]
  },
  {
   "cell_type": "code",
   "execution_count": 5,
   "metadata": {},
   "outputs": [
    {
     "name": "stdout",
     "output_type": "stream",
     "text": [
      "15.0\n"
     ]
    }
   ],
   "source": [
    "def area_rec(base, altura):\n",
    "    area=base*altura\n",
    "    return area\n",
    "\n",
    "# base=input(\"ingrese la base\")\n",
    "# altura=input(\"Ingrese la altura\")\n",
    "resultado = area_rec(float(input(\"ingrese la base\")),float(input(\"Ingrese la altura\")))\n",
    "print(resultado)"
   ]
  },
  {
   "cell_type": "markdown",
   "metadata": {},
   "source": [
    "Como se dijo anteriormente, los procedimientos no devuelven un resultado, sino que realizan una serie de tareas especificas. Mantiene la siguiente sintaxis:"
   ]
  },
  {
   "cell_type": "code",
   "execution_count": 7,
   "metadata": {},
   "outputs": [
    {
     "name": "stdout",
     "output_type": "stream",
     "text": [
      "hola andres\n",
      "None\n"
     ]
    }
   ],
   "source": [
    "def saludar(nombre):\n",
    "    print(\"hola\", nombre)\n",
    "\n",
    "print(saludar(input(\"ingrese su nombre\")))"
   ]
  },
  {
   "cell_type": "markdown",
   "metadata": {},
   "source": [
    "## Ventajas de utilizar funciones y procedimientos:\n",
    "\n",
    "1. Reutilizacion de codigo: Podemos escribir un codigo una vez y usarlo en distintos lugares del programa. asi evita la duplicacion de codigo.\n",
    "2. Modularidad: Permite segmentar el codigo general en pequeñas partes mas sencillas de comprender.\n",
    "3. Abstraccion: permite enfocar en el \"que\" y no en el \"como\" de los procesos.\n",
    "4. Facilidad de mantenimineto: al ser procedimientos mas pequeños y especificos, hace mas facil la realizacion de los cambios."
   ]
  },
  {
   "cell_type": "markdown",
   "metadata": {},
   "source": [
    "### Parametros de funciones y procedimeintos:\n",
    "\n",
    "Existen dos tipos de parametros, parametros posicionales y parametros con nombre.\n",
    "\n",
    "Los parametros posicionales se definen en el orden que se esperan dentro de la funcion, por ejemplo:"
   ]
  },
  {
   "cell_type": "code",
   "execution_count": 9,
   "metadata": {},
   "outputs": [
    {
     "name": "stdout",
     "output_type": "stream",
     "text": [
      "9\n"
     ]
    }
   ],
   "source": [
    "def sumar (a,b):\n",
    "    resultado=a+b\n",
    "    return resultado\n",
    "\n",
    "print(sumar(4,5))"
   ]
  },
  {
   "cell_type": "markdown",
   "metadata": {},
   "source": [
    "Los parámetros con nombre se especifican junto con su valorcorrespondiente al llamar a la función o procedimiento. Esto nospermite asignar valores específicos a los parámetros, incluso si estánfuera de orden. Por ejemplo:"
   ]
  },
  {
   "cell_type": "code",
   "execution_count": 11,
   "metadata": {},
   "outputs": [
    {
     "name": "stdout",
     "output_type": "stream",
     "text": [
      "hola,andres\n"
     ]
    }
   ],
   "source": [
    "def saludar(nombre, saludo):\n",
    "    mensaje=saludo+\",\"+nombre\n",
    "    print(mensaje)\n",
    "\n",
    "saludar(saludo=\"hola\", nombre=\"andres\")"
   ]
  },
  {
   "cell_type": "markdown",
   "metadata": {},
   "source": [
    "Además, tambiénpodemos tener parámetros predeterminados en una función. Estos parámetros tienen un valor asignado por defecto y pueden ser omitidos al invocar la función si no se proporciona un valor explícito. Por ejemplo:"
   ]
  },
  {
   "cell_type": "code",
   "execution_count": 14,
   "metadata": {},
   "outputs": [
    {
     "name": "stdout",
     "output_type": "stream",
     "text": [
      "hola,andres\n"
     ]
    }
   ],
   "source": [
    "def saludar(saludo, nombre=\"andres\"):\n",
    "    mensaje=saludo+\",\"+nombre\n",
    "    print(mensaje)\n",
    "\n",
    "saludar(\"hola\")"
   ]
  },
  {
   "cell_type": "markdown",
   "metadata": {},
   "source": [
    "Es importante mencionar que una función puede tener múltiples declaraciones de return, pero solo se ejecutará la primera vez que se encuentre. Después de que se ejecute una declaración de return, la función finalizará y no ejecutará ninguna instrucción adicional."
   ]
  },
  {
   "cell_type": "markdown",
   "metadata": {},
   "source": [
    "## Reutilizacion de codigo en Python:\n",
    "\n",
    "Se refiere a la práctica de utilizar bloques de código existentes en diferentes partes de un programa o en programas diferentes. En lugar de escribir el mismo código repetidamente, podemos utilizar funciones, procedimientos y módulos existentes para evitar la duplicación y mejorar la eficiencia.\n",
    "\n",
    "En Python, podemos reutilizar código de varias formas:\n",
    "\n",
    "1. Funciones y procedimientos:\n",
    "Definir funciones y procedimientos para encapsular bloques de código que realizan tareas específicas.\n",
    "2. Bibliotecas y módulos:\n",
    "Python ofrece una amplia variedad de bibliotecas y módulos que contienen funciones y procedimientos predefinidos pararealizar tareas comunes. Podemos importar estos módulos en nuestros programas y utilizar sus funciones para aprovecharlos.\n",
    "3. Herencia y polimorfismo:\n",
    "En la programación orientada a objetos, podemos utilizar herencia y polimorfismo para reutilizar y extender elcódigo existente. La herencia nos permite crear nuevas clases basadas en clases existentes, heredando sus atributos y métodos. El polimorfismo nosp ermite utilizar objetos de diferentes clases de manera intercambiable, siempre y cuando cumplan con una interfaz común."
   ]
  },
  {
   "cell_type": "code",
   "execution_count": null,
   "metadata": {},
   "outputs": [],
   "source": [
    "geometria.py #creamos un nuevo modulo\n",
    "\n",
    "def area_rectangulo(base,altura):\n",
    "    area=base*altura\n",
    "    return area\n",
    "def area_circulo(radio):\n",
    "    area=3,1416*radio**2\n",
    "    return area\n",
    "\n",
    "# En el programa principal\n",
    "\n",
    "from geometria import area_rectangulo, area_circulo\n",
    "\n",
    "base_rectangulo=5\n",
    "altura_rectangulo=3\n",
    "radio_circulo=2\n",
    "\n",
    "area_rectangulo(base_rectangulo,altura_rectangulo)\n",
    "print(f\"el area del rectangulo es:{area_rectangulo}\")\n",
    "\n",
    "area_circulo(radio_circulo)\n",
    "print(f\"el area del rectangulo es:{area_circulo}\")"
   ]
  },
  {
   "cell_type": "markdown",
   "metadata": {},
   "source": [
    "Ejemplo: Supongamos que una máquina expendedora vende botellas de Coca Cola por 50 centavos y solo acepta monedas en estas denominaciones, 25 centavos, 10 centavos y 5 centavos en un archivo llamado Coke.py. Implementa un programa que solicita el usuario que inserte una moneda, una por vez, informe al usuario el monto adeudado cada vez. Una vez que el usuario haya ingresado al menos 50 centavos muestre la cantidad de centavos de cambio que se le adeuda, suponga que el usuario solo ingresará enteros e ignore cualquier entero que no sea una denominación aceptada."
   ]
  },
  {
   "cell_type": "code",
   "execution_count": 5,
   "metadata": {},
   "outputs": [
    {
     "name": "stdout",
     "output_type": "stream",
     "text": [
      "Faltan 45 para completar su compra de una Coca-Cola\n",
      "Esta denominacion no es aceptable.\n",
      "Faltan 35 para completar su compra de una Coca-Cola\n",
      "Faltan 25 para completar su compra de una Coca-Cola\n",
      "Faltan 20 para completar su compra de una Coca-Cola\n",
      "Faltan 15 para completar su compra de una Coca-Cola\n",
      "Esta denominacion no es aceptable.\n",
      "Faltan 10 para completar su compra de una Coca-Cola\n",
      "Toma tu Coca-Cola, tu dinero restante es 15\n"
     ]
    }
   ],
   "source": [
    "precio=50\n",
    "total_ingresado=0\n",
    "\n",
    "while True:\n",
    "    dinero_ingresado=int(input(\"Ingrese una moneda de 25, 10 o 5 centavos:\"))\n",
    "    moneda_aceptable=[25,10,5]\n",
    "    \n",
    "    if dinero_ingresado in moneda_aceptable:\n",
    "        total_ingresado+=dinero_ingresado\n",
    "        if total_ingresado<50:\n",
    "            print(f\"Faltan {50-total_ingresado} para completar su compra de una Coca-Cola\")\n",
    "        elif total_ingresado==50:\n",
    "            print(\"Toma tu deliciosa Coca-Cola\")\n",
    "            break\n",
    "        else:\n",
    "            print(f\"Toma tu Coca-Cola, tu dinero restante es {total_ingresado-50}\")\n",
    "            break\n",
    "    \n",
    "    else:\n",
    "        print(\"Esta denominacion no es aceptable.\")\n"
   ]
  },
  {
   "cell_type": "markdown",
   "metadata": {},
   "source": [
    "A continuacion, un ejemplo de como importar funciones y modulos en Python:"
   ]
  },
  {
   "cell_type": "code",
   "execution_count": 6,
   "metadata": {},
   "outputs": [
    {
     "name": "stdout",
     "output_type": "stream",
     "text": [
      "65.0\n"
     ]
    }
   ],
   "source": [
    "import fun_sumar\n",
    "\n",
    "resultado=fun_sumar.sumar()\n",
    "\n",
    "print(resultado)"
   ]
  },
  {
   "cell_type": "markdown",
   "metadata": {},
   "source": [
    "## Clases y objetos en Python:\n",
    "\n",
    "### Clases en Python:\n",
    "\n",
    "Una clase en Python es una plantilla o un plano para crear objetos. Define las propiedades y los comportamientos comunes que los objetosde esa clase tendrán. Una clase se compone de atributos (variables) y métodos (funciones).\n",
    "Para definir una clase en Python, utilizamos la palabra clave \"class\" seguida del nombre de la clase. A continuación, se muestra la sintaxis básica de una clase:"
   ]
  },
  {
   "cell_type": "code",
   "execution_count": null,
   "metadata": {},
   "outputs": [],
   "source": [
    "class NombreDeClase:\n",
    "\n",
    "    #Definicion de atributos: Son variables que almacenan objetos relacionados a la clase\n",
    "    #Definicion de metodos: son funciones que definen el comportamiento de la clase"
   ]
  },
  {
   "cell_type": "markdown",
   "metadata": {},
   "source": [
    " A continuacion, se muestra un elemplo de una clase \"Persona\" que tieneatributos como nombre y edad, y métodos como saludar y obtener_edad:"
   ]
  },
  {
   "cell_type": "code",
   "execution_count": 38,
   "metadata": {},
   "outputs": [
    {
     "name": "stdout",
     "output_type": "stream",
     "text": [
      "Hola, mi nombre es Andres\n",
      "None\n"
     ]
    }
   ],
   "source": [
    "class Persona:\n",
    "    def __init__(self, nombre, edad): #El método __init__ es un método especial llamado \n",
    "        # constructor, que se ejecuta automáticamente al crear un objeto de la clase\n",
    "        self.nombre=nombre\n",
    "        self.edad=edad\n",
    "\n",
    "    def saludar(self):\n",
    "        print(f\"Hola, mi nombre es {self.nombre}\")\n",
    "    \n",
    "    def obtener_edad(self):\n",
    "        return self.edad\n",
    "    \n",
    "andres=Persona(\"Andres\",23)\n",
    "print(andres.saludar())"
   ]
  },
  {
   "cell_type": "markdown",
   "metadata": {},
   "source": [
    "### Objetos en Python:\n",
    "\n",
    "Un objeto es una instancia de una clase. Representa una entidad real basada en la definición de la clase. Al crear un objeto,obtenemos una copia de la estructura y los comportamientos definidosen la clase.\n",
    "\n",
    "Para crear un objeto en Python, utilizamos la sintaxis de llamada a la clase, seguida de paréntesis. A continuación, se muestra un ejemplo de creación de un objeto \"persona\" basado en la clase \"Persona\":"
   ]
  },
  {
   "cell_type": "code",
   "execution_count": 37,
   "metadata": {},
   "outputs": [
    {
     "name": "stdout",
     "output_type": "stream",
     "text": [
      "Ana\n",
      "Hola, mi nombre es Ana\n",
      "None\n",
      "25\n"
     ]
    }
   ],
   "source": [
    "persona=Persona(\"Ana\", 25)\n",
    "\n",
    "print(persona.nombre)\n",
    "print(persona.saludar())\n",
    "print(persona.edad)"
   ]
  },
  {
   "cell_type": "markdown",
   "metadata": {},
   "source": [
    "Supongamos que estamos desarrollando un programa para una tienda en línea que vende productos. Podemos utilizar clases y objetos para modelar los productos y sus características. A continuación, se muestra un ejemplo:"
   ]
  },
  {
   "cell_type": "code",
   "execution_count": 11,
   "metadata": {},
   "outputs": [
    {
     "name": "stdout",
     "output_type": "stream",
     "text": [
      "Producto: camiseta\n",
      "Precio: 25.99\n",
      "Producto: Pantalon\n",
      "Precio: 39.99\n"
     ]
    }
   ],
   "source": [
    "class Producto:\n",
    "\n",
    "    def __init__(self, nombre, precio):\n",
    "        self.nombre=nombre\n",
    "        self.precio=precio\n",
    "\n",
    "    def mostrar_informacion(self):\n",
    "        print(f\"Producto: {self.nombre}\")\n",
    "        print(f\"Precio: {self.precio}\")\n",
    "\n",
    "producto1 = Producto(\"camiseta\", 25.99)\n",
    "producto2 = Producto(\"Pantalon\", 39.99)\n",
    "\n",
    "producto1.mostrar_informacion()\n",
    "producto2.mostrar_informacion()"
   ]
  },
  {
   "cell_type": "markdown",
   "metadata": {},
   "source": [
    "## Herencia y polimorfismo:\n",
    "\n",
    "La herencia permite que una clase nueva adquiera las propiedades de una clase existente. La clase original se denomina \"superclase o clase padre\".\n",
    "\n",
    "El polimorfismo se refiere a la capacidad de un objeto de adaptar muchas formas.\n",
    "\n",
    "### Herencia en Python:\n",
    "\n",
    "La herencia es un mecanismo que permite crear nuevas clases basadas en clases existentes. En Python, una clase puede heredar atributos y métodos de una clase padre o superclase, lo que facilita la reutilización de código y la extensión de funcionalidades.\n",
    "\n",
    "Para establecer una relación de herencia en Python, se utiliza la sintaxis de la definición de clase, con el nombre de la clase padre entre paréntesis después del nombre de la clase hija. A continuación, se muestra la sintaxis básica:"
   ]
  },
  {
   "cell_type": "code",
   "execution_count": null,
   "metadata": {},
   "outputs": [],
   "source": [
    "class ClaseHija(ClasePadre): #Definicion de atributos y metodos adicionales."
   ]
  },
  {
   "cell_type": "markdown",
   "metadata": {},
   "source": [
    "A continuacion, un ejemplo de herencia de clases:"
   ]
  },
  {
   "cell_type": "code",
   "execution_count": 13,
   "metadata": {},
   "outputs": [
    {
     "name": "stdout",
     "output_type": "stream",
     "text": [
      "Fido\n",
      "Holal, Soy un animal, soy Fido\n",
      "Guau\n"
     ]
    }
   ],
   "source": [
    "class Animal:\n",
    "    def __init__(self, nombre):\n",
    "        self.nombre=nombre\n",
    "\n",
    "    def saludar(self):\n",
    "        print(f\"Holal, Soy un animal, soy {self.nombre}\")\n",
    "\n",
    "class Perro(Animal):\n",
    "    def ladrar(self):\n",
    "        print(\"Guau\")\n",
    "\n",
    "perro=Perro(\"Fido\")\n",
    "print(perro.nombre)\n",
    "perro.saludar()\n",
    "perro.ladrar()"
   ]
  },
  {
   "cell_type": "markdown",
   "metadata": {},
   "source": [
    "### Polimorfismo en Python:\n",
    "\n",
    "Es la capacidad de un objeto de tomar diferentes formas o comportarse de diferentes maneras según el contexto. En Python, el polimorfismo se logra a través de la sobreescritura de métodos.\n",
    "\n",
    "Cuando una clase hija define un método con el mismo nombre que un método de la clase padre, se dice que se está sobrescribiendo el método. Esto permite que la clase hija proporcione una implementación diferente del método, específica para sus necesidades.\n",
    "\n",
    "A continuación, se muestra un ejemplo de polimorfismo en Python:"
   ]
  },
  {
   "cell_type": "code",
   "execution_count": 20,
   "metadata": {},
   "outputs": [
    {
     "name": "stdout",
     "output_type": "stream",
     "text": [
      "Holal, Soy un animal, soy firulais\n",
      "Hola, soy un perro y me llamo Teo\n"
     ]
    }
   ],
   "source": [
    "class Animal:\n",
    "    def __init__(self, nombre):\n",
    "        self.nombre=nombre\n",
    "\n",
    "    def saludar(self):\n",
    "        print(f\"Holal, Soy un animal, soy {self.nombre}\")\n",
    "\n",
    "class Perro(Animal):\n",
    "    def saludar(self):\n",
    "        print(f\"Hola, soy un perro y me llamo {self.nombre}\")\n",
    "\n",
    "nombre1=Animal(\"firulais\")\n",
    "nombre1.saludar()\n",
    "\n",
    "nombre2=Perro(\"Teo\")\n",
    "nombre2.saludar()\n"
   ]
  },
  {
   "cell_type": "markdown",
   "metadata": {},
   "source": [
    "## Ejercicios:\n",
    "\n",
    "Escribe una función saludo que acepte un argumento de nombre y retorne un saludo personalizado. Por ejemplo, saludo('Alice') debería retornar '¡Hola, Alice!'."
   ]
  },
  {
   "cell_type": "code",
   "execution_count": 1,
   "metadata": {},
   "outputs": [
    {
     "name": "stdout",
     "output_type": "stream",
     "text": [
      "Hola Andres! Es un placer conocerte!\n"
     ]
    }
   ],
   "source": [
    "def saludo(nombre):\n",
    "    print(f\"Hola {nombre}! Es un placer conocerte!\")\n",
    "\n",
    "\n",
    "saludo(\"Andres\")"
   ]
  },
  {
   "cell_type": "markdown",
   "metadata": {},
   "source": [
    "Escribe una función area_circulo que acepte un argumento de radio y calcule el área del círculo correspondiente. Recuerda que el área de un círculo se calcula como pi * radio**2."
   ]
  },
  {
   "cell_type": "code",
   "execution_count": 8,
   "metadata": {},
   "outputs": [
    {
     "name": "stdout",
     "output_type": "stream",
     "text": [
      "12.5664\n"
     ]
    }
   ],
   "source": [
    "def area_cir(radio):\n",
    "    area=3.1416*(radio**2)\n",
    "    return area\n",
    "\n",
    "area=area_cir(2)\n",
    "print(area)"
   ]
  },
  {
   "cell_type": "markdown",
   "metadata": {},
   "source": [
    "Escribe dos funciones, celsius_a_fahrenheit y fahrenheit_a_celsius, que conviertan temperaturas de una escala a otra."
   ]
  },
  {
   "cell_type": "code",
   "execution_count": 10,
   "metadata": {},
   "outputs": [
    {
     "name": "stdout",
     "output_type": "stream",
     "text": [
      "10 grados celsius son 50.0 grados faherenheit\n",
      "None\n",
      "295 grados faherenheit son 146.11111111111111 grados celsius\n",
      "None\n"
     ]
    }
   ],
   "source": [
    "def celcius_a_faherenheit(grados_celsius):\n",
    "    grados_faherenheit=grados_celsius*(9/5)+32\n",
    "    print(f\"{grados_celsius} grados celsius son {grados_faherenheit} grados faherenheit\")\n",
    "\n",
    "def faherenheit_a_celcius(grados_faherenheit):\n",
    "    grados_celsius=(grados_faherenheit-32)*5/9\n",
    "    print(f\"{grados_faherenheit} grados faherenheit son {grados_celsius} grados celsius\")\n",
    "\n",
    "print(celcius_a_faherenheit(10))\n",
    "\n",
    "print(faherenheit_a_celcius(295))"
   ]
  },
  {
   "cell_type": "markdown",
   "metadata": {},
   "source": [
    "El factorial de un número n, denotado como n!, es el producto de todos los números enteros desde 1 hasta n. Escribe una función recursiva factorial que calcule el factorial de un número."
   ]
  },
  {
   "cell_type": "code",
   "execution_count": 7,
   "metadata": {},
   "outputs": [
    {
     "name": "stdout",
     "output_type": "stream",
     "text": [
      "1\n"
     ]
    }
   ],
   "source": [
    "def factorial(numero=1):\n",
    "    fac=1\n",
    "    if numero==0:\n",
    "        return fac\n",
    "    else:\n",
    "        fac*=numero*factorial(numero-1)\n",
    "        return fac\n",
    "\n",
    "print(factorial(0))"
   ]
  },
  {
   "cell_type": "markdown",
   "metadata": {},
   "source": [
    "Crea un módulo `calculadora.py` con funciones para las operaciones básicas: suma, resta, multiplicación y división. Crea un módulo `principal.py` que importe tu módulo `calculadora.py` y utilice sus funciones para realizar algunas operaciones."
   ]
  },
  {
   "cell_type": "code",
   "execution_count": 23,
   "metadata": {},
   "outputs": [
    {
     "name": "stdout",
     "output_type": "stream",
     "text": [
      "15\n",
      "-15\n",
      "120\n"
     ]
    }
   ],
   "source": [
    "import calculadora\n",
    "\n",
    "print(calculadora.suma(5,4,3,2,1))\n",
    "print(calculadora.resta(5,4,3,2,1))\n",
    "print(calculadora.multiplicacion(5,4,3,2,1))"
   ]
  },
  {
   "cell_type": "markdown",
   "metadata": {},
   "source": [
    "1. Crea una clase `Animal` con los atributos `nombre` y `edad`, y un método `hacer_sonido`.\n",
    "\n",
    "2. Crea una subclase `Perro` que hereda de `Animal`, añade el atributo `raza`, y sobreescribe el método `hacer_sonido`.\n",
    "\n",
    "3. Crea una subclase `Gato` que hereda de `Animal`, añade el atributo `color`, y sobreescribe el método `hacer_sonido`.\n",
    "\n",
    "4. Crea instancias de `Perro` y `Gato` y haz que emitan sus sonidos.\n",
    "\n",
    "5. Crea una función `presentar_animal` que reciba un `Animal` y muestre su nombre, edad, y haga que el animal emita su sonido. Utilízala con instancias de `Perro` y `Gato`. Observa cómo se aplica el polimorfismo."
   ]
  },
  {
   "cell_type": "code",
   "execution_count": 18,
   "metadata": {},
   "outputs": [
    {
     "name": "stdout",
     "output_type": "stream",
     "text": [
      "Hola, soy un gato llamado firulais, con la edad de 8 años, de color bullterrier y hago Miau\n",
      "None\n"
     ]
    }
   ],
   "source": [
    "class animal:\n",
    "    def __init__(self,nombre,edad):\n",
    "        self.nombre=nombre\n",
    "        self.edad=edad\n",
    "\n",
    "    def hacer_sonido(self):\n",
    "        print(f\"Hago un sonido\")\n",
    "\n",
    "# animal1=animal(edad=10, nombre=\"Burro\")\n",
    "# animal1.hacer_sonido()\n",
    "\n",
    "class perro(animal):\n",
    "    def __init__(self,nombre,edad, raza):\n",
    "        self.nombre=nombre\n",
    "        self.edad=edad\n",
    "        self.raza=raza\n",
    "\n",
    "    def hacer_sonido(self):\n",
    "        return \"Guau\"\n",
    "\n",
    "class gato(animal):\n",
    "    def __init__(self,nombre,edad, color):\n",
    "        self.nombre=nombre\n",
    "        self.edad=edad\n",
    "        self.color=color\n",
    "    def hacer_sonido(self):\n",
    "        return \"Miau\"\n",
    "\n",
    "# animal2=perro(\"firulais\", 5, \"bullterrier\")\n",
    "# animal3=gato(\"michi\", 6, \"negro\")\n",
    "\n",
    "# print(animal2.hacer_sonido())\n",
    "# print(animal3.hacer_sonido())\n",
    "\n",
    "def presentar_animal(nombre,edad,raza_o_color):\n",
    "    perro_gato=input(\"Ingrese si es un perro o un gato:\")\n",
    "    perro_gato=perro_gato.lower\n",
    "    if perro_gato==\"perro\":\n",
    "        animal4=perro(nombre, edad, raza_o_color)\n",
    "        return print(f\"Hola, soy un perro llamado {animal4.nombre}, con la edad de {animal4.edad} años, de raza {animal4.raza} y hago {animal4.hacer_sonido()}\")\n",
    "    else:\n",
    "        animal5=gato(nombre, edad, raza_o_color)\n",
    "        return print(f\"Hola, soy un gato llamado {animal5.nombre}, con la edad de {animal5.edad} años, de color {animal5.color} y hago {animal5.hacer_sonido()}\")\n",
    "\n",
    "print(presentar_animal(\"firulais\", 8, \"bullterrier\"))"
   ]
  },
  {
   "cell_type": "markdown",
   "metadata": {},
   "source": [
    "# MODULO 3: Algoritmos de busqueda y ordenacion\n",
    "\n",
    "### Algoritmos de busqueda:\n",
    "\n",
    "La búsqueda en programación se refiere al proceso de encontrar un valor específico dentro de un conjunto de datos. Python ofrece varios algoritmos de búsqueda, cada uno con su enfoque y complejidad. Dos de los algoritmos de búsqueda más comunes son:\n",
    "\n",
    "1. Busqueda Secuencial: Es un algoritmo simple en el que se reccorre uno a uno cada elementos de una lista hasta encontrar el valor deseado. Puede ser ineficiente para conjuntos de datos muy grandes.\n",
    "\n",
    "2. Busqueda binaria: Es un algoritmo mas eficiente que se aplica a listas previamente ordenadas, consiste en dividir el conjunto de datos a la mitad en cada iteracion, reduciendo rapidamente el espacio de busqueda. Es util en conjunto de datos grandes, ya que si complejidad es logaritmica en lugar de lineal.\n",
    "\n",
    "### Algoritmos de ordenacion:\n",
    "\n",
    "La ordenación en programación se refiere a la disposición de elementos en un conjunto de datos de manera ascendente o descendente, según un criterio específico. Python ofrece varios algoritmos de ordenación, cada uno con diferentes características y rendimiento. Algunos de los algoritmos de ordenación más utilizados son:\n",
    "\n",
    "1. Ordenacion por burbuja: De los menos eficientes pero muy sencillo, contrasta pares adyacentes y los intercambia si estan en el orden incorrecto.\n",
    "\n",
    "2. Ordenacion por insercion: Un poco mas eficiente, recorre la lista y en cada paso inseta el elemento en el lugar correctode la lista ordenada anteriormente.\n",
    "\n",
    "3. Ordenacion por seleccion: Busca el elemento mas pequeño y lo ubica en el principio de la lista.\n",
    "\n",
    "4. Ordenacion por fusion: Es mas eficiente, divide el conjunto en mitades y los ordena por separado para posteriormente juntarlas.\n",
    "\n",
    "5. Ordenacion rapida: Selecciona un elemento pivote y reorganiza la lista de manera que todos los elementos mas pequeños esten a la izquierda y los mas grandes a la derecha, luego, repite el proceso con las sublistas de la izquiera y la derecha sucesivamente."
   ]
  },
  {
   "cell_type": "markdown",
   "metadata": {},
   "source": [
    "A continuacion, un ejemplo de busqueda lineal:"
   ]
  },
  {
   "cell_type": "code",
   "execution_count": 12,
   "metadata": {},
   "outputs": [
    {
     "name": "stdout",
     "output_type": "stream",
     "text": [
      "True\n"
     ]
    }
   ],
   "source": [
    "def busqueda_linear(conjunto, valor_bus):\n",
    "    for valor in conjunto:\n",
    "        if valor==valor_bus:\n",
    "            return True\n",
    "    return False\n",
    "        \n",
    "conjunto1=[51,6584,651,321,61,\"casa\", \"carro\", \"nombre\", \"perro\"]\n",
    "\n",
    "print(busqueda_linear(conjunto1, 61))"
   ]
  },
  {
   "cell_type": "markdown",
   "metadata": {},
   "source": [
    "Un ejemplo de busqueda binaria:"
   ]
  },
  {
   "cell_type": "code",
   "execution_count": 15,
   "metadata": {},
   "outputs": [
    {
     "data": {
      "text/plain": [
       "False"
      ]
     },
     "execution_count": 15,
     "metadata": {},
     "output_type": "execute_result"
    }
   ],
   "source": [
    "# La lista debe estar previamente ordenada\n",
    "\n",
    "def busqueda_binaria(conjunto, valor_bus):\n",
    "    inicio=0\n",
    "    fin=len(conjunto)-1\n",
    "    \n",
    "    while inicio<=fin:\n",
    "        medio=(inicio+fin)//2\n",
    "        if conjunto[medio]==valor_bus:\n",
    "            return True\n",
    "        elif valor_bus>conjunto[medio]:\n",
    "            inicio=medio+1\n",
    "        else:\n",
    "            fin=medio-1\n",
    "    return False\n",
    "\n",
    "lista=[1,2,3,4,5,6,7,8,9]\n",
    "\n",
    "busqueda_binaria(lista, 10)"
   ]
  },
  {
   "cell_type": "markdown",
   "metadata": {},
   "source": [
    "A continuacion, un ejemplo de ordenacion burbuja:"
   ]
  },
  {
   "cell_type": "code",
   "execution_count": 22,
   "metadata": {},
   "outputs": [
    {
     "name": "stdout",
     "output_type": "stream",
     "text": [
      "[15, 32, 51, 65, 85, 465, 5458]\n"
     ]
    }
   ],
   "source": [
    "def ordenacion_burbuja(lista):\n",
    "    n=len(lista)\n",
    "    for i in range(n-1):\n",
    "\n",
    "        for j in range(n-1-i):\n",
    "\n",
    "            if lista[j]>lista[j+1]:\n",
    "\n",
    "                lista[j], lista[j+1]=lista[j+1],lista[j]\n",
    "    \n",
    "    print(lista)\n",
    "\n",
    "lista=[51,65,32,85,465,15,5458]\n",
    "\n",
    "ordenacion_burbuja(lista)"
   ]
  },
  {
   "cell_type": "markdown",
   "metadata": {},
   "source": [
    "A continuacion, un ejemplo de ordenacion por insercion:"
   ]
  },
  {
   "cell_type": "code",
   "execution_count": 39,
   "metadata": {},
   "outputs": [
    {
     "name": "stdout",
     "output_type": "stream",
     "text": [
      "[4, 2, 6, 1, 8, 3]\n",
      "[2, 4, 6, 1, 8, 3]\n",
      "[2, 4, 6, 1, 8, 3]\n",
      "[1, 2, 4, 6, 8, 3]\n",
      "[1, 2, 4, 6, 8, 3]\n",
      "[1, 2, 3, 4, 6, 8]\n"
     ]
    }
   ],
   "source": [
    "lista=[4,2,6,1,8,3]\n",
    "\n",
    "def ordenacion_insercion(lista):\n",
    "    n=len(lista)\n",
    "    for i in range(1, n):\n",
    "        valor_actual=lista[i]\n",
    "        j=i-1\n",
    "        print(lista)\n",
    "        while j>=0 and lista[j]>valor_actual:\n",
    "            lista[j+1]=lista[j]\n",
    "            j-=1\n",
    "            lista[j+1]=valor_actual\n",
    "    print(lista)\n",
    "\n",
    "ordenacion_insercion(lista)"
   ]
  },
  {
   "cell_type": "markdown",
   "metadata": {},
   "source": [
    "A continuacion, un ejemplo de ordenacion por mezcla:"
   ]
  },
  {
   "cell_type": "code",
   "execution_count": 9,
   "metadata": {},
   "outputs": [
    {
     "name": "stdout",
     "output_type": "stream",
     "text": [
      "[12, 54, 57, 59, 63, 63, 85]\n"
     ]
    }
   ],
   "source": [
    "def merge_sort(lista):\n",
    "    if len(lista)<=1:\n",
    "        return lista\n",
    "    \n",
    "    medio=len(lista)//2\n",
    "    izquiera=merge_sort(lista[:medio])\n",
    "    derecha=merge_sort(lista[medio:])\n",
    "    return merge(izquiera,derecha)\n",
    "\n",
    "def merge(izquierda,derecha):\n",
    "    resultado=[]\n",
    "    i=j=0\n",
    "\n",
    "    while i<len(izquierda) and j<len(derecha):\n",
    "        if izquierda[i]<derecha[j]:\n",
    "            resultado.append(izquierda[i])\n",
    "            i+=1\n",
    "        else:\n",
    "            resultado.append(derecha[j])\n",
    "            j+=1\n",
    "\n",
    "    resultado.extend(izquierda[i:])\n",
    "\n",
    "    resultado.extend(derecha[j:])\n",
    "\n",
    "    return resultado\n",
    "\n",
    "numeros=[54,85,12,63,57,59,63]\n",
    "ordenados=merge_sort(numeros)\n",
    "print(ordenados)"
   ]
  },
  {
   "cell_type": "markdown",
   "metadata": {},
   "source": [
    "A continuacion, un ejemplo de ordenamiento rapido:"
   ]
  },
  {
   "cell_type": "code",
   "execution_count": null,
   "metadata": {},
   "outputs": [],
   "source": [
    "def quick_sort(lista):\n",
    "    if len(lista)<=1:\n",
    "        return lista\n",
    "    \n",
    "    pivote=lista[len(lista//2)]\n",
    "    izquierda=[x for x in lista if x<pivote]\n",
    "    medio=[x for x in lista if x==pivote]\n",
    "    derecha=[x for x in lista if x<pivote]\n",
    "\n",
    "    return quick_sort(izquierda) + medio + quick_sort(derecha)"
   ]
  },
  {
   "cell_type": "markdown",
   "metadata": {},
   "source": [
    "# MODULO 4: Bibliotecas y modulos\n",
    "\n",
    "Una biblioteca en Python es un conjunto de funciones, clases y métodos predefinidos que están disponibles para ser utilizados en nuestros programas.\n",
    "\n",
    "Un módulo, por otro lado, es un archivo de Python que contiene código reutilizable y puede ser importado en otros programas para utilizar sus funcionalidades.\n",
    "\n",
    "Los módulos pueden ser creados tanto por los desarrolladores como por terceros. Python tiene una amplia variedad de bibliotecas y módulos disponibles que cubren diferentes áreas, como matemáticas,\n",
    "procesamiento de datos, gráficos, redes, entre otros.\n",
    "\n",
    "## Importando bilbiotecas y modulos\n",
    "\n",
    "A continuacuion, un ejemplo de como llamar una biblioteca completa:"
   ]
  },
  {
   "cell_type": "code",
   "execution_count": null,
   "metadata": {},
   "outputs": [],
   "source": [
    "import math"
   ]
  },
  {
   "cell_type": "markdown",
   "metadata": {},
   "source": [
    "Al usar esta manera de llamar un modulo, es necesario usar el nombre del modulo para llamar las entidades que incluye."
   ]
  },
  {
   "cell_type": "code",
   "execution_count": 2,
   "metadata": {},
   "outputs": [
    {
     "name": "stdout",
     "output_type": "stream",
     "text": [
      "['__doc__', '__loader__', '__name__', '__package__', '__spec__', 'acos', 'acosh', 'asin', 'asinh', 'atan', 'atan2', 'atanh', 'cbrt', 'ceil', 'comb', 'copysign', 'cos', 'cosh', 'degrees', 'dist', 'e', 'erf', 'erfc', 'exp', 'exp2', 'expm1', 'fabs', 'factorial', 'floor', 'fmod', 'frexp', 'fsum', 'gamma', 'gcd', 'hypot', 'inf', 'isclose', 'isfinite', 'isinf', 'isnan', 'isqrt', 'lcm', 'ldexp', 'lgamma', 'log', 'log10', 'log1p', 'log2', 'modf', 'nan', 'nextafter', 'perm', 'pi', 'pow', 'prod', 'radians', 'remainder', 'sin', 'sinh', 'sqrt', 'tan', 'tanh', 'tau', 'trunc', 'ulp']\n",
      "4.0\n"
     ]
    }
   ],
   "source": [
    "import math\n",
    "print(dir(math))\n",
    "print(math.sqrt(16))"
   ]
  },
  {
   "cell_type": "markdown",
   "metadata": {},
   "source": [
    "Un segundo metodo de importar entidades de un modulo, y que estas sean incluidas dentro del Namespace del codigo es la siguiente:"
   ]
  },
  {
   "cell_type": "code",
   "execution_count": null,
   "metadata": {},
   "outputs": [],
   "source": [
    "from math import pi"
   ]
  },
  {
   "cell_type": "markdown",
   "metadata": {},
   "source": [
    "Al usar este ultimo metodo las entidades listadas son las únicas que son importadas del módulo indicado.\n",
    "Los nombres de las entidades importadas pueden ser accedidas dentro del código sin especificar el nombre del módulo de origen.\n",
    "\n",
    "Una ultima forma de importar todas las entidades de un modulo directamente al codigo que estamos generando es la siguiente:"
   ]
  },
  {
   "cell_type": "code",
   "execution_count": null,
   "metadata": {},
   "outputs": [],
   "source": [
    "from math import *"
   ]
  },
  {
   "cell_type": "markdown",
   "metadata": {},
   "source": [
    "## Trabajando con modulos estandar\n",
    "\n",
    "### math:\n",
    "\n",
    "Posee una variedad de funciones y constantes matematicas que facilitan el trabajo del desarrollador, encontramos las siguientes:"
   ]
  },
  {
   "cell_type": "code",
   "execution_count": 1,
   "metadata": {},
   "outputs": [
    {
     "name": "stdout",
     "output_type": "stream",
     "text": [
      "['__doc__', '__loader__', '__name__', '__package__', '__spec__', 'acos', 'acosh', 'asin', 'asinh', 'atan', 'atan2', 'atanh', 'cbrt', 'ceil', 'comb', 'copysign', 'cos', 'cosh', 'degrees', 'dist', 'e', 'erf', 'erfc', 'exp', 'exp2', 'expm1', 'fabs', 'factorial', 'floor', 'fmod', 'frexp', 'fsum', 'gamma', 'gcd', 'hypot', 'inf', 'isclose', 'isfinite', 'isinf', 'isnan', 'isqrt', 'lcm', 'ldexp', 'lgamma', 'log', 'log10', 'log1p', 'log2', 'modf', 'nan', 'nextafter', 'perm', 'pi', 'pow', 'prod', 'radians', 'remainder', 'sin', 'sinh', 'sqrt', 'tan', 'tanh', 'tau', 'trunc', 'ulp']\n"
     ]
    }
   ],
   "source": [
    "import math\n",
    "print(dir(math))"
   ]
  },
  {
   "cell_type": "markdown",
   "metadata": {},
   "source": [
    "La funcion \"pow(X,Y))\" esta incluida en python directamente, no es necesario importarla y tiene la actividad de elevar el numero X al exponente Y."
   ]
  },
  {
   "cell_type": "markdown",
   "metadata": {},
   "source": [
    "### ramdom:"
   ]
  },
  {
   "cell_type": "markdown",
   "metadata": {},
   "source": [
    "- *random()* genera un valor pseudoaleatorio entre 0.0 y 1.0.\n",
    "- *seed()* establece por defecto la semilla con la que se generaran los valores aleatorios segun la hora actual, pero si le damos un argumento entero los valores se generaran en base a este.\n",
    "- *randrange(inicio,fin,incremento)* genera valores aleatorios en el rango *inicio,fin-1*.\n",
    "- *randint(inicio,fin)* genera valores sin excluir el valor final.\n",
    "- *choice(secuencia)* selecciona valores aleatorios de la secuencia dada.\n",
    "- *sample(secuencia, elementos_a_elegir=1)* crea una lista (una muestra) que consta del elemento *elementos_a_elegir* (que por defecto es 1) «sorteado» de la secuencia de entrada sin repetirse."
   ]
  },
  {
   "cell_type": "markdown",
   "metadata": {},
   "source": [
    "### platform:\n",
    "\n",
    "El módulo platform permite acceder a los datos de la plataforma subyacente, es decir, hardware, sistema operativo e información sobre la versión del intérprete.\n",
    "\n",
    "Existe también una función que puede mostrar todas las capas subyacentes en un solo vistazo, llamada *platform*. Simplemente devuelve una cadena que describe el entorno; por lo tanto, su salida está más dirigida a los humanos que al procesamiento automatizado (lo verás pronto).\n",
    "\n",
    "Así es como se puede invocar:"
   ]
  },
  {
   "cell_type": "code",
   "execution_count": null,
   "metadata": {},
   "outputs": [],
   "source": [
    "platform(aliased = False, terse = False)"
   ]
  },
  {
   "cell_type": "markdown",
   "metadata": {},
   "source": [
    "Y ahora:\n",
    "\n",
    "- *aliased* → cuando se establece a True (o cualquier valor distinto a cero) puede hacer que la función presente los nombres de capa subyacentes alternativos en lugar de los comunes.\n",
    "- *terse* → cuando se establece a True (o cualquier valor distinto a cero) puede convencer a la función de presentar una forma más breve del resultado (si lo fuera posible)."
   ]
  },
  {
   "cell_type": "code",
   "execution_count": 2,
   "metadata": {},
   "outputs": [
    {
     "name": "stdout",
     "output_type": "stream",
     "text": [
      "Windows-10-10.0.22621-SP0\n",
      "Windows-10-10.0.22621-SP0\n",
      "Windows-10\n"
     ]
    }
   ],
   "source": [
    "from platform import platform\n",
    "\n",
    "print(platform())\n",
    "print(platform(1))\n",
    "print(platform(0, 1))"
   ]
  },
  {
   "cell_type": "markdown",
   "metadata": {},
   "source": [
    "- *machine()* es una funcion que nos devuelve el nombre generico del procesador en el cual se ejecuta el el sistema operativo, python y el codigo.\n",
    "- *processor()* es una funcion que nos devuelve el nombre real del procesador.\n",
    "- *system()* devuelve el nombre generico del sistema operativo.\n",
    "- *version()* devuelve la version del sistema operativo.\n",
    "- *python_implementation()* devuelve una cadena que denota la implementación de Python (espera CPython aquí, a menos que decidas utilizar cualquier rama de Python no canónica).\n",
    "- *python_version_tuple()* devuelve una tupla de tres elementos la cual contiene:\n",
    "    - La parte mayor de la versión de Python.\n",
    "    - La parte menor.\n",
    "    - El número del nivel de parche"
   ]
  },
  {
   "cell_type": "code",
   "execution_count": 6,
   "metadata": {},
   "outputs": [
    {
     "name": "stdout",
     "output_type": "stream",
     "text": [
      "AMD64\n",
      "AMD64 Family 25 Model 80 Stepping 0, AuthenticAMD\n",
      "Windows\n",
      "10.0.22621\n",
      "CPython\n",
      "3\n",
      "11\n",
      "5\n"
     ]
    }
   ],
   "source": [
    "import platform\n",
    "\n",
    "print(platform.machine())\n",
    "print(platform.processor())\n",
    "print(platform.system())\n",
    "print(platform.version())\n",
    "print(platform.python_implementation())\n",
    "for i in platform.python_version_tuple():\n",
    "    print(i)\n"
   ]
  },
  {
   "cell_type": "markdown",
   "metadata": {},
   "source": [
    "### sys:\n",
    "\n",
    "Hay una variable especial (en realidad una lista) que almacena todas las ubicaciones (carpetas o directorios) que se buscan para encontrar un módulo que ha sido solicitado por la instrucción import.\n",
    "\n",
    "Python examina estas carpetas en el orden en que aparecen en la lista: si el módulo no se puede encontrar en ninguno de estos directorios, la importación falla.\n",
    "\n",
    "De lo contrario, se tomará en cuenta la primera carpeta que contenga un módulo con el nombre deseado (si alguna de las carpetas restantes contiene un módulo con ese nombre, se ignorará).\n",
    "\n",
    "La variable se llama *path* (ruta), y es accesible a través del módulo llamado sys. Así es como puedes verificar su valor:"
   ]
  },
  {
   "cell_type": "code",
   "execution_count": 8,
   "metadata": {},
   "outputs": [
    {
     "name": "stdout",
     "output_type": "stream",
     "text": [
      "c:\\Users\\andre\\Desktop\\GitHub\\Python\n",
      "c:\\Users\\andre\\AppData\\Local\\Programs\\Python\\Python311\\python311.zip\n",
      "c:\\Users\\andre\\AppData\\Local\\Programs\\Python\\Python311\\DLLs\n",
      "c:\\Users\\andre\\AppData\\Local\\Programs\\Python\\Python311\\Lib\n",
      "c:\\Users\\andre\\AppData\\Local\\Programs\\Python\\Python311\n",
      "\n",
      "C:\\Users\\andre\\AppData\\Roaming\\Python\\Python311\\site-packages\n",
      "C:\\Users\\andre\\AppData\\Roaming\\Python\\Python311\\site-packages\\win32\n",
      "C:\\Users\\andre\\AppData\\Roaming\\Python\\Python311\\site-packages\\win32\\lib\n",
      "C:\\Users\\andre\\AppData\\Roaming\\Python\\Python311\\site-packages\\Pythonwin\n",
      "c:\\Users\\andre\\AppData\\Local\\Programs\\Python\\Python311\\Lib\\site-packages\n"
     ]
    }
   ],
   "source": [
    "import sys\n",
    "\n",
    "for p in sys.path:\n",
    "    print(p)"
   ]
  },
  {
   "cell_type": "markdown",
   "metadata": {},
   "source": [
    "## Cadenas:\n",
    "\n",
    "### Operaciones con cadenas:\n",
    "\n",
    "Los caracteres en Python tambien pueden verse modificados mediante algunos operadores: '+' que puede unir cadenas y '*' que es capaz de replicar la cadena n veces.\n",
    "\n",
    "#### Funcion ord():\n",
    "\n",
    "Esta funcion devuelve el valor punto codigo de un determinado caracter ASCII/UNICODE:"
   ]
  },
  {
   "cell_type": "code",
   "execution_count": 1,
   "metadata": {},
   "outputs": [
    {
     "name": "stdout",
     "output_type": "stream",
     "text": [
      "97\n",
      "32\n"
     ]
    }
   ],
   "source": [
    "caracter1='a'\n",
    "caracter2=' '\n",
    "\n",
    "print(ord(caracter1))\n",
    "print(ord(caracter2))"
   ]
  },
  {
   "cell_type": "markdown",
   "metadata": {},
   "source": [
    "#### Funcion chr():\n",
    "\n",
    "Esta funcion devuelve el caracter correspondiente a un determinado valor punto codigo en ASCII/UNICODE:"
   ]
  },
  {
   "cell_type": "code",
   "execution_count": 3,
   "metadata": {},
   "outputs": [
    {
     "name": "stdout",
     "output_type": "stream",
     "text": [
      "a\n",
      " \n"
     ]
    }
   ],
   "source": [
    "print(chr(97))\n",
    "print(chr(32))"
   ]
  },
  {
   "cell_type": "markdown",
   "metadata": {},
   "source": [
    "#### Funcion min():\n",
    "\n",
    "Esta función encuentra el elemento mínimo de la secuencia pasada como argumento. Existe una condición, la secuencia (cadena o lista) no puede estar vacía, de lo contrario obtendrás una excepción ValueError."
   ]
  },
  {
   "cell_type": "code",
   "execution_count": 6,
   "metadata": {},
   "outputs": [
    {
     "name": "stdout",
     "output_type": "stream",
     "text": [
      "A\n",
      "[ ]\n",
      "0\n"
     ]
    }
   ],
   "source": [
    "# Demonstración de min() - Ejemplo 1:\n",
    "print(min(\"aAbByYzZ\"))\n",
    "\n",
    "\n",
    "# Demonstración de min() - Ejemplos 2 y 3:\n",
    "t = 'Los Caballeros Que Dicen \"Ni!\"'\n",
    "print('[' + min(t) + ']')\n",
    "\n",
    "t = [0, 1, 2]\n",
    "print(min(t))\n"
   ]
  },
  {
   "cell_type": "markdown",
   "metadata": {},
   "source": [
    "#### Funcion max():\n",
    "\n",
    "La función llamada max() encuentra el elemento máximo de la secuencia."
   ]
  },
  {
   "cell_type": "code",
   "execution_count": 7,
   "metadata": {},
   "outputs": [
    {
     "name": "stdout",
     "output_type": "stream",
     "text": [
      "z\n",
      "[u]\n",
      "2\n"
     ]
    }
   ],
   "source": [
    "# Demostración de max() - Ejemplo 1:\n",
    "print(max(\"aAbByYzZ\"))\n",
    "\n",
    "\n",
    "# Demostración de max() - Ejemplo 2 y 3:\n",
    "t = 'Los Caballeros Que Dicen \"Ni!\"'\n",
    "print('[' + max(t) + ']')\n",
    "\n",
    "t = [0, 1, 2]\n",
    "print(max(t))\n"
   ]
  },
  {
   "cell_type": "markdown",
   "metadata": {},
   "source": [
    "#### Funcion list():\n",
    "\n",
    "La función list() toma su argumento (una cadena) y crea una nueva lista que contiene todos los caracteres de la cadena, uno por elemento de la lista. No es estrictamente una función de cadenas, list() es capaz de crear una nueva lista de muchas otras entidades (por ejemplo, de tuplas y diccionarios)."
   ]
  },
  {
   "cell_type": "code",
   "execution_count": 9,
   "metadata": {},
   "outputs": [
    {
     "name": "stdout",
     "output_type": "stream",
     "text": [
      "['a', 'b', 'c', 'a', 'b', 'c']\n"
     ]
    }
   ],
   "source": [
    "# Demostración de la función list():\n",
    "print(list(\"abcabc\"))"
   ]
  },
  {
   "cell_type": "markdown",
   "metadata": {},
   "source": [
    "### Metodos en cadenas\n",
    "\n",
    "#### El metodo *capitalize()*\n",
    "\n",
    "Crea una nueva cadena con los caracteres tomados de la cadena fuente, pero intenta modificarlos de la siguiente manera:\n",
    "\n",
    "- Si el primer carácter dentro de la cadena es una letra (nota: el primer carácter es el elemento con un índice igual a 0, no es el primer carácter visible), se convertirá a mayúsculas.\n",
    "- Todas las letras restantes de la cadena se convertirán a minúsculas.\n",
    "\n",
    "No olvides que:\n",
    "\n",
    "La cadena original desde la cual se invoca el método no se cambia de ninguna manera, la inmutabilidad de una cadena debe obedecerse sin reservas. La cadena modificada (en mayúscula en este caso) se devuelve como resultado; si no se usa de alguna manera (asígnala a una variable o pásala a una función/método) desaparecerá sin dejar rastro.\n",
    "\n",
    "Nota: los métodos no tienen que invocarse solo dentro de las variables. Se pueden invocar directamente desde dentro de literales de cadena."
   ]
  },
  {
   "cell_type": "code",
   "execution_count": 2,
   "metadata": {},
   "outputs": [
    {
     "name": "stdout",
     "output_type": "stream",
     "text": [
      "Alpha\n",
      "Alpha\n",
      " alpha\n",
      "123\n",
      "Αβγδ\n"
     ]
    }
   ],
   "source": [
    "print(\"Alpha\".capitalize())\n",
    "print('ALPHA'.capitalize())\n",
    "print(' Alpha'.capitalize())\n",
    "print('123'.capitalize())\n",
    "print(\"αβγδ\".capitalize())"
   ]
  },
  {
   "cell_type": "markdown",
   "metadata": {},
   "source": [
    "#### El metodo *center()*\n",
    "\n",
    "La variante de un parámetro del método center() genera una copia de la cadena original, tratando de centrarla dentro de un campo de un ancho especificado. El centrado se realiza realmente al agregar algunos espacios antes y después de la cadena. Si la longitud del campo es más pequeña que la cadena, se devuelve la cadena original."
   ]
  },
  {
   "cell_type": "code",
   "execution_count": 3,
   "metadata": {},
   "outputs": [
    {
     "name": "stdout",
     "output_type": "stream",
     "text": [
      "[Beta]\n",
      "[Beta]\n",
      "[ Beta ]\n"
     ]
    }
   ],
   "source": [
    "print('[' + 'Beta'.center(2) + ']')\n",
    "print('[' + 'Beta'.center(4) + ']')\n",
    "print('[' + 'Beta'.center(6) + ']')"
   ]
  },
  {
   "cell_type": "markdown",
   "metadata": {},
   "source": [
    "La variante de dos parámetros de center() hace uso del carácter del segundo argumento, en lugar de un espacio."
   ]
  },
  {
   "cell_type": "code",
   "execution_count": 4,
   "metadata": {},
   "outputs": [
    {
     "name": "stdout",
     "output_type": "stream",
     "text": [
      "[*******gamma********]\n"
     ]
    }
   ],
   "source": [
    "print('[' + 'gamma'.center(20, '*') + ']')"
   ]
  },
  {
   "cell_type": "markdown",
   "metadata": {},
   "source": [
    "#### El metodo count()\n",
    "\n",
    "El método count() cuenta todas las apariciones del elemento dentro de la secuencia. La ausencia de tal elemento no causa ningún problema."
   ]
  },
  {
   "cell_type": "code",
   "execution_count": 1,
   "metadata": {},
   "outputs": [
    {
     "name": "stdout",
     "output_type": "stream",
     "text": [
      "2\n",
      "0\n"
     ]
    }
   ],
   "source": [
    "# Demostración del método count():\n",
    "print(\"abcabc\".count(\"b\"))\n",
    "print('abcabc'.count(\"d\"))"
   ]
  },
  {
   "cell_type": "markdown",
   "metadata": {},
   "source": [
    "#### El metodo endswith()\n",
    "\n",
    "Este metodo comprueba si una cadena termina con una determinada combinacion de caracteres y devuelve True o False."
   ]
  },
  {
   "cell_type": "code",
   "execution_count": 1,
   "metadata": {},
   "outputs": [
    {
     "name": "stdout",
     "output_type": "stream",
     "text": [
      "True\n",
      "False\n",
      "False\n",
      "True\n"
     ]
    }
   ],
   "source": [
    "t = \"zeta\"\n",
    "print(t.endswith(\"a\"))\n",
    "print(t.endswith(\"A\"))\n",
    "print(t.endswith(\"et\"))\n",
    "print(t.endswith(\"eta\"))"
   ]
  },
  {
   "cell_type": "markdown",
   "metadata": {},
   "source": [
    "#### El metodo find()\n",
    "\n",
    "Es similar al método index(), busca una subcadena y devuelve el índice de la primera aparición de esta subcadena, pero es más seguro, no genera un error para un argumento que contiene una subcadena inexistente (devuelve -1 en dicho caso) y funciona solo con cadenas, no intentes aplicarlo a ninguna otra secuencia."
   ]
  },
  {
   "cell_type": "code",
   "execution_count": 2,
   "metadata": {},
   "outputs": [
    {
     "name": "stdout",
     "output_type": "stream",
     "text": [
      "2\n",
      "2\n",
      "0\n",
      "-1\n"
     ]
    }
   ],
   "source": [
    "t = 'theta'\n",
    "print(t.find('eta'))\n",
    "print(t.find('et'))\n",
    "print(t.find('the'))\n",
    "print(t.find('ha'))"
   ]
  },
  {
   "cell_type": "markdown",
   "metadata": {},
   "source": [
    "Para inicial la busqueda desde cualquier otro punto de la cadena se puede usar un segundo argumento:"
   ]
  },
  {
   "cell_type": "code",
   "execution_count": 3,
   "metadata": {},
   "outputs": [
    {
     "name": "stdout",
     "output_type": "stream",
     "text": [
      "4\n"
     ]
    }
   ],
   "source": [
    "print('kappa'.find('a', 2))"
   ]
  },
  {
   "cell_type": "code",
   "execution_count": 4,
   "metadata": {},
   "outputs": [
    {
     "name": "stdout",
     "output_type": "stream",
     "text": [
      "15\n",
      "80\n",
      "198\n",
      "221\n",
      "238\n"
     ]
    }
   ],
   "source": [
    "the_text = \"\"\"A variation of the ordinary lorem ipsum\n",
    "text has been used in typesetting since the 1960s \n",
    "or earlier, when it was popularized by advertisements \n",
    "for Letraset transfer sheets. It was introduced to \n",
    "the Information Age in the mid-1980s by the Aldus Corporation, \n",
    "which employed it in graphics and word-processing templates\n",
    "for its desktop publishing program PageMaker (from Wikipedia)\"\"\"\n",
    "\n",
    "fnd = the_text.find('the')\n",
    "while fnd != -1:\n",
    "    print(fnd)\n",
    "    fnd = the_text.find('the', fnd + 1)"
   ]
  },
  {
   "cell_type": "markdown",
   "metadata": {},
   "source": [
    "Existe también una mutación de tres parámetros del método find(), el tercer argumento apunta al primer índice que no se tendrá en cuenta durante la búsqueda (en realidad es el límite superior de la búsqueda)."
   ]
  },
  {
   "cell_type": "code",
   "execution_count": 5,
   "metadata": {},
   "outputs": [
    {
     "name": "stdout",
     "output_type": "stream",
     "text": [
      "1\n",
      "-1\n"
     ]
    }
   ],
   "source": [
    "print('kappa'.find('a', 1, 4))\n",
    "print('kappa'.find('a', 2, 4))"
   ]
  },
  {
   "cell_type": "markdown",
   "metadata": {},
   "source": [
    "#### El método index()\n",
    "\n",
    "El método index() busca la secuencia desde el principio, para encontrar el primer elemento del valor especificado en su argumento.\n",
    "\n",
    "El método devuelve el índice de la primera aparición del argumento (lo que significa que el resultado más bajo posible es 0, mientras que el más alto es la longitud del argumento decrementado en 1)."
   ]
  },
  {
   "cell_type": "code",
   "execution_count": 8,
   "metadata": {},
   "outputs": [
    {
     "name": "stdout",
     "output_type": "stream",
     "text": [
      "2\n",
      "7\n",
      "1\n"
     ]
    }
   ],
   "source": [
    "# Demonstración del método index() method:\n",
    "print(\"aAbByYzZaA\".index(\"b\"))\n",
    "print(\"aAbByYzZaA\".index(\"Z\"))\n",
    "print(\"aAbByYzZaA\".index(\"A\"))"
   ]
  },
  {
   "cell_type": "markdown",
   "metadata": {},
   "source": [
    "#### El metodo isalnum()\n",
    "\n",
    "El método sin parámetros llamado isalnum() comprueba si la cadena contiene solo dígitos o caracteres alfabéticos (letras) y devuelve True (verdadero) o False (falso) de acuerdo al resultado."
   ]
  },
  {
   "cell_type": "code",
   "execution_count": 6,
   "metadata": {},
   "outputs": [
    {
     "name": "stdout",
     "output_type": "stream",
     "text": [
      "True\n",
      "True\n",
      "True\n",
      "False\n",
      "False\n",
      "False\n"
     ]
    }
   ],
   "source": [
    "# Demostración del método isalnum():\n",
    "print('lambda30'.isalnum())\n",
    "print('lambda'.isalnum())\n",
    "print('30'.isalnum())\n",
    "print('@'.isalnum())\n",
    "print('lambda_30'.isalnum())\n",
    "print(''.isalnum())"
   ]
  },
  {
   "cell_type": "markdown",
   "metadata": {},
   "source": [
    "#### El metodo isalpha():\n",
    "\n",
    "El método isalpha() es más especializado, se interesa en letras solamente."
   ]
  },
  {
   "cell_type": "code",
   "execution_count": 33,
   "metadata": {},
   "outputs": [
    {
     "name": "stdout",
     "output_type": "stream",
     "text": [
      "True\n",
      "False\n"
     ]
    }
   ],
   "source": [
    "# Ejemplo: Demostración del método isalpha():\n",
    "print(\"Moooo\".isalpha())\n",
    "print('Mu40 4e'.isalpha())"
   ]
  },
  {
   "cell_type": "markdown",
   "metadata": {},
   "source": [
    "#### El metodo isdigit()\n",
    "\n",
    "Al contrario, el método isdigit() busca solo dígitos, cualquier otra cosa produce False (falso) como resultado."
   ]
  },
  {
   "cell_type": "code",
   "execution_count": 2,
   "metadata": {},
   "outputs": [
    {
     "name": "stdout",
     "output_type": "stream",
     "text": [
      "True\n",
      "False\n"
     ]
    }
   ],
   "source": [
    "# Ejemplo: Demostración del método isdigit():\n",
    "print('2018'.isdigit())\n",
    "print(\"Year2019\".isdigit())"
   ]
  },
  {
   "cell_type": "markdown",
   "metadata": {},
   "source": [
    "#### El metodo islower()\n",
    "\n",
    "El método islower() es una variante de isalpha(), solo acepta letras minúsculas."
   ]
  },
  {
   "cell_type": "code",
   "execution_count": 9,
   "metadata": {},
   "outputs": [
    {
     "name": "stdout",
     "output_type": "stream",
     "text": [
      "False\n",
      "True\n"
     ]
    }
   ],
   "source": [
    "# Ejemplo: Demostración del método islower():\n",
    "print(\"Moooo\".islower())\n",
    "print('moooo'.islower())"
   ]
  },
  {
   "cell_type": "markdown",
   "metadata": {},
   "source": [
    "#### El metodo isspace()\n",
    "\n",
    "El método isspace() identifica espacios en blanco solamente, no tiene en cuenta ningún otro carácter (el resultado es entonces False)."
   ]
  },
  {
   "cell_type": "code",
   "execution_count": 10,
   "metadata": {},
   "outputs": [
    {
     "name": "stdout",
     "output_type": "stream",
     "text": [
      "True\n",
      "True\n",
      "False\n"
     ]
    }
   ],
   "source": [
    "# Ejemplo: Demostración del método isspace():\n",
    "print(' \\n '.isspace())\n",
    "print(\" \".isspace())\n",
    "print(\"mooo mooo mooo\".isspace())"
   ]
  },
  {
   "cell_type": "markdown",
   "metadata": {},
   "source": [
    "#### El metodo isupper()\n",
    "\n",
    "El método isupper() es la versión en mayúscula de islower(), se concentra solo en letras mayúsculas."
   ]
  },
  {
   "cell_type": "code",
   "execution_count": 11,
   "metadata": {},
   "outputs": [
    {
     "name": "stdout",
     "output_type": "stream",
     "text": [
      "False\n",
      "False\n",
      "True\n"
     ]
    }
   ],
   "source": [
    "# Ejemplo: Demostración del método isupper():\n",
    "print(\"Moooo\".isupper())\n",
    "print('moooo'.isupper())\n",
    "print('MOOOO'.isupper())"
   ]
  },
  {
   "cell_type": "markdown",
   "metadata": {},
   "source": [
    "#### El metodo join()\n",
    "\n",
    "Como su nombre lo indica, el método realiza una unión y espera un argumento del tipo lista; se debe asegurar que todos los elementos de la lista sean cadenas, de lo contrario, el método generará una excepción TypeError.\n",
    "\n",
    "Todos los elementos de la lista serán unidos en una sola cadena pero la cadena desde la que se ha invocado el método será utilizada como separador, puesta entre las cadenas.\n",
    "La cadena recién creada se devuelve como resultado."
   ]
  },
  {
   "cell_type": "code",
   "execution_count": 12,
   "metadata": {},
   "outputs": [
    {
     "name": "stdout",
     "output_type": "stream",
     "text": [
      "omicron,pi,rho\n"
     ]
    }
   ],
   "source": [
    "# Demostración del método join():\n",
    "print(\",\".join([\"omicron\", \"pi\", \"rho\"]))"
   ]
  },
  {
   "cell_type": "markdown",
   "metadata": {},
   "source": [
    "#### El metodo lower()\n",
    "\n",
    "El método lower() genera una copia de una cadena, reemplaza todas las letras mayúsculas con sus equivalentes en minúsculas, y devuelve la cadena como resultado. Nuevamente, la cadena original permanece intacta."
   ]
  },
  {
   "cell_type": "code",
   "execution_count": 13,
   "metadata": {},
   "outputs": [
    {
     "name": "stdout",
     "output_type": "stream",
     "text": [
      "sigma=60\n"
     ]
    }
   ],
   "source": [
    "# Demostración del método lower():\n",
    "print(\"SiGmA=60\".lower())"
   ]
  },
  {
   "cell_type": "markdown",
   "metadata": {},
   "source": [
    "#### El metodo lstrip()\n",
    "\n",
    "El método sin parámetros lstrip() devuelve una cadena recién creada formada a partir de la original eliminando todos los espacios en blanco iniciales."
   ]
  },
  {
   "cell_type": "code",
   "execution_count": 14,
   "metadata": {},
   "outputs": [
    {
     "name": "stdout",
     "output_type": "stream",
     "text": [
      "[tau ]\n"
     ]
    }
   ],
   "source": [
    "# Demostración del método lstrip():\n",
    "print(\"[\" + \" tau \".lstrip() + \"]\")"
   ]
  },
  {
   "cell_type": "markdown",
   "metadata": {},
   "source": [
    "El meoto lstrip() con un argumento elimina todos los argumentos dentro de la cadena que esten al comienzo del argumento."
   ]
  },
  {
   "cell_type": "code",
   "execution_count": 16,
   "metadata": {},
   "outputs": [
    {
     "name": "stdout",
     "output_type": "stream",
     "text": [
      "cisco.com\n",
      "o.com\n"
     ]
    }
   ],
   "source": [
    "print(\"www.cisco.com\".lstrip(\"w.\"))\n",
    "print(\"www.cisco.com\".lstrip(\"w.cis\"))"
   ]
  },
  {
   "cell_type": "markdown",
   "metadata": {},
   "source": [
    "#### El metodo replace()\n",
    "\n",
    "El método replace() con dos parámetros devuelve una copia de la cadena original en la que todas las apariciones del primer argumento han sido reemplazadas por el segundo argumento."
   ]
  },
  {
   "cell_type": "code",
   "execution_count": 4,
   "metadata": {},
   "outputs": [
    {
     "name": "stdout",
     "output_type": "stream",
     "text": [
      "www.pythoninstitute.org\n",
      "Thare are it!\n",
      "Apple \n",
      "35\n"
     ]
    }
   ],
   "source": [
    "# Demostración del método replace():\n",
    "print(\"www.netacad.com\".replace(\"netacad.com\", \"pythoninstitute.org\"))\n",
    "print(\"This is it!\".replace(\"is\", \"are\"))\n",
    "print(\"Apple juice\".replace(\"juice\", \"\"))\n",
    "print(\"3.5\".replace(\".\", \"\"))"
   ]
  },
  {
   "cell_type": "markdown",
   "metadata": {},
   "source": [
    "La variante del método replace() con tres parámetros emplea un tercer argumento (un número) para limitar el número de reemplazos."
   ]
  },
  {
   "cell_type": "code",
   "execution_count": 18,
   "metadata": {},
   "outputs": [
    {
     "name": "stdout",
     "output_type": "stream",
     "text": [
      "Thare is it!\n",
      "Thare are it!\n"
     ]
    }
   ],
   "source": [
    "print(\"This is it!\".replace(\"is\", \"are\", 1))\n",
    "print(\"This is it!\".replace(\"is\", \"are\", 2))"
   ]
  },
  {
   "cell_type": "markdown",
   "metadata": {},
   "source": [
    "#### El metodo rfind()\n",
    "\n",
    "Los métodos de uno, dos y tres parámetros denominados rfind() hacen casi lo mismo que sus contrapartes (las que carecen del prefijo r), pero comienzan sus búsquedas desde el final de la cadena, no el principio."
   ]
  },
  {
   "cell_type": "code",
   "execution_count": 19,
   "metadata": {},
   "outputs": [
    {
     "name": "stdout",
     "output_type": "stream",
     "text": [
      "8\n",
      "-1\n",
      "4\n"
     ]
    }
   ],
   "source": [
    "# Demostración del método rfind():\n",
    "print(\"tau tau tau\".rfind(\"ta\"))\n",
    "print(\"tau tau tau\".rfind(\"ta\", 9))\n",
    "print(\"tau tau tau\".rfind(\"ta\", 3, 9))"
   ]
  },
  {
   "cell_type": "markdown",
   "metadata": {},
   "source": [
    "#### El metodo rstrip()\n",
    "\n",
    "Dos variantes del método rstrip() hacen casi lo mismo que el método lstrip, pero afecta el lado opuesto de la cadena."
   ]
  },
  {
   "cell_type": "code",
   "execution_count": 22,
   "metadata": {},
   "outputs": [
    {
     "name": "stdout",
     "output_type": "stream",
     "text": [
      "[ upsilon]\n",
      "cisco.c\n"
     ]
    }
   ],
   "source": [
    "# Demostración del método rstrip():\n",
    "print(\"[\" + \" upsilon \".rstrip() + \"]\")\n",
    "print(\"cisco.com\".rstrip(\"om\"))"
   ]
  },
  {
   "cell_type": "markdown",
   "metadata": {},
   "source": [
    "#### El metodo split()\n",
    "\n",
    "El método split() divide la cadena y crea una lista de todas las subcadenas detectadas.\n",
    "\n",
    "El método asume que las subcadenas están delimitadas por espacios en blanco, los espacios no participan en la operación y no se copian en la lista resultante.\n",
    "\n",
    "Si la cadena está vacía, la lista resultante también está vacía."
   ]
  },
  {
   "cell_type": "code",
   "execution_count": 34,
   "metadata": {},
   "outputs": [
    {
     "name": "stdout",
     "output_type": "stream",
     "text": [
      "['phi', 'chi', 'psi']\n",
      "['mi', 'casa', 'es', 'preciosa']\n"
     ]
    }
   ],
   "source": [
    "# Demostración del método split():\n",
    "casa='mi casa es preciosa'\n",
    "print(\"phi       chi\\npsi\".split())\n",
    "print(casa.split())\n"
   ]
  },
  {
   "cell_type": "markdown",
   "metadata": {},
   "source": [
    "#### El metodo startswith()\n",
    "\n",
    "El método startswith() es un espejo del método endswith(), comprueba si una cadena dada comienza con la subcadena especificada."
   ]
  },
  {
   "cell_type": "code",
   "execution_count": 24,
   "metadata": {},
   "outputs": [
    {
     "name": "stdout",
     "output_type": "stream",
     "text": [
      "False\n",
      "True\n",
      "\n"
     ]
    }
   ],
   "source": [
    "# Demostración del método startswith():\n",
    "print(\"omega\".startswith(\"meg\"))\n",
    "print(\"omega\".startswith(\"om\"))\n",
    "\n",
    "print()"
   ]
  },
  {
   "cell_type": "markdown",
   "metadata": {},
   "source": [
    "#### El metodo strip()\n",
    "\n",
    "El método strip() combina los efectos causados por rstrip() y lstrip(), crea una nueva cadena que carece de todos los espacios en blanco iniciales y finales."
   ]
  },
  {
   "cell_type": "code",
   "execution_count": 25,
   "metadata": {},
   "outputs": [
    {
     "name": "stdout",
     "output_type": "stream",
     "text": [
      "[aleph]\n"
     ]
    }
   ],
   "source": [
    "# Demostración del método strip():\n",
    "print(\"[\" + \"   aleph   \".strip() + \"]\")"
   ]
  },
  {
   "cell_type": "markdown",
   "metadata": {},
   "source": [
    "#### El metodo swapcase()\n",
    "\n",
    "Crea una nueva cadena intercambiando todas las letras por mayúsculas o minúsculas dentro de la cadena original: los caracteres en mayúscula se convierten en minúsculas y viceversa."
   ]
  },
  {
   "cell_type": "code",
   "execution_count": 27,
   "metadata": {},
   "outputs": [
    {
     "name": "stdout",
     "output_type": "stream",
     "text": [
      "yO SOLO SÉ QUE NO SÉ NADA\n"
     ]
    }
   ],
   "source": [
    "# Demostración del método swapcase():\n",
    "print(\"Yo solo sé que no sé nada\".swapcase())"
   ]
  },
  {
   "cell_type": "markdown",
   "metadata": {},
   "source": [
    "#### El metodo title()\n",
    "\n",
    "Realiza una función algo similar cambia la primera letra de cada palabra a mayúsculas, convirtiendo todas las demás a minúsculas."
   ]
  },
  {
   "cell_type": "code",
   "execution_count": 28,
   "metadata": {},
   "outputs": [
    {
     "name": "stdout",
     "output_type": "stream",
     "text": [
      "Yo Solo Sé Que No Sé Nada. Parte 1.\n"
     ]
    }
   ],
   "source": [
    "# Demostración del método title():\n",
    "print(\"Yo solo sé que no sé nada. Parte 1.\".title())"
   ]
  },
  {
   "cell_type": "markdown",
   "metadata": {},
   "source": [
    "#### El metodo upper()\n",
    "\n",
    "Hace una copia de la cadena de origen, reemplaza todas las letras minúsculas con sus equivalentes en mayúsculas, y devuelve la cadena como resultado."
   ]
  },
  {
   "cell_type": "code",
   "execution_count": 29,
   "metadata": {},
   "outputs": [
    {
     "name": "stdout",
     "output_type": "stream",
     "text": [
      "YO SOLO SÉ QUE NO SÉ NADA. PARTE 2.\n"
     ]
    }
   ],
   "source": [
    "# Demostración del método upper():\n",
    "print(\"Yo solo sé que no sé nada. Parte 2.\".upper())"
   ]
  },
  {
   "cell_type": "markdown",
   "metadata": {},
   "source": [
    "La lista completa de las funcions y metodos para las cadenas esta aqui: https://docs.python.org/3.4/library/stdtypes.html#string-methods."
   ]
  },
  {
   "cell_type": "markdown",
   "metadata": {},
   "source": [
    "### Los operadores *int* y *not in*\n",
    "\n",
    "El operador *in* no debería sorprenderte cuando se aplica a cadenas, simplemente comprueba si el argumento izquierdo (una cadena) se puede encontrar en cualquier lugar dentro del argumento derecho (otra cadena)."
   ]
  },
  {
   "cell_type": "code",
   "execution_count": 4,
   "metadata": {},
   "outputs": [
    {
     "name": "stdout",
     "output_type": "stream",
     "text": [
      "True\n"
     ]
    }
   ],
   "source": [
    "print(\"i\" in \"Laberinto\")"
   ]
  },
  {
   "cell_type": "markdown",
   "metadata": {},
   "source": [
    "Como probablemente puedas deducir, el operador *not in* también es aplicable aquí."
   ]
  },
  {
   "cell_type": "code",
   "execution_count": 1,
   "metadata": {},
   "outputs": [
    {
     "name": "stdout",
     "output_type": "stream",
     "text": [
      "True\n"
     ]
    }
   ],
   "source": [
    "print(\"g\" not in \"Laberinto\")"
   ]
  },
  {
   "cell_type": "markdown",
   "metadata": {},
   "source": [
    "### Las cadenas son inmutables:\n",
    "\n",
    "Esto significa principalmente que la similitud de cadenas y listas es limitada. No todo lo que puede hacerse con una lista puede hacerse con una cadena.\n",
    "\n",
    "La primera diferencia importante no te permite usar la instrucción *del* para eliminar cualquier cosa de una cadena. Lo único que puedes hacer con *del* y una cadena es eliminar la cadena como un todo. \n",
    "\n",
    "Las cadenas de Python no tienen el método *append()* o *insert()* - no se pueden expander de ninguna manera."
   ]
  },
  {
   "cell_type": "markdown",
   "metadata": {},
   "source": [
    "### Ordenamiento en cadenas\n",
    "\n",
    "Existen dos metodos, uno que emplea una funcion y el otro emplea un metodo. La funcion *sorted()* que toma una lista inicial y devuelve una lista ordenada nueva, no alterando la inicial. El metodo *sort()* realiza la misma operacion pero modifica la lista original, no genera una nueva lista."
   ]
  },
  {
   "cell_type": "code",
   "execution_count": 1,
   "metadata": {},
   "outputs": [
    {
     "name": "stdout",
     "output_type": "stream",
     "text": [
      "['omega', 'alpha', 'pi', 'gamma']\n",
      "['alpha', 'gamma', 'omega', 'pi']\n",
      "['omega', 'alpha', 'pi', 'gamma']\n",
      "['alpha', 'gamma', 'omega', 'pi']\n"
     ]
    }
   ],
   "source": [
    "# Demostración de la función sorted():\n",
    "first_greek = ['omega', 'alpha', 'pi', 'gamma']\n",
    "first_greek_2 = sorted(first_greek)\n",
    "\n",
    "print(first_greek)\n",
    "print(first_greek_2)\n",
    "\n",
    "# Demostración del método sort():\n",
    "second_greek = ['omega', 'alpha', 'pi', 'gamma']\n",
    "print(second_greek)\n",
    "\n",
    "second_greek.sort()\n",
    "print(second_greek)"
   ]
  },
  {
   "cell_type": "markdown",
   "metadata": {},
   "source": [
    "La biblioteca pandas es muy usada para manejar estructuras de datos y herramientas para el analisis y manipulacion de datos tabulares:"
   ]
  },
  {
   "cell_type": "code",
   "execution_count": 12,
   "metadata": {},
   "outputs": [
    {
     "name": "stdout",
     "output_type": "stream",
     "text": [
      "    Name  Age\n",
      "0   Juan   20\n",
      "1  Pedro   21\n",
      "2  Lucas   29\n"
     ]
    }
   ],
   "source": [
    "import pandas as pd\n",
    "\n",
    "data = {\"Name\":[\"Juan\", \"Pedro\", \"Lucas\"], \"Age\":[20,21,29]}\n",
    "\n",
    "df=pd.DataFrame(data)\n",
    "\n",
    "print(df)"
   ]
  },
  {
   "cell_type": "markdown",
   "metadata": {},
   "source": [
    "Otra biblioteca muy usada es matplotlib que permite generar graficas en python:"
   ]
  },
  {
   "cell_type": "code",
   "execution_count": 15,
   "metadata": {},
   "outputs": [
    {
     "data": {
      "image/png": "[encoded data removed]",
      "text/plain": [
       "<Figure size 640x480 with 1 Axes>"
      ]
     },
     "metadata": {},
     "output_type": "display_data"
    }
   ],
   "source": [
    "import matplotlib.pyplot as plt\n",
    "\n",
    "plt.plot([1,2,3,4,5])\n",
    "plt.ylabel(\"Algunos numeros\")\n",
    "plt.show()"
   ]
  },
  {
   "cell_type": "markdown",
   "metadata": {},
   "source": [
    "## Migracion de base de datos\n",
    "\n",
    "Es el proceso de trasladar bases de datos de un sistema a otro, por lo general estan escritas en SQL.\n",
    "\n",
    "## Frameworks para el desarrollo de interfaces en Web\n",
    "\n",
    "Los frameworks para interfaces son herramientas que permiten a los programadores crear aplicaciones y sitios web de una manera rapida, edificiente y profesional. Estos frameworks proporcionan una estructura y un conjunto de herramienta spredefinidas que simplican los procesos de diseño y desarrollo de interfaces Web.\n",
    "\n",
    "Algunos de los frameworks mas usados son: Bootstrap, Materialize, Semantic UI, Foundation, Vue.js.\n",
    "\n",
    "Debemos tener algunas consideraciones al momento de elegir un framework:\n",
    "\n",
    "1. Tamaño y rendimiento, segun el rendimiento deseado en la aplicacion.\n",
    "2. Flexibilidad y personalizacion, segun las necesidades especificas de diseño.\n",
    "3. Documentacion y cominudad: para tener en cuenta la actualizacion y soporte de problemas que tenga el framework.\n",
    "4. Compatibilidad con proyectos existentes.\n",
    "\n",
    "## Conexiones a bases de datos\n",
    "\n",
    "EnPython, podemos conectar y manipular bases de datos utilizando bibliotecas específicas que proporcionan interfaces sencillas y eficientes. Para conectarnos a una base de datos en Python, necesitamos utilizar una biblioteca específica que admita el motor de base de datos que estamos utilizando. Algunas bibliotecas populares para la conexión a bases de datos en Python son sqlite3, MySQL Connector, psycopg2 (para PostgreSQL), entre otras. A continuación, presentaremos un ejemplo utilizando sqlite3:"
   ]
  },
  {
   "cell_type": "code",
   "execution_count": null,
   "metadata": {},
   "outputs": [],
   "source": [
    "import sqlite3\n",
    "\n",
    "#Establece una conexion a la base de datos\n",
    "conexion = sqlite3.connect(\"basedatos.db\")\n",
    "\n",
    "#Realiza operaciones en la base de datos\n",
    "\n",
    "#Cerrar la conecion a la base de datos\n",
    "conexion.close()"
   ]
  },
  {
   "cell_type": "markdown",
   "metadata": {},
   "source": [
    "Una vez establecida la conexión a la base de datos, podemos realizar consultas y manipulaciones de datos utilizando sentencias SQL. A continuación, presentaremos un ejemplo básico de consulta utilizando sqlite3:"
   ]
  },
  {
   "cell_type": "code",
   "execution_count": null,
   "metadata": {},
   "outputs": [],
   "source": [
    "import sqlite3\n",
    "\n",
    "#Establece una conexion a la base de datos\n",
    "conexion = sqlite3.connect('basedatos.db')\n",
    "\n",
    "#Crear un cursor para ejecutar las consultas\n",
    "\n",
    "cursor= conexion.cursor()\n",
    "\n",
    "#Ejecuta una consulta SELECT\n",
    "cursor.execute('SELECT * FROM usuarios')\n",
    "\n",
    "#Obtener los resultados de la consulta\n",
    "resultados = cursor.fetchall()\n",
    "\n",
    "#Mostrar los resultados\n",
    "for resultado in resultados:\n",
    "    print(resultado)\n",
    "\n",
    "#Cerrar el cursor y la base de datos\n",
    "cursor.close()\n",
    "conexion.close()"
   ]
  },
  {
   "cell_type": "markdown",
   "metadata": {},
   "source": [
    "## Bibliotecas ORM\n",
    "\n",
    "Además de trabajar directamente con sentencias SQL, también existen bibliotecas ORM (Object-Relational Mapping) en Python que simplifican el acceso y manipulación de datos en bases de datos.\n",
    "\n",
    "Estas bibliotecas mapean las tablas de la base de datos a objetos en Python, lo que facilita la manipulación de los datos. Ejemplos de bibliotecas ORM populares son SQLAlchemy y Django ORM.\n",
    "La conexión a bases de datos en Python nos permite acceder y manipular datos de manera eficiente. Utilizando las bibliotecas adecuadas, podemos establecer conexiones a bases de datos, realizar consultas y modificar los datos almacenados en ellas.\n",
    "\n",
    "Ya sea trabajando con sentencias SQL directamente o utilizando bibliotecas ORM, Python nos brinda herramientas poderosas para interactuar con bases de datos. ¡Anímate a explorar y experimentar con la conexión a bases de datos en Python y amplía tus habilidades de programación!"
   ]
  },
  {
   "cell_type": "code",
   "execution_count": null,
   "metadata": {},
   "outputs": [],
   "source": [
    "my_list = [1, 2, 4, 4, 1, 4, 2, 6, 2, 9]\n",
    "i=0\n",
    "while i<=len(my_list):\n",
    "    if my_list[i] in my_list[i+1:]:\n",
    "        del my_list[i]\n",
    "        i+=1\n",
    "\n",
    "print(\"La lista con elementos únicos:\")\n",
    "print(my_list)"
   ]
  },
  {
   "cell_type": "markdown",
   "metadata": {},
   "source": [
    "## Excepciones\n",
    "\n",
    "Existen dos tipos de errores principalmente, uno que es cuando le codigo se alimenta con datos incorrectos y otro cuando ocurre un comportamiento no deseado en el programa debido a errores que se cometieron cuando se estaba escribiendo el codigo."
   ]
  },
  {
   "cell_type": "code",
   "execution_count": 7,
   "metadata": {},
   "outputs": [
    {
     "name": "stdout",
     "output_type": "stream",
     "text": [
      "No se que hacer con. 10\n"
     ]
    }
   ],
   "source": [
    "try:\n",
    "    value = int(input('Ingresa un número natural: '))\n",
    "    print('El recíproco de', value, 'es', 1/value)        \n",
    "except ValueError:\n",
    "    print('No se que hacer con.')    \n",
    "except ZeroDivisionError:\n",
    "    print('La división entre cero no está permitida en nuestro Universo.')    \n",
    "except:\n",
    "    print('Ha sucedido algo extraño, ¡lo siento!')"
   ]
  },
  {
   "cell_type": "markdown",
   "metadata": {},
   "source": [
    "Puedes usar un solo try y varias except para cada error, el except por defecto debe ir al final siempre.\n",
    "\n",
    "Algunas excepciones utiles son:\n",
    "\n",
    "- ZeroDivisionError\n",
    "Esta aparece cuando intentas forzar a Python a realizar cualquier operación que provoque una división en la que el divisor es cero o no se puede distinguir de cero. Toma en cuenta que hay más de un operador de Python que puede hacer que se genere esta excepción. ¿Puedes adivinarlos todos?\n",
    "\n",
    "Si, estos son: /, //, y %.\n",
    "\n",
    "- ValueError\n",
    "Espera esta excepción cuando estás manejando valores que pueden usarse de manera inapropiada en algún contexto. En general, esta excepción se genera cuando una función (como int() o float()) recibe un argumento de un tipo adecuado, pero su valor es inaceptable.\n",
    "\n",
    "- TypeError\n",
    "Esta excepción aparece cuando intentas aplicar un dato cuyo tipo no se puede aceptar en el contexto actual. Mira el ejemplo:"
   ]
  },
  {
   "cell_type": "code",
   "execution_count": null,
   "metadata": {},
   "outputs": [],
   "source": [
    "short_list = [1]\n",
    "one_value = short_list[0.5]"
   ]
  },
  {
   "cell_type": "markdown",
   "metadata": {},
   "source": [
    "- AttributeError\n",
    "Esta excepción llega - entre otras ocasiones - cuando intentas activar un método que no existe en un elemento con el que se está tratando. Por ejemplo:"
   ]
  },
  {
   "cell_type": "code",
   "execution_count": null,
   "metadata": {},
   "outputs": [],
   "source": [
    "short_list = [1]\n",
    "short_list.append(2)\n",
    "short_list.depend(3)"
   ]
  },
  {
   "cell_type": "markdown",
   "metadata": {},
   "source": [
    "La tercera línea de nuestro ejemplo intenta hacer uso de un método que no está incluido en las listas. Este es el lugar donde se genera la excepción AttributeError.\n",
    "\n",
    "- SyntaxError: Esta excepción se genera cuando el control llega a una línea de código que viola la gramática de Python. Puede sonar extraño, pero algunos errores de este tipo no se pueden identificar sin ejecutar primero el código. Este tipo de comportamiento es típico de los lenguajes interpretados - el intérprete siempre trabaja con prisa y no tiene tiempo para escanear todo el código fuente. Se conforma con comprobar el código que se está ejecutando en el momento. Muy pronto se te presentará un ejemplo de esta categoría.\n",
    "\n",
    "    Es una mala idea manejar este tipo de excepciones en tus programas. Deberías producir código sin errores de sintaxis, en lugar de enmascarar las fallas que has causado.\n",
    "\n",
    "Las excepciones en Python se definen de forma jerarquica, existiendo asi excepciones que incluyen varias otras dentro de si, como es el caso de la excepcion `LookupError` la cual contiene dentro de si `IndexError`.\n",
    "\n",
    "La sentencia de Python llamada `raise NombreDeException` genera la excepcion bajo demanda. Si se usa solo `raise` sin especificar una excepcion, debe usarse solo dentro del bloque `except` y generará la misma excepcion que se esta manejando actualmente (la que se produjo en el `try`)."
   ]
  },
  {
   "cell_type": "code",
   "execution_count": 1,
   "metadata": {},
   "outputs": [
    {
     "name": "stdout",
     "output_type": "stream",
     "text": [
      "¿Qué pasó? ¿Un error?\n",
      "FIN.\n"
     ]
    }
   ],
   "source": [
    "def bad_fun(n):\n",
    "    raise ZeroDivisionError\n",
    "\n",
    "\n",
    "try:\n",
    "    bad_fun(0)\n",
    "except ArithmeticError:\n",
    "    print(\"¿Qué pasó? ¿Un error?\")\n",
    "\n",
    "print(\"FIN.\")\n",
    "    "
   ]
  },
  {
   "cell_type": "code",
   "execution_count": 2,
   "metadata": {},
   "outputs": [
    {
     "name": "stdout",
     "output_type": "stream",
     "text": [
      "¡Lo hice otra vez!\n",
      "¡Ya veo!\n",
      "FIN.\n"
     ]
    }
   ],
   "source": [
    "def bad_fun(n):\n",
    "    try:\n",
    "        return n / 0\n",
    "    except:\n",
    "        print(\"¡Lo hice otra vez!\")\n",
    "        raise\n",
    "\n",
    "\n",
    "try:\n",
    "    bad_fun(0)\n",
    "except ArithmeticError:\n",
    "    print(\"¡Ya veo!\")\n",
    "\n",
    "print(\"FIN.\")\n",
    "    "
   ]
  },
  {
   "cell_type": "markdown",
   "metadata": {},
   "source": [
    "La sentencia de Python `assert expression` evalúa la expresión y genera la excepción `AssertError` cuando la expresión es igual a cero, una cadena vacía o `None`. Puedes usarla para proteger algunas partes críticas de tu código de datos devastadores."
   ]
  },
  {
   "cell_type": "code",
   "execution_count": 4,
   "metadata": {},
   "outputs": [
    {
     "ename": "AssertionError",
     "evalue": "",
     "output_type": "error",
     "traceback": [
      "\u001b[1;31m---------------------------------------------------------------------------\u001b[0m",
      "\u001b[1;31mAssertionError\u001b[0m                            Traceback (most recent call last)",
      "Cell \u001b[1;32mIn[4], line 4\u001b[0m\n\u001b[0;32m      1\u001b[0m \u001b[38;5;28;01mimport\u001b[39;00m \u001b[38;5;21;01mmath\u001b[39;00m\n\u001b[0;32m      3\u001b[0m x \u001b[38;5;241m=\u001b[39m \u001b[38;5;28mfloat\u001b[39m(\u001b[38;5;28minput\u001b[39m(\u001b[38;5;124m\"\u001b[39m\u001b[38;5;124mIngresa un número: \u001b[39m\u001b[38;5;124m\"\u001b[39m))\n\u001b[1;32m----> 4\u001b[0m \u001b[38;5;28;01massert\u001b[39;00m x \u001b[38;5;241m>\u001b[39m\u001b[38;5;241m=\u001b[39m \u001b[38;5;241m0.0\u001b[39m\n\u001b[0;32m      6\u001b[0m x \u001b[38;5;241m=\u001b[39m math\u001b[38;5;241m.\u001b[39msqrt(x)\n\u001b[0;32m      8\u001b[0m \u001b[38;5;28mprint\u001b[39m(x)\n",
      "\u001b[1;31mAssertionError\u001b[0m: "
     ]
    }
   ],
   "source": [
    "import math\n",
    "\n",
    "x = float(input(\"Ingresa un número: \"))\n",
    "assert x >= 0.0\n",
    "\n",
    "x = math.sqrt(x)\n",
    "\n",
    "print(x)"
   ]
  },
  {
   "cell_type": "markdown",
   "metadata": {},
   "source": [
    "# MODULO 5: Programacion orientada a objetos (POO)\n",
    "\n",
    "Este tipo de programación en un proyecto facilita muchas tareas importantes, por ejemplo, dividir el proyecto en partes pequeñas e independientes y el desarrollo independiente de diferentes elementos del proyecto.\n",
    "\n",
    "Dentro de este modulo se usaran cuatro conceptos claves: Clases, Objetos, Metodos y Atributos. Poniendo un ejemplo con animales del oceano seria el siguiente:\n",
    "- Clase: Mariscos\n",
    "- Objetos: Nombre\n",
    "- Metodos: Nadar, Bucear\n",
    "- Atributos: Peso, Dieta, Sabor\n",
    "\n",
    "El enfoque orientado a objetos sugiere una forma de pensar completamente diferente. Los datos y el código están encapsulados juntos en el mismo mundo, divididos en clases.\n",
    "\n",
    "Cada clase es como una receta que se puede usar cuando quieres crear un objeto útil. Puedes producir tantos objetos como necesites para resolver tu problema.\n",
    "\n",
    "Cada objeto tiene un conjunto de rasgos (se denominan propiedades o atributos; usaremos ambas palabras como sinónimos) y es capaz de realizar un conjunto de actividades (que se denominan métodos).\n",
    "\n",
    "Las recetas pueden modificarse si son inadecuadas para fines específicos y, en efecto, pueden crearse nuevas clases. Estas nuevas clases heredan propiedades y métodos de los originales, y generalmente agregan algunos nuevos, creando nuevas herramientas más específicas.\n",
    "\n",
    "Nota: la jerarquía crece de arriba hacia abajo, como raíces de árboles, no ramas. La clase más general y más amplia siempre está en la parte superior (la superclase) mientras que sus descendientes se encuentran abajo (las subclases).\n",
    "\n",
    "## Que es un objeto\n",
    "\n",
    "Una clase (entre otras definiciones) es un conjunto de objetos. Un objeto es un ser perteneciente a una clase.\n",
    "\n",
    "Un objeto tiene un nombre que lo identifica de forma exclusiva (aunque pueden existir objetos sin nombre), el objeto tambine posee una serie de propiedades que lo hacen original, finalmente, un objeto tambien tiene un conjunto de habilidades que le permiten realizar acciones especificas.\n",
    "\n",
    "### Herencia\n",
    "\n",
    "Cualquier objeto vinculado a un nivel específico de una jerarquía de clases hereda todos los rasgos (así como los requisitos y cualidades) definidos dentro de cualquiera de las superclases.\n",
    "\n",
    "A continuacion, tenemos un ejemplo de la creacion de una clase:"
   ]
  },
  {
   "cell_type": "code",
   "execution_count": null,
   "metadata": {},
   "outputs": [],
   "source": [
    "class the_simplest_Class:\n",
    "    pass"
   ]
  },
  {
   "cell_type": "markdown",
   "metadata": {},
   "source": [
    "Ahora crearemos un objeto nuevo en base a la clase:"
   ]
  },
  {
   "cell_type": "code",
   "execution_count": null,
   "metadata": {},
   "outputs": [],
   "source": [
    "mi_primer_objeto=the_simplest_Class()"
   ]
  },
  {
   "cell_type": "markdown",
   "metadata": {},
   "source": [
    "## Que es una pila?\n",
    "\n",
    "Como apilar monedas, se hace una pila simplmente, y no puedes colocar las monedas en otro lugar. En una pila, los objetos se iran accediendo en el orden en el cual se agregan, de esta manera, el primer objeto en acceder sera el ultimo agregado. Esto quiere decir que si quieres acceder al primer objeto de la pila, debes eliminar todos los objetos que se encuentran antes que este.\n",
    "\n",
    "Implementemos una pila en Python. Esta será una pila muy simple, y te mostraremos como hacerlo en dos enfoques independientes: de manera procedimental y de orientado a objetos.\n",
    "\n",
    "### La pila: el enfoque procedimental\n",
    "\n",
    "Para poder almacenar los elementos debemos usar el metodo mas simple posible: una lista."
   ]
  },
  {
   "cell_type": "code",
   "execution_count": 1,
   "metadata": {},
   "outputs": [
    {
     "name": "stdout",
     "output_type": "stream",
     "text": [
      "1\n",
      "2\n",
      "3\n"
     ]
    }
   ],
   "source": [
    "stack=[]\n",
    "\n",
    "def push(val):\n",
    "    stack.append(val)\n",
    "\n",
    "def pop():\n",
    "    val=stack[-1]\n",
    "    del stack[-1]\n",
    "    return val\n",
    "\n",
    "push(3)\n",
    "push(2)\n",
    "push(1)\n",
    "\n",
    "print(pop())\n",
    "print(pop())\n",
    "print(pop())"
   ]
  },
  {
   "cell_type": "markdown",
   "metadata": {},
   "source": [
    "### La pila: enfoque procedimental VS enfoque orientado a objetos\n",
    "\n",
    "Éstas son algunas de las desventajas del enfoque procedimental:\n",
    "\n",
    "- La variable esencial (la lista de la pila) es altamente vulnerable; cualquiera puede modificarla de forma incontrolable, destruyendo la pila; esto no significa que se haya hecho de manera maliciosa; por el contrario, puede ocurrir como resultado de un descuido.\n",
    "\n",
    "El enfoque orientado a objetos ofrece soluciones para cada uno de los problemas anteriores. Vamos a nombrarlos primero:\n",
    "\n",
    "- La capacidad de ocultar (proteger) los valores seleccionados contra el acceso no autorizado se llama encapsulamiento; no se puede acceder a los valores encapsulados ni modificarlos si deseas utilizarlos exclusivamente.\n",
    "\n",
    "- Cuando tienes una clase que implementa todos los comportamientos de pila necesarios, puedes producir tantas pilas como desees; no necesitas copiar ni replicar ninguna parte del código.\n",
    "\n",
    "- La capacidad de enriquecer la pila con nuevas funciones proviene de la herencia; puedes crear una nueva clase (una subclase) que herede todos los rasgos existentes de la superclase y agregar algunos nuevos."
   ]
  },
  {
   "cell_type": "markdown",
   "metadata": {},
   "source": [
    "### La pila: le enfoque orientado a objetos\n",
    "\n",
    "Comenzaremos de la misma manera que en el enfoque procedimental, creando una lista, solo que debemos saber donde poner la lista:"
   ]
  },
  {
   "cell_type": "code",
   "execution_count": null,
   "metadata": {},
   "outputs": [],
   "source": [
    "class Stack:"
   ]
  },
  {
   "cell_type": "markdown",
   "metadata": {},
   "source": [
    "Ahora, esperamos dos cosas de la clase:\n",
    "\n",
    "Queremos que la clase tenga una propiedad como el almacenamiento de la pila, tenemos que \"instalar\" una lista dentro de cada objeto de la clase (nota: cada objeto debe tener su propia lista; la lista no debe compartirse entre diferentes pilas).\n",
    "\n",
    "Despues, queremos que la lista esté oculta de la vista de los usuarios de la clase. de la vista de los usuarios' de la clase.\n",
    "\n",
    "Tienes que equipar a la clase con una función específica:\n",
    "\n",
    "- Tiene que ser nombrada de forma estricta.\n",
    "- Se invoca implícitamente cuando se crea el nuevo objeto.\n",
    "- Dicha función es llamada el constructor, ya que su propósito general es construir un nuevo objeto. El constructor debe saber todo acerca de la estructura del objeto y debe realizar todas las inicializaciones necesarias."
   ]
  },
  {
   "cell_type": "code",
   "execution_count": 2,
   "metadata": {},
   "outputs": [
    {
     "name": "stdout",
     "output_type": "stream",
     "text": [
      "Hola\n"
     ]
    }
   ],
   "source": [
    "class Stack: \n",
    "    def __init__(self):\n",
    "        print('Hola')\n",
    "\n",
    "stack_object=Stack()"
   ]
  },
  {
   "cell_type": "markdown",
   "metadata": {},
   "source": [
    "Ahora, agreguemos una propiedad al nuevo objeto:"
   ]
  },
  {
   "cell_type": "code",
   "execution_count": 3,
   "metadata": {},
   "outputs": [
    {
     "name": "stdout",
     "output_type": "stream",
     "text": [
      "0\n"
     ]
    }
   ],
   "source": [
    "class Stack: \n",
    "    def __init__(self):\n",
    "        self.stack_list=[]\n",
    "        \n",
    "stack_object=Stack()\n",
    "print(len(stack_object.stack_list))"
   ]
  },
  {
   "cell_type": "markdown",
   "metadata": {},
   "source": [
    "Ahora, si queremos que la propiedad este oculta al acceso del mundo exterior debemos emplear el siguiente proceso:"
   ]
  },
  {
   "cell_type": "code",
   "execution_count": 7,
   "metadata": {},
   "outputs": [
    {
     "ename": "AttributeError",
     "evalue": "'Stack' object has no attribute '__stack_list'",
     "output_type": "error",
     "traceback": [
      "\u001b[1;31m---------------------------------------------------------------------------\u001b[0m",
      "\u001b[1;31mAttributeError\u001b[0m                            Traceback (most recent call last)",
      "Cell \u001b[1;32mIn[7], line 6\u001b[0m\n\u001b[0;32m      3\u001b[0m         \u001b[38;5;28mself\u001b[39m\u001b[38;5;241m.\u001b[39m__stack_list\u001b[38;5;241m=\u001b[39m[]\n\u001b[0;32m      5\u001b[0m stack_object\u001b[38;5;241m=\u001b[39mStack()\n\u001b[1;32m----> 6\u001b[0m \u001b[38;5;28mprint\u001b[39m(\u001b[38;5;28mlen\u001b[39m(\u001b[43mstack_object\u001b[49m\u001b[38;5;241;43m.\u001b[39;49m\u001b[43m__stack_list\u001b[49m))\n",
      "\u001b[1;31mAttributeError\u001b[0m: 'Stack' object has no attribute '__stack_list'"
     ]
    }
   ],
   "source": [
    "class Stack: \n",
    "    def __init__(self):\n",
    "        self.__stack_list=[]\n",
    "        \n",
    "stack_object=Stack()\n",
    "print(len(stack_object.__stack_list))"
   ]
  },
  {
   "cell_type": "markdown",
   "metadata": {},
   "source": [
    "Cuando cualquier componente de la clase tiene un nombre que comienza con dos guiones bajos (__), se vuelve privado, esto significa que solo se puede acceder desde dentro de la clase.\n",
    "\n",
    "No puedes verlo desde el mundo exterior. Así es como Python implementa el concepto de encapsulación.\n",
    "\n",
    "Ejecuta el programa para probar nuestras suposiciones: una excepción AttributeError debe ser generada."
   ]
  },
  {
   "cell_type": "markdown",
   "metadata": {},
   "source": [
    "#### Una pila desde cero\n",
    "\n",
    "Queremos invocar estas funciones para agregar(push) y quitar(pop) valores de la pila. Esto significa que ambos deben ser accesibles para el usuario de la clase (en contraste con la lista previamente construida, que está oculta para los usuarios de la clase ordinaria).\n",
    "\n",
    "Tal componente es llamado público, por ello no puede comenzar su nombre con dos (o más) guiones bajos. Hay un requisito más el nombre no debe tener más de un guión bajo. Dado que ningún guion bajo final cumple completamente con el requisito, puedes suponer que el nombre es aceptable."
   ]
  },
  {
   "cell_type": "code",
   "execution_count": 8,
   "metadata": {},
   "outputs": [
    {
     "name": "stdout",
     "output_type": "stream",
     "text": [
      "1\n",
      "2\n",
      "3\n"
     ]
    }
   ],
   "source": [
    "class Stack:\n",
    "    def __init__(self):\n",
    "        self.__stack_list=[]\n",
    "\n",
    "    def push(self, val):\n",
    "        self.__stack_list.append(val)\n",
    "\n",
    "    def pop(self):\n",
    "        val=self.__stack_list[-1]\n",
    "        del self.__stack_list[-1]\n",
    "        return val\n",
    "    \n",
    "stack_object=Stack()\n",
    "\n",
    "stack_object.push(3)\n",
    "stack_object.push(2)\n",
    "stack_object.push(1)\n",
    "\n",
    "print(stack_object.pop())\n",
    "print(stack_object.pop())\n",
    "print(stack_object.pop())"
   ]
  },
  {
   "cell_type": "markdown",
   "metadata": {},
   "source": [
    "Una de las ventajas de este metodo, es que ahora puedes tener mas de una lista que maneja datos separados pero posee los mismos metodos, compruebalo tu mismo:"
   ]
  },
  {
   "cell_type": "code",
   "execution_count": 9,
   "metadata": {},
   "outputs": [
    {
     "name": "stdout",
     "output_type": "stream",
     "text": [
      "3\n"
     ]
    }
   ],
   "source": [
    "class Stack:\n",
    "    def __init__(self):\n",
    "        self.__stack_list = []\n",
    "\n",
    "    def push(self, val):\n",
    "        self.__stack_list.append(val)\n",
    "\n",
    "    def pop(self):\n",
    "        val = self.__stack_list[-1]\n",
    "        del self.__stack_list[-1]\n",
    "        return val\n",
    "\n",
    "\n",
    "stack_object_1 = Stack()\n",
    "stack_object_2 = Stack()\n",
    "\n",
    "stack_object_1.push(3)\n",
    "stack_object_2.push(stack_object_1.pop())\n",
    "\n",
    "print(stack_object_2.pop())\n"
   ]
  },
  {
   "cell_type": "markdown",
   "metadata": {},
   "source": [
    "Ahora veamos un ejemplo de como crear una subclase a partir de la superclase. Para esto, usaremos el ejemplo anterior, queremos crear una subclase que sea capaz de sumar y restar todos los valores existentes en la pila, en una variable propia e invisible llamada *sum*:"
   ]
  },
  {
   "cell_type": "code",
   "execution_count": null,
   "metadata": {},
   "outputs": [],
   "source": [
    "class Stack:\n",
    "    def __init__(self):\n",
    "        self.__stack_list = []\n",
    "\n",
    "    def push(self, val):\n",
    "        self.__stack_list.append(val)\n",
    "\n",
    "    def pop(self):\n",
    "        val = self.__stack_list[-1]\n",
    "        del self.__stack_list[-1]\n",
    "        return val\n",
    "\n",
    "\n",
    "class AddingStack(Stack):\n",
    "    def __init__(self):\n",
    "        Stack.__init__(self)\n",
    "        self.__sum = 0\n",
    "    "
   ]
  },
  {
   "cell_type": "markdown",
   "metadata": {},
   "source": [
    "Observa ña tercer linea luego de crear la subclase, se puede observar algo extraño, esto es porque Python te obliga a invocar explícitamente el constructor de una superclase. Omitir este punto tendrá efectos nocivos: el objeto se verá privado de la lista __stack_list. Tal pila no funcionará correctamente.\n",
    "\n",
    "Ten en cuenta la sintaxis:\n",
    "\n",
    "- Se especifica el nombre de la superclase (esta es la clase cuyo constructor se desea ejecutar).\n",
    "- Se coloca un punto (.) después del nombre.\n",
    "- Se especifica el nombre del constructor.\n",
    "- Se debe señalar al objeto (la instancia de la clase) que debe ser inicializado por el constructor; es por eso que se debe especificar el argumento y utilizar la variable self aquí; recuerda: invocar cualquier método (incluidos los constructores) desde fuera de la clase nunca requiere colocar el argumento self en la lista de argumentos, invocar un método desde dentro de la clase exige el uso explícito del argumento self, y tiene que ser el primero en la lista.\n",
    "\n",
    "Ahora, debemos modificar los metodos existentes en la superclase, para esto debemos cambiar la funcionalidad de los metodos, no sus nombres. Solo debemos agregar el valor a la variable *sum* y agregar el valor a la pila, tal como se ve a continuacion:"
   ]
  },
  {
   "cell_type": "code",
   "execution_count": 10,
   "metadata": {},
   "outputs": [
    {
     "name": "stdout",
     "output_type": "stream",
     "text": [
      "3\n",
      "8\n",
      "3\n"
     ]
    }
   ],
   "source": [
    "class Stack:\n",
    "    def __init__(self):\n",
    "        self.__stack_list = []\n",
    "\n",
    "    def push(self, val):\n",
    "        self.__stack_list.append(val)\n",
    "\n",
    "    def pop(self):\n",
    "        val = self.__stack_list[-1]\n",
    "        del self.__stack_list[-1]\n",
    "        return val\n",
    "\n",
    "\n",
    "class AddingStack(Stack):\n",
    "    def __init__(self):\n",
    "        Stack.__init__(self)\n",
    "        self.__sum = 0\n",
    "    def push(self,val):\n",
    "        self.__sum+=val\n",
    "        Stack.push(self,val)\n",
    "    def pop(self):\n",
    "        val=Stack.pop(self)\n",
    "        self.__sum-=val\n",
    "        return val\n",
    "    def get_sum(self):\n",
    "        return print(self.__sum)\n",
    "    \n",
    "obj_sum=AddingStack()\n",
    "obj_sum.push(3)\n",
    "obj_sum.get_sum()\n",
    "\n",
    "obj_sum.push(5)\n",
    "obj_sum.get_sum()\n",
    "\n",
    "obj_sum.pop()\n",
    "obj_sum.get_sum()\n",
    "\n"
   ]
  },
  {
   "cell_type": "markdown",
   "metadata": {},
   "source": [
    "EJERCICIO:\n",
    "\n",
    "Tu tarea es extender el comportamiento de la clase Stack de tal manera que la clase pueda contar todos los elementos que son agregados (push) y quitados (pop). Emplea la clase Stack que proporcionamos en el editor."
   ]
  },
  {
   "cell_type": "code",
   "execution_count": 5,
   "metadata": {},
   "outputs": [
    {
     "name": "stdout",
     "output_type": "stream",
     "text": [
      "100\n"
     ]
    }
   ],
   "source": [
    "class Stack:\n",
    "    def __init__(self):\n",
    "        self.__stk = []\n",
    "\n",
    "    def push(self, val):\n",
    "        self.__stk.append(val)\n",
    "\n",
    "    def pop(self):\n",
    "        val = self.__stk[-1]\n",
    "        del self.__stk[-1]\n",
    "        return val\n",
    "\n",
    "\n",
    "class CountingStack(Stack):\n",
    "    def __init__(self):\n",
    "    #\n",
    "    # Llena el constructor con acciones apropiadas.\n",
    "    #\n",
    "        Stack.__init__(self)\n",
    "        self.__counter=0\n",
    "\n",
    "    def get_counter(self):\n",
    "    #\n",
    "    # Presenta el valor actual del contador al mundo.\n",
    "    #\n",
    "        return self.__counter\n",
    "\n",
    "    def pop(self):\n",
    "    #\n",
    "    # Haz un pop y actualiza el contador.\n",
    "    #\n",
    "        self.__counter+=1\n",
    "        return Stack.pop(self)\n",
    "\t\n",
    "\n",
    "stk = CountingStack()\n",
    "for i in range(100):\n",
    "    stk.push(i)\n",
    "    stk.pop()\n",
    "print(stk.get_counter())\n"
   ]
  },
  {
   "cell_type": "markdown",
   "metadata": {},
   "source": [
    "## POO: Propiedades de las clases\n",
    "\n",
    "### Variables de instancia\n",
    "\n",
    "La palabra instancia sugiere que están estrechamente conectadas a los objetos (que son instancias de clase), no a las clases mismas. Echemos un vistazo más de cerca. A continuacion, un ejemplo:"
   ]
  },
  {
   "cell_type": "code",
   "execution_count": 1,
   "metadata": {},
   "outputs": [
    {
     "name": "stdout",
     "output_type": "stream",
     "text": [
      "{'first': 1}\n",
      "{'first': 2, 'second': 3}\n",
      "{'first': 4, 'third': 5}\n"
     ]
    }
   ],
   "source": [
    "class ExampleClass:\n",
    "    def __init__(self, val = 1):\n",
    "        self.first = val\n",
    "\n",
    "    def set_second(self, val):\n",
    "        self.second = val\n",
    "\n",
    "\n",
    "example_object_1 = ExampleClass()\n",
    "example_object_2 = ExampleClass(2)\n",
    "\n",
    "example_object_2.set_second(3)\n",
    "\n",
    "example_object_3 = ExampleClass(4)\n",
    "example_object_3.third = 5\n",
    "\n",
    "print(example_object_1.__dict__)\n",
    "print(example_object_2.__dict__)\n",
    "print(example_object_3.__dict__)"
   ]
  },
  {
   "cell_type": "markdown",
   "metadata": {},
   "source": [
    "En las ultimas tres lineas de codigo observamos algo nuevo, este es un metodo aplicable a los objetos de clases el cual devuelve un diccionario con el nombre de todas las variables del objeto y su valor. En la linea ``example_object_3.third = 5`` agregamos una propiedad al objeto desde fuera de la clase, algo permitido.\n",
    "\n",
    "Ahora, modificquemos un poco el codigo:"
   ]
  },
  {
   "cell_type": "code",
   "execution_count": 2,
   "metadata": {},
   "outputs": [
    {
     "name": "stdout",
     "output_type": "stream",
     "text": [
      "{'_ExampleClass__first': 1}\n",
      "{'_ExampleClass__first': 2, '_ExampleClass__second': 3}\n",
      "{'_ExampleClass__first': 4, '__third': 5}\n"
     ]
    }
   ],
   "source": [
    "class ExampleClass:\n",
    "    def __init__(self, val = 1):\n",
    "        self.__first = val\n",
    "\n",
    "    def set_second(self, val = 2):\n",
    "        self.__second = val\n",
    "\n",
    "\n",
    "example_object_1 = ExampleClass()\n",
    "example_object_2 = ExampleClass(2)\n",
    "\n",
    "example_object_2.set_second(3)\n",
    "\n",
    "example_object_3 = ExampleClass(4)\n",
    "example_object_3.__third = 5\n",
    "\n",
    "\n",
    "print(example_object_1.__dict__)\n",
    "print(example_object_2.__dict__)\n",
    "print(example_object_3.__dict__)\n",
    "    "
   ]
  },
  {
   "cell_type": "markdown",
   "metadata": {},
   "source": [
    "Cuando Python ve que deseas agregar una variable de instancia a un objeto y lo vas a hacer dentro de cualquiera de los métodos del objeto, maneja la operación de la siguiente manera:\n",
    "\n",
    "- Coloca un nombre de clase antes de tu nombre.\n",
    "- Coloca un guión bajo adicional al principio.\n",
    "- Es por ello que ``__first`` se convierte en ``_ExampleClass__first``.\n",
    "\n",
    "El nombre ahora es completamente accesible desde fuera de la clase. Puedes ejecutar un código como este:"
   ]
  },
  {
   "cell_type": "code",
   "execution_count": 3,
   "metadata": {},
   "outputs": [
    {
     "name": "stdout",
     "output_type": "stream",
     "text": [
      "1\n"
     ]
    }
   ],
   "source": [
    "print(example_object_1._ExampleClass__first)"
   ]
  },
  {
   "cell_type": "markdown",
   "metadata": {},
   "source": [
    "### Variables de clase\n",
    "\n",
    "Las variables de clase se almacenan una sola vez dentro de la misma clase, más no dentro de un objeto. \n",
    "\n",
    "A continuacion un ejemplo de su creacion:"
   ]
  },
  {
   "cell_type": "code",
   "execution_count": 4,
   "metadata": {},
   "outputs": [
    {
     "name": "stdout",
     "output_type": "stream",
     "text": [
      "{'_ExampleClass__first': 1} 3\n",
      "{'_ExampleClass__first': 2} 3\n",
      "{'_ExampleClass__first': 4} 3\n"
     ]
    }
   ],
   "source": [
    "class ExampleClass:\n",
    "    counter = 0\n",
    "    def __init__(self, val = 1):\n",
    "        self.__first = val\n",
    "        ExampleClass.counter += 1\n",
    "\n",
    "\n",
    "example_object_1 = ExampleClass()\n",
    "example_object_2 = ExampleClass(2)\n",
    "example_object_3 = ExampleClass(4)\n",
    "\n",
    "print(example_object_1.__dict__, example_object_1.counter)\n",
    "print(example_object_2.__dict__, example_object_2.counter)\n",
    "print(example_object_3.__dict__, example_object_3.counter)\n",
    "\n"
   ]
  },
  {
   "cell_type": "markdown",
   "metadata": {},
   "source": [
    "Una variable de clase siempre presenta el mismo valor en todas las instancias de clase (objetos). Como podemos observar, cada vez que invocamos la clase el valor de ``counter`` se aumenta en 1, es por esto que al final tenemos ``counter=3``."
   ]
  },
  {
   "cell_type": "markdown",
   "metadata": {},
   "source": [
    "#### Funcion ``hasattr``\n",
    "\n",
    "Esta funcion permite conocer si una clase posee un determinado atributo definido, es por esto que recibe dos parametros, el nombre de la clase y el nombre del atributo que deseamos corroborar."
   ]
  },
  {
   "cell_type": "code",
   "execution_count": 5,
   "metadata": {},
   "outputs": [
    {
     "name": "stdout",
     "output_type": "stream",
     "text": [
      "1\n"
     ]
    }
   ],
   "source": [
    "class ExampleClass:\n",
    "    def __init__(self, val):\n",
    "        if val % 2 != 0:\n",
    "            self.a = 1\n",
    "        else:\n",
    "            self.b = 1\n",
    "\n",
    "\n",
    "example_object = ExampleClass(1)\n",
    "print(example_object.a)\n",
    "\n",
    "if hasattr(example_object, 'b'):\n",
    "    print(example_object.b)"
   ]
  },
  {
   "cell_type": "markdown",
   "metadata": {},
   "source": [
    "Mira el siguiente ejemplo:"
   ]
  },
  {
   "cell_type": "code",
   "execution_count": null,
   "metadata": {},
   "outputs": [],
   "source": [
    "class ExampleClass:\n",
    "    a = 1\n",
    "    def __init__(self):\n",
    "        self.b = 2\n",
    "\n",
    "\n",
    "example_object = ExampleClass()\n",
    "\n",
    "print(hasattr(example_object, 'b'))\n",
    "print(hasattr(example_object, 'a'))\n",
    "print(hasattr(ExampleClass, 'b'))\n",
    "print(hasattr(ExampleClass, 'a'))"
   ]
  },
  {
   "cell_type": "markdown",
   "metadata": {},
   "source": [
    "### Metodos al detalle\n",
    "\n",
    "Como ya sabemos, un metodo es una funcion ue se encuentra dentro de una clase. Estos metodos tienen una caondicion fundamental y es que deben contener obligatoriamente un parametro, un metodo puede no recibir argumentos, pero para ser invocado debe tener obligatoriamente un parametro. El primer o unico parametro se denomina ``self``, el metodo self tiene la finalidad de identificar el objeto para el cual se invoca el metodo.\n",
    "\n",
    "Si deseas que el método acepte parámetros distintos a ``self``, debes:\n",
    "\n",
    "- Colocarlos después de ``self`` en la definición del método.\n",
    "- Pasarlos como argumentos durante la invocación sin especificar ``self``.\n",
    "\n",
    "El parámetro ``self`` es usado para obtener acceso a la instancia del objeto y las variables de clase."
   ]
  },
  {
   "cell_type": "code",
   "execution_count": 2,
   "metadata": {},
   "outputs": [
    {
     "name": "stdout",
     "output_type": "stream",
     "text": [
      "2 3\n"
     ]
    }
   ],
   "source": [
    "class Classy:\n",
    "    varia = 2\n",
    "    def method(self):\n",
    "        print(self.varia, self.var)\n",
    "\n",
    "\n",
    "obj = Classy()\n",
    "obj.var = 3\n",
    "obj.method()"
   ]
  },
  {
   "cell_type": "markdown",
   "metadata": {},
   "source": [
    "El parámetro self también se usa para invocar otros métodos desde dentro de la clase. Justo como aquí:"
   ]
  },
  {
   "cell_type": "code",
   "execution_count": 1,
   "metadata": {},
   "outputs": [
    {
     "name": "stdout",
     "output_type": "stream",
     "text": [
      "método\n",
      "otro\n"
     ]
    }
   ],
   "source": [
    "class Classy:\n",
    "    def other(self):\n",
    "        print(\"otro\")\n",
    "\n",
    "    def method(self):\n",
    "        print(\"método\")\n",
    "        self.other()\n",
    "\n",
    "\n",
    "obj = Classy()\n",
    "obj.method()"
   ]
  },
  {
   "cell_type": "markdown",
   "metadata": {},
   "source": [
    "Si se nombra un método de esta manera: ``__init__``, no será un método regular, será un constructor. Si una clase tiene un constructor, este se invoca automática e implícitamente cuando se instancia el objeto de la clase.\n",
    "\n",
    "El constructor:\n",
    "\n",
    "- Esta obligado a tener el parámetro self (se configura automáticamente).\n",
    "- Pudiera (pero no necesariamente) tener mas parámetros que solo self; si esto sucede, la forma en que se usa el nombre de la clase para crear el objeto debe tener la definición __init__.\n",
    "- Se puede utilizar para configurar el objeto, es decir, inicializa adecuadamente su estado interno, crea variables de instancia, crea instancias de cualquier otro objeto si es necesario, etc.\n",
    "- Observa el código en el editor. El ejemplo muestra un constructor muy simple pero funcional."
   ]
  },
  {
   "cell_type": "code",
   "execution_count": 3,
   "metadata": {},
   "outputs": [
    {
     "name": "stdout",
     "output_type": "stream",
     "text": [
      "objeto\n"
     ]
    }
   ],
   "source": [
    "class Classy:\n",
    "    def __init__(self, value):\n",
    "        self.var = value\n",
    "\n",
    "\n",
    "obj_1 = Classy(\"objeto\")\n",
    "\n",
    "print(obj_1.var)"
   ]
  },
  {
   "cell_type": "markdown",
   "metadata": {},
   "source": [
    "Toma en cuenta que el constructor:\n",
    "\n",
    "- No puede retornar un valor, ya que está diseñado para devolver un objeto recién creado y nada más.\n",
    "- No se puede invocar directamente desde el objeto o desde dentro de la clase (puedes invocar un constructor desde cualquiera de las superclases del objeto, pero discutiremos esto más adelante).\n",
    "\n",
    "Como ``__init__`` es un método, y un método es una función, puedes hacer los mismos trucos con constructores y métodos que con las funciones ordinarias.\n",
    "\n",
    "El ejemplo en el editor muestra cómo definir un constructor con un valor de argumento predeterminado. Pruébalo."
   ]
  },
  {
   "cell_type": "code",
   "execution_count": 4,
   "metadata": {},
   "outputs": [
    {
     "name": "stdout",
     "output_type": "stream",
     "text": [
      "objeto\n",
      "None\n"
     ]
    }
   ],
   "source": [
    "class Classy:\n",
    "    def __init__(self, value = None):\n",
    "        self.var = value\n",
    "\n",
    "\n",
    "obj_1 = Classy(\"objeto\")\n",
    "obj_2 = Classy()\n",
    "\n",
    "print(obj_1.var)\n",
    "print(obj_2.var)"
   ]
  },
  {
   "cell_type": "markdown",
   "metadata": {},
   "source": [
    "### Propiedades y metodos de las clases y objetos\n",
    "\n",
    "#### ``__dict__``\n",
    "\n",
    "Es un diccionario que contiene todos los metodos y atributos definidos dentro de una clase:"
   ]
  },
  {
   "cell_type": "code",
   "execution_count": 1,
   "metadata": {},
   "outputs": [
    {
     "name": "stdout",
     "output_type": "stream",
     "text": [
      "{'var': 2}\n",
      "{'__module__': '__main__', 'varia': 1, '__init__': <function Classy.__init__ at 0x00000168E9F27EC0>, 'method': <function Classy.method at 0x00000168E9F98220>, '_Classy__hidden': <function Classy.__hidden at 0x00000168E9F984A0>, '__dict__': <attribute '__dict__' of 'Classy' objects>, '__weakref__': <attribute '__weakref__' of 'Classy' objects>, '__doc__': None}\n"
     ]
    }
   ],
   "source": [
    "class Classy:\n",
    "    varia = 1\n",
    "    def __init__(self):\n",
    "        self.var = 2\n",
    "\n",
    "    def method(self):\n",
    "        pass\n",
    "\n",
    "    def __hidden(self):\n",
    "        pass\n",
    "\n",
    "\n",
    "obj = Classy()\n",
    "\n",
    "print(obj.__dict__)\n",
    "print(Classy.__dict__)\n",
    "    "
   ]
  },
  {
   "cell_type": "markdown",
   "metadata": {},
   "source": [
    "#### ``__name__``\n",
    "\n",
    "Esta propiedad contiene el nombre de la clase, solo es una cadena. Este atributo solo existe dentro de la clase, no dentro de los objetos. Si deseas encontrar la clase a la cual pertenece un objeto podemos usar la funcion ``type()`` la cual es capaz, entre otras cosas, de encontrar la clase con la cual se ha creado el objeto."
   ]
  },
  {
   "cell_type": "code",
   "execution_count": 2,
   "metadata": {},
   "outputs": [
    {
     "name": "stdout",
     "output_type": "stream",
     "text": [
      "Classy\n",
      "Classy\n"
     ]
    }
   ],
   "source": [
    "class Classy:\n",
    "    pass\n",
    "\n",
    "\n",
    "print(Classy.__name__)\n",
    "obj = Classy()\n",
    "print(type(obj).__name__)\n",
    "    "
   ]
  },
  {
   "cell_type": "markdown",
   "metadata": {},
   "source": [
    "#### ``__module__``\n",
    "\n",
    "Almacena el nombre dle modulo que contiene la definicion de la clase. Es una cadena."
   ]
  },
  {
   "cell_type": "code",
   "execution_count": 3,
   "metadata": {},
   "outputs": [
    {
     "name": "stdout",
     "output_type": "stream",
     "text": [
      "__main__\n",
      "__main__\n"
     ]
    }
   ],
   "source": [
    "class Classy:\n",
    "    pass\n",
    "\n",
    "\n",
    "print(Classy.__module__)\n",
    "obj = Classy()\n",
    "print(obj.__module__)\n",
    "    "
   ]
  },
  {
   "cell_type": "markdown",
   "metadata": {},
   "source": [
    "Como sabes, cualquier archivo llamado ``__main__`` no es un modulo sino el archivo actualmente en ejecucion.\n",
    "\n",
    "#### ``__bases__``\n",
    "\n",
    "Es una tupla, la cual contiene las superclases directas de la clase en cuestion. El orden es el mismo que el usado en la definicion de la clase. Solo las clases tienen estos atributos, los objetos no."
   ]
  },
  {
   "cell_type": "code",
   "execution_count": 4,
   "metadata": {},
   "outputs": [
    {
     "name": "stdout",
     "output_type": "stream",
     "text": [
      "( object )\n",
      "( object )\n",
      "( SuperOne SuperTwo )\n"
     ]
    }
   ],
   "source": [
    "class SuperOne:\n",
    "    pass\n",
    "\n",
    "\n",
    "class SuperTwo:\n",
    "    pass\n",
    "\n",
    "\n",
    "class Sub(SuperOne, SuperTwo):\n",
    "    pass\n",
    "\n",
    "\n",
    "def printBases(cls):\n",
    "    print('( ', end='')\n",
    "\n",
    "    for x in cls.__bases__:\n",
    "        print(x.__name__, end=' ')\n",
    "    print(')')\n",
    "\n",
    "\n",
    "printBases(SuperOne)\n",
    "printBases(SuperTwo)\n",
    "printBases(Sub)\n",
    "    "
   ]
  },
  {
   "cell_type": "markdown",
   "metadata": {},
   "source": [
    "A continuacion, un ejemplo de como podemos manejar los objetos y las clases y conocer todo sobre ellos:"
   ]
  },
  {
   "cell_type": "code",
   "execution_count": 5,
   "metadata": {},
   "outputs": [
    {
     "name": "stdout",
     "output_type": "stream",
     "text": [
      "{'a': 1, 'b': 2, 'i': 3, 'ireal': 3.5, 'integer': 4, 'z': 5}\n",
      "{'a': 1, 'b': 2, 'i': 4, 'ireal': 3.5, 'integer': 5, 'z': 5}\n"
     ]
    }
   ],
   "source": [
    "class MyClass:\n",
    "    pass\n",
    "\n",
    "\n",
    "obj = MyClass()\n",
    "obj.a = 1\n",
    "obj.b = 2\n",
    "obj.i = 3\n",
    "obj.ireal = 3.5\n",
    "obj.integer = 4\n",
    "obj.z = 5\n",
    "\n",
    "\n",
    "def incIntsI(obj):\n",
    "    for name in obj.__dict__.keys():\n",
    "        if name.startswith('i'):\n",
    "            val = getattr(obj, name)\n",
    "            if isinstance(val, int):\n",
    "                setattr(obj, name, val + 1)\n",
    "\n",
    "\n",
    "print(obj.__dict__)\n",
    "incIntsI(obj)\n",
    "print(obj.__dict__)\n",
    "    "
   ]
  },
  {
   "cell_type": "markdown",
   "metadata": {},
   "source": [
    "La función llamada ``incIntsI()`` toma un objeto de cualquier clase, escanea su contenido para encontrar todos los atributos enteros con nombres que comienzan con i, y los incrementa en uno.\n",
    "\n",
    "¿Imposible? ¡De ninguna manera!\n",
    "\n",
    "Así es como funciona:\n",
    "\n",
    "1. La línea 1: define una clase muy simple...\n",
    "2. Las líneas 5 a la 11: ... la llenan con algunos atributos.\n",
    "3. La línea 14: ¡esta es nuestra función!\n",
    "4. La línea 15: escanea el atributo __dict__, buscando todos los nombres de atributos.\n",
    "5. La línea 16: si un nombre comienza con i...\n",
    "6. La línea 17: ... utiliza la función ``getattr()`` para obtener su valor actual; nota: getattr() toma dos argumentos: un objeto y su nombre de propiedad (como una cadena) y devuelve el valor del atributo actual.\n",
    "7. La línea 18: comprueba si el valor es de tipo entero, emplea la función ``isinstance()`` para este propósito (discutiremos esto más adelante).\n",
    "8. La línea 19: si la comprobación sale bien, incrementa el valor de la propiedad haciendo uso de la función setattr(); la función toma tres argumentos: un objeto, el nombre de la propiedad (como una cadena) y el nuevo valor de la propiedad."
   ]
  },
  {
   "cell_type": "markdown",
   "metadata": {},
   "source": [
    "EJERCICIO:\n",
    "\n",
    "Necesitamos una clase capaz de contar segundos. ¿Fácil? No es tan fácil como podrías pensar, ya que tendremos algunos requisitos específicos.\n",
    "\n",
    "Léelos con atención, ya que la clase sobre la que escribes se utilizará para lanzar cohetes en misiones internacionales a Marte. Es una gran responsabilidad. ¡Contamos contigo!\n",
    "\n",
    "Tu clase se llamará Timer (temporizador en español). Su constructor acepta tres argumentos que representan horas (un valor del rango [0..23]; usaremos tiempo militar), minutos (del rango [0. .59]) y segundos (del rango [0..59]).\n",
    "\n",
    "Cero es el valor predeterminado para todos los parámetros anteriores. No es necesario realizar ninguna comprobación de validación.\n",
    "\n",
    "La clase en sí debería proporcionar las siguientes facilidades:\n",
    "\n",
    "Los objetos de la clase deben ser \"imprimibles\", es decir, deben poder convertirse implícitamente en cadenas de la siguiente forma: \"hh:mm:ss\", con ceros a la izquierda agregados cuando cualquiera de los valores es menor que 10.\n",
    "La clase debe estar equipada con métodos sin parámetros llamados next_second() y previous_second(), incrementando el tiempo almacenado dentro de los objetos en +1/-1 segundos respectivamente.\n",
    "Emplea las siguientes sugerencias:\n",
    "\n",
    "Todas las propiedades del objeto deben ser privadas.\n",
    "Considera escribir una función separada (¡no un método!) para formatear la cadena con el tiempo.\n",
    "Completa la plantilla que te proporcionamos en el editor. Ejecuta tu código y comprueba si el resultado es el mismo que el nuestro."
   ]
  },
  {
   "cell_type": "code",
   "execution_count": 3,
   "metadata": {},
   "outputs": [
    {
     "name": "stdout",
     "output_type": "stream",
     "text": [
      "23:59:59\n",
      "00:00:00\n",
      "23:59:59\n"
     ]
    }
   ],
   "source": [
    "def second_to_print(val):\n",
    "    if val<10:\n",
    "        return '0'+str(val)\n",
    "    else:\n",
    "        return str(val)\n",
    "\n",
    "\n",
    "class Timer:\n",
    "    def __init__(self,hora=0,minuto=0,segundo=0):\n",
    "        #\n",
    "        # Escribir código aquí\n",
    "        #\n",
    "        self.__hora=hora\n",
    "        self.__minuto=minuto\n",
    "        self.__segundo=segundo\n",
    "\n",
    "    def __str__(self):\n",
    "        #\n",
    "        # Escribir código aquí\n",
    "        #\n",
    "        return f'{second_to_print(self.__hora)}:{second_to_print(self.__minuto)}:{second_to_print(self.__segundo)}'\n",
    "\n",
    "    def next_second(self):\n",
    "        #\n",
    "        # Escribir código aquí\n",
    "        #\n",
    "        self.__segundo+=1\n",
    "        if self.__segundo>59:\n",
    "            self.__segundo=0\n",
    "            self.__minuto+=1\n",
    "            if self.__minuto>59:\n",
    "                self.__minuto=0\n",
    "                self.__hora+=1\n",
    "                if self.__hora>23:\n",
    "                    self.__hora=0\n",
    "        \n",
    "\n",
    "    def prev_second(self):\n",
    "        #\n",
    "        # Escribir código aquí\n",
    "        #\n",
    "        self.__segundo-=1\n",
    "        if self.__segundo<0:\n",
    "            self.__segundo=59\n",
    "            self.__minuto-=1\n",
    "            if self.__minuto<0:\n",
    "                self.__minuto=59\n",
    "                self.__hora-=1\n",
    "                if self.__hora<0:\n",
    "                    self.__hora=23\n",
    "        \n",
    "\n",
    "\n",
    "timer = Timer(23, 59, 59)\n",
    "print(timer)\n",
    "timer.next_second()\n",
    "print(timer)\n",
    "timer.prev_second()\n",
    "print(timer)\n",
    "    "
   ]
  },
  {
   "cell_type": "markdown",
   "metadata": {},
   "source": [
    "EJERCICIO:\n",
    "\n",
    "Visitemos un lugar muy especial: un plano con el sistema de coordenadas cartesianas (puedes obtener más información sobre este concepto aquí: https://en.wikipedia.org/wiki/Cartesian_coordinate_system).\n",
    "\n",
    "Cada punto ubicado en el plano puede describirse como un par de coordenadas habitualmente llamadas x y y. Queremos que escribas una clase en Python que almacene ambas coordenadas como números flotantes. Además, queremos que los objetos de esta clase evalúen las distancias entre cualquiera de los dos puntos situados en el plano.\n",
    "\n",
    "La tarea es bastante fácil si empleas la función denominada hypot() (disponible a través del módulo math) que evalúa la longitud de la hipotenusa de un triángulo rectángulo (más detalles aquí: https://en.wikipedia.org/wiki/Hypotenuse) y aquí: https://docs.python.org/3.7/library/math.html#trigonometric-functions.\n",
    "\n",
    "Así es como imaginamos la clase:\n",
    "\n",
    "- Se llama Point.\n",
    "- Su constructor acepta dos argumentos (x y y respectivamente), ambos por defecto se igualan a cero.\n",
    "- Todas las propiedades deben ser privadas.\n",
    "- La clase contiene dos métodos sin parámetros llamados getx() y gety(), que devuelven cada una de las dos coordenadas (las coordenadas se almacenan de forma privada, por lo que no se puede acceder a ellas directamente desde el objeto).\n",
    "- La clase proporciona un método llamado distance_from_xy(x,y), que calcula y devuelve la distancia entre el punto almacenado dentro del objeto y el otro punto dado en un par de números flotantes.\n",
    "- La clase proporciona un método llamado distance_from_point(point), que calcula la distancia (como el método anterior), pero la ubicación del otro punto se da como otro objeto de clase Point.\n",
    "- Completa la plantilla que te proporcionamos en el editor, ejecuta tu código y verifica si tu salida se ve igual que la nuestra."
   ]
  },
  {
   "cell_type": "code",
   "execution_count": 1,
   "metadata": {},
   "outputs": [
    {
     "name": "stdout",
     "output_type": "stream",
     "text": [
      "1.4142135623730951\n",
      "1.4142135623730951\n"
     ]
    }
   ],
   "source": [
    "import math\n",
    "\n",
    "\n",
    "class Point:\n",
    "    def __init__(self, x=0.0, y=0.0):\n",
    "        #\n",
    "        # Escribir código aquí\n",
    "        #\n",
    "        self.__x = x\n",
    "        self.__y = y\n",
    "\n",
    "\n",
    "    def getx(self):\n",
    "        #\n",
    "        # Escribir código aquí\n",
    "        #\n",
    "        return self.__x\n",
    "\n",
    "    def gety(self):\n",
    "        #\n",
    "        # Escribir código aquí\n",
    "        #\n",
    "        return self.__y\n",
    "\n",
    "    def distance_from_xy(self, x, y):\n",
    "        #\n",
    "        # Escribir código aquí\n",
    "        #\n",
    "        h = math.hypot(self.__x - x, self.__y - y)\n",
    "        return h\n",
    "    \n",
    "    def distance_from_point(self, point):\n",
    "        #\n",
    "        # Escribir código aquí\n",
    "        #\n",
    "        x_i = point.getx()\n",
    "        y_i = point.gety()\n",
    "\n",
    "        h = math.hypot(self.__x - x_i, self.__y - y_i)\n",
    "        return h\n",
    "\n",
    "\n",
    "point1 = Point(0, 0)\n",
    "point2 = Point(1, 1)\n",
    "print(point1.distance_from_point(point2))\n",
    "print(point2.distance_from_xy(2, 0))\n",
    "    "
   ]
  },
  {
   "cell_type": "markdown",
   "metadata": {},
   "source": [
    "EJERCICIO:\n",
    "\n",
    "Ahora vamos a colocar la clase Point (ver Lab anterior) dentro de otra clase. Además, vamos a poner tres puntos en una clase, lo que nos permitirá definir un triángulo. ¿Cómo podemos hacerlo?\n",
    "\n",
    "La nueva clase se llamará Triangle y esto es lo que queremos:\n",
    "\n",
    "- El constructor acepta tres argumentos - todos ellos son objetos de la clase Point.\n",
    "- Los puntos se almacenan dentro del objeto como una lista privada.\n",
    "- La clase proporciona un método sin parámetros llamado perimeter(), que calcula el perímetro del triángulo descrito por los tres puntos; el perímetro es la suma de todas las longitudes de los lados (lo mencionamos para que conste, aunque estamos seguros de que tú mismo lo conoces perfectamente).\n",
    "- Completa la plantilla que te proporcionamos en el editor, ejecuta tu código y verifica si tu salida se ve igual que la nuestra.\n",
    "\n",
    "A continuación puedes copiar el código de la clase Point, el cual se utilizo en el laboratorio anterior:"
   ]
  },
  {
   "cell_type": "code",
   "execution_count": 19,
   "metadata": {},
   "outputs": [
    {
     "name": "stdout",
     "output_type": "stream",
     "text": [
      "3.414213562373095\n"
     ]
    }
   ],
   "source": [
    "import math\n",
    "\n",
    "class Triangle:\n",
    "    def __init__(self, vertice1, vertice2, vertice3):\n",
    "        #\n",
    "        # Escribir código aquí\n",
    "        #\n",
    "        self.__puntos = [vertice1, vertice2, vertice3]\n",
    "\n",
    "    def perimeter(self):\n",
    "        #\n",
    "        # Escribir código aquí\n",
    "        #\n",
    "        self.h1 = math.hypot(self.__puntos[1].getx() - self.__puntos[0].getx(), self.__puntos[1].gety() - self.__puntos[0].gety())\n",
    "        self.h2 = math.hypot(self.__puntos[2].getx() - self.__puntos[0].getx(), self.__puntos[2].gety() - self.__puntos[0].gety())\n",
    "        self.h3 = math.hypot(self.__puntos[2].getx() - self.__puntos[1].getx(), self.__puntos[2].gety() - self.__puntos[1].gety())\n",
    "        \n",
    "        return self.h1 + self.h2 + self.h3\n",
    "\n",
    "triangle = Triangle(Point(0, 0), Point(1, 0), Point(0, 1))\n",
    "print(triangle.perimeter())\n"
   ]
  },
  {
   "cell_type": "markdown",
   "metadata": {},
   "source": [
    "#### ``__str__``\n",
    "\n",
    "Este metodo devuelve el nombre de una determinada clase, si no lo editamos, devolvera el número hexadecimal (la subcadena que comienza con 0x) que es solo un identificador de objeto interno utilizado por Python. Si se modifica, devolvera el valor llamado:"
   ]
  },
  {
   "cell_type": "code",
   "execution_count": 24,
   "metadata": {},
   "outputs": [
    {
     "name": "stdout",
     "output_type": "stream",
     "text": [
      "<__main__.Star object at 0x0000012DE3573FD0>\n"
     ]
    }
   ],
   "source": [
    "class Star:\n",
    "    def __init__(self, Sun, Galaxy):\n",
    "        self.sun = Sun\n",
    "        self.galaxy = Galaxy\n",
    "\n",
    "sun = Star('Sol', 'Via Lactea')\n",
    "print(sun)"
   ]
  },
  {
   "cell_type": "code",
   "execution_count": 25,
   "metadata": {},
   "outputs": [
    {
     "name": "stdout",
     "output_type": "stream",
     "text": [
      "Sol en Via Lactea\n"
     ]
    }
   ],
   "source": [
    "class Star:\n",
    "    def __init__(self, Sun, Galaxy):\n",
    "        self.sun = Sun\n",
    "        self.galaxy = Galaxy\n",
    "    def __str__(self):\n",
    "        return f'{self.sun} en {self.galaxy}'\n",
    "    \n",
    "sun = Star('Sol', 'Via Lactea')\n",
    "print(sun)"
   ]
  },
  {
   "cell_type": "markdown",
   "metadata": {},
   "source": [
    "#### ``__subclasses__()``\n",
    "\n",
    "Devuelve las subclases dependientes de una superclase dada en forma de lista."
   ]
  },
  {
   "cell_type": "code",
   "execution_count": 6,
   "metadata": {},
   "outputs": [
    {
     "name": "stdout",
     "output_type": "stream",
     "text": [
      "[<class '__main__.Dos'>]\n",
      "[<class '__main__.Tres_1'>, <class '__main__.Tres_2'>]\n"
     ]
    }
   ],
   "source": [
    "class Uno:\n",
    "    pass\n",
    "\n",
    "class Dos(Uno):\n",
    "    pass\n",
    "\n",
    "class Tres_1(Dos):\n",
    "    pass\n",
    "\n",
    "class Tres_2(Dos):\n",
    "    pass\n",
    "\n",
    "print(Uno.__subclasses__())\n",
    "print(Dos.__subclasses__())\n"
   ]
  },
  {
   "cell_type": "markdown",
   "metadata": {},
   "source": [
    "#### issubclass()\n",
    "\n",
    "Esta funcion comprueba si una clase es subclase de otra:"
   ]
  },
  {
   "cell_type": "code",
   "execution_count": 37,
   "metadata": {},
   "outputs": [
    {
     "name": "stdout",
     "output_type": "stream",
     "text": [
      "True\n",
      "True\n",
      "True\n",
      "True\n",
      "False\n"
     ]
    }
   ],
   "source": [
    "class vehicle:\n",
    "    pass\n",
    "\n",
    "class subvehicle(vehicle):\n",
    "    pass\n",
    "\n",
    "class subsubvehicle(subvehicle):\n",
    "    pass\n",
    "\n",
    "print(issubclass(vehicle, vehicle))\n",
    "print(issubclass(subvehicle, vehicle))\n",
    "print(issubclass(subsubvehicle, vehicle))\n",
    "print(issubclass(subsubvehicle, subvehicle))\n",
    "print(issubclass(vehicle, subvehicle))"
   ]
  },
  {
   "cell_type": "markdown",
   "metadata": {},
   "source": [
    "#### isinstance()\n",
    "\n",
    "Permite saber si un determinado objeto procede se una clase en especifico:"
   ]
  },
  {
   "cell_type": "code",
   "execution_count": 38,
   "metadata": {},
   "outputs": [
    {
     "name": "stdout",
     "output_type": "stream",
     "text": [
      "True\tFalse\tFalse\t\n",
      "True\tTrue\tFalse\t\n",
      "True\tTrue\tTrue\t\n"
     ]
    }
   ],
   "source": [
    "class Vehicle:\n",
    "    pass\n",
    "\n",
    "\n",
    "class LandVehicle(Vehicle):\n",
    "    pass\n",
    "\n",
    "\n",
    "class TrackedVehicle(LandVehicle):\n",
    "    pass\n",
    "\n",
    "\n",
    "my_vehicle = Vehicle()\n",
    "my_land_vehicle = LandVehicle()\n",
    "my_tracked_vehicle = TrackedVehicle()\n",
    "\n",
    "for obj in [my_vehicle, my_land_vehicle, my_tracked_vehicle]:\n",
    "    for cls in [Vehicle, LandVehicle, TrackedVehicle]:\n",
    "        print(isinstance(obj, cls), end=\"\\t\")\n",
    "    print()"
   ]
  },
  {
   "cell_type": "markdown",
   "metadata": {},
   "source": [
    "#### El operador is\n",
    "\n",
    "Este operador nos permite saber si dos variables se refieren al mismo objeto, recordemos que las variables solo contienen el identificador a un determinado objeto, no el objeto en si mismo:"
   ]
  },
  {
   "cell_type": "code",
   "execution_count": 39,
   "metadata": {},
   "outputs": [
    {
     "name": "stdout",
     "output_type": "stream",
     "text": [
      "False\n",
      "False\n",
      "True\n",
      "1 2 1\n",
      "True False\n"
     ]
    }
   ],
   "source": [
    "class SampleClass:\n",
    "    def __init__(self, val):\n",
    "        self.val = val\n",
    "\n",
    "\n",
    "object_1 = SampleClass(0)\n",
    "object_2 = SampleClass(2)\n",
    "object_3 = object_1\n",
    "object_3.val += 1\n",
    "\n",
    "print(object_1 is object_2)\n",
    "print(object_2 is object_3)\n",
    "print(object_3 is object_1)\n",
    "print(object_1.val, object_2.val, object_3.val)\n",
    "\n",
    "string_1 = \"Mary tenía un \"\n",
    "string_2 = \"Mary tenía un corderito\"\n",
    "string_1 += \"corderito\"\n",
    "\n",
    "print(string_1 == string_2, string_1 is string_2)\n",
    "    "
   ]
  },
  {
   "cell_type": "markdown",
   "metadata": {},
   "source": [
    "Como podemos observar, ``object_1`` y ``object_3`` son variables que contienen el mismo objeto, a pesar de que se nombren diferente.\n",
    "\n",
    "En las ultimas lineas de codigo, realizamos un experimento entre cadenas, en las cuales notamos que a pesar de que ambas cadenas contienen el mismo texto, estas se almacenan en diferentes objetos!"
   ]
  },
  {
   "cell_type": "markdown",
   "metadata": {},
   "source": [
    "#### Como Python encuentra propiedades y metodos\n",
    "\n",
    "Observemos el siguiente ejemplo:"
   ]
  },
  {
   "cell_type": "code",
   "execution_count": 1,
   "metadata": {},
   "outputs": [
    {
     "name": "stdout",
     "output_type": "stream",
     "text": [
      "Mi nombre es Andy.\n"
     ]
    }
   ],
   "source": [
    "class Super:\n",
    "    def __init__(self, name):\n",
    "        self.name = name\n",
    "\n",
    "    def __str__(self):\n",
    "        return \"Mi nombre es \" + self.name + \".\"\n",
    "\n",
    "\n",
    "class Sub(Super):\n",
    "    def __init__(self, name):\n",
    "        Super.__init__(self, name)\n",
    "\n",
    "\n",
    "obj = Sub(\"Andy\")\n",
    "\n",
    "print(obj)\n",
    "    "
   ]
  },
  {
   "cell_type": "markdown",
   "metadata": {},
   "source": [
    "Como podemos observar, la clase ``Super`` tiene su propio constructor y define el atributo name, el metodo ``__str__`` le permite identificarse con una cadena de texto especifica. La subclase ``Sub`` invoca el constructor de la superclase ``Super`` (notese como se invoca), pero no tiene definido un metodo ``__str__``, sin embargo, al definir el objeto, la subclase inicializa el constructor de la superclase y hereda el metodo ``__str__`` definido en esta.\n",
    "\n",
    "Mira el código en el editor. Lo hemos modificado para mostrarte otro método de acceso a cualquier entidad definida dentro de la superclase."
   ]
  },
  {
   "cell_type": "code",
   "execution_count": 7,
   "metadata": {},
   "outputs": [
    {
     "name": "stdout",
     "output_type": "stream",
     "text": [
      "Mi nombre es Andy.\n"
     ]
    }
   ],
   "source": [
    "class Super:\n",
    "    def __init__(self, name):\n",
    "        self.name = name\n",
    "\n",
    "    def __str__(self):\n",
    "        return \"Mi nombre es \" + self.name + \".\"\n",
    "\n",
    "\n",
    "class Sub(Super):\n",
    "    def __init__(self, name):\n",
    "        super().__init__(name)\n",
    "\n",
    "\n",
    "obj = Sub(\"Andy\")\n",
    "\n",
    "print(obj)"
   ]
  },
  {
   "cell_type": "markdown",
   "metadata": {},
   "source": [
    "Como ves, el resultado es el mismo, el metodo ``super()`` accede a la superclase sin necesidad de conocer su nombre. Nota la diferencia entre ambos tipos de invocacion: ``Super.__init__(self, name)`` y ``super().__init__(name)``, como puedes observar, en el segundo caso no es necesario usar el argumento ``self``, pues el metodo ``super()`` no lo requiere.\n",
    "\n",
    "Puedes usar este mecanismo no solo para invocar al constructor de la superclase, también para obtener acceso a cualquiera de los recursos disponibles dentro de la superclase. Intentemos hacer algo similar, pero con propiedades (más precisamente con: variables de clase)."
   ]
  },
  {
   "cell_type": "code",
   "execution_count": 8,
   "metadata": {},
   "outputs": [
    {
     "name": "stdout",
     "output_type": "stream",
     "text": [
      "2\n",
      "1\n"
     ]
    }
   ],
   "source": [
    "# Probando propiedades: variables de clase.\n",
    "class Super:\n",
    "    supVar = 1\n",
    "\n",
    "\n",
    "class Sub(Super):\n",
    "    subVar = 2\n",
    "\n",
    "\n",
    "obj = Sub()\n",
    "\n",
    "print(obj.subVar)\n",
    "print(obj.supVar)\n",
    "    "
   ]
  },
  {
   "cell_type": "markdown",
   "metadata": {},
   "source": [
    "Como puedes observar, las variables de clase se heredan a las subclases. Observa un ejemplo con las variables de instancia:"
   ]
  },
  {
   "cell_type": "code",
   "execution_count": 16,
   "metadata": {},
   "outputs": [
    {
     "name": "stdout",
     "output_type": "stream",
     "text": [
      "12\n",
      "11\n",
      "soy una super 11\n",
      "Soy una sub 12 pero tambien soy una super 11\n"
     ]
    }
   ],
   "source": [
    "# Probando propiedades: variables de instancia.\n",
    "class Super:\n",
    "    def __init__(self):\n",
    "        self.supVar = 11\n",
    "\n",
    "    def nombre_super(self):\n",
    "        return f'soy una super {self.supVar}'\n",
    "\n",
    "\n",
    "class Sub(Super):\n",
    "    def __init__(self):\n",
    "        super().__init__()\n",
    "        self.subVar = 12\n",
    "\n",
    "    def nombre_sub(self):\n",
    "        t = super().nombre_super()\n",
    "        return f'Soy una sub {self.subVar} pero tambien {t}'\n",
    "\n",
    "\n",
    "obj = Sub()\n",
    "obj2 = Super()\n",
    "\n",
    "print(obj.subVar)\n",
    "print(obj.supVar)\n",
    "print(obj.nombre_super())\n",
    "print(obj.nombre_sub())\n",
    "    "
   ]
  },
  {
   "cell_type": "markdown",
   "metadata": {},
   "source": [
    "El comportamiento de Python al momento de invocar una entidad es el siguiente:\n",
    "\n",
    "- Encontrarla dentro del objeto mismo.\n",
    "- Encontrarla en todas las clases involucradas en la línea de herencia del objeto de abajo hacia arriba.\n",
    "Si ambos intentos fallan, una excepción (``AttributeError``) será generada.\n",
    "\n",
    "Debemos realizar una aclaracion en la primera propiedad, ya que es posible agregar atributos a los objetos mucho tiempo despues de su creacion. Analizemos el siguiente ejemplo:"
   ]
  },
  {
   "cell_type": "code",
   "execution_count": 17,
   "metadata": {},
   "outputs": [
    {
     "name": "stdout",
     "output_type": "stream",
     "text": [
      "100 101 102\n",
      "200 201 202\n",
      "300 301 302\n"
     ]
    }
   ],
   "source": [
    "class Level1:\n",
    "    variable_1 = 100\n",
    "    def __init__(self):\n",
    "        self.var_1 = 101\n",
    "\n",
    "    def fun_1(self):\n",
    "        return 102\n",
    "\n",
    "\n",
    "class Level2(Level1):\n",
    "    variable_2 = 200\n",
    "    def __init__(self):\n",
    "        super().__init__()\n",
    "        self.var_2 = 201\n",
    "    \n",
    "    def fun_2(self):\n",
    "        return 202\n",
    "\n",
    "\n",
    "class Level3(Level2):\n",
    "    variable_3 = 300\n",
    "    def __init__(self):\n",
    "        super().__init__()\n",
    "        self.var_3 = 301\n",
    "\n",
    "    def fun_3(self):\n",
    "        return 302\n",
    "\n",
    "\n",
    "obj = Level3()\n",
    "\n",
    "print(obj.variable_1, obj.var_1, obj.fun_1())\n",
    "print(obj.variable_2, obj.var_2, obj.fun_2())\n",
    "print(obj.variable_3, obj.var_3, obj.fun_3())\n",
    "    "
   ]
  },
  {
   "cell_type": "markdown",
   "metadata": {},
   "source": [
    "La herencia múltiple ocurre cuando una clase tiene más de una superclase. Sintácticamente, dicha herencia se presenta como una lista de superclases separadas por comas entre paréntesis después del nombre de la nueva clase, al igual que aquí:"
   ]
  },
  {
   "cell_type": "code",
   "execution_count": 18,
   "metadata": {},
   "outputs": [
    {
     "name": "stdout",
     "output_type": "stream",
     "text": [
      "10 11\n",
      "20 21\n"
     ]
    }
   ],
   "source": [
    "class SuperA:\n",
    "    var_a = 10\n",
    "    def fun_a(self):\n",
    "        return 11\n",
    "\n",
    "class SuperB:\n",
    "    var_b = 20\n",
    "    def fun_b(self):\n",
    "        return 21\n",
    "\n",
    "class Sub(SuperA, SuperB):\n",
    "    pass\n",
    "\n",
    "obj = Sub()\n",
    "\n",
    "print(obj.var_a, obj.fun_a())\n",
    "print(obj.var_b, obj.fun_b())"
   ]
  },
  {
   "cell_type": "markdown",
   "metadata": {},
   "source": [
    "Como podemos observar, la clase ``Sub`` hereda todos los atributos de las dos superclases. Ahora que pasaria si dos clases definen una entidad con el mismo nombre:"
   ]
  },
  {
   "cell_type": "code",
   "execution_count": 20,
   "metadata": {},
   "outputs": [
    {
     "name": "stdout",
     "output_type": "stream",
     "text": [
      "200 201\n",
      "100\n"
     ]
    }
   ],
   "source": [
    "class Level1:\n",
    "    var = 100\n",
    "    def fun(self):\n",
    "        return 101\n",
    "\n",
    "\n",
    "class Level2(Level1):\n",
    "    var = 200\n",
    "    def fun(self):\n",
    "        return 201\n",
    "\n",
    "\n",
    "class Level3(Level2):\n",
    "    pass\n",
    "\n",
    "\n",
    "obj = Level3()\n",
    "\n",
    "print(obj.var, obj.fun())\n",
    "print(Level1.var)"
   ]
  },
  {
   "cell_type": "markdown",
   "metadata": {},
   "source": [
    "Como puedes ver, la variable de clase ``var`` y el método ``fun()`` de la clase ``Level2`` anula las entidades de los mismos nombres derivados de la clase ``Level1``.\n",
    "\n",
    "Esta característica se puede usar intencionalmente para modificar el comportamiento predeterminado de las clases cuando cualquiera de tus clases necesite actuar de manera diferente a su ancestro. También podemos decir que Python busca una entidad de abajo hacia arriba y la primer entidad con el nombre indicado que encuentra.\n",
    "\n",
    "¿Qué ocurre cuando una clase tiene dos ancestros que ofrecen la misma entidad y se encuentran en el mismo nivel? En otras palabras, ¿Qué se debe esperar cuando surge una clase usando herencia múltiple? Miremos lo siguiente."
   ]
  },
  {
   "cell_type": "code",
   "execution_count": 2,
   "metadata": {},
   "outputs": [
    {
     "name": "stdout",
     "output_type": "stream",
     "text": [
      "L LL RR Left\n"
     ]
    }
   ],
   "source": [
    "class Left:\n",
    "    var = \"L\"\n",
    "    var_left = \"LL\"\n",
    "    def fun(self):\n",
    "        return \"Left\"\n",
    "\n",
    "\n",
    "class Right:\n",
    "    var = \"R\"\n",
    "    var_right = \"RR\"\n",
    "    def fun(self):\n",
    "        return \"Right\"\n",
    "\n",
    "\n",
    "class Sub(Left, Right):\n",
    "    pass\n",
    "\n",
    "\n",
    "obj = Sub()\n",
    "\n",
    "print(obj.var, obj.var_left, obj.var_right, obj.fun())\n",
    "    "
   ]
  },
  {
   "cell_type": "markdown",
   "metadata": {},
   "source": [
    "Fijate en el orden en que la clase ``Sub`` hereda las propiedades de sus superclases. Podemos decir que Python busca componentes de objetos en el siguiente orden:\n",
    "\n",
    "- Dentro del objeto mismo.\n",
    "- En sus superclases, de abajo hacia arriba.\n",
    "- Si hay más de una clase en una ruta de herencia, Python las escanea de izquierda a derecha."
   ]
  },
  {
   "cell_type": "markdown",
   "metadata": {},
   "source": [
    "#### Como construir una jerarquia de clases:\n",
    "\n",
    "La herencia no es la única forma de construir clases adaptables, tambien se puede usar una técnica llamada composición.\n",
    "\n",
    "La composición es el proceso de componer un objeto usando otros objetos diferentes. Los objetos utilizados en la composición entregan un conjunto de rasgos deseados (propiedades y/o métodos), podemos decir que actúan como bloques utilizados para construir una estructura más complicada.\n",
    "\n",
    "La herencia extiende las capacidades de una clase agregando nuevos componentes y modificando los existentes; en otras palabras, la receta completa está contenida dentro de la clase misma y todos sus ancestros; el objeto toma todas las pertenencias de la clase y las usa.\n",
    "\n",
    "La composición proyecta una clase como contenedor capaz de almacenar y usar otros objetos (derivados de otras clases) donde cada uno de los objetos implementa una parte del comportamiento de una clase.\n",
    "\n",
    "Ilustremos un poco mejor el tema. La clase sabe cómo girar el vehículo, pero el giro real lo realiza un objeto especializado almacenado en una propiedad llamada controlador. El controlador es capaz de controlar el vehículo manipulando las partes relevantes del vehículo.\n",
    "\n",
    "Echa un vistazo al editor: así es como podría verse."
   ]
  },
  {
   "cell_type": "code",
   "execution_count": 3,
   "metadata": {},
   "outputs": [
    {
     "name": "stdout",
     "output_type": "stream",
     "text": [
      "ruedas:  True True\n",
      "ruedas:  True False\n",
      "pistas:  False True\n",
      "pistas:  False False\n"
     ]
    }
   ],
   "source": [
    "import time\n",
    "\n",
    "class Tracks:\n",
    "    def change_direction(self, left, on):\n",
    "        print(\"pistas: \", left, on)\n",
    "\n",
    "\n",
    "class Wheels:\n",
    "    def change_direction(self, left, on):\n",
    "        print(\"ruedas: \", left, on)\n",
    "\n",
    "\n",
    "class Vehicle:\n",
    "    def __init__(self, controller):\n",
    "        self.controller = controller\n",
    "\n",
    "    def turn(self, left):\n",
    "        self.controller.change_direction(left, True)\n",
    "        time.sleep(0.25)\n",
    "        self.controller.change_direction(left, False)\n",
    "\n",
    "\n",
    "wheeled = Vehicle(Wheels())\n",
    "tracked = Vehicle(Tracks())\n",
    "\n",
    "wheeled.turn(True)\n",
    "tracked.turn(False)\n",
    "    "
   ]
  },
  {
   "cell_type": "markdown",
   "metadata": {},
   "source": [
    "## Más sobre las excepciones en Python\n",
    "\n",
    "El bloque ``try-except`` ofrece un poco más de lo que ya se ha mencionado. Especificamente, la bloque ``else``, el cual debe agregarse siempre luego del ultimo bloque ``except`` agregado. Observemos el siguiente código:"
   ]
  },
  {
   "cell_type": "code",
   "execution_count": 3,
   "metadata": {},
   "outputs": [
    {
     "name": "stdout",
     "output_type": "stream",
     "text": [
      "Todo salió bien\n",
      "0.5\n",
      "División fallida\n",
      "None\n"
     ]
    }
   ],
   "source": [
    "def reciprocal(n):\n",
    "    try:\n",
    "        n = 1 / n\n",
    "    except ZeroDivisionError:\n",
    "        print(\"División fallida\")\n",
    "        return None\n",
    "    else:\n",
    "        print(\"Todo salió bien\")\n",
    "        return n\n",
    "\n",
    "\n",
    "print(reciprocal(2))\n",
    "print(reciprocal(0))\n",
    "    "
   ]
  },
  {
   "cell_type": "markdown",
   "metadata": {},
   "source": [
    "Podemos ampliar aun más el uso de esta herramienta con la palabra clave reservada ``finally``. Esta parte del codigo se ejecuta siempre, sin importar lo que haya sucedido antes, y de igual manera, como su nombre indica, debe ir al final del bloque ``try-except`` sin excepción."
   ]
  },
  {
   "cell_type": "code",
   "execution_count": 4,
   "metadata": {},
   "outputs": [
    {
     "name": "stdout",
     "output_type": "stream",
     "text": [
      "Todo salió bien\n",
      "Es momento de decir adiós\n",
      "0.5\n",
      "División fallida\n",
      "Es momento de decir adiós\n",
      "None\n"
     ]
    }
   ],
   "source": [
    "def reciprocal(n):\n",
    "    try:\n",
    "        n = 1 / n\n",
    "    except ZeroDivisionError:\n",
    "        print(\"División fallida\")\n",
    "        n = None\n",
    "    else:\n",
    "        print(\"Todo salió bien\")\n",
    "    finally:\n",
    "        print(\"Es momento de decir adiós\")\n",
    "        return n\n",
    "\n",
    "\n",
    "print(reciprocal(2))\n",
    "print(reciprocal(0))\n",
    "    "
   ]
  },
  {
   "cell_type": "markdown",
   "metadata": {},
   "source": [
    "### Las excepciones son clases\n",
    "\n",
    "Las excepciones son clases, cuando se genera una excepción, se crea una instancia de un objeto de la clase y pasa por todos los niveles de ejecución del programa, buscando el bloque \"except\" que está preparado para tratar con la excepción. Tal objeto lleva información útil que puede ayudarte a identificar con precisión todos los aspectos de la situación pendiente. Para lograr ese objetivo, Python ofrece una variante especial de la cláusula de excepción: puedes encontrarla en el editor."
   ]
  },
  {
   "cell_type": "code",
   "execution_count": 1,
   "metadata": {},
   "outputs": [
    {
     "name": "stdout",
     "output_type": "stream",
     "text": [
      "invalid literal for int() with base 10: '¡Hola!'\n",
      "invalid literal for int() with base 10: '¡Hola!'\n"
     ]
    }
   ],
   "source": [
    "try:\n",
    "    i = int(\"¡Hola!\")\n",
    "except Exception as e:\n",
    "    print(e)\n",
    "    print(e.__str__())\n",
    "    "
   ]
  },
  {
   "cell_type": "markdown",
   "metadata": {},
   "source": [
    "Todas las excepciones integradas de Python forman una jerarquía de clases. Si lo deseas, puedes extenderlo sin problema.\n",
    "\n",
    "Observa el código en el editor."
   ]
  },
  {
   "cell_type": "code",
   "execution_count": 7,
   "metadata": {},
   "outputs": [
    {
     "name": "stdout",
     "output_type": "stream",
     "text": [
      "BaseException\n",
      "   +---Exception\n",
      "   |   +---TypeError\n",
      "   |   |   +---FloatOperation\n",
      "   |   |   +---MultipartConversionError\n",
      "   |   +---StopAsyncIteration\n",
      "   |   +---StopIteration\n",
      "   |   +---ImportError\n",
      "   |   |   +---ModuleNotFoundError\n",
      "   |   |   |   +---PackageNotFoundError\n",
      "   |   |   +---ZipImportError\n",
      "   |   +---OSError\n",
      "   |   |   +---ConnectionError\n",
      "   |   |   |   +---BrokenPipeError\n",
      "   |   |   |   +---ConnectionAbortedError\n",
      "   |   |   |   +---ConnectionRefusedError\n",
      "   |   |   |   +---ConnectionResetError\n",
      "   |   |   |   |   +---RemoteDisconnected\n",
      "   |   |   +---BlockingIOError\n",
      "   |   |   +---ChildProcessError\n",
      "   |   |   +---FileExistsError\n",
      "   |   |   +---FileNotFoundError\n",
      "   |   |   +---IsADirectoryError\n",
      "   |   |   +---NotADirectoryError\n",
      "   |   |   +---InterruptedError\n",
      "   |   |   |   +---InterruptedSystemCall\n",
      "   |   |   +---PermissionError\n",
      "   |   |   +---ProcessLookupError\n",
      "   |   |   +---TimeoutError\n",
      "   |   |   +---UnsupportedOperation\n",
      "   |   |   +---herror\n",
      "   |   |   +---gaierror\n",
      "   |   |   +---SSLError\n",
      "   |   |   |   +---SSLCertVerificationError\n",
      "   |   |   |   +---SSLZeroReturnError\n",
      "   |   |   |   +---SSLWantWriteError\n",
      "   |   |   |   +---SSLWantReadError\n",
      "   |   |   |   +---SSLSyscallError\n",
      "   |   |   |   +---SSLEOFError\n",
      "   |   |   +---Error\n",
      "   |   |   |   +---SameFileError\n",
      "   |   |   +---SpecialFileError\n",
      "   |   |   +---ExecError\n",
      "   |   |   +---ReadError\n",
      "   |   |   +---URLError\n",
      "   |   |   |   +---HTTPError\n",
      "   |   |   |   +---ContentTooShortError\n",
      "   |   |   +---BadGzipFile\n",
      "   |   +---EOFError\n",
      "   |   |   +---IncompleteReadError\n",
      "   |   +---RuntimeError\n",
      "   |   |   +---RecursionError\n",
      "   |   |   +---NotImplementedError\n",
      "   |   |   |   +---ZMQVersionError\n",
      "   |   |   |   +---StdinNotImplementedError\n",
      "   |   |   +---_DeadlockError\n",
      "   |   |   +---BrokenBarrierError\n",
      "   |   |   +---BrokenExecutor\n",
      "   |   |   |   +---BrokenThreadPool\n",
      "   |   |   +---SendfileNotAvailableError\n",
      "   |   |   +---VariableError\n",
      "   |   +---NameError\n",
      "   |   |   +---UnboundLocalError\n",
      "   |   +---AttributeError\n",
      "   |   |   +---FrozenInstanceError\n",
      "   |   +---SyntaxError\n",
      "   |   |   +---IndentationError\n",
      "   |   |   |   +---TabError\n",
      "   |   +---LookupError\n",
      "   |   |   +---IndexError\n",
      "   |   |   +---KeyError\n",
      "   |   |   |   +---NoSuchKernel\n",
      "   |   |   |   +---UnknownBackend\n",
      "   |   |   +---CodecRegistryError\n",
      "   |   +---ValueError\n",
      "   |   |   +---UnicodeError\n",
      "   |   |   |   +---UnicodeEncodeError\n",
      "   |   |   |   +---UnicodeDecodeError\n",
      "   |   |   |   +---UnicodeTranslateError\n",
      "   |   |   +---UnsupportedOperation\n",
      "   |   |   +---JSONDecodeError\n",
      "   |   |   +---SSLCertVerificationError\n",
      "   |   |   +---Error\n",
      "   |   |   +---UnsupportedDigestmodError\n",
      "   |   |   +---IllegalMonthError\n",
      "   |   |   +---IllegalWeekdayError\n",
      "   |   |   +---ParserError\n",
      "   |   |   +---MessageDefect\n",
      "   |   |   |   +---NoBoundaryInMultipartDefect\n",
      "   |   |   |   +---StartBoundaryNotFoundDefect\n",
      "   |   |   |   +---CloseBoundaryNotFoundDefect\n",
      "   |   |   |   +---FirstHeaderLineIsContinuationDefect\n",
      "   |   |   |   +---MisplacedEnvelopeHeaderDefect\n",
      "   |   |   |   +---MissingHeaderBodySeparatorDefect\n",
      "   |   |   |   +---MultipartInvariantViolationDefect\n",
      "   |   |   |   +---InvalidMultipartContentTransferEncodingDefect\n",
      "   |   |   |   +---UndecodableBytesDefect\n",
      "   |   |   |   +---InvalidBase64PaddingDefect\n",
      "   |   |   |   +---InvalidBase64CharactersDefect\n",
      "   |   |   |   +---InvalidBase64LengthDefect\n",
      "   |   |   |   +---HeaderDefect\n",
      "   |   |   |   |   +---InvalidHeaderDefect\n",
      "   |   |   |   |   +---HeaderMissingRequiredValue\n",
      "   |   |   |   |   +---NonPrintableDefect\n",
      "   |   |   |   |   +---ObsoleteHeaderDefect\n",
      "   |   |   |   |   +---NonASCIILocalPartDefect\n",
      "   |   |   |   |   +---InvalidDateDefect\n",
      "   |   |   +---ClassNotFound\n",
      "   |   |   +---ClipboardEmpty\n",
      "   |   |   +---MacroToEdit\n",
      "   |   |   +---InvalidVersion\n",
      "   |   +---AssertionError\n",
      "   |   +---ArithmeticError\n",
      "   |   |   +---FloatingPointError\n",
      "   |   |   +---OverflowError\n",
      "   |   |   +---ZeroDivisionError\n",
      "   |   |   |   +---DivisionByZero\n",
      "   |   |   |   +---DivisionUndefined\n",
      "   |   |   +---DecimalException\n",
      "   |   |   |   +---Clamped\n",
      "   |   |   |   +---Rounded\n",
      "   |   |   |   |   +---Underflow\n",
      "   |   |   |   |   +---Overflow\n",
      "   |   |   |   +---Inexact\n",
      "   |   |   |   |   +---Underflow\n",
      "   |   |   |   |   +---Overflow\n",
      "   |   |   |   +---Subnormal\n",
      "   |   |   |   |   +---Underflow\n",
      "   |   |   |   +---DivisionByZero\n",
      "   |   |   |   +---FloatOperation\n",
      "   |   |   |   +---InvalidOperation\n",
      "   |   |   |   |   +---ConversionSyntax\n",
      "   |   |   |   |   +---DivisionImpossible\n",
      "   |   |   |   |   +---DivisionUndefined\n",
      "   |   |   |   |   +---InvalidContext\n",
      "   |   +---SystemError\n",
      "   |   |   +---CodecRegistryError\n",
      "   |   +---ReferenceError\n",
      "   |   +---MemoryError\n",
      "   |   +---BufferError\n",
      "   |   +---Warning\n",
      "   |   |   +---UserWarning\n",
      "   |   |   |   +---GetPassWarning\n",
      "   |   |   |   +---FormatterWarning\n",
      "   |   |   +---EncodingWarning\n",
      "   |   |   +---DeprecationWarning\n",
      "   |   |   |   +---ProvisionalWarning\n",
      "   |   |   +---PendingDeprecationWarning\n",
      "   |   |   +---SyntaxWarning\n",
      "   |   |   +---RuntimeWarning\n",
      "   |   |   |   +---ProactorSelectorThreadWarning\n",
      "   |   |   |   +---UnknownTimezoneWarning\n",
      "   |   |   +---FutureWarning\n",
      "   |   |   |   +---ProvisionalCompleterWarning\n",
      "   |   |   +---ImportWarning\n",
      "   |   |   +---UnicodeWarning\n",
      "   |   |   +---BytesWarning\n",
      "   |   |   +---ResourceWarning\n",
      "   |   |   +---DeprecatedTzFormatWarning\n",
      "   |   +---_OptionError\n",
      "   |   +---_Error\n",
      "   |   +---error\n",
      "   |   +---Verbose\n",
      "   |   +---Error\n",
      "   |   +---SubprocessError\n",
      "   |   |   +---CalledProcessError\n",
      "   |   |   +---TimeoutExpired\n",
      "   |   +---ZMQBaseError\n",
      "   |   |   +---ZMQError\n",
      "   |   |   |   +---ContextTerminated\n",
      "   |   |   |   +---Again\n",
      "   |   |   |   +---InterruptedSystemCall\n",
      "   |   |   +---ZMQBindError\n",
      "   |   |   +---NotDone\n",
      "   |   +---Error\n",
      "   |   +---error\n",
      "   |   +---PickleError\n",
      "   |   |   +---PicklingError\n",
      "   |   |   +---UnpicklingError\n",
      "   |   +---_Stop\n",
      "   |   +---TokenError\n",
      "   |   +---StopTokenizing\n",
      "   |   +---Error\n",
      "   |   |   +---CancelledError\n",
      "   |   |   +---TimeoutError\n",
      "   |   |   +---InvalidStateError\n",
      "   |   +---_GiveupOnSendfile\n",
      "   |   +---Incomplete\n",
      "   |   +---ClassFoundException\n",
      "   |   +---EndOfBlock\n",
      "   |   +---TimeoutError\n",
      "   |   +---InvalidStateError\n",
      "   |   +---LimitOverrunError\n",
      "   |   +---QueueEmpty\n",
      "   |   +---QueueFull\n",
      "   |   +---error\n",
      "   |   +---LZMAError\n",
      "   |   +---RegistryError\n",
      "   |   +---_GiveupOnFastCopy\n",
      "   |   +---TraitError\n",
      "   |   +---Empty\n",
      "   |   +---Full\n",
      "   |   +---ArgumentError\n",
      "   |   +---COMError\n",
      "   |   +---ReturnValueIgnoredError\n",
      "   |   +---ArgumentError\n",
      "   |   +---ArgumentTypeError\n",
      "   |   +---ConfigError\n",
      "   |   |   +---ConfigLoaderError\n",
      "   |   |   |   +---ArgumentError\n",
      "   |   |   +---ConfigFileNotFound\n",
      "   |   +---ConfigurableError\n",
      "   |   |   +---MultipleInstanceError\n",
      "   |   +---ApplicationError\n",
      "   |   +---InvalidPortNumber\n",
      "   |   +---NoIPAddresses\n",
      "   |   +---Error\n",
      "   |   +---BadZipFile\n",
      "   |   +---LargeZipFile\n",
      "   |   +---Error\n",
      "   |   +---MessageError\n",
      "   |   |   +---MessageParseError\n",
      "   |   |   |   +---HeaderParseError\n",
      "   |   |   |   +---BoundaryError\n",
      "   |   |   +---MultipartConversionError\n",
      "   |   |   +---CharsetError\n",
      "   |   +---DuplicateKernelError\n",
      "   |   +---ErrorDuringImport\n",
      "   |   +---NotOneValueFound\n",
      "   |   +---CannotEval\n",
      "   |   +---OptionError\n",
      "   |   +---BdbQuit\n",
      "   |   +---Restart\n",
      "   |   +---FindCmdError\n",
      "   |   +---HomeDirError\n",
      "   |   +---ProfileDirError\n",
      "   |   +---IPythonCoreError\n",
      "   |   |   +---TryNext\n",
      "   |   |   +---UsageError\n",
      "   |   |   +---StdinNotImplementedError\n",
      "   |   +---InputRejected\n",
      "   |   +---GetoptError\n",
      "   |   +---ErrorToken\n",
      "   |   +---PrefilterError\n",
      "   |   +---AliasError\n",
      "   |   |   +---InvalidAliasError\n",
      "   |   +---Error\n",
      "   |   |   +---InterfaceError\n",
      "   |   |   +---DatabaseError\n",
      "   |   |   |   +---InternalError\n",
      "   |   |   |   +---OperationalError\n",
      "   |   |   |   +---ProgrammingError\n",
      "   |   |   |   +---IntegrityError\n",
      "   |   |   |   +---DataError\n",
      "   |   |   |   +---NotSupportedError\n",
      "   |   +---Warning\n",
      "   |   +---ExceptionGroup\n",
      "   |   +---SpaceInInput\n",
      "   |   +---DOMException\n",
      "   |   |   +---IndexSizeErr\n",
      "   |   |   +---DomstringSizeErr\n",
      "   |   |   +---HierarchyRequestErr\n",
      "   |   |   +---WrongDocumentErr\n",
      "   |   |   +---InvalidCharacterErr\n",
      "   |   |   +---NoDataAllowedErr\n",
      "   |   |   +---NoModificationAllowedErr\n",
      "   |   |   +---NotFoundErr\n",
      "   |   |   +---NotSupportedErr\n",
      "   |   |   +---InuseAttributeErr\n",
      "   |   |   +---InvalidStateErr\n",
      "   |   |   +---SyntaxErr\n",
      "   |   |   +---InvalidModificationErr\n",
      "   |   |   +---NamespaceErr\n",
      "   |   |   +---InvalidAccessErr\n",
      "   |   |   +---ValidationErr\n",
      "   |   +---ValidationError\n",
      "   |   +---EditReadOnlyBuffer\n",
      "   |   +---_Retry\n",
      "   |   +---InvalidLayoutError\n",
      "   |   +---HeightIsUnknownError\n",
      "   |   +---GuardRejection\n",
      "   |   +---ParserSyntaxError\n",
      "   |   +---InternalParseError\n",
      "   |   +---_PositionUpdatingFinished\n",
      "   |   +---SimpleGetItemNotFound\n",
      "   |   +---UncaughtAttributeError\n",
      "   |   +---HasNoContext\n",
      "   |   +---ParamIssue\n",
      "   |   +---_JediError\n",
      "   |   |   +---InternalError\n",
      "   |   |   +---WrongVersion\n",
      "   |   |   +---RefactoringError\n",
      "   |   +---OnErrorLeaf\n",
      "   |   +---InvalidPythonEnvironment\n",
      "   |   +---HTTPException\n",
      "   |   |   +---NotConnected\n",
      "   |   |   +---InvalidURL\n",
      "   |   |   +---UnknownProtocol\n",
      "   |   |   +---UnknownTransferEncoding\n",
      "   |   |   +---UnimplementedFileMode\n",
      "   |   |   +---IncompleteRead\n",
      "   |   |   +---ImproperConnectionState\n",
      "   |   |   |   +---CannotSendRequest\n",
      "   |   |   |   +---CannotSendHeader\n",
      "   |   |   |   +---ResponseNotReady\n",
      "   |   |   +---BadStatusLine\n",
      "   |   |   |   +---RemoteDisconnected\n",
      "   |   |   +---LineTooLong\n",
      "   |   +---InteractivelyDefined\n",
      "   |   +---KillEmbedded\n",
      "   |   +---Error\n",
      "   |   |   +---NoSuchProcess\n",
      "   |   |   |   +---ZombieProcess\n",
      "   |   |   +---AccessDenied\n",
      "   |   |   +---TimeoutExpired\n",
      "   |   +---Error\n",
      "   |   +---TimeoutExpired\n",
      "   |   +---TimeoutAbandoned\n",
      "   |   +---KeyReuseError\n",
      "   |   +---UnknownKeyError\n",
      "   |   +---LeakedCallbackError\n",
      "   |   +---BadYieldError\n",
      "   |   +---ReturnValueIgnoredError\n",
      "   |   +---Return\n",
      "   |   +---QueueEmpty\n",
      "   |   +---QueueFull\n",
      "   |   +---DebuggerInitializationError\n",
      "   |   +---ExpatError\n",
      "   |   +---Error\n",
      "   |   |   +---ProtocolError\n",
      "   |   |   +---ResponseError\n",
      "   |   |   +---Fault\n",
      "   |   +---_Error\n",
      "   |   +---UnableToResolveVariableException\n",
      "   |   +---InvalidTypeInArgsException\n",
      "   +---GeneratorExit\n",
      "   +---SystemExit\n",
      "   +---KeyboardInterrupt\n",
      "   +---CancelledError\n",
      "   +---BaseExceptionGroup\n",
      "   |   +---ExceptionGroup\n"
     ]
    }
   ],
   "source": [
    "def print_exception_tree(thisclass, nest = 0):\n",
    "    if nest > 1:\n",
    "        print(\"   |\" * (nest - 1), end=\"\")\n",
    "    if nest > 0:\n",
    "        print(\"   +---\", end=\"\")\n",
    "\n",
    "    print(thisclass.__name__)\n",
    "\n",
    "    for subclass in thisclass.__subclasses__():\n",
    "        print_exception_tree(subclass, nest + 1)\n",
    "\n",
    "\n",
    "print_exception_tree(BaseException)\n",
    "    "
   ]
  },
  {
   "cell_type": "markdown",
   "metadata": {},
   "source": [
    "### Anatomia detallada de las excepciones\n",
    "\n",
    "La clase ``BaseException`` introduce una propiedad llamada ``args``. Es una tupla diseñada para reunir todos los argumentos pasados al constructor de la clase. Está vacío si la construcción se ha invocado sin ningún argumento, o solo contiene un elemento cuando el constructor recibe un argumento (no se considera el argumento self aquí), y así sucesivamente."
   ]
  },
  {
   "cell_type": "code",
   "execution_count": 8,
   "metadata": {},
   "outputs": [
    {
     "name": "stdout",
     "output_type": "stream",
     "text": [
      " :  : \n",
      "mi excepción : mi excepción : mi excepción\n",
      "('mi', 'excepción') : ('mi', 'excepción') : ('mi', 'excepción')\n"
     ]
    }
   ],
   "source": [
    "def print_args(args):\n",
    "    lng = len(args)\n",
    "    if lng == 0:\n",
    "        print(\"\")\n",
    "    elif lng == 1:\n",
    "        print(args[0])\n",
    "    else:\n",
    "        print(str(args))\n",
    "\n",
    "\n",
    "try:\n",
    "    raise Exception\n",
    "except Exception as e:\n",
    "    print(e, e.__str__(), sep=' : ' ,end=' : ')\n",
    "    print_args(e.args)\n",
    "\n",
    "try:\n",
    "    raise Exception(\"mi excepción\")\n",
    "except Exception as e:\n",
    "    print(e, e.__str__(), sep=' : ', end=' : ')\n",
    "    print_args(e.args)\n",
    "\n",
    "try:\n",
    "    raise Exception(\"mi\", \"excepción\")\n",
    "except Exception as e:\n",
    "    print(e, e.__str__(), sep=' : ', end=' : ')\n",
    "    print_args(e.args)\n",
    "\t"
   ]
  },
  {
   "cell_type": "markdown",
   "metadata": {},
   "source": [
    "### Como crear tu propia excepción\n",
    "\n",
    "Puedes definir tus propias excepciones como subclases derivadas de las predefinidas, si deseas crear una excepción que se utilizará como un caso especializado de cualquier excepción incorporada, derivala solo de esta. Si deseas construir tu propia jerarquía, y no quieres que esté estrechamente conectada al árbol de excepciones de Python, derivala de cualquiera de las clases de excepción principales, tal como: Exception.\n",
    "\n",
    "Expliquemos como funciona por medio de un ejemplo, creamos una nueva excepcion que recibirá dos argumentos:\n",
    "- Uno que especifica una pizza como tema del proceso.\n",
    "- Otro que contiene una descripción más o menos precisa del problema."
   ]
  },
  {
   "cell_type": "code",
   "execution_count": null,
   "metadata": {},
   "outputs": [],
   "source": [
    "class PizzaError(Exception):\n",
    "    def __init__(self, pizza, message):\n",
    "        Exception.__init__(self, message)\n",
    "        self.pizza = pizza"
   ]
  },
  {
   "cell_type": "markdown",
   "metadata": {},
   "source": [
    "Como puedes ver, pasamos el segundo parámetro al constructor de la superclase y guardamos el primero dentro de nuestra propiedad.\n",
    "\n",
    "Un problema más específico (como un exceso de queso) puede requerir una excepción más específica. Es posible derivar la nueva clase de la ya definida PizzaError, como hemos hecho aquí:"
   ]
  },
  {
   "cell_type": "code",
   "execution_count": 9,
   "metadata": {},
   "outputs": [
    {
     "name": "stdout",
     "output_type": "stream",
     "text": [
      "¡Pizza lista!\n",
      "demasiado queso : 110\n",
      "no existe tal pizza en el menú : mafia\n"
     ]
    }
   ],
   "source": [
    "class PizzaError(Exception):\n",
    "    def __init__(self, pizza, message):\n",
    "        Exception.__init__(self, message)\n",
    "        self.pizza = pizza\n",
    "\n",
    "\n",
    "class TooMuchCheeseError(PizzaError):\n",
    "    def __init__(self, pizza, cheese, message):\n",
    "        PizzaError.__init__(self, pizza, message)\n",
    "        self.cheese = cheese\n",
    "\n",
    "\n",
    "def make_pizza(pizza, cheese):\n",
    "    if pizza not in ['margherita', 'capricciosa', 'calzone']:\n",
    "        raise PizzaError(pizza, \"no existe tal pizza en el menú\")\n",
    "    if cheese > 100:\n",
    "        raise TooMuchCheeseError(pizza, cheese, \"demasiado queso\")\n",
    "    print(\"¡Pizza lista!\")\n",
    "\n",
    "for (pz, ch) in [('calzone', 0), ('margherita', 110), ('mafia', 20)]:\n",
    "    try:\n",
    "        make_pizza(pz, ch)\n",
    "    except TooMuchCheeseError as tmce:\n",
    "        print(tmce, ':', tmce.cheese)\n",
    "    except PizzaError as pe:\n",
    "        print(pe, ':', pe.pizza)\n",
    "        "
   ]
  },
  {
   "cell_type": "markdown",
   "metadata": {},
   "source": [
    "# MODULO 6: Miscelaneos\n",
    "\n",
    "## Generadores, iteradores y cierres\n",
    "\n",
    "### Generadores\n",
    "\n",
    "Un generador en python (o iterador segun algunos) es ua funcion capaz de generar una serie de valores que respetan un proceso de iteracion determinado. \n",
    "\n",
    "Uno de los iteradores mas empleados que ya conocemos es la funcion ``range()``, la cual es un generador y tambien un iterador. La diferencia entre ambas defeniciones radica en que el generador se invoca una sola vez, mientras que un iterador se invoca en repeticas ocasiones.\n",
    "\n",
    "Un iterador debe proporcionar los siguientes metodos:\n",
    "\n",
    "- ``__iter__`` el cual debe devolver el objeto en sí y se invoca una vez(es necesario que Python inicie con exito la iteración.)\n",
    "- ``__next__`` el cual debe devolver el siguiente valor, será invocado por la sentencia ``for/in`` para pasar a la siguiente iteracion, si no hay más iteraciones, se debe generar la excepcion ``StopIteration``.\n",
    "\n",
    "Analiza el siguiente ejemplo:"
   ]
  },
  {
   "cell_type": "code",
   "execution_count": 2,
   "metadata": {},
   "outputs": [
    {
     "name": "stdout",
     "output_type": "stream",
     "text": [
      "__init__\n",
      "__iter__\n",
      "__next__\n",
      "1\n",
      "__next__\n",
      "1\n",
      "__next__\n",
      "2\n",
      "__next__\n",
      "3\n",
      "__next__\n",
      "5\n",
      "__next__\n",
      "8\n",
      "__next__\n",
      "13\n",
      "__next__\n",
      "21\n",
      "__next__\n",
      "34\n",
      "__next__\n",
      "55\n",
      "__next__\n"
     ]
    }
   ],
   "source": [
    "class Fib:\n",
    "    def __init__(self, nn):\n",
    "        print(\"__init__\")\n",
    "        self.__n = nn\n",
    "        self.__i = 0\n",
    "        self.__p1 = self.__p2 = 1\n",
    "\n",
    "    def __iter__(self):\n",
    "        print(\"__iter__\")\n",
    "        return self\n",
    "\n",
    "    def __next__(self):\n",
    "        print(\"__next__\")\t\t\n",
    "        self.__i += 1\n",
    "        if self.__i > self.__n:\n",
    "            raise StopIteration\n",
    "        if self.__i in [1, 2]:\n",
    "            return 1\n",
    "        ret = self.__p1 + self.__p2\n",
    "        self.__p1, self.__p2 = self.__p2, ret\n",
    "        return ret\n",
    "\n",
    "\n",
    "for i in Fib(10):\n",
    "    print(i)"
   ]
  },
  {
   "cell_type": "code",
   "execution_count": 4,
   "metadata": {},
   "outputs": [
    {
     "name": "stdout",
     "output_type": "stream",
     "text": [
      "Class iter\n",
      "1\n",
      "1\n",
      "2\n",
      "3\n",
      "5\n",
      "8\n",
      "13\n",
      "21\n"
     ]
    }
   ],
   "source": [
    "class Fib:\n",
    "    def __init__(self, nn):\n",
    "        self.__n = nn\n",
    "        self.__i = 0\n",
    "        self.__p1 = self.__p2 = 1\n",
    "\n",
    "    def __iter__(self):\n",
    "        print(\"Fib iter\")\n",
    "        return self\n",
    "\n",
    "    def __next__(self):\n",
    "        self.__i += 1\n",
    "        if self.__i > self.__n:\n",
    "            raise StopIteration\n",
    "        if self.__i in [1, 2]:\n",
    "            return 1\n",
    "        ret = self.__p1 + self.__p2\n",
    "        self.__p1, self.__p2 = self.__p2, ret\n",
    "        return ret\n",
    "\n",
    "\n",
    "class Class:\n",
    "    def __init__(self, n):\n",
    "        self.__iter = Fib(n)\n",
    "\n",
    "    def __iter__(self):\n",
    "        print(\"Class iter\")\n",
    "        return self.__iter\n",
    "\n",
    "\n",
    "object = Class(8)\n",
    "\n",
    "for i in object:\n",
    "    print(i)\n",
    "    "
   ]
  },
  {
   "cell_type": "markdown",
   "metadata": {},
   "source": [
    "### La sentencia ``yield``\n",
    "\n",
    "Una de las grandes desventajas del protocolo iterador es que se ve forzado a guardar el estado de la iteracion (o el numero de iteraciones) que ha desempeñado, es por esto que vemos que el iterador ``Fib`` se ve forzado a almacenar con precion el lugar en el cual desarrollo la ultima iteracion (``self.__i``). Es por esto que Python ofrece una opcion mas inteligente por medio de la palabra clave ``yield``, que podemos tomar como un hermano mas intelignete de la sentencia ``return``. Observa el siguiente codigo:"
   ]
  },
  {
   "cell_type": "code",
   "execution_count": 5,
   "metadata": {},
   "outputs": [],
   "source": [
    "def fun(n):\n",
    "    for i in range(n):\n",
    "        return i"
   ]
  },
  {
   "cell_type": "markdown",
   "metadata": {},
   "source": [
    "Se ve extraño, ¿no? Está claro que el bucle for no tiene posibilidad de terminar su primera ejecución, ya que el return lo romperá irrevocablemente. Esto también significa que una función como esta no se puede usar como generador. Reemplazemos la sentencia ``return`` por la palabra ``yield``:"
   ]
  },
  {
   "cell_type": "code",
   "execution_count": 10,
   "metadata": {},
   "outputs": [
    {
     "data": {
      "text/plain": [
       "<generator object fun_iter at 0x0000018F70BFEE90>"
      ]
     },
     "execution_count": 10,
     "metadata": {},
     "output_type": "execute_result"
    }
   ],
   "source": [
    "def fun(n):\n",
    "    for i in range(n):\n",
    "        yield i\n",
    "fun(8)"
   ]
  },
  {
   "cell_type": "markdown",
   "metadata": {},
   "source": [
    "Esta pequeña enmienda convierte la función en un generador, y el ejecutar la sentencia ``yield`` primeramente proporciona el valor de la expresión especificada después de la palabra clave reservada ``yield``, al igual que ``return``, pero no pierde el estado de la función, todos los valores de las variables están congelados y esperan la próxima invocación, cuando se reanuda la ejecución (no desde cero, como ocurre después de un ``return``).\n",
    "\n",
    "Hay una limitación importante: dicha función no debe invocarse explícitamente ya que no es una función; es un objeto generador. La invocación devolverá el identificador del objeto, no la serie que esperamos del generador. Debido a las mismas razones, la función anterior (la que tiene el return) solo se puede invocar explícitamente y no se debe usar como generador.\n",
    "\n",
    "### Como construir un generador\n",
    "\n",
    "Mostremos el nuevo iterador en acción:"
   ]
  },
  {
   "cell_type": "code",
   "execution_count": 1,
   "metadata": {},
   "outputs": [
    {
     "name": "stdout",
     "output_type": "stream",
     "text": [
      "0\n",
      "1\n",
      "2\n",
      "3\n",
      "4\n"
     ]
    }
   ],
   "source": [
    "def fun(n):\n",
    "    for i in range(n):\n",
    "        yield i\n",
    "\n",
    "\n",
    "for v in fun(5):\n",
    "    print(v)"
   ]
  },
  {
   "cell_type": "markdown",
   "metadata": {},
   "source": [
    "Ahora creemos un generador de las primeras n potencias de 2:"
   ]
  },
  {
   "cell_type": "code",
   "execution_count": 3,
   "metadata": {},
   "outputs": [
    {
     "name": "stdout",
     "output_type": "stream",
     "text": [
      "1\n",
      "2\n",
      "4\n",
      "8\n",
      "16\n",
      "32\n",
      "64\n",
      "128\n"
     ]
    }
   ],
   "source": [
    "def potencias_2(n):\n",
    "    for i in range(n):\n",
    "        yield 2**i\n",
    "\n",
    "for x in potencias_2(8):\n",
    "    print(x)"
   ]
  },
  {
   "cell_type": "markdown",
   "metadata": {},
   "source": [
    "Los generadores tambien se pueden usar con listas en compresion:"
   ]
  },
  {
   "cell_type": "code",
   "execution_count": 6,
   "metadata": {},
   "outputs": [
    {
     "name": "stdout",
     "output_type": "stream",
     "text": [
      "[1, 2, 4, 8, 16]\n"
     ]
    }
   ],
   "source": [
    "def potencias_2(n):\n",
    "    for i in range(n):\n",
    "        yield 2**i\n",
    "\n",
    "t = [x for x in potencias_2(5)]\n",
    "print(t)"
   ]
  },
  {
   "cell_type": "markdown",
   "metadata": {},
   "source": [
    "La funcion ``list()`` tambien puede transformar una serie de invocaciones subsequentes del generador en una lista real:"
   ]
  },
  {
   "cell_type": "code",
   "execution_count": 8,
   "metadata": {},
   "outputs": [
    {
     "name": "stdout",
     "output_type": "stream",
     "text": [
      "[1, 2, 4]\n"
     ]
    }
   ],
   "source": [
    "def potencias_2(n):\n",
    "    for i in range(n):\n",
    "        yield 2**i\n",
    "\n",
    "lista = list(potencias_2(3))\n",
    "print(lista)"
   ]
  },
  {
   "cell_type": "markdown",
   "metadata": {},
   "source": [
    "Además, el contexto creado por el operador in también te permite usar un generador."
   ]
  },
  {
   "cell_type": "code",
   "execution_count": 11,
   "metadata": {},
   "outputs": [
    {
     "name": "stdout",
     "output_type": "stream",
     "text": [
      "1\n",
      "2\n",
      "4\n",
      "8\n"
     ]
    }
   ],
   "source": [
    "def potencias_2(n):\n",
    "    for i in range(n):\n",
    "        yield 2**i\n",
    "\n",
    "for i in range(10):\n",
    "    if i in potencias_2(4):\n",
    "        print(i)"
   ]
  },
  {
   "cell_type": "markdown",
   "metadata": {},
   "source": [
    "Creemos un generador de la serie de fibonacci usando las nuevas herramientas aprendidas:"
   ]
  },
  {
   "cell_type": "code",
   "execution_count": 20,
   "metadata": {},
   "outputs": [
    {
     "name": "stdout",
     "output_type": "stream",
     "text": [
      "[0, 1, 1, 2, 3, 5, 8, 13, 21, 34, 55, 89, 144, 233, 377, 610, 987, 1597, 2584, 4181]\n"
     ]
    }
   ],
   "source": [
    "def serie_fibo(n):\n",
    "\n",
    "    fib0 = 0\n",
    "    fib1 = 0\n",
    "    fib2 = 0\n",
    "\n",
    "    for i in range(n):\n",
    "        fib2 = fib0 + fib1\n",
    "        if fib2 < 1:\n",
    "            fib1 = i\n",
    "            yield i\n",
    "        else:\n",
    "            yield fib2\n",
    "            fib0, fib1 = fib1, fib2\n",
    "\n",
    "y = [x for x in serie_fibo(20)]\n",
    "print(y)\n"
   ]
  },
  {
   "cell_type": "markdown",
   "metadata": {},
   "source": [
    "### Mas acerca de las listas por compresión\n",
    "\n",
    "Hay una sintaxis muy interesante que queremos mostrarte ahora. Su usabilidad no se limita a listas por comprensión, pero hay que reconocer que las comprensiones son el entorno ideal para ello.\n",
    "\n",
    "Es una expresión condicional: una forma de seleccionar uno de dos valores diferentes en función del resultado de una expresión Booleana.\n",
    "\n",
    "``expression_one if condition else expression_two``\n",
    "\n",
    "Puede parecer un poco sorprendente a primera vista, pero hay que tener en cuenta que no es una instrucción condicional. Además, no es una instrucción en lo absoluto. Es un operador. El valor que proporciona es ``expression_one`` cuando la condición es ``True``, y ``expression_two`` de lo contrario.\n",
    "\n",
    "Un buen ejemplo te dirá más. Mira el código en el editor."
   ]
  },
  {
   "cell_type": "code",
   "execution_count": 1,
   "metadata": {},
   "outputs": [
    {
     "name": "stdout",
     "output_type": "stream",
     "text": [
      "[1, 0, 1, 0, 1, 0, 1, 0, 1, 0]\n"
     ]
    }
   ],
   "source": [
    "the_list = []\n",
    "\n",
    "for x in range(10):\n",
    "    the_list.append(1 if x % 2 == 0 else 0)\n",
    "\n",
    "print(the_list)"
   ]
  },
  {
   "cell_type": "markdown",
   "metadata": {},
   "source": [
    "Se puede usar tambien en listas por compresión:"
   ]
  },
  {
   "cell_type": "code",
   "execution_count": 3,
   "metadata": {},
   "outputs": [
    {
     "data": {
      "text/plain": [
       "[1, 0, 1, 0, 1, 0, 1, 0, 1, 0]"
      ]
     },
     "execution_count": 3,
     "metadata": {},
     "output_type": "execute_result"
    }
   ],
   "source": [
    "lista = [1 if x % 2 == 0  else 0 for x in range(10)]\n",
    "lista"
   ]
  },
  {
   "cell_type": "markdown",
   "metadata": {},
   "source": [
    "Las listas por compresion se pueden convertir en generadores con solo un pequeño cambio en su construccion:"
   ]
  },
  {
   "cell_type": "code",
   "execution_count": 4,
   "metadata": {},
   "outputs": [
    {
     "name": "stdout",
     "output_type": "stream",
     "text": [
      "1 0 1 0 1 0 1 0 1 0 \n",
      "1 0 1 0 1 0 1 0 1 0 \n"
     ]
    }
   ],
   "source": [
    "the_list = [1 if x % 2 == 0 else 0 for x in range(10)]\n",
    "the_generator = (1 if x % 2 == 0 else 0 for x in range(10))\n",
    "\n",
    "for v in the_list:\n",
    "    print(v, end=\" \")\n",
    "print()\n",
    "\n",
    "for v in the_generator:\n",
    "    print(v, end=\" \")\n",
    "print()\n",
    "\n"
   ]
  },
  {
   "cell_type": "markdown",
   "metadata": {},
   "source": [
    "### La funcion ``lambda``\n",
    "\n",
    "Una funcion lamda es una funcion sin nombre, la cual puede existir y funcionar en incognito. Visualiza como se utiliza:\n",
    "``lambda parameters: expression``"
   ]
  },
  {
   "cell_type": "code",
   "execution_count": 6,
   "metadata": {},
   "outputs": [
    {
     "name": "stdout",
     "output_type": "stream",
     "text": [
      "4 4\n",
      "1 1\n",
      "0 0\n",
      "1 1\n",
      "4 4\n"
     ]
    }
   ],
   "source": [
    "two = lambda: 2\n",
    "sqr = lambda x: x * x\n",
    "pwr = lambda x, y: x ** y\n",
    "\n",
    "for a in range(-2, 3):\n",
    "    print(sqr(a), end=\" \")\n",
    "    print(pwr(a, two()))"
   ]
  },
  {
   "cell_type": "markdown",
   "metadata": {},
   "source": [
    "### Como usar la funcion lambda y para que?\n",
    "\n",
    "Las funciones lambda nos permiten utilizar funciones ocultas, las cuales solo se emplearan en una ocasion, observa el codigo en el editor, es un ejemplo de una definicion de una funcion declarada que posteriomente se convertira en una funcion lambda dado que solo se utilizará en una ocasión:"
   ]
  },
  {
   "cell_type": "code",
   "execution_count": 4,
   "metadata": {},
   "outputs": [
    {
     "name": "stdout",
     "output_type": "stream",
     "text": [
      "f(-2)=18\n",
      "f(-1)=8\n",
      "f(0)=2\n",
      "f(1)=0\n",
      "f(2)=2\n",
      "\n",
      "f(-2)=18\n",
      "f(-1)=8\n",
      "f(0)=2\n",
      "f(1)=0\n",
      "f(2)=2\n"
     ]
    }
   ],
   "source": [
    "def print_function(args, fun):\n",
    "    for x in args:\n",
    "        print('f(', x,')=', fun(x), sep='')\n",
    "\n",
    "\n",
    "def poly(x):\n",
    "    return 2 * x**2 - 4 * x + 2\n",
    "\n",
    "\n",
    "print_function([x for x in range(-2, 3)], poly)\n",
    "\n",
    "# Ahora evitemos declarar la funcion poly(x)\n",
    "print('')\n",
    "\n",
    "def print_function(args, fun):\n",
    "    for x in args:\n",
    "        print('f(', x,')=', fun(x), sep='')\n",
    "\n",
    "print_function([x for x in range(-2, 3)], lambda x: 2 * x**2 - 4 * x + 2)\n",
    "\n"
   ]
  },
  {
   "cell_type": "markdown",
   "metadata": {},
   "source": [
    "Como puedes observar el polinomio se encuentra dentro de la función lambda en el segundo caso, razon por la cual no es necesario declararla explicitamente en el código."
   ]
  },
  {
   "cell_type": "markdown",
   "metadata": {},
   "source": [
    "### Lambdas y la funcion map()\n",
    "\n",
    "La función map() se invoca de manera muy simple:"
   ]
  },
  {
   "cell_type": "code",
   "execution_count": null,
   "metadata": {},
   "outputs": [],
   "source": [
    "map(funcion, lista)"
   ]
  },
  {
   "cell_type": "markdown",
   "metadata": {},
   "source": [
    "La funcion devuelve un iterador el cual contine el resultado de aplicar a los elementos de la lista a dicha funcion, podemos convertir dicho iterador en una lista con los resultados empleando la funcion ``list()``. Estudia el siguiente ejemplo:"
   ]
  },
  {
   "cell_type": "code",
   "execution_count": 3,
   "metadata": {},
   "outputs": [
    {
     "name": "stdout",
     "output_type": "stream",
     "text": [
      "Lista 1: [0, 1, 2, 3, 4]\n",
      "    Lista 2: [0, 1, 4, 9, 16]\n",
      "1 1 256 387420489 18446744073709551616 "
     ]
    }
   ],
   "source": [
    "list1 = [x for x in range(5)]\n",
    "list2 = list(map(lambda x: x**2, list1))\n",
    "print(f'''Lista 1: {list1}\n",
    "    Lista 2: {list2}''')\n",
    "\n",
    "for i in map(lambda x: x**x, list2):\n",
    "    print(i, end=' ')"
   ]
  },
  {
   "cell_type": "markdown",
   "metadata": {},
   "source": [
    "### Lambdas y la funcion filter()\n",
    "\n",
    "La funcion ``filter()`` funciona de manera similar a la funcion ``map()``, recibe dos argumentos, una funcion y una lista, la funcion aplica a todos los argumentos de la lista a la funcion que recibe como argumento, la diferencia radica en que esta filtra los argumentos que pasan las condiciones que aplica la funcion (es decir, devuelve los argumentos que devuelven ``True``). Observa el siguiente ejemplo:"
   ]
  },
  {
   "cell_type": "code",
   "execution_count": 12,
   "metadata": {},
   "outputs": [
    {
     "name": "stdout",
     "output_type": "stream",
     "text": [
      "[8, 3, -10, -3, 4]\n",
      "[8, 4]\n"
     ]
    }
   ],
   "source": [
    "from random import seed, randint\n",
    "\n",
    "seed()\n",
    "data = [randint(-10,10) for x in range(5)]\n",
    "filtered = list(filter(lambda x: x > 0 and x % 2 == 0, data))\n",
    "\n",
    "print(data)\n",
    "print(filtered)\n",
    "    "
   ]
  },
  {
   "cell_type": "markdown",
   "metadata": {},
   "source": [
    "### Una breve explicacion de los cierres:\n",
    "\n",
    "Un cierre es una tecnica que permite almacernar valores a pesar de que el contexto en el cual se crearon ya no existe, observa el siguiente ejemplo:"
   ]
  },
  {
   "cell_type": "code",
   "execution_count": 13,
   "metadata": {},
   "outputs": [
    {
     "ename": "NameError",
     "evalue": "name 'par' is not defined",
     "output_type": "error",
     "traceback": [
      "\u001b[1;31m---------------------------------------------------------------------------\u001b[0m",
      "\u001b[1;31mNameError\u001b[0m                                 Traceback (most recent call last)",
      "Cell \u001b[1;32mIn[13], line 8\u001b[0m\n\u001b[0;32m      5\u001b[0m var \u001b[38;5;241m=\u001b[39m \u001b[38;5;241m1\u001b[39m\n\u001b[0;32m      6\u001b[0m outer(var)\n\u001b[1;32m----> 8\u001b[0m \u001b[38;5;28mprint\u001b[39m(\u001b[43mpar\u001b[49m)\n\u001b[0;32m      9\u001b[0m \u001b[38;5;28mprint\u001b[39m(loc)\n",
      "\u001b[1;31mNameError\u001b[0m: name 'par' is not defined"
     ]
    }
   ],
   "source": [
    "def outer(par):\n",
    "    loc = par\n",
    "\n",
    "\n",
    "var = 1\n",
    "outer(var)\n",
    "\n",
    "print(par)\n",
    "print(loc)\n"
   ]
  },
  {
   "cell_type": "markdown",
   "metadata": {},
   "source": [
    "El error obtenido al correr el codigo se debe a que ninguno de los dos argumentos ``par`` ni ``loc`` existen fuera de la funcion, ni tampoco se devuelven por parte de la funcion, solo existen mientras ``outer()`` esta siendo ejecutada. Ahora observa el siguiente codigo, se han aplicado algunos cambios:"
   ]
  },
  {
   "cell_type": "code",
   "execution_count": 14,
   "metadata": {},
   "outputs": [
    {
     "name": "stdout",
     "output_type": "stream",
     "text": [
      "1\n"
     ]
    }
   ],
   "source": [
    "def outer(par):\n",
    "    loc = par\n",
    "\n",
    "    def inner():\n",
    "        return loc\n",
    "    return inner\n",
    "\n",
    "\n",
    "var = 1\n",
    "fun = outer(var)\n",
    "print(fun())\n",
    "    "
   ]
  },
  {
   "cell_type": "markdown",
   "metadata": {},
   "source": [
    "Como puedes observar, la funcion ``outer()`` contiene una funcion llamada ``inner()`` la cual devuelve el valor de ``loc`` a pesar de que la funcion ``outer()`` ya ha sido ejecutada, se podria decir que ``fun`` contiene la invocacion de ``inner`` (la cual no recibe parametros) y esta a su vez contiene el ultimo valor de ``loc``.\n",
    "\n",
    "Ahora observa el siguiente codigo, es posible invocar un cierre que recibe parametros:"
   ]
  },
  {
   "cell_type": "code",
   "execution_count": 15,
   "metadata": {},
   "outputs": [
    {
     "name": "stdout",
     "output_type": "stream",
     "text": [
      "0 0 0\n",
      "1 1 1\n",
      "2 4 8\n",
      "3 9 27\n",
      "4 16 64\n"
     ]
    }
   ],
   "source": [
    "def make_closure(par):\n",
    "    loc = par\n",
    "\n",
    "    def power(p):\n",
    "        return p ** loc\n",
    "    return power\n",
    "\n",
    "\n",
    "fsqr = make_closure(2)\n",
    "fcub = make_closure(3)\n",
    "\n",
    "for i in range(5):\n",
    "    print(i, fsqr(i), fcub(i))\n",
    "    "
   ]
  },
  {
   "cell_type": "markdown",
   "metadata": {},
   "source": [
    "Se nota que en este caso las variables ``fsqr`` y ``fcub`` reciben distintas instancias de la funcion ``power(p)`` en la cual se retornara el valor del argumento ``p`` elevado al valor del argumento pasado al momento de invocar la funcion ``make_clousure()``(2 y 3 respectivamente en cada caso). Es por esto, que al momento de usar el iterador ``for`` vemos como las variables ``fsqr`` y ``fcub`` aplicaran a los valores de ``i`` las potencias de los valores que recibieron anteriormente."
   ]
  },
  {
   "cell_type": "markdown",
   "metadata": {},
   "source": [
    "## Archivos\n",
    "\n",
    "Cualquier problema de programacion no simple involucra el uso de archivos, dado que es complicado imaginar un digitador que ingrese grandes volumenes de datos sin equivocarse. La forma en que Python accede y procesa los archivos se implementa utilizando un conjunto consistente de objetos.\n",
    "\n",
    "### Nombre de archivos\n",
    "\n",
    "Una de las principales diferencias al momento de escribir el nombre de archivos se debe al mismo sistema operativo que estemos empleando: Linux o Windows. \n",
    "\n",
    "Oberserva el siguiente ejemplo:\n",
    "\n",
    "name = \"/dir/file\"\n",
    "\n",
    "name = \"\\dir\\file\"\n",
    "\n",
    "Python entendera la primer linea sin problema, pero con la segunda tendremos un mensaje de error, esto debido a que el caracter ``\\`` es usada como comando de escape. Una manera de solucionar dicho problema es el siguiente ``\\\\``. Tambien podemos implementar la siguiente solucion, siendo mas general:\n",
    "\n",
    "name = \"/dir/file\"\n",
    "\n",
    "name = \"c:/dir/file\"\n",
    "\n",
    "Cualquier programa escrito en Python (y no solo en Python, porque esa convención se aplica a prácticamente todos los lenguajes de programación) no se comunica con los archivos directamente, sino a través de algunas entidades abstractas que se nombran de manera diferente en los distintos lenguajes o entornos, los términos más utilizados son *__handles o manejadores__* (un tipo de puntero inteligente) o *__streams o flujos__* (una especie de canal), los usaremos como sinónimos aquí.\n",
    "\n",
    "El programador tiene un conjunto de funciones y metodos que puede aplicar sobre el flujo o stream, cualquier alteracion que realice el usuario sobre el stream se vera reflejado en los archivos reales mediante mecanismos contenidos en el sistema operativo. De esta forma, se pueden implementar procesos de acceso a cualquier archivo desde antes de conocer el nombre del mismo archivo.\n",
    "\n",
    "Para conectar o vincular un stream con el archivo, es necesario realizar una operacion explicita. La primera operacion a realizar es siempre __open (abrir)__ y la ultima es __close (cerrar)__. El programa sera capaz de manejar el stream entre estos dos eventos y por ende manejar el archivo asociado.\n",
    "\n",
    "La apertura de un stream puede fallar, hay varias razones, la mas comun es la falta de un archivo con el nombre especificado. Tambien existe la posibilidad de que el programa no pueda abrirlo simplemente, o haya abierto tantos streams que el mismo sistema operativo no permita la apertura simultanea de más de n streams.\n",
    "\n",
    "*Un programa bien escrito debe detectar aperturas fallidas y reaccionar en consecuencia.\n",
    "\n",
    "### Flujos de archivos (streams)\n",
    "\n",
    "La apertura del stream no solo esta asociada con el archivo, sino tambien la manera en que se procesara el stream. Esto es llamado __open mode__. Si la apertura es exitosa, solo se podran realizar operaciones correspondientes al modo de apertura declarado.\n",
    "\n",
    "Hay dos operaciones basicas que se pueden realizar a un stream:\n",
    "\n",
    "- __Lectura:__ Se recuperan los datos del archivo y se colocan en un area de memoria administrada por el programa.\n",
    "- __Escritura:__ Las porciones de los datos de la memoria se transfieren al archivo.\n",
    "\n",
    "Existen tres modos basicos utilizados para abrir un estream:\n",
    "\n",
    "- __Modo Lectura:__ un stream abierto en este modo permite solo operaciones de lectura; intentar escribir en la transmisión provocará una excepción (la excepción se llama UnsupportedOperation, la cual hereda el OSError y el ValueError, y proviene del módulo io).\n",
    "- __Modo Escritura__: un stream abierto en este modo permite solo operaciones de escritura; intentar leer el stream provocará la excepción mencionada anteriormente.\n",
    "- __Modo Actualizar__: un stream abierto en este modo permite tanto lectura como escritura.\n",
    "\n",
    "Un stream se comporta casi como una grabadora. Cuando lees algo de un stream, un cabezal virtual se mueve sobre la transmisión de acuerdo con el número de bytes transferidos desde el stream. Cuando escribes algo en el stream el mismo cabezal se mueve a lo largo del stream registrando los datos de la memoria.\n",
    "\n",
    "Los libros de programación se refieren a este mecanismo como la posición actual del archivo, aquí también usaremos este término.\n",
    "\n",
    "### Abriendo los flujos o streams\n",
    "\n",
    "La forma se crear un objeto stream es sencilla, observa:"
   ]
  },
  {
   "cell_type": "code",
   "execution_count": null,
   "metadata": {},
   "outputs": [],
   "source": [
    "stream = open('file', 'OpenTextMode', 'encoding')"
   ]
  },
  {
   "cell_type": "markdown",
   "metadata": {},
   "source": [
    "Como ves, al invocar la funcion open esta devolverla un objeto de tipo stream al archivo especificado,  devolverla la excepcion ``FileNotFoundError`` si el archivo que vas a leer no existe. Hay tres campos principales que debemos conocer:\n",
    "\n",
    "- File: es el nombre del archivo que queremos abrir.\n",
    "- OpenTextMode: se refiere al tipo de apertura el cual se aplicara al stream. Profundizaremos en esto luego. En caso de no espeificarlo, se abrira en modo lectura por defecto.\n",
    "- encoding: especifica el tipo de codificación (por ejemplo, UTF-8 cuando se trabaja con archivos de texto). Si no se especifica, el valor por defecto dependera del equipo.\n",
    "\n",
    "#### Modos de abrir flujos o streams\n",
    "\n",
    "``r`` modo de apertura: lectura\n",
    "\n",
    "- El stream será abierto en modo lectura.\n",
    "- El archivo asociado con el stream debe existir y tiene que ser legible, de lo contrario la función open() generará una excepción.\n",
    "\n",
    "``w`` modo de apertura: escritura\n",
    "\n",
    "- El stream será abierto en modo escritura.\n",
    "- El archivo asociado con el stream no necesita existir. Si no existe, se creará; si existe, se truncará a la longitud de cero (se borra); si la creación no es posible (por ejemplo, debido a permisos del sistema) la función open() generará una excepción.\n",
    "\n",
    "``a`` modo de apertura: adjuntar\n",
    "\n",
    "- La transmisión se abrirá en modo de adición;\n",
    "- El archivo asociado con el stream no necesita existir; si no existe, se creará; si existe, el cabezal de grabación virtual se establecerá al final del archivo (el contenido anterior del archivo permanece intacto).\n",
    "\n",
    "``r+`` modo de apertura: lectura y actualización\n",
    "\n",
    "- El stream será abierto en modo lectura y actualización.\n",
    "- El archivo asociado con el stream debe existir y tiene que permitir escritura, de lo contrario la función open() generará una excepción.\n",
    "- Se permiten operaciones de lectura y escritura en el stream.\n",
    "\n",
    "``w+`` modo de apertura: escritura y actualización\n",
    "\n",
    "- El stream será abierto en modo escritura y actualización.\n",
    "- El archivo asociado con el stream no necesita existir; si no existe, se creará; el contenido anterior del archivo permanece intacto.\n",
    "- Se permiten operaciones de lectura y escritura en el stream.\n",
    "\n",
    "### Seleccion de los modos de texto y binario\n",
    "\n",
    "Si hay una letra __b__ al final del modo de apertura significa que el archivo se abrira en modo binario, por el contrario, sino se especifica la letra __b__ o se pone una letra __t__, el archivo se abre en modo texto, el cual es el modo por defecto.\n",
    "\n",
    "Finalmente, la apertura exitosa del archivo establecerá la posición actual del archivo (el cabezal virtual de lectura/escritura) antes del primer byte del archivo si el modo no es ``a`` y después del último byte del archivo si el modo es ``a``.\n",
    "\n",
    "También puedes abrir un archivo para su creación exclusiva. Puedes hacer esto usando el modo de apertura x. Si el archivo ya existe, la función open() generará una excepción.\n",
    "\n",
    "### Abriendo el flujo (streams) por primera vez\n",
    "\n",
    "Observa el siguiente ejemplo:"
   ]
  },
  {
   "cell_type": "code",
   "execution_count": 2,
   "metadata": {},
   "outputs": [],
   "source": [
    "try:\n",
    "    stream = open('C:\\\\Users\\\\andre\\\\Desktop\\\\Nueva carpeta\\\\archvivo.txt', 'at')\n",
    "    stream.close()\n",
    "except:\n",
    "    print('No se pudo abrir')"
   ]
  },
  {
   "cell_type": "markdown",
   "metadata": {},
   "source": [
    "El codigo funciona a la perfeccion!!\n",
    "\n",
    "### Flujos o streams preabiertos\n",
    "\n",
    "Como dijimos anteriormente, toda operacion con streams debe estar precedida por un ``open()``, sin embargo, hay tres excepciones muy claras. \n",
    "Cuando comienza nuestro programa, hay tres streams preabiertos, los cuales puedes usar si previamente importas el modulo ``sys``, porque ahi es donde se coloca la declaracion de estos streams, estos tres streams son:\n",
    "- sys.stdin\n",
    "- sys.stdout\n",
    "- sys.stderr\n",
    "\n",
    "Analicemoslos:\n",
    "\n",
    "- sys.stdin\n",
    "    - stdin (significa entrada estándar).\n",
    "    - El stream stdin normalmente se asocia con el teclado, se abre previamente para la lectura y se considera como la fuente de datos principal para los programas en ejecución.\n",
    "    - La función bien conocida input() lee datos de stdin por default.\n",
    "\n",
    "- sys.stdout\n",
    "    - stdout (significa salida estándar)\n",
    "    - El stream stdout normalmente está asociado con la pantalla, preabierta para escritura, considerada como el objetivo principal para la salida de datos por el programa en ejecución.\n",
    "    - La función bien conocida print() envía los datos al stream stdout.\n",
    "\n",
    "- sys.stderr\n",
    "    - stderr (significa salida de error estándar)\n",
    "    - El stream stderr normalmente está asociado con la pantalla, preabierta para escribir, considerada como el lugar principal donde el programa en ejecución debe enviar información sobre los errores encontrados durante su trabajo.\n",
    "    - No hemos presentado ningún método para enviar datos a este stream (lo haremos pronto, lo prometemos).\n",
    "    - La separación de stdout (resultados útiles producidos por el programa) de stderr (mensajes de error, indudablemente útiles pero no proporcionan resultados) ofrece la posibilidad de redirigir estos dos tipos de información a los diferentes objetivos. Una discusión más extensa sobre este tema está más allá del alcance de nuestro curso. El manual del sistema operativo proporcionará más información sobre estos temas.\n",
    "\n",
    "### Cerrando los flujos (streams)\n",
    "\n",
    "Todoa accion con streams deben terminarse en cerrarlos, la funcion tiene las siguientes caracteristicas:\n",
    "\n",
    "- No espera argumentos, no son necesarios.\n",
    "- La funcion no devuelve nada, pero en caso de salir algo mal genera la excepcion ``IOError``.\n",
    "- La mayoria de los desarrolladores creen que la funcion ``close()`` siempre se ejecuta con exito, y por lo tanto, no debe comprobase su ejecucion. Sin ambargo, dado que los streams depende de los tiempos de transferencias de datos a los archivos fisicos, es posible que en algun momento que la transferencia de datos falle dado que la operacion obliga a descargar los bufers o cache, y es por esto que al fallar la transferencia tambien falle el ``close()``\n",
    "\n",
    "La posibilidad de hacer un diagnóstico existe y es proporcionada por uno de los componentes de excepción de los streams. Hablaremos acerca de ellos a continuación.\n",
    "\n",
    "### Diagnosticando problemas con los flujos (streams)\n",
    "\n",
    "El objeto IOError está equipado con una propiedad llamada ``errno`` (el nombre viene de la frase error number, número de error) y puedes accederla de la siguiente manera:"
   ]
  },
  {
   "cell_type": "code",
   "execution_count": null,
   "metadata": {},
   "outputs": [],
   "source": [
    "try:\n",
    "    # Algunas operaciones con streams.\n",
    "except IOError as exc:\n",
    "    print(exc.errno)"
   ]
  },
  {
   "cell_type": "markdown",
   "metadata": {},
   "source": [
    "El valor del atributo ``errno`` se puede comparar con una de las constantes simbólicas predefinidas en módulo ``errno``.\n",
    "\n",
    "Echemos un vistazo a algunas constantes seleccionadas útiles para detectar errores en los streams:\n",
    "\n",
    "- errno.EACCES → Permiso denegado\n",
    "\n",
    "    El error se produce cuando intentas, por ejemplo, abrir un archivo con atributos de solo lectura para escritura.\n",
    "\n",
    "- errno.EBADF → Número de archivo incorrecto\n",
    "\n",
    "    El error se produce cuando intentas, por ejemplo, operar un stream sin abrirlo.\n",
    "\n",
    "- errno.EEXIST → Archivo existente\n",
    "\n",
    "    El error se produce cuando intentas, por ejemplo, cambiar el nombre de un archivo con su nombre anterior.\n",
    "\n",
    "- errno.EFBIG → Archivo demasiado grande\n",
    "\n",
    "    El error ocurre cuando intentas crear un archivo que es más grande que el máximo permitido por el sistema operativo.\n",
    "\n",
    "- errno.EISDIR → Es un directorio\n",
    "\n",
    "    El error se produce cuando intentas tratar un nombre de directorio como el nombre de un archivo ordinario.\n",
    "\n",
    "- errno.EMFILE → Demasiados archivos abiertos\n",
    "\n",
    "    El error se produce cuando intentas abrir simultáneamente más streams de los aceptables para el sistema operativo.\n",
    "\n",
    "- errno.ENOENT → El archivo o directorio no existe\n",
    "\n",
    "    El error se produce cuando intentas acceder a un archivo o directorio inexistente.\n",
    "\n",
    "- errno.ENOSPC → No queda espacio en el dispositivo\n",
    "\n",
    "    El error ocurre cuando no hay espacio libre en el dispositivo.\n",
    "\n",
    "La lista completa es mucho más larga (incluye también algunos códigos de error no relacionados con el procesamiento del los streams).\n",
    "\n",
    "Si eres un programador muy cuidadoso, puedes sentir la necesidad de usar una secuencia de sentencias similar a la siguiente:"
   ]
  },
  {
   "cell_type": "code",
   "execution_count": 1,
   "metadata": {},
   "outputs": [
    {
     "name": "stdout",
     "output_type": "stream",
     "text": [
      "El archivo no existe.\n"
     ]
    }
   ],
   "source": [
    "import errno\n",
    "\n",
    "try:\n",
    "    s = open(\"c:/users/user/Desktop/file.txt\", \"rt\")\n",
    "    # El procesamiento va aquí.\n",
    "    s.close()\n",
    "except Exception as exc:\n",
    "    if exc.errno == errno.ENOENT:\n",
    "        print(\"El archivo no existe.\")\n",
    "    elif exc.errno == errno.EMFILE:\n",
    "        print(\"Demasiados archivos abiertos.\")\n",
    "    else:\n",
    "        print(\"El numero del error es:\", exc.errno)"
   ]
  },
  {
   "cell_type": "markdown",
   "metadata": {},
   "source": [
    "Afortunadamente, existe una función que puede simplificar el código de manejo de errores. Su nombre es ``strerror()``, y proviene del módulo os y espera solo un argumento: un número de error.\n",
    "\n",
    "Su función es simple: proporciona un número de error y una cadena que describe el significado del error, si pasas un código de error inexistente (un número que no está vinculado a ningún error real), la función generará una excepción ValueError.\n",
    "\n",
    "Ahora podemos simplificar nuestro código de la siguiente manera:"
   ]
  },
  {
   "cell_type": "code",
   "execution_count": 3,
   "metadata": {},
   "outputs": [
    {
     "name": "stdout",
     "output_type": "stream",
     "text": [
      "El archivo no pudo ser abierto: No such file or directory\n"
     ]
    }
   ],
   "source": [
    "from os import strerror\n",
    "\n",
    "try:\n",
    "    s = open(\"c:/users/user/Desktop/file.txt\", \"rt\")\n",
    "    # El procesamiento va aquí.\n",
    "    s.close()\n",
    "except Exception as exc:\n",
    "    print(\"El archivo no pudo ser abierto:\", strerror(exc.errno))\n",
    "    "
   ]
  },
  {
   "cell_type": "markdown",
   "metadata": {},
   "source": [
    "## Trabajando con archivos reales\n",
    "\n",
    "### Procesamiento de archivos de texto \n",
    "\n",
    "En esta seccion aprenderemos a manejar archivos, en este caso aprenderemos a copiar el contenido de un archivo, mostrarlo en la consola y contar la cantidad de caracteres que el programa ha leido.\n",
    "\n",
    "Debemos tener en cuenta el tipo de codificacion de texto que estamos empleando. Es por esto que dependiendo nuestras caracteristicas será necesario emplear su tipo de codificacion. Para especificar el tipo de codificacion a usar en la funcion ``open()`` deberemos especificar un argumento adicional que se verá de la siguiente manera:\n",
    "\n",
    "``stream = open('file.txt', 'rt', encoding='utf-8')``\n",
    "\n",
    "La manera de lectura del archivo se puede realizar de diferentes maneras, algunas veces algunas seran mas practicas y eficaces que otras, no debemos tener miedo de usar distintas maneras de lectura.\n",
    "\n",
    "El más basico de estos metodos es el que ofrece la funcion ``read()``, la cual puede hacer las siguientes tareas:\n",
    "\n",
    "- Lee un numero determinado de caracteres y devuelve una cadena.\n",
    "- Leer todo el contenido del archivo y devolver una cadena.\n",
    "- Si no hay más que leer, la funcion deovlverá una cadena vacia.\n",
    "\n",
    "Comenzemos con el siguiente ejemplo:"
   ]
  },
  {
   "cell_type": "code",
   "execution_count": 15,
   "metadata": {},
   "outputs": [
    {
     "name": "stdout",
     "output_type": "stream",
     "text": [
      "Lo hermoso es mejor que lo feo.\n",
      "Explícito es mejor que implícito.\n",
      "Simple es mejor que complejo.\n",
      "Complejo es mejor que complicado.\n",
      "\n",
      "Caracteres en el archivo: 129\n"
     ]
    }
   ],
   "source": [
    "from os import strerror\n",
    "\n",
    "try:\n",
    "    counter = 0\n",
    "    stream = open('C:/Users/andre/Desktop/GitHub/Python/EjerciciosCursoCisco/EjerciciosManejoArchivos/text1.txt', 'rt', encoding = 'utf-8')\n",
    "    char = stream.read(1)\n",
    "    while char != '':\n",
    "        print(char, end = '')\n",
    "        counter += 1\n",
    "        char = stream.read(1)\n",
    "    stream.close()\n",
    "    print('\\n\\nCaracteres en el archivo:', counter)\n",
    "\n",
    "except IOError as e:\n",
    "    print(\"Se produjo un error de E/S: \", strerror(e.errno))"
   ]
  },
  {
   "cell_type": "markdown",
   "metadata": {},
   "source": [
    "### ``readline()``\n",
    "\n",
    "Este metodo intenta leer una linea completa del archivo, eln caso de exito devuelve una cadena con el texto, de lo contrario devuelve una cadena vacia. Ahora tambien podemos contar lineas con este metodo!"
   ]
  },
  {
   "cell_type": "code",
   "execution_count": 2,
   "metadata": {},
   "outputs": [
    {
     "name": "stdout",
     "output_type": "stream",
     "text": [
      "Lo hermoso es mejor que lo feo.\n",
      "Explícito es mejor que implícito.\n",
      "Simple es mejor que complejo.\n",
      "Complejo es mejor que complicado.\n",
      "\n",
      "Caracteres en el archivo: 129\n",
      "Lineas en el archivo: 4\n"
     ]
    }
   ],
   "source": [
    "from os import strerror\n",
    "\n",
    "try:\n",
    "    line_counter = 0\n",
    "    char_counter = 0\n",
    "    stream = open('C:/Users/andre/Desktop/GitHub/Python/EjerciciosCursoCisco/EjerciciosManejoArchivos/text1.txt', 'rt', encoding = 'utf-8')\n",
    "    line = stream.readline()\n",
    "    while line != '':\n",
    "        line_counter += 1\n",
    "        for char in line:\n",
    "            char_counter += 1\n",
    "            print(char, end = '')\n",
    "        line = stream.readline()\n",
    "    stream.close()\n",
    "    print('\\n\\nCaracteres en el archivo:', char_counter)\n",
    "    print('Lineas en el archivo:', line_counter)\n",
    "\n",
    "except IOError as e:\n",
    "    print(f'Se prodijo el error {strerror(e.errno)}')\n"
   ]
  },
  {
   "cell_type": "markdown",
   "metadata": {},
   "source": [
    "### __``readlines()``__\n",
    "\n",
    "Este metodo intenta leer todo el contenido del archivo y devuelve una lista donde cada elemento es un conjunto de caracteres que representa cada una de las lineas. CUIDADO: debes estar seguro que el tamaño del archivo es leible por el sistema operativo y no excede los limites.\n",
    "\n",
    "Si no estás seguro de si el tamaño del archivo es lo suficientemente pequeño y no deseas probar el sistema operativo, puedes convencer al método readlines() de leer no más de un número especificado de bytes a la vez (el valor de retorno sigue siendo el mismo, es una lista de una cadena)\n",
    "\n",
    "Nota: cuando no hay nada que leer del archivo, el método devuelve una lista vacía. Úsalo para detectar el final del archivo."
   ]
  },
  {
   "cell_type": "code",
   "execution_count": 3,
   "metadata": {},
   "outputs": [
    {
     "name": "stdout",
     "output_type": "stream",
     "text": [
      "Lo hermoso es mejor que lo feo.\n",
      "Explícito es mejor que implícito.\n",
      "Simple es mejor que complejo.\n",
      "Complejo es mejor que complicado.\n",
      "\n",
      "Caracteres en el archivo: 129\n",
      "Líneas en archivo:      4\n"
     ]
    }
   ],
   "source": [
    "from os import strerror\n",
    "\n",
    "try:\n",
    "    ccnt = lcnt = 0\n",
    "    s = open('C:/Users/andre/Desktop/GitHub/Python/EjerciciosCursoCisco/EjerciciosManejoArchivos/text1.txt', 'rt', encoding = 'utf-8')\n",
    "    lines = s.readlines(20)\n",
    "    while len(lines) != 0:\n",
    "        for line in lines:\n",
    "            lcnt += 1\n",
    "            for ch in line:\n",
    "                print(ch, end='')\n",
    "                ccnt += 1\n",
    "        lines = s.readlines(10)\n",
    "    s.close()\n",
    "    print(\"\\n\\nCaracteres en el archivo:\", ccnt)\n",
    "    print(\"Líneas en archivo:     \", lcnt)\n",
    "except IOError as e:\n",
    "    print(\"Se produjo un error de E/S:\", strerror(e.errno))\n",
    "    "
   ]
  },
  {
   "cell_type": "markdown",
   "metadata": {},
   "source": [
    "El último ejemplo que queremos presentar muestra un rasgo muy interesante del objeto devuelto por la función ``open()`` en modo de texto: el objeto es una instancia de la clase iterable.\n",
    "\n",
    "¿Extraño? De ninguna manera. ¿Usable? Si, por supuesto. El protocolo de iteración definido para el objeto del archivo es muy simple: su método ``__next__`` solo devuelve la siguiente línea leída del archivo.\n",
    "\n",
    "Además, puedes esperar que el objeto invoque automáticamente a ``close()`` cuando cualquiera de las lecturas del archivo lleguen al final del archivo.\n",
    "\n",
    "Mira el editor y ve cuan simple y claro se ha vuelto el código."
   ]
  },
  {
   "cell_type": "code",
   "execution_count": 5,
   "metadata": {},
   "outputs": [
    {
     "name": "stdout",
     "output_type": "stream",
     "text": [
      "Lo hermoso es mejor que lo feo.\n",
      "Explícito es mejor que implícito.\n",
      "Simple es mejor que complejo.\n",
      "Complejo es mejor que complicado.\n",
      "\n",
      "Caracteres en el archivo: 129\n",
      "Líneas en el archivo:      4\n"
     ]
    }
   ],
   "source": [
    "from os import strerror\n",
    "\n",
    "try:\n",
    "\tccnt = lcnt = 0\n",
    "\tfor line in open('C:/Users/andre/Desktop/GitHub/Python/EjerciciosCursoCisco/EjerciciosManejoArchivos/text1.txt',\n",
    "\t\t\t\t'rt', \n",
    "\t\t\t\tencoding = 'utf-8'): #como dijimos, el objeto devuelto por open() es un iterable de linea a linea en el archivo\n",
    "\t\tlcnt += 1\n",
    "\t\tfor ch in line:\n",
    "\t\t\tprint(ch, end='')\n",
    "\t\t\tccnt += 1\n",
    "#Fijate que nunca se invoca a close(), el propio iterable cierra el archivo cuando no hay mas que iterar.\n",
    "\tprint(\"\\n\\nCaracteres en el archivo:\", ccnt)\n",
    "\tprint(\"Líneas en el archivo:     \", lcnt)\n",
    "except IOError as e:\n",
    "\tprint(\"Se produjo un error de E/S: \", strerror(e.errno))\n",
    "    "
   ]
  },
  {
   "cell_type": "markdown",
   "metadata": {},
   "source": [
    "### Manejo de archivos de texto: ``write()``\n",
    "\n",
    "El metodo ``write()`` nos permite agregar texto a un archivo abierto, el metodo solo recibe un parametro que es el texto el cual va a ingresar al archivo. Se debe tener en cuenta que el propio archivo debe abrirse en modo escritura para poder se escrito, un archivo abierto en modo lectura arrojara un error al momento de aplicar el metodo. \n",
    "\n",
    "Adicionalmente, el metodo no agrega saltos de linea al archivo, por lo tanto debes agregarlos tu mismo."
   ]
  },
  {
   "cell_type": "code",
   "execution_count": 5,
   "metadata": {},
   "outputs": [],
   "source": [
    "from os import strerror\n",
    "\n",
    "try:\n",
    "    stream = open('EjerciciosCursoCisco/EjerciciosManejoArchivos/newtext.txt', 'w', encoding = 'utf-8')\n",
    "    stream.write(10*'Hola\\n')\n",
    "    stream.close()\n",
    "except IOError as e:\n",
    "    print(f'Se produjo el error: {strerror(e)}')\n"
   ]
  },
  {
   "cell_type": "markdown",
   "metadata": {},
   "source": [
    "Con el metodo write tambien puedes agregar un mensaje de error a ``stderr`` de la siguiente manera:\n",
    "\n",
    "import sys\n",
    "\n",
    "sys.stderr.write(\"Mensaje de Error\""
   ]
  },
  {
   "cell_type": "markdown",
   "metadata": {},
   "source": [
    "### Que es un bytearray?\n",
    "\n",
    "Existen unas clases especializadas en almacenar datos amorfos, los datos amorfos son aquellos que no tienen una forma especifica, son una serie de bytes.\n",
    "\n",
    "Esto no significa que estos bytes no puedan tener su propio significado o que no puedan representar ningún objeto útil, por ejemplo, gráficos de mapa de bits.\n",
    "\n",
    "Los datos amorfos no pueden almacenarse utilizando ninguno de los medios presentados anteriormente: no son cadenas ni listas.\n",
    "\n",
    "Python tiene una serie de contenedores especializados para almacenar estos datos, uno de ellos es una clase especializada llamada ``bytearray``, como su nombre indica, es un arreglo que contiene bytes (amorfos).\n",
    "\n",
    "Si deseas tener uno de estos contenedores, debes crearlo explicitamente:"
   ]
  },
  {
   "cell_type": "code",
   "execution_count": null,
   "metadata": {},
   "outputs": [],
   "source": [
    "data = bytearray(10)"
   ]
  },
  {
   "cell_type": "markdown",
   "metadata": {},
   "source": [
    "El anterior codigo creara un contenedor que puede almacenar hasta 10 bytes, por defecto creara uno lleno de ceros. Debes tener en cuenta que estos contenedores funcionan similar a una lista, pudiendo acceder a cada espacio de este por indexacion, aplicar la funcion ``len()`` y son mutables.\n",
    "\n",
    "Existe una limitación importante: no debes establecer ningún elemento del arreglo de bytes con un valor que no sea un entero (violar esta regla causará una excepción ``TypeError``) y tampoco está permitido asignar un valor fuera del rango de 0 a 255 (a menos que quieras provocar una excepción ``ValueError``).\n",
    "\n",
    "Puedes tratar cualquier elemento del arreglo de bytes como un valor entero, al igual que en el ejemplo en el editor."
   ]
  },
  {
   "cell_type": "code",
   "execution_count": 8,
   "metadata": {},
   "outputs": [
    {
     "name": "stdout",
     "output_type": "stream",
     "text": [
      "0xa\n",
      "0x9\n",
      "0x8\n",
      "0x7\n",
      "0x6\n",
      "0x5\n",
      "0x4\n",
      "0x3\n",
      "0x2\n",
      "0x1\n"
     ]
    }
   ],
   "source": [
    "data = bytearray(10)\n",
    "\n",
    "for i in range(len(data)):\n",
    "    data[i] = 10 - i\n",
    "\n",
    "for b in data:\n",
    "    print(hex(b))"
   ]
  },
  {
   "cell_type": "markdown",
   "metadata": {},
   "source": [
    "Ahora te vamos a mostrar como escribir un arreglo de bytes en un archivo binario, como no queremos guardar su representación legible, queremos escribir una copia uno a uno del contenido de la memoria física, byte a byte.\n",
    "\n",
    "Entonces, ¿cómo escribimos un arreglo de bytes en un archivo binario?"
   ]
  },
  {
   "cell_type": "code",
   "execution_count": 9,
   "metadata": {},
   "outputs": [],
   "source": [
    "from os import strerror\n",
    "\n",
    "data = bytearray(10)\n",
    "\n",
    "for i in range(len(data)):\n",
    "    data[i] = 10 + i\n",
    "\n",
    "try:\n",
    "    bf = open('EjerciciosCursoCisco/EjerciciosManejoArchivos/file.bin', 'wb')\n",
    "    bf.write(data)\n",
    "    bf.close()\n",
    "except IOError as e:\n",
    "    print(\"Se produjo un error de E/S:\", strerror(e.errno))"
   ]
  },
  {
   "cell_type": "markdown",
   "metadata": {},
   "source": [
    "Analicémoslo:\n",
    "\n",
    "- Primero, inicializamos ``bytearray`` con valores a partir de 10; si deseas que el contenido del archivo sea claramente legible, reemplaza el 10con algo como ord('a'), esto producirá bytes que contienen valores correspondientes a la parte alfabética del código ASCII (no pienses que harás que el archivo sea un archivo de texto; sigue siendo binario, ya que se creó con un indicador: wb).\n",
    "- Después, creamos el archivo usando la función ``open()``, la única diferencia en comparación con las variantes anteriores es que el modo de apertura contiene el indicador b.\n",
    "- El método ``write()`` toma su argumento (bytearray) y lo envía (como un todo) al archivo.\n",
    "- El stream se cierra de forma rutinaria.\n",
    "\n",
    "El método ``write()`` devuelve la cantidad de bytes escritos correctamente.\n",
    "\n",
    "Si los valores difieren de la longitud de los argumentos del método, puede significar que hay algunos errores de escritura.\n",
    "\n",
    "En este caso, no hemos utilizado el resultado; esto puede no ser apropiado en todos los casos.\n",
    "\n",
    "Intenta ejecutar el código y analiza el contenido del archivo recién creado."
   ]
  },
  {
   "cell_type": "markdown",
   "metadata": {},
   "source": [
    "### Como leer bytes de un flujo(stream)\n",
    "\n",
    "La lectura de archivos binarios requiere del metodo ``readinto()`` ya que el metodo no crea un nuevo arreglo de bytes sino que llena uno creado previamente:\n",
    "\n",
    "- El metodo devuelve el numero de bytes leidos con exito.\n",
    "- Si en el argumento hay menos espacios que en el archivo a leer, el metodo se detendra antes de terminar el espacio disponible, el cual indica que se ha llenado el arreglo de manera fragmentaria."
   ]
  },
  {
   "cell_type": "code",
   "execution_count": 1,
   "metadata": {},
   "outputs": [
    {
     "name": "stdout",
     "output_type": "stream",
     "text": [
      "0xa 0xb 0xc 0xd 0xe 0xf 0x10 0x11 0x12 0x13 "
     ]
    }
   ],
   "source": [
    "from os import strerror\n",
    "\n",
    "data = bytearray(10)\n",
    "\n",
    "try:\n",
    "    binary_file = open('EjerciciosCursoCisco/EjerciciosManejoArchivos/file.bin', 'rb')\n",
    "    binary_file.readinto(data)\n",
    "    binary_file.close()\n",
    "\n",
    "    for b in data:\n",
    "        print(hex(b), end=' ')\n",
    "except IOError as e:\n",
    "    print(\"Se produjo un error de E/S:\", strerror(e.errno))"
   ]
  },
  {
   "cell_type": "markdown",
   "metadata": {},
   "source": [
    "Una forma alternativa de leer el contenido es el metodo ``read()``, el cual siendo invocado sin argumentos, trata de leer todo el contenido del archido en la memoria, haciendolo parte de un objeto recien creado de la clase ``bytes``.\n",
    "\n",
    "Esta clase es similar a ``bytearray`` con la excepcion de que es __inmutable__.\n",
    "\n",
    "Afortunadamente, no hay obstáculos para crear un arreglo de bytes tomando su valor inicial directamente del objeto de bytes, como aquí:"
   ]
  },
  {
   "cell_type": "code",
   "execution_count": 2,
   "metadata": {},
   "outputs": [
    {
     "name": "stdout",
     "output_type": "stream",
     "text": [
      "0xa 0xb 0xc 0xd 0xe 0xf 0x10 0x11 0x12 0x13 "
     ]
    }
   ],
   "source": [
    "from os import strerror\n",
    "\n",
    "try:\n",
    "    binary_file = open('EjerciciosCursoCisco/EjerciciosManejoArchivos/file.bin', 'rb')\n",
    "    data = bytearray(binary_file.read())\n",
    "    binary_file.close()\n",
    "\n",
    "    for b in data:\n",
    "        print(hex(b), end=' ')\n",
    "\n",
    "except IOError as e:\n",
    "    print(\"Se produjo un error de E/S:\", strerror(e.errno))\n",
    "    "
   ]
  },
  {
   "cell_type": "markdown",
   "metadata": {},
   "source": [
    "Debes ser cuidadoso de que el tamaño del archivo pueda ser almacenado dentro de la memoria!.\n",
    "\n",
    "Si el metodo ``read()`` recibe un argumento, intentara leer la cantidad de bytes especificados del archivo. La longitud del objeto devuelto puede usarse para determinar la cantidad  de bytes leidos realmente.\n",
    "\n",
    "Puedes usar el metodo como aqui:"
   ]
  },
  {
   "cell_type": "code",
   "execution_count": 3,
   "metadata": {},
   "outputs": [
    {
     "name": "stdout",
     "output_type": "stream",
     "text": [
      "0xa 0xb 0xc 0xd 0xe "
     ]
    }
   ],
   "source": [
    "from os import strerror\n",
    "\n",
    "try:\n",
    "    binary_file = open('EjerciciosCursoCisco/EjerciciosManejoArchivos/file.bin', 'rb')\n",
    "    data = bytearray(binary_file.read(5))\n",
    "    binary_file.close()\n",
    "\n",
    "    for b in data:\n",
    "        print(hex(b), end=' ')\n",
    "\n",
    "except IOError as e:\n",
    "    print(\"Se produjo un error de E/S:\", strerror(e.errno))\n",
    "    "
   ]
  },
  {
   "cell_type": "markdown",
   "metadata": {},
   "source": [
    "### Copiando archvios: una herramienta simple y funcional\n",
    "\n",
    "Ahora vas a juntar todo este nuevo conocimiento, agregarle algunos elementos nuevos y usarlo para escribir un código real que pueda copiar el contenido de un archivo."
   ]
  },
  {
   "cell_type": "code",
   "execution_count": 5,
   "metadata": {},
   "outputs": [
    {
     "name": "stdout",
     "output_type": "stream",
     "text": [
      "10 byte(s) escritos con éxito\n"
     ]
    }
   ],
   "source": [
    "from os import strerror\n",
    "\n",
    "srcname = input(\"Ingresa el nombre del archivo fuente: \")\n",
    "try:\n",
    "    src = open(srcname, 'rb')\n",
    "except IOError as e:\n",
    "    print(\"No se puede abrir archivo fuente: \", strerror(e.errno))\n",
    "    exit(e.errno)\t\n",
    "\n",
    "dstname = input(\"Ingresa el nombre del archivo destino: \")\n",
    "try:\n",
    "    dst = open(dstname, 'wb')\n",
    "except Exception as e:\n",
    "    print(\"No se puede crear el archivo de destino: \", strerror(e.errno))\n",
    "    src.close()\n",
    "    exit(e.errno)\t\n",
    "\n",
    "buffer = bytearray(65536)\n",
    "total  = 0\n",
    "try:\n",
    "    readin = src.readinto(buffer)\n",
    "    while readin > 0:\n",
    "        written = dst.write(buffer[:readin])\n",
    "        total += written\n",
    "        readin = src.readinto(buffer)\n",
    "except IOError as e:\n",
    "    print(\"No se puede crear el archivo de destino: \", strerror(e.errno))\n",
    "    exit(e.errno)\t\n",
    "    \n",
    "print(total,'byte(s) escritos con éxito')\n",
    "src.close()\n",
    "dst.close()\n",
    "    "
   ]
  },
  {
   "cell_type": "markdown",
   "metadata": {},
   "source": [
    "Analicémoslo:\n",
    "\n",
    "- Las líneas 3 a la 8: solicitan al usuario el nombre del archivo a copiar e intentan abrirlo para leerlo; se termina la ejecución del programa si falla la apertura; nota: emplea la función ``exit()`` para detener la ejecución del programa y pasar el código de finalización al sistema operativo; cualquier código de finalización que no sea 0 significa que el programa ha encontrado algunos problemas; se debe utilizar el valor ``errno`` para especificar la naturaleza del problema.\n",
    "- Las líneas 10 a la 16: repiten casi la misma acción, pero esta vez para el archivo de salida.\n",
    "- La línea 18: prepara una parte de memoria para transferir datos del archivo fuente al destino; tal área de transferencia a menudo se llama un búfer, de ahí el nombre de la variable; el tamaño del búfer es arbitrario; en este caso, decidimos usar 64 kilobytes; técnicamente, un búfer más grande es más rápido al copiar elementos, ya que un búfer más grande significa menos operaciones de E/S; en realidad, siempre hay un límite, cuyo cruce no genera más ventajas; pruébalo tú mismo si quieres.\n",
    "- Línea 19: cuenta los bytes copiados: este es el contador y su valor inicial.\n",
    "- Línea 21: intenta llenar el búfer por primera vez.\n",
    "- Línea 22: mientras se obtenga un número de bytes distinto a cero, repite las mismas acciones.\n",
    "- Línea 23: escribe el contenido del búfer en el archivo de salida (nota: hemos usado un segmento para limitar la cantidad de bytes que se escriben, ya que ``write()`` siempre prefiere escribir todo el búfer).\n",
    "- Línea 24: actualiza el contador.\n",
    "- Línea 25: lee el siguiente fragmento de archivo.\n",
    "- Las líneas 30 a la 32: limpieza final, el trabajo está hecho."
   ]
  },
  {
   "cell_type": "markdown",
   "metadata": {},
   "source": [
    "## El modulos os: interactuando con el sistema operativo\n",
    "\n",
    "Este modulo permite interactual con el sistema operativo mediante funciones, si conoces la consola de comandos, notaras que el modulo posee varias funciones que dan el mismo resultado que algunos comandos de la consola, como la funcion ``mkdir`` la cual permite crear un directorio. Además de las operaciones de archivos y directorios, el módulo os te permite:\n",
    "\n",
    "- Obtener información sobre el sistema operativo.\n",
    "- Manejar procesos.\n",
    "- Operar en streams de E/S usando descriptores de archivos.\n",
    "\n",
    "En un momento, verás cómo obtener información básica sobre tu sistema operativo, aunque la administración de procesos y el trabajo con descriptores de archivos no se discutirán aquí, porque estos son temas más avanzados que requieren conocimiento de los mecanismos del sistema operativo.\n",
    "\n",
    "### Obteniendo informacion sobre el sistema operativo\n",
    "\n",
    "Para obtener informacion sobre el sistema operativo, el modulo ``os`` posee la funcion llamada ``uname`` (solo en Unix/Linux, para windows seria el modulo ``platform`` el idicado para conocer las caracteristicas del sistema)la cual devuelve un objeto que contiene los siguientes atributos:\n",
    "\n",
    "- ``systemname``(Unix/Linux) o ``system``(Windows): almacena el nombre del sistema operativo.\n",
    "- ``nodename``(Unix/Linux) o ``node``(Windows): almacena el nombre de la maquina en la red.\n",
    "- ``release``: almacena el release o actualizacion del sistema operativo.\n",
    "- ``version``: almacena la version del sistema operativo.\n",
    "- ``machine``: almacena el identificador de hardware(x86 o x64).\n"
   ]
  },
  {
   "cell_type": "code",
   "execution_count": 15,
   "metadata": {},
   "outputs": [
    {
     "name": "stdout",
     "output_type": "stream",
     "text": [
      "Windows\n",
      "CompuAndres\n",
      "10\n",
      "10.0.22631\n",
      "AMD64\n"
     ]
    }
   ],
   "source": [
    "import platform\n",
    "\n",
    "car_machine = platform.uname()\n",
    "\n",
    "print(car_machine.system,\n",
    "    car_machine.node,\n",
    "    car_machine.release,\n",
    "    car_machine.version,\n",
    "    car_machine.machine,\n",
    "    sep='\\n')"
   ]
  },
  {
   "cell_type": "markdown",
   "metadata": {},
   "source": [
    "El módulo os te permite distinguir rápidamente el sistema operativo mediante el atributo name, que soporta uno de los siguientes nombres:\n",
    "\n",
    "- posix - obtendrás este nombre si usas Unix.\n",
    "- nt - obtendrás este nombre si usas Windows.\n",
    "- java - obtendrás este nombre si tu código está escrito en Jython."
   ]
  },
  {
   "cell_type": "code",
   "execution_count": 16,
   "metadata": {},
   "outputs": [
    {
     "name": "stdout",
     "output_type": "stream",
     "text": [
      "nt\n"
     ]
    }
   ],
   "source": [
    "import os\n",
    "\n",
    "print(os.name)"
   ]
  },
  {
   "cell_type": "markdown",
   "metadata": {},
   "source": [
    "### Creando directorios en Python\n",
    "\n",
    "La funcion ``mkdir`` del modulo ``os`` permite crear un direcotiro en una determianda ruta, recordemos:\n",
    "\n",
    "- my_first_directory - esta es una ruta relativa que creará el directorio my_first_directory en el directorio de trabajo actual.\n",
    "- ./my_first_directory - esta es una ruta relativa que apunta explícitamente al directorio de trabajo actual. Tiene el mismo efecto que la ruta anterior.\n",
    "- ../my_first_directory - esta es una ruta relativa que creará el directorio my_first_directory en el directorio superior del directorio de trabajo actual.\n",
    "- /python/my_first_directory - esta es una ruta absoluta que creará el directorio my_first_directory, que a su vez está en el directorio raíz de python.\n",
    "\n",
    "Observa el código en el editor. Muestra un ejemplo de cómo crear el directorio my_first_directory usando una ruta relativa. Esta es la variante más simple de la ruta relativa, que consiste en pasar solo el nombre del directorio.\n",
    "\n",
    "Si pruebas tu código aquí, generará el directorio recién creado [``my_first_directory``](y todo el contenido del catálogo de trabajo actual)."
   ]
  },
  {
   "cell_type": "code",
   "execution_count": 22,
   "metadata": {},
   "outputs": [
    {
     "data": {
      "text/plain": [
       "['.git',\n",
       " 'Curso Python.ipynb',\n",
       " 'Ejemplo de paquetes',\n",
       " 'EjerciciosCursoCisco',\n",
       " 'ModuloOS',\n",
       " 'Modulos',\n",
       " 'Proyecto_TicTacToe',\n",
       " 'README.md']"
      ]
     },
     "execution_count": 22,
     "metadata": {},
     "output_type": "execute_result"
    }
   ],
   "source": [
    "import os \n",
    "\n",
    "os.mkdir('ModuloOS')\n",
    "os.mkdir('ModuloOS/MiPrimerDirectorio')\n",
    "os.listdir()"
   ]
  },
  {
   "cell_type": "markdown",
   "metadata": {},
   "source": [
    "Ejecurtar el codigo dos veces generara el error ``FileExistsError``, no podemos crear un directorio que ya existe.\n",
    "\n",
    "Además del argumento de la ruta, la función ``mkdir`` puede tomar opcionalmente el argumento ``mode``, que especifica los permisos del directorio. Sin embargo, en algunos sistemas, el argumento ``mode`` se ignora.\n",
    "\n",
    "Para cambiar los permisos del directorio, recomendamos la función ``chmod``, que funciona de manera similar al comando ``chmod`` en sistemas Unix. Puedes encontrar más información al respecto en la documentación.\n",
    "\n",
    "En el ejemplo anterior, se usa otra función proporcionada por el módulo os llamada ``listdir``. La función ``listdir`` devuelve una lista que contiene los nombres de los archivos y directorios que se encuentran en la ruta pasada como argumento.\n",
    "\n",
    "Si no se le pasa ningún argumento, se utilizará el directorio de trabajo actual (como en el ejemplo anterior). Es importante que el resultado de la función ``listdir`` omita las entradas '.' y '..', que se muestran, por ejemplo, cuando se usa el comando ls -a en sistemas Unix."
   ]
  },
  {
   "cell_type": "markdown",
   "metadata": {},
   "source": [
    "### Creacion recursiva de directorios\n",
    "\n",
    "La funcion ``makedirs`` permite crear varias carpetas al mismo tiempo."
   ]
  },
  {
   "cell_type": "code",
   "execution_count": 24,
   "metadata": {},
   "outputs": [
    {
     "name": "stdout",
     "output_type": "stream",
     "text": [
      "['UsandoChdir']\n"
     ]
    }
   ],
   "source": [
    "import os\n",
    "\n",
    "os.makedirs('ModuloOS/UsandoMakedirs/UsandoChdir')\n",
    "os.chdir('ModuloOS/UsandoMakedirs')\n",
    "print(os.listdir())"
   ]
  },
  {
   "cell_type": "markdown",
   "metadata": {},
   "source": [
    "Para moverte entre directorios, puedes usar una función llamada ``chdir``, que cambia el directorio de trabajo actual a la ruta especificada. Como argumento, toma cualquier ruta relativa o absoluta. En nuestro ejemplo, le pasamos el nombre del primer directorio.\n",
    "\n",
    "### Donde estoy ahora?\n",
    "\n",
    "La funcion ``getcwd`` devuelve informacion sobre el directorio de trabajo actual:"
   ]
  },
  {
   "cell_type": "code",
   "execution_count": 29,
   "metadata": {},
   "outputs": [
    {
     "name": "stdout",
     "output_type": "stream",
     "text": [
      "c:\\Users\\andre\\Desktop\\GitHub\\Python\\ModuloOS\\UsandoMakedirs\n"
     ]
    }
   ],
   "source": [
    "import os\n",
    "\n",
    "print(os.getcwd())"
   ]
  },
  {
   "cell_type": "markdown",
   "metadata": {},
   "source": [
    "### Eliminando directorios en Python\n",
    "\n",
    "La funcion ``rmdir`` permite eliminar un directorio:"
   ]
  },
  {
   "cell_type": "code",
   "execution_count": null,
   "metadata": {},
   "outputs": [],
   "source": [
    "import os\n",
    "\n",
    "print(os.getcwd())\n",
    "os.rmdir('UsandoChdir')"
   ]
  },
  {
   "cell_type": "markdown",
   "metadata": {},
   "source": [
    "Para eliminar un directorio y sus sudirectorios, usa la funcion ``removedirs``."
   ]
  },
  {
   "cell_type": "code",
   "execution_count": 47,
   "metadata": {},
   "outputs": [
    {
     "name": "stdout",
     "output_type": "stream",
     "text": [
      "c:\\Users\\andre\\Desktop\\GitHub\\Python\n"
     ]
    }
   ],
   "source": [
    "import os\n",
    "\n",
    "print(os.getcwd())\n",
    "os.removedirs('ModuloOS/MiPrimerDirectorio')\n",
    "os.removedirs('ModuloOS/UsandoMakedirs')"
   ]
  },
  {
   "cell_type": "markdown",
   "metadata": {},
   "source": [
    "### La funcion ``system()``\n",
    "\n",
    "Todas las funciones presentadas en esta parte del curso pueden ser reemplazadas por una función llamada system, que ejecuta un comando que se le pasa como una cadena.\n",
    "\n",
    "La función ``system`` está disponible tanto en Windows como en Unix. Dependiendo del sistema, devuelve un resultado diferente.\n",
    "\n",
    "En Windows, devuelve el valor devuelto por el shell después de ejecutar el comando dado, mientras que en Unix, devuelve el estado de salida del proceso.\n",
    "\n",
    "Veamos el código en el editor y veamos cómo es en la práctica."
   ]
  },
  {
   "cell_type": "code",
   "execution_count": null,
   "metadata": {},
   "outputs": [],
   "source": [
    "import os\n",
    "\n",
    "returned_value = os.system(\"mkdir my_first_directory\")\n",
    "print(returned_value)"
   ]
  },
  {
   "cell_type": "markdown",
   "metadata": {},
   "source": [
    "Resultado:\n",
    "\n",
    "0\n",
    "\n",
    "El ejemplo anterior funcionará tanto en Windows como en Unix. En nuestro caso, recibimos el estado de salida 0, que indica éxito en los sistemas Unix.\n",
    "\n",
    "Esto significa que se ha creado el directorio my_first_directory. Como parte del Pregunta , intenta enumerar el contenido del directorio donde se creó el directorio my_first_directory."
   ]
  },
  {
   "cell_type": "markdown",
   "metadata": {},
   "source": [
    "## El modulo datetime: trabajando con fechas y horas\n",
    "\n",
    "Este modulo nos permite manejar todo tipo de informacion relacionada con la fecha y la hora, un tema importante en todos los ambitos de la programación.\n",
    "\n",
    "### Obtener la fecha local y crear objetos del tipo fecha\n",
    "\n",
    "El modulo ``datetime`` posee una clase llamada ``date``, la cual nos permite crear objetos que representan una fecha que consta de año, mes y dia. El metodo ``today`` nos permite conocer la fecha local."
   ]
  },
  {
   "cell_type": "code",
   "execution_count": 1,
   "metadata": {},
   "outputs": [
    {
     "name": "stdout",
     "output_type": "stream",
     "text": [
      "Hoy 2024-09-30\n",
      "Año 2024\n",
      "Mes 9\n",
      "Dia 30\n"
     ]
    }
   ],
   "source": [
    "from datetime import date\n",
    "\n",
    "today = date.today()\n",
    "\n",
    "print('Hoy', today)\n",
    "print('Año', today.year)\n",
    "print('Mes', today.month)\n",
    "print('Dia', today.day)\n"
   ]
  },
  {
   "cell_type": "markdown",
   "metadata": {},
   "source": [
    "El metodo ``today`` devuelve un objeto tipo date que representa la fecha local actual. Tiene tres atributos: año, mes, dia.\n",
    "\n",
    "Para crear un objeto tipo ``date`` se le debe psar los parametros año, mes, dia de la siguiente manera:"
   ]
  },
  {
   "cell_type": "code",
   "execution_count": 2,
   "metadata": {},
   "outputs": [
    {
     "name": "stdout",
     "output_type": "stream",
     "text": [
      "2019-11-04\n"
     ]
    }
   ],
   "source": [
    "from datetime import date\n",
    "\n",
    "my_date = date(2019, 11, 4)\n",
    "print(my_date)"
   ]
  },
  {
   "cell_type": "markdown",
   "metadata": {},
   "source": [
    "### Creacion de objetos tipo fecha a partir de una marca de tiempo\n",
    "\n",
    "Una marca de tiempo no es mas que una fecha fija a partir de la cual se comenzaron a contar los segundos en el sistema operativo, en el caso de Unix/Windows esa fecha es el 1 de Enero de 1970 00:00:00 (UTC). Para crear un objeto tipo fecha a partir de una marca de tiempo, debemos pasar el metodo ``fromtimestamp`` y alimentarlo con un valor flotante de la marca de tiempo (segundos). \n",
    "\n",
    "Para este proposito, podemos emplear el modulo ``time`` el cual dentro de sus funciones tiene la funcion ``time()`` la cual devuelve los segundos transcurridos desde el 1 de Enero de 1970 hasta el momento actual."
   ]
  },
  {
   "cell_type": "code",
   "execution_count": 4,
   "metadata": {},
   "outputs": [
    {
     "name": "stdout",
     "output_type": "stream",
     "text": [
      "Tenemos la marca 1727700893.158351 que devuelve la fecha 2024-09-30\n"
     ]
    }
   ],
   "source": [
    "from datetime import date\n",
    "import time\n",
    "\n",
    "timestamp = time.time()\n",
    "\n",
    "d = date.fromtimestamp(timestamp)\n",
    "\n",
    "print(f'Tenemos la marca {timestamp} que devuelve la fecha {d}')"
   ]
  },
  {
   "cell_type": "markdown",
   "metadata": {},
   "source": [
    "### Creacion de un objeto de fecha usando el formato ISO\n",
    "\n",
    "El módulo ``datetime`` proporciona varios métodos para crear un objeto ``date``. Uno de ellos es el método ``fromisoformat``, que toma una fecha en el formato AAAA-MM-DD compatible con el estándar ISO 8601.\n",
    "\n",
    "El estándar ISO 8601 define cómo se representan la fecha y la hora. Se usa a menudo, por lo que vale la pena tomarse un momento para familiarizarse con él. Cuando vayas a pasar como argumento un valor menor que 10, recuerda incluir el 0.\n",
    "\n",
    "### El metodo ``replace()``\n",
    "\n",
    "Si necesitas cambia los valores de año, mes y dia, no puedes hacerlo directamente dado que son atributos de solo lectura. Para poder reemplazar estos valores debes usar el metodo ``replace()``."
   ]
  },
  {
   "cell_type": "code",
   "execution_count": 2,
   "metadata": {},
   "outputs": [
    {
     "name": "stdout",
     "output_type": "stream",
     "text": [
      "1991-02-05\n",
      "2023-03-04\n"
     ]
    }
   ],
   "source": [
    "from datetime import date\n",
    "\n",
    "fecha = date(1991, 2, 5)\n",
    "print(fecha)\n",
    "\n",
    "fecha = fecha.replace(year=2023, month=3, day=4)\n",
    "print(fecha)"
   ]
  },
  {
   "cell_type": "markdown",
   "metadata": {},
   "source": [
    "Como puedes observar, el metodo devulve una nueva funcion con la fecha actualizada.\n",
    "\n",
    "### Que dia de la semana es?\n",
    "\n",
    "Uno de los metodos más comunes es ``weekday``. Devuelve el dia de la semana como un numero entero, siendo 0 el lunes y 6 el domingo."
   ]
  },
  {
   "cell_type": "code",
   "execution_count": 7,
   "metadata": {},
   "outputs": [
    {
     "name": "stdout",
     "output_type": "stream",
     "text": [
      "0\n",
      "1\n"
     ]
    }
   ],
   "source": [
    "from datetime import date\n",
    "\n",
    "dia = date.today()\n",
    "dia2 = date(2010, 2, 2)\n",
    "print(dia.weekday())\n",
    "print(dia2.weekday())"
   ]
  },
  {
   "cell_type": "markdown",
   "metadata": {},
   "source": [
    "La clase ``date`` tiene un método similar llamado ``isoweekday``, que también devuelve el día de la semana como un número entero, pero 1 es lunes y 7 es domingo:"
   ]
  },
  {
   "cell_type": "code",
   "execution_count": 8,
   "metadata": {},
   "outputs": [
    {
     "name": "stdout",
     "output_type": "stream",
     "text": [
      "1\n"
     ]
    }
   ],
   "source": [
    "from datetime import date\n",
    "\n",
    "dia = date.today()\n",
    "\n",
    "print(dia.isoweekday())"
   ]
  },
  {
   "cell_type": "markdown",
   "metadata": {},
   "source": [
    "### Creando objetos ``time``\n",
    "\n",
    "El modulo ``datetime`` tambien posee una clase que permite crear objetos tipo hora, ``time``.\n",
    "\n",
    "``time(hour, minute, second, microsecond, tzinfo, fold)``\n",
    "\n",
    "- hour: recibe un valor entre 0 y 23.\n",
    "- minute: recibe un valor entre 0 y 59.\n",
    "- second: recibe un valor entre 0 y 59.\n",
    "- microsecond: recibe un valor entre 0 y 1000000.\n",
    "- tzinfo: recibe un objeto de la subclase ``tzinfo`` o ``None``. Este parametro esta asociado con las zonas horarias.\n",
    "- fold: El parametro debe ser 0 o 1 (predeterminado 0). Este parametro esta asociado con el tiempo de pared."
   ]
  },
  {
   "cell_type": "code",
   "execution_count": 12,
   "metadata": {},
   "outputs": [
    {
     "name": "stdout",
     "output_type": "stream",
     "text": [
      "20:45:33\n",
      "20\n",
      "45\n",
      "33\n",
      "0\n"
     ]
    }
   ],
   "source": [
    "from datetime import time\n",
    "\n",
    "hora = time(20, 45, 33)\n",
    "\n",
    "print(hora)\n",
    "print(hora.hour)\n",
    "print(hora.minute)\n",
    "print(hora.second)\n",
    "print(hora.microsecond)"
   ]
  },
  {
   "cell_type": "markdown",
   "metadata": {},
   "source": [
    "### El modulo ``time``\n",
    "\n",
    "Además de la clase ``time``, la biblioteca estándar de Python ofrece un módulo llamado ``time``, que proporciona una función relacionada con el tiempo. Ya se tuvo la oportunidad de aprender la función llamada ``time`` cuando se habló de la clase date. Ahora veremos otra función útil disponible en este módulo.\n",
    "\n",
    "Debes pasar muchas horas frente a una computadora mientras realiza este curso. A veces puedes sentir la necesidad de tomar una siesta. ¿Por qué no? Escribamos un programa que simule la siesta corta de un estudiante. Echa un vistazo al código en el editor."
   ]
  },
  {
   "cell_type": "code",
   "execution_count": 13,
   "metadata": {},
   "outputs": [
    {
     "name": "stdout",
     "output_type": "stream",
     "text": [
      "Estoy muy cansado. Tengo que tomar una siesta. Hasta luego.\n",
      "¡Dormí bien! ¡Me siento genial!\n"
     ]
    }
   ],
   "source": [
    "import time\n",
    "\n",
    "class Student:\n",
    "    def take_nap(self, seconds):\n",
    "        print(\"Estoy muy cansado. Tengo que tomar una siesta. Hasta luego.\")\n",
    "        time.sleep(seconds)\n",
    "        print(\"¡Dormí bien! ¡Me siento genial!\")\n",
    "\n",
    "student = Student()\n",
    "student.take_nap(5)"
   ]
  },
  {
   "cell_type": "markdown",
   "metadata": {},
   "source": [
    "### La funcion ``ctime()``\n",
    "\n",
    "El modulo ``time`` proporciona una funcion llamada ``ctime()`` que convierte en una cadena el valor en segundos del tiempo contado a partir del 1 de enero de 1970 (epoca Unix)."
   ]
  },
  {
   "cell_type": "code",
   "execution_count": 25,
   "metadata": {},
   "outputs": [
    {
     "name": "stdout",
     "output_type": "stream",
     "text": [
      "Wed Aug 21 04:44:21 2024\n",
      "Mon Sep 30 20:54:49 2024\n"
     ]
    }
   ],
   "source": [
    "import time\n",
    "\n",
    "timestamp = 1724233461\n",
    "\n",
    "print(time.ctime(timestamp))\n",
    "\n",
    "print(time.ctime())"
   ]
  },
  {
   "cell_type": "markdown",
   "metadata": {},
   "source": [
    "Como puedes observar, si invocamos la funcion sin argumentos, devuelve la hora actual.\n",
    "\n",
    "### Las funciones ``gmtime()`` y ``localtime()``\n",
    "\n",
    "Algunas de las funciones del modulo ``time`` requieren conocimiento de la clase struct_time, veamos como se ve la clase:\n",
    "\n",
    "time.struct_time:\n",
    "- tm_year   # Especifica el año.\n",
    "- tm_mon    # Especifica el mes (valor de 1 a 12)\n",
    "- tm_mday   # Especifica el día del mes (value from 1 to 31)\n",
    "- tm_hour   # Especifica la hora (valor de 0 a 23)\n",
    "- tm_min    # Especifica el minuto (valor de 0 a 59)\n",
    "- tm_sec    # Especifica el segundo (valor de 0 a 61)\n",
    "- tm_wday    # Especifica el día de la semana (valor de 0 a 6)\n",
    "- tm_yday   # Especifica el día del año (valor de 1 a 366)\n",
    "- tm_isdst  # Especifica si se aplica el horario de verano (1: sí, 0: no, -1: no se sabe)\n",
    "- tm_zone   # Especifica el nombre de la zona horaria (valor en forma abreviada)\n",
    "- tm_gmtoff # Especifica el desplazamiento al este del UTC (valor en segundos)\n",
    "\n",
    "La clase struct_time también permite el acceso a valores usando índices. El índice 0 devuelve el valor en tm_year, mientras que 8 devuelve el valor en tm_isdst. Las excepciones son tm_zone y tm_gmoff, a las que no se puede acceder mediante índices."
   ]
  },
  {
   "cell_type": "code",
   "execution_count": 26,
   "metadata": {},
   "outputs": [
    {
     "name": "stdout",
     "output_type": "stream",
     "text": [
      "time.struct_time(tm_year=2019, tm_mon=11, tm_mday=4, tm_hour=14, tm_min=53, tm_sec=0, tm_wday=0, tm_yday=308, tm_isdst=0)\n",
      "time.struct_time(tm_year=2019, tm_mon=11, tm_mday=4, tm_hour=9, tm_min=53, tm_sec=0, tm_wday=0, tm_yday=308, tm_isdst=0)\n"
     ]
    }
   ],
   "source": [
    "import time\n",
    "\n",
    "timestamp = 1572879180\n",
    "print(time.gmtime(timestamp))\n",
    "print(time.localtime(timestamp))"
   ]
  },
  {
   "cell_type": "markdown",
   "metadata": {},
   "source": [
    "El ejemplo muestra dos funciones que convierten el tiempo transcurrido desde la época Unix al objeto ``struct_time``. La diferencia entre ellos es que la función ``gmtime`` devuelve el objeto ``struct_time`` en UTC, mientras que la función localtime devuelve la hora local. Para la función ``gmtime``, el atributo ``tm_isdst`` es siempre 0."
   ]
  },
  {
   "cell_type": "markdown",
   "metadata": {},
   "source": [
    "### Las funciones ``asctime()`` y ``mktime()``\n",
    "\n",
    "Algunas funciones del modulo ``time`` esperan como argumento un objeto ``struct_time`` o una tupla que almacena valores de acuerdo a los indices de ``struc_time``."
   ]
  },
  {
   "cell_type": "code",
   "execution_count": 27,
   "metadata": {},
   "outputs": [
    {
     "name": "stdout",
     "output_type": "stream",
     "text": [
      "Mon Nov  4 14:53:00 2019\n",
      "1572897180.0\n"
     ]
    }
   ],
   "source": [
    "import time\n",
    "\n",
    "timestamp = 1572879180\n",
    "st = time.gmtime(timestamp)\n",
    "\n",
    "print(time.asctime(st))\n",
    "print(time.mktime((2019, 11, 4, 14, 53, 0, 0, 308, 0)))\n",
    "    "
   ]
  },
  {
   "cell_type": "markdown",
   "metadata": {},
   "source": [
    "La primera de las funciones, llamada ``asctime``, convierte un objeto ``struct_time`` o una tupla en una cadena. Toma en cuenta que la conocida función ``gmtime`` se usa para obtener el objeto ``struct_time``. Si no se proporciona un argumento a la función ``asctime``, se utilizará el tiempo devuelto por la función ``localtime``.\n",
    "\n",
    "La segunda función llamada mktime convierte un objeto ``struct_time`` o una tupla que expresa la hora local al número de segundos desde la época de Unix."
   ]
  }
 ],
 "metadata": {
  "kernelspec": {
   "display_name": "Python 3",
   "language": "python",
   "name": "python3"
  },
  "language_info": {
   "codemirror_mode": {
    "name": "ipython",
    "version": 3
   },
   "file_extension": ".py",
   "mimetype": "text/x-python",
   "name": "python",
   "nbconvert_exporter": "python",
   "pygments_lexer": "ipython3",
   "version": "3.11.5"
  },
  "orig_nbformat": 4
 },
 "nbformat": 4,
 "nbformat_minor": 2
}
